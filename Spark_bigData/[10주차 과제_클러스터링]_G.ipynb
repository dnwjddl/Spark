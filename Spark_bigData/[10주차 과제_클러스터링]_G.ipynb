{
 "cells": [
  {
   "cell_type": "code",
   "execution_count": 1,
   "metadata": {},
   "outputs": [],
   "source": [
    "from sklearn.datasets import make_blobs\n",
    "\n",
    "X, y = make_blobs(n_samples=100, centers=4, cluster_std=0.6, random_state=0)"
   ]
  },
  {
   "cell_type": "markdown",
   "metadata": {},
   "source": [
    "주어진 데이터의 분포도를 미리 파악하여 centers 임의로 정함 <br>\n",
    "-> 중심점이 너무 다를 경우, 너무 많은 iteration(반복)으로 인하여 runtime이 끝날 수 있다. <br>\n",
    "-> 또한, 잘못된 중심점을 설정할 경우, 해당 위치에서 빠져나오지 못할 수 가 있음."
   ]
  },
  {
   "cell_type": "code",
   "execution_count": 3,
   "metadata": {},
   "outputs": [
    {
     "data": {
      "image/png": "[encoded data removed]",
      "text/plain": [
       "<Figure size 432x288 with 1 Axes>"
      ]
     },
     "metadata": {
      "needs_background": "light"
     },
     "output_type": "display_data"
    }
   ],
   "source": [
    "%matplotlib inline\n",
    "import matplotlib.pyplot as plt\n",
    "import numpy as np\n",
    "\n",
    "def plot_data(X,y):\n",
    "    plt.scatter(X[:,0],X[:,1], c=y, marker='.',s=10)\n",
    "plot_data(X,y)\n",
    "plt.show()"
   ]
  },
  {
   "cell_type": "markdown",
   "metadata": {},
   "source": [
    "**[기존 코드]** <br>\n",
    "clusterAssigned는 minIndex와 minDist을 2열로 받으므로 초기화 시킬때 k가 아닌 2로 받아와야한다."
   ]
  },
  {
   "cell_type": "code",
   "execution_count": 4,
   "metadata": {},
   "outputs": [],
   "source": [
    "def cluster(x, k, centroids):\n",
    "    row, col = x.shape\n",
    "    clusterAssigned = np.zeros(shape=(row, 2), dtype=float)\n",
    "    _centroids=np.zeros(shape = (k, x.shape[1]), dtype=float)\n",
    "    clusterUpdated=True\n",
    "    iter = 1\n",
    "    while(clusterUpdated):\n",
    "        print(\"\\n\\n====== Iteration {} ======\".format(iter))\n",
    "        for i in range(row):\n",
    "            minDist = np.inf\n",
    "            minIndex = -1\n",
    "            for j in range(k):\n",
    "                distJI = normDist(centroids[j], x[i])\n",
    "                if distJI < minDist:\n",
    "                    minDist = distJI\n",
    "                    minIndex = j\n",
    "            clusterAssigned[i] = [minIndex, minDist]\n",
    "        for cent in range(k):\n",
    "            _centroids[cent] = np.mean(x[clusterAssigned[:,0]==cent],axis=0)\n",
    "        comparison = np.equal(centroids, _centroids)\n",
    "        if(comparison.all()==True):\n",
    "            print (\"\\n.....NOT Updating Centroids\\n {} => \\n{}\".format(centroids, _centroids))\n",
    "            clusterUpdated = False\n",
    "            print(\"\\n Centroids {}회만에 찾기 완료\".format(iter))\n",
    "            return centroids, clusterAssigned\n",
    "        else:\n",
    "            print (\"\\n.....Updating Centroids\\n {} => \\n{}\".format(centroids, _centroids))\n",
    "            centroids = _centroids\n",
    "            iter += 1"
   ]
  },
  {
   "cell_type": "code",
   "execution_count": 5,
   "metadata": {},
   "outputs": [],
   "source": [
    "def normDist(x1, x2):\n",
    "    #dist=np.sqrt(sum(np.power(x1 - x2, 2))) #36.406001444695193\n",
    "    dist = np.linalg.norm(x1 - x2) #36.406001444695193\n",
    "    return dist"
   ]
  },
  {
   "cell_type": "code",
   "execution_count": 6,
   "metadata": {},
   "outputs": [],
   "source": [
    "def draw(x, centroids):\n",
    "    import matplotlib.pyplot as plt\n",
    "    \n",
    "    plt.scatter(x[:,0], x[:,1], color='blue')\n",
    "    plt.scatter(centroids[:,0], centroids[:,1], color='red')"
   ]
  },
  {
   "cell_type": "code",
   "execution_count": 7,
   "metadata": {},
   "outputs": [
    {
     "name": "stdout",
     "output_type": "stream",
     "text": [
      "\n",
      "\n",
      "====== Iteration 1 ======\n",
      "\n",
      ".....Updating Centroids\n",
      " [[ 2.  5.]\n",
      " [ 2.  2.]\n",
      " [-1.  2.]\n",
      " [ 0.  8.]] => \n",
      "[[ 0.8983329   4.46479759]\n",
      " [ 1.99299447  1.07350657]\n",
      " [-1.33168321  3.16639791]\n",
      " [-1.27208964  7.74944718]]\n",
      "\n",
      "\n",
      "====== Iteration 2 ======\n",
      "\n",
      ".....NOT Updating Centroids\n",
      " [[ 0.91568734  4.32895204]\n",
      " [ 1.97918933  0.97920012]\n",
      " [-1.46984735  3.1570263 ]\n",
      " [-1.27208964  7.74944718]] => \n",
      "[[ 0.91568734  4.32895204]\n",
      " [ 1.97918933  0.97920012]\n",
      " [-1.46984735  3.1570263 ]\n",
      " [-1.27208964  7.74944718]]\n",
      "\n",
      " Centroids 2회만에 찾기 완료\n"
     ]
    },
    {
     "data": {
      "image/png": "[encoded data removed]",
      "text/plain": [
       "<Figure size 432x288 with 1 Axes>"
      ]
     },
     "metadata": {
      "needs_background": "light"
     },
     "output_type": "display_data"
    }
   ],
   "source": [
    "k = 4\n",
    "centroids = np.array([[2,5],[2,2],[-1,2],[0,8]], dtype = float)\n",
    "#centroids = np.array([[1,1],[4,1]], dtype = float)\n",
    "centroids, clusterAssigned = cluster(X, k, centroids)\n",
    "draw(X, centroids)"
   ]
  },
  {
   "cell_type": "code",
   "execution_count": 8,
   "metadata": {},
   "outputs": [
    {
     "data": {
      "text/plain": [
       "array([[ 0.91568734,  4.32895204],\n",
       "       [ 1.97918933,  0.97920012],\n",
       "       [-1.46984735,  3.1570263 ],\n",
       "       [-1.27208964,  7.74944718]])"
      ]
     },
     "execution_count": 8,
     "metadata": {},
     "output_type": "execute_result"
    }
   ],
   "source": [
    "centroids #중심점들의 값"
   ]
  },
  {
   "cell_type": "code",
   "execution_count": 9,
   "metadata": {},
   "outputs": [
    {
     "data": {
      "text/plain": [
       "array([0, 3, 0, 0, 0, 0, 2, 3, 0, 3, 3, 3, 3, 3, 3, 1, 1, 2, 2, 1, 0, 3,\n",
       "       2, 1, 0, 2, 2, 0, 1, 1, 1, 3, 1, 1, 2, 0, 3, 1, 3, 2, 0, 2, 3, 2,\n",
       "       2, 3, 1, 2, 0, 0, 0, 1, 2, 2, 2, 3, 3, 1, 1, 3, 3, 1, 1, 0, 1, 3,\n",
       "       2, 2, 1, 0, 3, 1, 0, 3, 0, 0, 2, 2, 1, 1, 1, 3, 2, 0, 1, 2, 1, 1,\n",
       "       0, 0, 0, 2, 0, 2, 2, 3, 3, 2, 3, 0])"
      ]
     },
     "execution_count": 9,
     "metadata": {},
     "output_type": "execute_result"
    }
   ],
   "source": [
    "x1=clusterAssigned[:,0].astype(int) #함수 cluster에 의해 나온 값들\n",
    "x1"
   ]
  },
  {
   "cell_type": "code",
   "execution_count": 10,
   "metadata": {},
   "outputs": [
    {
     "data": {
      "text/plain": [
       "array([0, 3, 0, 0, 0, 0, 2, 3, 0, 3, 3, 3, 3, 3, 3, 1, 1, 2, 2, 1, 0, 3,\n",
       "       2, 1, 0, 2, 2, 0, 1, 1, 1, 3, 1, 1, 2, 0, 3, 1, 3, 2, 0, 2, 3, 2,\n",
       "       2, 3, 1, 2, 0, 0, 0, 1, 2, 2, 2, 3, 3, 1, 1, 3, 3, 1, 1, 0, 1, 3,\n",
       "       2, 2, 1, 0, 3, 1, 0, 3, 0, 0, 2, 2, 1, 1, 1, 3, 2, 0, 1, 2, 1, 1,\n",
       "       0, 0, 0, 2, 0, 2, 2, 3, 3, 2, 3, 0])"
      ]
     },
     "execution_count": 10,
     "metadata": {},
     "output_type": "execute_result"
    }
   ],
   "source": [
    "y #make_blobs 함수를 통해 배정된 cluster의 값들"
   ]
  },
  {
   "cell_type": "markdown",
   "metadata": {},
   "source": [
    "np.equal을 통하여 두개의 값들의 동일함이 모두 True 가 나온 것을 알 수 있음"
   ]
  },
  {
   "cell_type": "code",
   "execution_count": 11,
   "metadata": {},
   "outputs": [
    {
     "data": {
      "text/plain": [
       "array([ True,  True,  True,  True,  True,  True,  True,  True,  True,\n",
       "        True,  True,  True,  True,  True,  True,  True,  True,  True,\n",
       "        True,  True,  True,  True,  True,  True,  True,  True,  True,\n",
       "        True,  True,  True,  True,  True,  True,  True,  True,  True,\n",
       "        True,  True,  True,  True,  True,  True,  True,  True,  True,\n",
       "        True,  True,  True,  True,  True,  True,  True,  True,  True,\n",
       "        True,  True,  True,  True,  True,  True,  True,  True,  True,\n",
       "        True,  True,  True,  True,  True,  True,  True,  True,  True,\n",
       "        True,  True,  True,  True,  True,  True,  True,  True,  True,\n",
       "        True,  True,  True,  True,  True,  True,  True,  True,  True,\n",
       "        True,  True,  True,  True,  True,  True,  True,  True,  True,\n",
       "        True])"
      ]
     },
     "execution_count": 11,
     "metadata": {},
     "output_type": "execute_result"
    }
   ],
   "source": [
    "np.equal(x1, y)"
   ]
  },
  {
   "cell_type": "code",
   "execution_count": null,
   "metadata": {},
   "outputs": [],
   "source": []
  }
 ],
 "metadata": {
  "kernelspec": {
   "display_name": "Python 3",
   "language": "python",
   "name": "python3"
  },
  "language_info": {
   "codemirror_mode": {
    "name": "ipython",
    "version": 3
   },
   "file_extension": ".py",
   "mimetype": "text/x-python",
   "name": "python",
   "nbconvert_exporter": "python",
   "pygments_lexer": "ipython3",
   "version": "3.7.6"
  }
 },
 "nbformat": 4,
 "nbformat_minor": 4
}
