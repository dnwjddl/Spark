{
 "cells": [
  {
   "cell_type": "markdown",
   "metadata": {},
   "source": [
    "# 회귀식 도출하기\n",
    "#### 1) matrix inverse method로 $\\hat{w}$ 계산"
   ]
  },
  {
   "cell_type": "code",
   "execution_count": 2,
   "metadata": {},
   "outputs": [],
   "source": [
    "%matplotlib inline\n",
    "import matplotlib.pyplot as plt\n",
    "import numpy as np\n",
    "\n",
    "x=np.array([[1,2],[1,4],[1,6]])\n",
    "x1=np.array([[2,1],[4,1],[6,1]])\n",
    "_x=x.T[1] #x데이터 내 상수항들 제거\n",
    "y=np.array([3,6,7])"
   ]
  },
  {
   "cell_type": "code",
   "execution_count": 3,
   "metadata": {},
   "outputs": [
    {
     "name": "stdout",
     "output_type": "stream",
     "text": [
      "weight 값:1.0, bias값: 1.3333333333333286\n"
     ]
    }
   ],
   "source": [
    "w0,w1=np.dot(np.linalg.inv(np.dot(x.T, x)),np.dot(x.T, y))\n",
    "print(\"weight 값:{}, bias값: {}\".format(w1,w0))"
   ]
  },
  {
   "cell_type": "markdown",
   "metadata": {},
   "source": [
    "#### 2) 예측과 실제의 오류 합계를 계산"
   ]
  },
  {
   "cell_type": "code",
   "execution_count": 4,
   "metadata": {},
   "outputs": [
    {
     "name": "stdout",
     "output_type": "stream",
     "text": [
      "TSS:8.666666666666666, RSS:0.6666666666666666, SSE:7.999999999999999\n"
     ]
    }
   ],
   "source": [
    "yhat=w0+w1*_x\n",
    "\n",
    "RSS = sum((y-yhat)**2)\n",
    "TSS = sum((y-np.mean(y))**2)\n",
    "SSE = TSS - RSS\n",
    "print(\"TSS:{}, RSS:{}, SSE:{}\".format(TSS, RSS, SSE))"
   ]
  },
  {
   "cell_type": "markdown",
   "metadata": {},
   "source": [
    "#### 3) 입력 데이터와 회귀선의 그래프를 작성"
   ]
  },
  {
   "cell_type": "code",
   "execution_count": 5,
   "metadata": {},
   "outputs": [
    {
     "data": {
      "text/plain": [
       "[<matplotlib.lines.Line2D at 0x267056b2188>]"
      ]
     },
     "execution_count": 5,
     "metadata": {},
     "output_type": "execute_result"
    },
    {
     "data": {
      "image/png": "[encoded data removed]",
      "text/plain": [
       "<Figure size 432x288 with 1 Axes>"
      ]
     },
     "metadata": {
      "needs_background": "light"
     },
     "output_type": "display_data"
    }
   ],
   "source": [
    "fig=plt.figure()\n",
    "ax=fig.add_subplot(111)\n",
    "ax.scatter(_x, y)\n",
    "ax.plot(_x,yhat)"
   ]
  },
  {
   "cell_type": "code",
   "execution_count": null,
   "metadata": {},
   "outputs": [],
   "source": []
  }
 ],
 "metadata": {
  "kernelspec": {
   "display_name": "Python 3",
   "language": "python",
   "name": "python3"
  },
  "language_info": {
   "codemirror_mode": {
    "name": "ipython",
    "version": 3
   },
   "file_extension": ".py",
   "mimetype": "text/x-python",
   "name": "python",
   "nbconvert_exporter": "python",
   "pygments_lexer": "ipython3",
   "version": "3.7.6"
  }
 },
 "nbformat": 4,
 "nbformat_minor": 4
}
