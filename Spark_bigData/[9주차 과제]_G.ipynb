{
 "cells": [
  {
   "cell_type": "code",
   "execution_count": 1,
   "metadata": {},
   "outputs": [],
   "source": [
    "import pyspark\n",
    "myConf=pyspark.SparkConf()\n",
    "spark = pyspark.sql.SparkSession.builder\\\n",
    "    .master(\"local\")\\\n",
    "    .appName(\"myApp\")\\\n",
    "    .config(conf=myConf)\\\n",
    "    .getOrCreate()"
   ]
  },
  {
   "cell_type": "markdown",
   "metadata": {},
   "source": [
    "## DataFrame 생성"
   ]
  },
  {
   "cell_type": "code",
   "execution_count": 2,
   "metadata": {},
   "outputs": [
    {
     "name": "stdout",
     "output_type": "stream",
     "text": [
      "+----------------------------------+\n",
      "|                             value|\n",
      "+----------------------------------+\n",
      "|  존경하는 국민 여러분, 경찰관 ...|\n",
      "| 국민의 안전을 위해 밤낮없이 애...|\n",
      "|오늘 홍조근정훈장을 받으신 중앙...|\n",
      "|          사랑하는 경찰관 여러분,\n",
      "|\n",
      "|여러분의 헌신적 노력으로 우리의...|\n",
      "| 치안의 개선은 국민의 체감으로 ...|\n",
      "| 한국을 찾는 외국 관광객들도 우...|\n",
      "|   올해는 ‘경찰의 날’에 맞춰 국...|\n",
      "|        자랑스러운 경찰관 여러분,\n",
      "|\n",
      "| 경찰헌장은 “나라와 겨레를 위하...|\n",
      "|    대한민국 경찰은 1945년 광복...|\n",
      "| 임시정부 초대 경무국장 백범 김...|\n",
      "|    광복 이후 6·25전쟁에서도 경...|\n",
      "|그러나 잘못도 없지는 않았습니다...|\n",
      "| 지금 경찰은 과거를 돌아보며 국...|\n",
      "| 검경 수사권 조정과 자치경찰제 ...|\n",
      "|정부는 경찰의 근무여건을 개선하...|\n",
      "| 정부는 누구도 법 위에 군림하지...|\n",
      "| 경찰헌장은 따뜻한 경찰, 의로운...|\n",
      "|행사를 준비하신 민갑룡 경찰청장...|\n",
      "+----------------------------------+\n",
      "only showing top 20 rows\n",
      "\n"
     ]
    }
   ],
   "source": [
    "#파일 읽어오기\n",
    "import os\n",
    "from pyspark.sql.types import StringType\n",
    "\n",
    "file = os.path.join(\"speech_.txt\")\n",
    "\n",
    "#파일 확인 및 line 별로 읽기\n",
    "try:\n",
    "    _f = open(file, 'r',encoding = 'utf-8')\n",
    "    _lines=_f.readlines()\n",
    "    _f.close()\n",
    "except:\n",
    "    print(\"An exception occurred\")\n",
    "    \n",
    "myDf = spark.createDataFrame(_lines,StringType())\n",
    "myDf.show()"
   ]
  },
  {
   "cell_type": "markdown",
   "metadata": {},
   "source": [
    "## 2. 단어로 분리해서 출력"
   ]
  },
  {
   "cell_type": "code",
   "execution_count": 3,
   "metadata": {},
   "outputs": [
    {
     "name": "stdout",
     "output_type": "stream",
     "text": [
      "+----------------------------------+--------------------------------+\n",
      "|                             value|                        wordsReg|\n",
      "+----------------------------------+--------------------------------+\n",
      "|  존경하는 국민 여러분, 경찰관 ...|   [존경하는, 국민, 여러분,, ...|\n",
      "| 국민의 안전을 위해 밤낮없이 애...|  [국민의, 안전을, 위해, 밤낮...|\n",
      "|오늘 홍조근정훈장을 받으신 중앙...|[오늘, 홍조근정훈장을, 받으신...|\n",
      "|          사랑하는 경찰관 여러분,\n",
      "|     [사랑하는, 경찰관, 여러분,]|\n",
      "|여러분의 헌신적 노력으로 우리의...| [여러분의, 헌신적, 노력으로,...|\n",
      "| 치안의 개선은 국민의 체감으로 ...|  [치안의, 개선은, 국민의, 체...|\n",
      "| 한국을 찾는 외국 관광객들도 우...|  [한국을, 찾는, 외국, 관광객...|\n",
      "|   올해는 ‘경찰의 날’에 맞춰 국...|    [올해는, ‘경찰의, 날’에, ...|\n",
      "|        자랑스러운 경찰관 여러분,\n",
      "|   [자랑스러운, 경찰관, 여러분,]|\n",
      "| 경찰헌장은 “나라와 겨레를 위하...| [경찰헌장은, “나라와, 겨레를...|\n",
      "|    대한민국 경찰은 1945년 광복...|    [대한민국, 경찰은, 1945년...|\n",
      "| 임시정부 초대 경무국장 백범 김...|  [임시정부, 초대, 경무국장, ...|\n",
      "|    광복 이후 6·25전쟁에서도 경...|    [광복, 이후, 6·25전쟁에서...|\n",
      "|그러나 잘못도 없지는 않았습니다...|  [그러나, 잘못도, 없지는, 않...|\n",
      "| 지금 경찰은 과거를 돌아보며 국...|  [지금, 경찰은, 과거를, 돌아...|\n",
      "| 검경 수사권 조정과 자치경찰제 ...|  [검경, 수사권, 조정과, 자치...|\n",
      "|정부는 경찰의 근무여건을 개선하...| [정부는, 경찰의, 근무여건을,...|\n",
      "| 정부는 누구도 법 위에 군림하지...|   [정부는, 누구도, 법, 위에,...|\n",
      "| 경찰헌장은 따뜻한 경찰, 의로운...|  [경찰헌장은, 따뜻한, 경찰,,...|\n",
      "|행사를 준비하신 민갑룡 경찰청장...|  [행사를, 준비하신, 민갑룡, ...|\n",
      "+----------------------------------+--------------------------------+\n",
      "only showing top 20 rows\n",
      "\n"
     ]
    }
   ],
   "source": [
    "from pyspark.ml.feature import RegexTokenizer\n",
    "\n",
    "re = RegexTokenizer(inputCol=\"value\", outputCol=\"wordsReg\", pattern=\"\\\\s+\")\n",
    "reDf = re.transform(myDf)\n",
    "reDf.show()"
   ]
  },
  {
   "cell_type": "markdown",
   "metadata": {},
   "source": [
    "**++ 정리하기**<br>\n",
    "콤마, 따옴표, 마침표 등 제거"
   ]
  },
  {
   "cell_type": "code",
   "execution_count": 4,
   "metadata": {},
   "outputs": [
    {
     "data": {
      "text/plain": [
       "'여러분'"
      ]
     },
     "execution_count": 4,
     "metadata": {},
     "output_type": "execute_result"
    }
   ],
   "source": [
    "'여러분,'.rstrip(',')"
   ]
  },
  {
   "cell_type": "code",
   "execution_count": 5,
   "metadata": {},
   "outputs": [
    {
     "data": {
      "text/plain": [
       "'경찰의'"
      ]
     },
     "execution_count": 5,
     "metadata": {},
     "output_type": "execute_result"
    }
   ],
   "source": [
    "'‘경찰의'.lstrip('‘')"
   ]
  },
  {
   "cell_type": "code",
   "execution_count": 6,
   "metadata": {},
   "outputs": [
    {
     "data": {
      "text/plain": [
       "'날입니다.'"
      ]
     },
     "execution_count": 6,
     "metadata": {},
     "output_type": "execute_result"
    }
   ],
   "source": [
    "'날’입니다.'.replace(\"’\",\"\")"
   ]
  },
  {
   "cell_type": "code",
   "execution_count": 7,
   "metadata": {},
   "outputs": [
    {
     "data": {
      "text/plain": [
       "['존경하는', '국민', '여러분', '경찰관', '여러분', '일흔네', '돌', '경찰의', '날입니다']"
      ]
     },
     "execution_count": 7,
     "metadata": {},
     "output_type": "execute_result"
    }
   ],
   "source": [
    "wordList = ['존경하는', '국민', '여러분,', '경찰관', '여러분,', '일흔네', '돌', '‘경찰의', '날’입니다.']\n",
    "cleaned = list()\n",
    "for w in wordList:\n",
    "    cleaned.append(w.lstrip(\"‘\").rstrip(\"’\").rstrip(\".\").rstrip(\",\").replace(\"’\",\"\") )\n",
    "cleaned"
   ]
  },
  {
   "cell_type": "markdown",
   "metadata": {},
   "source": [
    "숫자 제거 <br>\n",
    "숫자가 하나 이상 있는 경우 정규식 패턴 \\d+ 를 적용한다. 숫자로 시작하는 문자열인 경우 regex.matxh(w)가 아니면 컴마등을 정리한다"
   ]
  },
  {
   "cell_type": "code",
   "execution_count": 8,
   "metadata": {},
   "outputs": [
    {
     "name": "stdout",
     "output_type": "stream",
     "text": [
      "['Seoul1', 'Seoul']\n"
     ]
    }
   ],
   "source": [
    "import re\n",
    "regex = re.compile('\\d+') # 백슬래시는 탈출 문자임\n",
    "cleaned = list()\n",
    "\n",
    "wordList = [\"1\", \"123\", \"15만\",\"2015년에\",\"15.1%\",\"74.5점\",\"8,572명을\",\"Seoul1\",\"Seoul\"]\n",
    "for w in wordList:\n",
    "    if not regex.match(w):\n",
    "        cleaned.append(w)\n",
    "print(cleaned)"
   ]
  },
  {
   "cell_type": "markdown",
   "metadata": {},
   "source": [
    "udf 함수사용 <br>\n",
    "udf 함수 결과는 문자열 배열 ArrayType(StringType)로 맞춰짐"
   ]
  },
  {
   "cell_type": "code",
   "execution_count": 9,
   "metadata": {},
   "outputs": [],
   "source": [
    "import re\n",
    "def trim(wordList):\n",
    "    regmex = re.compile('\\d+')\n",
    "    cleaned = list()\n",
    "    for w in wordList:\n",
    "        if not regmex.match(w):\n",
    "            cleaned.append(w.lstrip(\"‘\").rstrip(\"’\").rstrip(\".\").rstrip(\",\").replace(\"’\",\"\"))\n",
    "    return cleaned"
   ]
  },
  {
   "cell_type": "code",
   "execution_count": 10,
   "metadata": {},
   "outputs": [],
   "source": [
    "from pyspark.sql import functions as f\n",
    "from pyspark.sql.types import ArrayType, StringType\n",
    "\n",
    "trimUdf = f.udf(trim,ArrayType(StringType()))"
   ]
  },
  {
   "cell_type": "code",
   "execution_count": 11,
   "metadata": {},
   "outputs": [
    {
     "name": "stdout",
     "output_type": "stream",
     "text": [
      "+----------------------------------+--------------------------------+--------------------------------+\n",
      "|                             value|                        wordsReg|                            word|\n",
      "+----------------------------------+--------------------------------+--------------------------------+\n",
      "|  존경하는 국민 여러분, 경찰관 ...|   [존경하는, 국민, 여러분,, ...|  [존경하는, 국민, 여러분, 경...|\n",
      "| 국민의 안전을 위해 밤낮없이 애...|  [국민의, 안전을, 위해, 밤낮...|  [국민의, 안전을, 위해, 밤낮...|\n",
      "|오늘 홍조근정훈장을 받으신 중앙...|[오늘, 홍조근정훈장을, 받으신...|[오늘, 홍조근정훈장을, 받으신...|\n",
      "|          사랑하는 경찰관 여러분,\n",
      "|     [사랑하는, 경찰관, 여러분,]|      [사랑하는, 경찰관, 여러분]|\n",
      "|여러분의 헌신적 노력으로 우리의...| [여러분의, 헌신적, 노력으로,...| [여러분의, 헌신적, 노력으로,...|\n",
      "| 치안의 개선은 국민의 체감으로 ...|  [치안의, 개선은, 국민의, 체...|  [치안의, 개선은, 국민의, 체...|\n",
      "| 한국을 찾는 외국 관광객들도 우...|  [한국을, 찾는, 외국, 관광객...|  [한국을, 찾는, 외국, 관광객...|\n",
      "|   올해는 ‘경찰의 날’에 맞춰 국...|    [올해는, ‘경찰의, 날’에, ...|  [올해는, 경찰의, 날에, 맞춰...|\n",
      "|        자랑스러운 경찰관 여러분,\n",
      "|   [자랑스러운, 경찰관, 여러분,]|    [자랑스러운, 경찰관, 여러분]|\n",
      "| 경찰헌장은 “나라와 겨레를 위하...| [경찰헌장은, “나라와, 겨레를...| [경찰헌장은, “나라와, 겨레를...|\n",
      "|    대한민국 경찰은 1945년 광복...|    [대한민국, 경찰은, 1945년...|  [대한민국, 경찰은, 광복, 직...|\n",
      "| 임시정부 초대 경무국장 백범 김...|  [임시정부, 초대, 경무국장, ...|  [임시정부, 초대, 경무국장, ...|\n",
      "|    광복 이후 6·25전쟁에서도 경...|    [광복, 이후, 6·25전쟁에서...|  [광복, 이후, 경찰은, 국군과...|\n",
      "|그러나 잘못도 없지는 않았습니다...|  [그러나, 잘못도, 없지는, 않...|  [그러나, 잘못도, 없지는, 않...|\n",
      "| 지금 경찰은 과거를 돌아보며 국...|  [지금, 경찰은, 과거를, 돌아...|  [지금, 경찰은, 과거를, 돌아...|\n",
      "| 검경 수사권 조정과 자치경찰제 ...|  [검경, 수사권, 조정과, 자치...|  [검경, 수사권, 조정과, 자치...|\n",
      "|정부는 경찰의 근무여건을 개선하...| [정부는, 경찰의, 근무여건을,...| [정부는, 경찰의, 근무여건을,...|\n",
      "| 정부는 누구도 법 위에 군림하지...|   [정부는, 누구도, 법, 위에,...|   [정부는, 누구도, 법, 위에,...|\n",
      "| 경찰헌장은 따뜻한 경찰, 의로운...|  [경찰헌장은, 따뜻한, 경찰,,...|  [경찰헌장은, 따뜻한, 경찰, ...|\n",
      "|행사를 준비하신 민갑룡 경찰청장...|  [행사를, 준비하신, 민갑룡, ...|  [행사를, 준비하신, 민갑룡, ...|\n",
      "+----------------------------------+--------------------------------+--------------------------------+\n",
      "only showing top 20 rows\n",
      "\n"
     ]
    }
   ],
   "source": [
    "wordsDf = reDf.withColumn('word', trimUdf(f.col('wordsReg')))\n",
    "wordsDf.show()"
   ]
  },
  {
   "cell_type": "markdown",
   "metadata": {},
   "source": [
    "## 3. 불용어 구성, 출력  - 축사 전문에서 한 단어를 스스로 구성"
   ]
  },
  {
   "cell_type": "code",
   "execution_count": 12,
   "metadata": {},
   "outputs": [
    {
     "name": "stdout",
     "output_type": "stream",
     "text": [
      "i/me/my/myself/we/our/ours/ourselves/you/your/yours/yourself/yourselves/he/him/his/himself/she/her/hers/herself/it/its/itself/they/them/their/theirs/themselves/what/which/who/whom/this/that/these/those/am/is/are/was/were/be/been/being/have/has/had/having/do/does/did/doing/a/an/the/and/but/if/or/because/as/until/while/of/at/by/for/with/about/against/between/into/through/during/before/after/above/below/to/from/up/down/in/out/on/off/over/under/again/further/then/once/here/there/when/where/why/how/all/any/both/each/few/more/most/other/some/such/no/nor/not/only/own/same/so/than/too/very/s/t/can/will/just/don/should/now/i'll/you'll/he'll/she'll/we'll/they'll/i'd/you'd/he'd/she'd/we'd/they'd/i'm/you're/he's/she's/it's/we're/they're/i've/we've/you've/they've/isn't/aren't/wasn't/weren't/haven't/hasn't/hadn't/don't/doesn't/didn't/won't/wouldn't/shan't/shouldn't/mustn't/can't/couldn't/cannot/could/here's/how's/let's/ought/that's/there's/what's/when's/where's/who's/why's/would/그/오늘/"
     ]
    }
   ],
   "source": [
    "from pyspark.ml.feature import StopWordsRemover\n",
    "stop = StopWordsRemover(inputCol=\"wordsReg\", outputCol=\"nostops\")\n",
    "\n",
    "stopwords=list()\n",
    "_stopwords=stop.getStopWords()\n",
    "for e in _stopwords:\n",
    "    stopwords.append(e)\n",
    "\n",
    "kstopwords=[u\"그\",u\"오늘\"] \n",
    "for e in kstopwords:\n",
    "    stopwords.append(e)\n",
    "\n",
    "stop.setStopWords(stopwords)\n",
    "\n",
    "#stopwords 확인\n",
    "for i in stop.getStopWords():\n",
    "    print (i, end=\"/\")"
   ]
  },
  {
   "cell_type": "markdown",
   "metadata": {},
   "source": [
    "## 4. 불용어 제거하고, 출력"
   ]
  },
  {
   "cell_type": "code",
   "execution_count": 13,
   "metadata": {},
   "outputs": [
    {
     "name": "stdout",
     "output_type": "stream",
     "text": [
      "+----------------------------------+--------------------------------+--------------------------------+--------------------------------+\n",
      "|                             value|                        wordsReg|                            word|                         nostops|\n",
      "+----------------------------------+--------------------------------+--------------------------------+--------------------------------+\n",
      "|  존경하는 국민 여러분, 경찰관 ...|   [존경하는, 국민, 여러분,, ...|  [존경하는, 국민, 여러분, 경...|   [존경하는, 국민, 여러분,, ...|\n",
      "| 국민의 안전을 위해 밤낮없이 애...|  [국민의, 안전을, 위해, 밤낮...|  [국민의, 안전을, 위해, 밤낮...|  [국민의, 안전을, 위해, 밤낮...|\n",
      "|오늘 홍조근정훈장을 받으신 중앙...|[오늘, 홍조근정훈장을, 받으신...|[오늘, 홍조근정훈장을, 받으신...|[홍조근정훈장을, 받으신, 중앙...|\n",
      "|          사랑하는 경찰관 여러분,\n",
      "|     [사랑하는, 경찰관, 여러분,]|      [사랑하는, 경찰관, 여러분]|     [사랑하는, 경찰관, 여러분,]|\n",
      "|여러분의 헌신적 노력으로 우리의...| [여러분의, 헌신적, 노력으로,...| [여러분의, 헌신적, 노력으로,...| [여러분의, 헌신적, 노력으로,...|\n",
      "| 치안의 개선은 국민의 체감으로 ...|  [치안의, 개선은, 국민의, 체...|  [치안의, 개선은, 국민의, 체...|  [치안의, 개선은, 국민의, 체...|\n",
      "| 한국을 찾는 외국 관광객들도 우...|  [한국을, 찾는, 외국, 관광객...|  [한국을, 찾는, 외국, 관광객...|  [한국을, 찾는, 외국, 관광객...|\n",
      "|   올해는 ‘경찰의 날’에 맞춰 국...|    [올해는, ‘경찰의, 날’에, ...|  [올해는, 경찰의, 날에, 맞춰...|    [올해는, ‘경찰의, 날’에, ...|\n",
      "|        자랑스러운 경찰관 여러분,\n",
      "|   [자랑스러운, 경찰관, 여러분,]|    [자랑스러운, 경찰관, 여러분]|   [자랑스러운, 경찰관, 여러분,]|\n",
      "| 경찰헌장은 “나라와 겨레를 위하...| [경찰헌장은, “나라와, 겨레를...| [경찰헌장은, “나라와, 겨레를...| [경찰헌장은, “나라와, 겨레를...|\n",
      "|    대한민국 경찰은 1945년 광복...|    [대한민국, 경찰은, 1945년...|  [대한민국, 경찰은, 광복, 직...|    [대한민국, 경찰은, 1945년...|\n",
      "| 임시정부 초대 경무국장 백범 김...|  [임시정부, 초대, 경무국장, ...|  [임시정부, 초대, 경무국장, ...|  [임시정부, 초대, 경무국장, ...|\n",
      "|    광복 이후 6·25전쟁에서도 경...|    [광복, 이후, 6·25전쟁에서...|  [광복, 이후, 경찰은, 국군과...|    [광복, 이후, 6·25전쟁에서...|\n",
      "|그러나 잘못도 없지는 않았습니다...|  [그러나, 잘못도, 없지는, 않...|  [그러나, 잘못도, 없지는, 않...|  [그러나, 잘못도, 없지는, 않...|\n",
      "| 지금 경찰은 과거를 돌아보며 국...|  [지금, 경찰은, 과거를, 돌아...|  [지금, 경찰은, 과거를, 돌아...|  [지금, 경찰은, 과거를, 돌아...|\n",
      "| 검경 수사권 조정과 자치경찰제 ...|  [검경, 수사권, 조정과, 자치...|  [검경, 수사권, 조정과, 자치...|  [검경, 수사권, 조정과, 자치...|\n",
      "|정부는 경찰의 근무여건을 개선하...| [정부는, 경찰의, 근무여건을,...| [정부는, 경찰의, 근무여건을,...| [정부는, 경찰의, 근무여건을,...|\n",
      "| 정부는 누구도 법 위에 군림하지...|   [정부는, 누구도, 법, 위에,...|   [정부는, 누구도, 법, 위에,...|   [정부는, 누구도, 법, 위에,...|\n",
      "| 경찰헌장은 따뜻한 경찰, 의로운...|  [경찰헌장은, 따뜻한, 경찰,,...|  [경찰헌장은, 따뜻한, 경찰, ...|  [경찰헌장은, 따뜻한, 경찰,,...|\n",
      "|행사를 준비하신 민갑룡 경찰청장...|  [행사를, 준비하신, 민갑룡, ...|  [행사를, 준비하신, 민갑룡, ...|  [행사를, 준비하신, 민갑룡, ...|\n",
      "+----------------------------------+--------------------------------+--------------------------------+--------------------------------+\n",
      "only showing top 20 rows\n",
      "\n"
     ]
    }
   ],
   "source": [
    "stopDf=stop.transform(wordsDf)\n",
    "stopDf.show() #세번째 줄에서 '오늘' 사라진 것 확인"
   ]
  },
  {
   "cell_type": "code",
   "execution_count": 14,
   "metadata": {},
   "outputs": [
    {
     "data": {
      "text/plain": [
       "[Row(nostops=['존경하는', '국민', '여러분,', '경찰관', '여러분,', '일흔네', '돌', '‘경찰의', '날’입니다.']),\n",
       " Row(nostops=['국민의', '안전을', '위해', '밤낮없이', '애쓰시는', '전국의', '15만', '경찰관', '여러분께', '먼저', '감사를', '드립니다.', '전몰·순직', '경찰관들의', '고귀한', '희생에', '경의를', '표합니다.', '유가족', '여러분께', '위로의', '마음을', '전합니다.']),\n",
       " Row(nostops=['홍조근정훈장을', '받으신', '중앙경찰학교장', '이은정', '치안감님,', '근정포장을', '받으신', '광주남부경찰서', '김동현', '경감님을', '비롯한', '수상자', '여러분께', '각별한', '축하와', '감사를', '드립니다.', '또한', '경찰', '영웅으로', '추서되신', '차일혁,', '최중락님께', '국민의', '사랑을', '전해드립니다.'])]"
      ]
     },
     "execution_count": 14,
     "metadata": {},
     "output_type": "execute_result"
    }
   ],
   "source": [
    "# 전체 단어 빈도\n",
    "## Rdd로 변환 -> flatMap 사용하여 차원 변경\n",
    "stopDf.select(\"nostops\").rdd.take(3)"
   ]
  },
  {
   "cell_type": "code",
   "execution_count": 15,
   "metadata": {},
   "outputs": [
    {
     "data": {
      "text/plain": [
       "[['존경하는', '국민', '여러분,', '경찰관', '여러분,', '일흔네', '돌', '‘경찰의', '날’입니다.'],\n",
       " ['국민의',\n",
       "  '안전을',\n",
       "  '위해',\n",
       "  '밤낮없이',\n",
       "  '애쓰시는',\n",
       "  '전국의',\n",
       "  '15만',\n",
       "  '경찰관',\n",
       "  '여러분께',\n",
       "  '먼저',\n",
       "  '감사를',\n",
       "  '드립니다.',\n",
       "  '전몰·순직',\n",
       "  '경찰관들의',\n",
       "  '고귀한',\n",
       "  '희생에',\n",
       "  '경의를',\n",
       "  '표합니다.',\n",
       "  '유가족',\n",
       "  '여러분께',\n",
       "  '위로의',\n",
       "  '마음을',\n",
       "  '전합니다.']]"
      ]
     },
     "execution_count": 15,
     "metadata": {},
     "output_type": "execute_result"
    }
   ],
   "source": [
    "stopDf.select(\"nostops\").rdd.flatMap(lambda x:x).take(2)"
   ]
  },
  {
   "cell_type": "code",
   "execution_count": 16,
   "metadata": {},
   "outputs": [
    {
     "data": {
      "text/plain": [
       "['존경하는', '국민', '여러분,']"
      ]
     },
     "execution_count": 16,
     "metadata": {},
     "output_type": "execute_result"
    }
   ],
   "source": [
    "stopDf.select('nostops').rdd.flatMap(lambda x:x).flatMap(lambda x:x).take(3)"
   ]
  },
  {
   "cell_type": "code",
   "execution_count": 17,
   "metadata": {},
   "outputs": [
    {
     "data": {
      "text/plain": [
       "[(8, '경찰은'),\n",
       " (7, '국민의'),\n",
       " (7, '있습니다.'),\n",
       " (6, '여러분,'),\n",
       " (5, '경찰관'),\n",
       " (4, '우리의'),\n",
       " (4, '합니다.'),\n",
       " (4, '경찰의'),\n",
       " (3, '여러분께'),\n",
       " (3, '드립니다.'),\n",
       " (3, '역대'),\n",
       " (3, '가장'),\n",
       " (3, '함께'),\n",
       " (3, '것입니다.'),\n",
       " (2, '‘경찰의'),\n",
       " (2, '안전을'),\n",
       " (2, '위해'),\n",
       " (2, '먼저'),\n",
       " (2, '감사를'),\n",
       " (2, '받으신')]"
      ]
     },
     "execution_count": 17,
     "metadata": {},
     "output_type": "execute_result"
    }
   ],
   "source": [
    "#빈도계산하기\n",
    "stopDf.select(\"nostops\")\\\n",
    "    .rdd\\\n",
    "    .flatMap(lambda x:x).flatMap(lambda x:x)\\\n",
    "    .map(lambda x: (x,1))\\\n",
    "    .reduceByKey(lambda x,y: x+y)\\\n",
    "    .map(lambda x: (x[1],x[0]))\\\n",
    "    .sortByKey(False).take(20)"
   ]
  },
  {
   "cell_type": "code",
   "execution_count": 18,
   "metadata": {},
   "outputs": [
    {
     "data": {
      "text/plain": [
       "[(14, '경찰'),\n",
       " (7, '국민의'),\n",
       " (7, '있습니다.'),\n",
       " (6, '여러분,'),\n",
       " (5, '경찰관'),\n",
       " (4, '우리의'),\n",
       " (4, '합니다.'),\n",
       " (3, '여러분께'),\n",
       " (3, '드립니다.'),\n",
       " (3, '역대'),\n",
       " (3, '가장'),\n",
       " (3, '함께'),\n",
       " (3, '것입니다.'),\n",
       " (2, '‘경찰'),\n",
       " (2, '안전을'),\n",
       " (2, '위해'),\n",
       " (2, '먼저'),\n",
       " (2, '감사를'),\n",
       " (2, '받으신'),\n",
       " (2, '비롯한')]"
      ]
     },
     "execution_count": 18,
     "metadata": {},
     "output_type": "execute_result"
    }
   ],
   "source": [
    "#빈도계산하기\n",
    "stopDf.select(\"nostops\")\\\n",
    "    .rdd\\\n",
    "    .flatMap(lambda x:x).flatMap(lambda x:x)\\\n",
    "    .map(lambda x: x.replace(\"경찰은\",\"경찰\"))\\\n",
    "    .map(lambda x: x.replace(\"경찰의\",\"경찰\"))\\\n",
    "    .map(lambda x: (x,1))\\\n",
    "    .reduceByKey(lambda x,y: x+y)\\\n",
    "    .map(lambda x: (x[1],x[0]))\\\n",
    "    .sortByKey(False).take(20)"
   ]
  },
  {
   "cell_type": "markdown",
   "metadata": {},
   "source": [
    "## 5. TF-IDF를 계산하고, 출력"
   ]
  },
  {
   "cell_type": "code",
   "execution_count": 19,
   "metadata": {},
   "outputs": [
    {
     "name": "stdout",
     "output_type": "stream",
     "text": [
      "Row(idf=SparseVector(262144, {162: 2.3979, 80732: 2.3979, 118171: 2.9632, 127225: 2.3979, 142775: 1.9924, 160086: 1.2993, 172380: 2.3979, 254275: 2.3979}))\n",
      "Row(idf=SparseVector(262144, {5341: 2.3979, 6304: 2.3979, 30732: 2.3979, 39431: 1.7047, 43098: 2.3979, 49855: 1.9924, 51468: 2.3979, 63600: 2.3979, 75300: 2.3979, 77757: 1.9924, 89318: 1.9924, 96799: 2.3979, 110980: 2.3979, 123553: 1.9924, 160081: 2.3979, 160086: 1.2993, 167255: 1.2993, 178931: 2.3979, 208192: 2.3979, 217323: 3.9849, 257249: 2.3979, 261393: 2.3979}))\n",
      "Row(idf=SparseVector(262144, {29823: 2.3979, 32228: 2.3979, 36822: 2.3979, 39431: 1.7047, 41144: 2.3979, 49855: 1.9924, 61014: 2.3979, 61103: 2.3979, 64713: 2.3979, 72971: 2.3979, 82902: 1.9924, 84159: 1.9924, 118725: 4.7958, 153204: 2.3979, 167255: 1.2993, 178229: 2.3979, 185989: 2.3979, 206065: 2.3979, 217323: 1.9924, 235673: 2.3979, 237148: 2.3979, 248593: 2.3979, 249689: 2.3979, 251574: 1.9924, 254458: 2.3979}))\n",
      "Row(idf=SparseVector(262144, {118171: 1.4816, 160086: 1.2993, 220702: 2.3979}))\n",
      "Row(idf=SparseVector(262144, {11202: 2.3979, 28414: 2.3979, 51063: 2.3979, 53633: 2.3979, 63981: 2.3979, 80937: 2.3979, 84279: 2.3979, 92349: 2.3979, 93327: 2.3979, 108997: 2.3979, 110381: 2.3979, 112697: 2.3979, 155248: 2.3979, 170244: 2.3979, 197092: 2.3979, 199006: 2.3979, 200419: 2.3979, 211370: 2.3979, 251648: 2.3979, 256489: 1.7047}))\n"
     ]
    }
   ],
   "source": [
    "from pyspark.ml.feature import HashingTF, IDF\n",
    "\n",
    "hashTF = HashingTF(inputCol=\"nostops\", outputCol=\"hash\")\n",
    "hashDf = hashTF.transform(stopDf)\n",
    "#hashDf.select(\"nostops\", \"hash\").show(truncate=True)\n",
    "\n",
    "idf = IDF(inputCol=\"hash\", outputCol=\"idf\")\n",
    "idfModel = idf.fit(hashDf)\n",
    "idfDf = idfModel.transform(hashDf)\n",
    "\n",
    "#TF-IDF 출력\n",
    "for e in idfDf.select(\"idf\").take(5):\n",
    "     print(e)"
   ]
  },
  {
   "cell_type": "markdown",
   "metadata": {},
   "source": [
    "## 6. TF-IDF 컬럼을 features로 구성, 출력"
   ]
  },
  {
   "cell_type": "code",
   "execution_count": 20,
   "metadata": {},
   "outputs": [
    {
     "name": "stdout",
     "output_type": "stream",
     "text": [
      "+----------------------------------+--------------------+\n",
      "|                             value|            features|\n",
      "+----------------------------------+--------------------+\n",
      "|  존경하는 국민 여러분, 경찰관 ...|(262144,[162,8073...|\n",
      "| 국민의 안전을 위해 밤낮없이 애...|(262144,[5341,630...|\n",
      "|오늘 홍조근정훈장을 받으신 중앙...|(262144,[29823,32...|\n",
      "|          사랑하는 경찰관 여러분,\n",
      "|(262144,[118171,1...|\n",
      "|여러분의 헌신적 노력으로 우리의...|(262144,[11202,28...|\n",
      "| 치안의 개선은 국민의 체감으로 ...|(262144,[883,9986...|\n",
      "| 한국을 찾는 외국 관광객들도 우...|(262144,[7183,239...|\n",
      "|   올해는 ‘경찰의 날’에 맞춰 국...|(262144,[554,4988...|\n",
      "|        자랑스러운 경찰관 여러분,\n",
      "|(262144,[118171,1...|\n",
      "| 경찰헌장은 “나라와 겨레를 위하...|(262144,[4628,201...|\n",
      "|    대한민국 경찰은 1945년 광복...|(262144,[32368,53...|\n",
      "| 임시정부 초대 경무국장 백범 김...|(262144,[17472,23...|\n",
      "|    광복 이후 6·25전쟁에서도 경...|(262144,[10556,12...|\n",
      "|그러나 잘못도 없지는 않았습니다...|(262144,[20328,20...|\n",
      "| 지금 경찰은 과거를 돌아보며 국...|(262144,[4505,125...|\n",
      "| 검경 수사권 조정과 자치경찰제 ...|(262144,[13448,18...|\n",
      "|정부는 경찰의 근무여건을 개선하...|(262144,[514,8701...|\n",
      "| 정부는 누구도 법 위에 군림하지...|(262144,[6358,160...|\n",
      "| 경찰헌장은 따뜻한 경찰, 의로운...|(262144,[20610,23...|\n",
      "|행사를 준비하신 민갑룡 경찰청장...|(262144,[4007,229...|\n",
      "+----------------------------------+--------------------+\n",
      "only showing top 20 rows\n",
      "\n"
     ]
    }
   ],
   "source": [
    "idfDf=idfDf.withColumnRenamed('idf', 'features')\n",
    "idfDf.select('value','features').show()"
   ]
  },
  {
   "cell_type": "code",
   "execution_count": 21,
   "metadata": {},
   "outputs": [],
   "source": [
    "## word2Vec 이용"
   ]
  },
  {
   "cell_type": "code",
   "execution_count": 22,
   "metadata": {},
   "outputs": [],
   "source": [
    "from pyspark.ml.feature import Word2Vec\n",
    "\n",
    "word2vec = Word2Vec(vectorSize = 20, minCount = 1, inputCol = \"wordsReg\", outputCol = \"w2v\")\n",
    "model = word2vec.fit(reDf)\n",
    "w2vDf = model.transform(reDf)"
   ]
  },
  {
   "cell_type": "code",
   "execution_count": 23,
   "metadata": {},
   "outputs": [
    {
     "name": "stdout",
     "output_type": "stream",
     "text": [
      "+-----------+--------------------+\n",
      "|       word|              vector|\n",
      "+-----------+--------------------+\n",
      "|   공정해야|[-0.0146769583225...|\n",
      "| 자치경찰제|[-0.0211083367466...|\n",
      "|   공권력을|[-0.0164100863039...|\n",
      "|흘렸습니다.|[-0.0077968100085...|\n",
      "|     만들고|[0.00922949705272...|\n",
      "|     헌신에|[-0.0098557695746...|\n",
      "|    나창헌,|[-0.0041433367878...|\n",
      "|       닿아|[0.01233200356364...|\n",
      "|         돌|[0.01824185997247...|\n",
      "|     민갑룡|[0.01333562098443...|\n",
      "|     수상자|[0.00310536869801...|\n",
      "|       기간|[0.00795323215425...|\n",
      "|     시대적|[-0.0140350675210...|\n",
      "|     일흔네|[0.00698785018175...|\n",
      "|  했습니다.|[0.01522052101790...|\n",
      "|       범죄|[-0.0131280673667...|\n",
      "|  됐습니다.|[0.00331099424511...|\n",
      "|       검경|[-0.0165771935135...|\n",
      "|   공권력이|[-0.0179498121142...|\n",
      "|     치안이|[-0.0085832616314...|\n",
      "+-----------+--------------------+\n",
      "only showing top 20 rows\n",
      "\n"
     ]
    }
   ],
   "source": [
    "model.getVectors().show()"
   ]
  },
  {
   "cell_type": "code",
   "execution_count": 24,
   "metadata": {},
   "outputs": [
    {
     "name": "stdout",
     "output_type": "stream",
     "text": [
      "+---------+-------------------+\n",
      "|     word|         similarity|\n",
      "+---------+-------------------+\n",
      "|   본연의| 0.5788632035255432|\n",
      "|   사랑을| 0.4740690588951111|\n",
      "|     없이|0.46875786781311035|\n",
      "|열립니다.|0.46254974603652954|\n",
      "|   박정훈| 0.4623321294784546|\n",
      "+---------+-------------------+\n",
      "\n"
     ]
    }
   ],
   "source": [
    "model.findSynonyms(\"검경\",5).show()"
   ]
  },
  {
   "cell_type": "code",
   "execution_count": 25,
   "metadata": {},
   "outputs": [
    {
     "name": "stdout",
     "output_type": "stream",
     "text": [
      "+------+-------------------+\n",
      "|  word|         similarity|\n",
      "+------+-------------------+\n",
      "|잘못도| 0.6951565146446228|\n",
      "|충실히| 0.6312954425811768|\n",
      "|목숨을| 0.5522195100784302|\n",
      "|  가장| 0.5389007329940796|\n",
      "|동시에|0.47095292806625366|\n",
      "+------+-------------------+\n",
      "\n"
     ]
    }
   ],
   "source": [
    "model.findSynonyms(\"치안이\",5).show()"
   ]
  },
  {
   "cell_type": "code",
   "execution_count": null,
   "metadata": {},
   "outputs": [],
   "source": []
  }
 ],
 "metadata": {
  "kernelspec": {
   "display_name": "Python 3",
   "language": "python",
   "name": "python3"
  },
  "language_info": {
   "codemirror_mode": {
    "name": "ipython",
    "version": 3
   },
   "file_extension": ".py",
   "mimetype": "text/x-python",
   "name": "python",
   "nbconvert_exporter": "python",
   "pygments_lexer": "ipython3",
   "version": "3.7.6"
  }
 },
 "nbformat": 4,
 "nbformat_minor": 4
}
