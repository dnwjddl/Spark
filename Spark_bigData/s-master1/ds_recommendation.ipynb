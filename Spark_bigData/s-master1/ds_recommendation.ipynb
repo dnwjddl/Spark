{
 "cells": [
  {
   "cell_type": "markdown",
   "metadata": {
    "slideshow": {
     "slide_type": "slide"
    }
   },
   "source": [
    "# Recommendation\n",
    "\n",
    "* Last updated 20191126TUE1106\n",
    "\n",
    "## S.1 학습내용\n",
    "\n",
    "### S.1.1 목표\n",
    "\n",
    "* 내용기반 추천, 협업 추천을 프로그래밍으로 구현\n",
    "* matrix factorization"
   ]
  },
  {
   "cell_type": "markdown",
   "metadata": {
    "slideshow": {
     "slide_type": "subslide"
    }
   },
   "source": [
    "### S.1.2 목차\n",
    "\n",
    "* S.2 문제의 이해\n",
    "* S.3 추천이란\n",
    "* S.4 collaborative filtering 방법\n",
    "* S.4.1 Neighborhood Methods\n",
    "* S.4.2 Latent Factor Methods\n",
    "* S.5 Utility Matrix\n",
    "* S.6 유사도\n",
    "* S.6.1 Eculdean distance\n",
    "* S.6.2 Manhatan distance\n",
    "* S.6.3 L-form\n",
    "* S.6.4 cosine 유사도\n",
    "* S.6.5 similarity\n",
    "* S.7 영화평가\n",
    "* S.8 인지도 기반 추천\n",
    "* S.9 matrix factorization\n",
    "* S.10 SVD\n",
    "* 문제 S-5: ALS 알고리즘으로 영화 추천"
   ]
  },
  {
   "cell_type": "markdown",
   "metadata": {
    "slideshow": {
     "slide_type": "subslide"
    }
   },
   "source": [
    "기계학습으로 다음 절차에 따라 사례별로 풀어보자.\n",
    "* 1 단계: 데이터 수집\n",
    "* 2 단계: 데이터 변환 - 탐색 및 ETL\n",
    "* 3 단계: 모델링\n",
    "* 4 단계: 예측\n",
    "* 5 단계: 평가 - 평가 및 모델의 개선\n",
    "    * n-folding cross-validation"
   ]
  },
  {
   "cell_type": "markdown",
   "metadata": {
    "slideshow": {
     "slide_type": "slide"
    }
   },
   "source": [
    "### S.1.3 문제 \n",
    "\n",
    "* 문제 M-5: Spark MLib movie recommendation 사례\n",
    "* 문제 M-6: Ethereum\n",
    "* 문제 M-7: Spark Streaming\n",
    "* 문제 M-8: GraphX\n",
    "* spark-submit (self-contained app in quick-start 참조) \n",
    "\n",
    "* 연습\n",
    "    * KMeans\n",
    "    * MDS Multi-Dimensional Scaling (MDS)\n",
    "    * visualize\n"
   ]
  },
  {
   "cell_type": "markdown",
   "metadata": {
    "slideshow": {
     "slide_type": "slide"
    }
   },
   "source": [
    "## S.2 문제의 이해\n",
    "\n",
    "영화를 본다고 하자.\n",
    "어떤 영화를 관람할지, 먼저 관람한 사람들의 **리뷰** 또는 **평점**을 보고 결정하기도 한다.\n",
    "영화뿐만 아니라 음악, 책, 어떤 제품도 먼저 구매하거나 경험한 사람들의 평점이 구매에 영향을 미칠 수 있다.\n",
    "평점이 높은 영화를 추천한다면, 그 영화를 선택하는데 매우 유용한 정보가 될 것이다.\n",
    "일반적인 **인기도**에 따른 추천도 좋지만,\n",
    "**내가 좋아하는, 개인의 특성에 맞는** 상품이나 콘텐츠를 추천할 수 있다면 더욱 효과적이겠다.\n",
    "어떻게 하면 **내가 좋아할만한** 영화를 선택할 수 있을까?\n",
    "**내가 듣고 싶은** 음악을 선택할 수 있을까?\n",
    "이런 문제를 추천할 수 있는 방법에 대해 학습해보자."
   ]
  },
  {
   "cell_type": "markdown",
   "metadata": {
    "slideshow": {
     "slide_type": "slide"
    }
   },
   "source": [
    "## S.3 추천이란\n",
    "\n",
    "### 인기도 기반\n",
    "많은 사람들이 선호하는 상품을 추천하는 것이다. \n",
    "예를 들어 영화를 추천할 경우, 많이 본 영화 또는 평점이 높은 영화를 추천하는 것이다.\n",
    "자신이 속한 연령대, 성별로 구분하여 인기 순위가 높은 영화를 추천하면 **세분화**되겠지만, **개인의 특성이 속한 그룹과 동일하다고 보기는 어렵다**.\n",
    "\n",
    "### 상품기반\n",
    "**내용기반 추천 Content Filtering**은 상품간에 유사도를 계산하여 추천을 하는 것이다.\n",
    "영화의 예를 들면, 장르, 출연배우, 인기도 등에 따라 서로 유사한 영화를 선정하여 추천한다.\n",
    "\n",
    "### 사용자 기반\n",
    "**협업 추천 Collaborative Filtering**은 사용자와 상품 간 상호관련성에 따라 추천을 하게 된다.\n",
    "사용자 A가 노래 P, Q, R을 좋아한다고 하자. 사용자 B도 영화 P, Q를 좋아한다고 하자. 그러면 사용자 A와 B는 서로 취향이 유사하고, 아직 관람하지 않은 영화 R을 추천하게 되는 것이다.\n"
   ]
  },
  {
   "cell_type": "markdown",
   "metadata": {
    "slideshow": {
     "slide_type": "slide"
    }
   },
   "source": [
    "## S.4 추천 방법\n",
    "\n",
    "### S.4.1 Neighborhood Methods\n",
    "\n",
    "이 협업 추천 collaborative filtering 방법은 사용자의 상품 선호도에 대한 유사도가 서로 비슷한 사용자를 찾아서 추천한다.\n",
    "\n",
    "단계:\n",
    "* 유사도가 높은 사용자, **이웃 neighbors**를 식별\n",
    "* 그 neighbors가 좋아하는 상품을 추천"
   ]
  },
  {
   "cell_type": "markdown",
   "metadata": {
    "slideshow": {
     "slide_type": "slide"
    }
   },
   "source": [
    "### S.4.2  Matrix Factorization\n",
    "\n",
    "앞서 사용자 또는 제품 간에 가까운 유사도를 찾고 이런 이웃이 선택했거나 좋아했던 아이템을 추천하는데 반해,\n",
    "Matrix Factorization은 **분해 모델**이라고 할 수 있다.\n",
    "MF는 원래의 모델을 분리해내는 기법으로, 무엇인가 숨겨진 요인을 찾아서 2개 또는 그 이상으로 분리해내고, 이들을 곱하면 원래의 매트릭스가 산출되도록 한다.\n",
    "즉,\n",
    "* **original matrix**를 **u**, **i**로 분리하고\n",
    "* 분리된 속성 **u** x **i**를 곱하여 원래의 **original matrix**를 산출할 수 있다."
   ]
  },
  {
   "cell_type": "markdown",
   "metadata": {
    "slideshow": {
     "slide_type": "subslide"
    }
   },
   "source": [
    "\n",
    "예를 들어, 사용자 U1부터 U5, 상품 D1부터 D4가 있고, 사용자의 상품에 대한 평가점수가 있다고 하자.\n",
    "그렇다면 다음 표가 완성될 수 있다.\n",
    "이 표에 비어있는 평가점수를 채워 넣어야 한다.\n",
    "비슷한 사용자끼리 서로 비슷한 점수를 넣는다고 가정하고\n",
    "숨겨진 latent features를 유추하고 나면, 이를 통해서 빈 값을 채워넣을 수 있다.\n",
    "\n",
    "```python\n",
    "\tD1\tD2\tD3\tD4\n",
    "U1\t5\t3\t-\t1\n",
    "U2\t4\t-\t-\t1\n",
    "U3\t1\t1\t-\t5\n",
    "U4\t1\t-\t-\t4\n",
    "U5\t-\t1\t5\t4\n",
    "```\n",
    "\n",
    "MF는 뭔가 **숨겨진 평가항목 latent features**이 있어서 사용자의 평가점수를 결정한다고 가정한다.\n",
    "예를 들어, 두 사용자가 어떤 영화를 다 같이 좋아한다고 하자.\n",
    "그 영화가 액션영화라고 하면 **장르가 숨겨진 속성**이 되고\n",
    "이러한 latent features를 발견할 수 있다면, 사용자의 상품에 대한 평가점수를, 즉 원래의 평가점수를 알아낼 수 있다.\n"
   ]
  },
  {
   "cell_type": "markdown",
   "metadata": {
    "slideshow": {
     "slide_type": "subslide"
    }
   },
   "source": [
    "Latent Factor는 숨겨진 요인을 의미하고,\n",
    "사용자 x 상품의 선호도를 이 숨겨진 요인으로 분해하고, 그 유사도에 따라 추천한다.\n",
    "그렇다면 숨겨진 요인을 '왜 찾는지', '어떻게 찾는지' 의문이 생기게 된다.\n",
    "숨겨진 요인을 찾는 이유를 이해하면, 찾는 방법에 대해서도 자연히 대답이 되겠다.\n",
    "**사용자의 영화에 대한 평점이 완성된 형태로 있기 어렵고, 비워진 값이 많기** 때문이다.\n",
    "원래의 모델, 즉 사용자가 상품에 대한 평점을 모아 놓은 Utility Matrix에는 결측 값이 많을 수 밖에 없다.\n",
    "이와 같이 모델을 분해하면, 비워진 값을 채우기 때문에 요인, 즉 **숨겨진 요인을 추가해서 그 결측 값을 채울 수** 있고,\n",
    "사용자의 평점을 완성할 수 있다는 의미이다.\n",
    "이를 통해서 추천으로 사용하게 된다.\n",
    "MF는 vector에 존재하는 빈 값을 해결하기 위해 제시된 해법으로 Netflix Prize Challenge 이후로 많이 쓰이고 있다.\n",
    "(Koren, Y., Bell, R., & Volinsky, C., 2009, \"Matrix factorization techniques for recommender systems,\" Computer, 8, 30-37.)\n",
    "\n",
    "이 방법으로는:\n",
    "* Principal Component Analysis\n",
    "* SVG\n",
    "* 교대 최소자승법 ALS Alternating Least Squares\n",
    "latent vectors는 사용자와 상품 벡터가 있는데, 이를 하나씩 고정시키고 문제를 푸는 방식이다. 즉 하나씩 번갈아 학습을 한다.\n",
    "먼저 상품 벡터를 고정시키고, 사용자 벡터에 대해 오류를 최소화하는 값을 구한다. 다음은 고정시켰던 상품 벡터에 대해 오류를 최소화한다. 이런 방식이 최적화될 때까지 반복한다. ALS는 나중에 우리가 배울 Spark에서 쓰이고 있다.\n",
    "* 경사도 하강법: 반복을 통해서 오류가 최소가 되는 값을 찾아내는 방식으로 프로그램으로 구현해 볼 것이다."
   ]
  },
  {
   "cell_type": "markdown",
   "metadata": {
    "slideshow": {
     "slide_type": "slide"
    }
   },
   "source": [
    "## S.5 유사도\n",
    "\n",
    "### S.5.1 Eculdean distance\n",
    "\n",
    "데이터 거리의 제곱을 계산한 값의 제곱근으로 구한다.\n",
    "\n",
    "$\\sqrt{\\sum\\limits_{i=1}^n (x_i - y_i)^2}$"
   ]
  },
  {
   "cell_type": "code",
   "execution_count": 2,
   "metadata": {
    "collapsed": true
   },
   "outputs": [],
   "source": [
    "import numpy as np\n",
    "\n",
    "a=np.array([0,1,0,4,0])\n",
    "b=np.array([0,4,0,2,3])\n",
    "c=np.array([0,1,0,4,4])"
   ]
  },
  {
   "cell_type": "code",
   "execution_count": 3,
   "metadata": {
    "collapsed": false
   },
   "outputs": [
    {
     "name": "stdout",
     "output_type": "stream",
     "text": [
      "4.69041575982343\n"
     ]
    }
   ],
   "source": [
    "from math import*\n",
    " \n",
    "def euclideanDistance(x,y):\n",
    "    return sqrt(sum(pow(a-b,2) for a, b in zip(x, y)))\n",
    "\n",
    "print (euclideanDistance(a,b))"
   ]
  },
  {
   "cell_type": "markdown",
   "metadata": {
    "slideshow": {
     "slide_type": "subslide"
    }
   },
   "source": [
    "### S.5.2 Manhatan distance\n",
    "\n",
    "거리의 절대 값\n",
    "\n",
    "$\\sum\\limits_{i=1}^n |x_i - y_i|$"
   ]
  },
  {
   "cell_type": "code",
   "execution_count": 5,
   "metadata": {
    "collapsed": false
   },
   "outputs": [
    {
     "name": "stdout",
     "output_type": "stream",
     "text": [
      "8\n"
     ]
    }
   ],
   "source": [
    "from math import *\n",
    " \n",
    "def manhattanDistance(x,y): \n",
    "    return sum(abs(a-b) for a,b in zip(x,y))\n",
    "\n",
    "print (manhattanDistance(a,b))"
   ]
  },
  {
   "cell_type": "markdown",
   "metadata": {},
   "source": [
    "### S.5.3 L-form\n",
    "\n",
    "$(\\sum\\limits_{i=1}^n |x_i - y_i|^p)^{\\frac{1}{p}}$\n",
    "\n",
    "p가 1이면 절대값 합계, 즉 L1이 되며, Manhatan distance와 같은 값이다.\n",
    "p가 2일 경우에는 제곱합의 루트 L2가 되며, Eculdean distance과 동일하다."
   ]
  },
  {
   "cell_type": "markdown",
   "metadata": {
    "slideshow": {
     "slide_type": "subslide"
    }
   },
   "source": [
    "numpy norm은 양수 값으로 만들어주는 함수를 말한다.\n",
    "numpy norm으로 L-form을 계산할 수 있다.\n",
    "\n",
    "1, 2, 3의 numpy norm은 각 절대 값을 더해서 계산된다.\n",
    "\n",
    "$ |1| + |2| + |3| = 6$"
   ]
  },
  {
   "cell_type": "code",
   "execution_count": 6,
   "metadata": {
    "collapsed": false
   },
   "outputs": [
    {
     "name": "stdout",
     "output_type": "stream",
     "text": [
      "6.0\n"
     ]
    }
   ],
   "source": [
    "x = np.array([1, 2, 3])\n",
    "L1=np.linalg.norm(x, 1)\n",
    "print (L1)"
   ]
  },
  {
   "cell_type": "code",
   "execution_count": 16,
   "metadata": {
    "collapsed": false
   },
   "outputs": [
    {
     "name": "stdout",
     "output_type": "stream",
     "text": [
      "8.0\n"
     ]
    }
   ],
   "source": [
    "L1=np.linalg.norm(a-b, 1)\n",
    "print L1"
   ]
  },
  {
   "cell_type": "code",
   "execution_count": 17,
   "metadata": {
    "collapsed": false
   },
   "outputs": [
    {
     "name": "stdout",
     "output_type": "stream",
     "text": [
      "3.74165738677\n"
     ]
    }
   ],
   "source": [
    "L2=np.sqrt(x[0]^2 + x[1]**2 + x[2]**2)\n",
    "print L2"
   ]
  },
  {
   "cell_type": "code",
   "execution_count": 18,
   "metadata": {
    "collapsed": false
   },
   "outputs": [
    {
     "name": "stdout",
     "output_type": "stream",
     "text": [
      "4.69041575982\n"
     ]
    }
   ],
   "source": [
    "L2=np.linalg.norm(a-b, 2)\n",
    "print L2"
   ]
  },
  {
   "cell_type": "markdown",
   "metadata": {
    "slideshow": {
     "slide_type": "subslide"
    }
   },
   "source": [
    "```norm()``` 함수의 default는 L2라서 생략할 수 있다."
   ]
  },
  {
   "cell_type": "code",
   "execution_count": 9,
   "metadata": {
    "collapsed": false
   },
   "outputs": [
    {
     "data": {
      "text/plain": [
       "4.6904157598234297"
      ]
     },
     "execution_count": 9,
     "metadata": {},
     "output_type": "execute_result"
    }
   ],
   "source": [
    "np.linalg.norm(a-b)"
   ]
  },
  {
   "cell_type": "markdown",
   "metadata": {
    "slideshow": {
     "slide_type": "subslide"
    }
   },
   "source": [
    "### S.5.4 cosine 유사도\n",
    "\n",
    "$\\cos(\\theta) = \\frac {A \\cdot B }{||A|| \\cdot ||B||} = \\frac {\\sum_{i=1}^{n}{A_i B_i}}{{\\sqrt {\\sum_{i=1}^{n} A_i^{2}}}{\\sqrt {\\sum_{i=1}^{n} B_{i}^{2}}}}$"
   ]
  },
  {
   "cell_type": "code",
   "execution_count": 7,
   "metadata": {
    "collapsed": false
   },
   "outputs": [
    {
     "name": "stdout",
     "output_type": "stream",
     "text": [
      "0.5405\n"
     ]
    }
   ],
   "source": [
    "from math import *\n",
    " \n",
    "def cosSimilarity(x,y): \n",
    "    numerator = sum(a*b for a,b in zip(x,y))\n",
    "    denominator = sqrt(sum([a*a for a in x])) * sqrt(sum([a*a for a in y]))\n",
    "    return round(numerator/float(denominator),4)\n",
    "\n",
    "print (cosSimilarity(a,b))"
   ]
  },
  {
   "cell_type": "code",
   "execution_count": 8,
   "metadata": {
    "collapsed": false
   },
   "outputs": [
    {
     "name": "stdout",
     "output_type": "stream",
     "text": [
      "0.540452818933254\n"
     ]
    }
   ],
   "source": [
    "cos_sim = np.dot(a, b)/(np.linalg.norm(a)*np.linalg.norm(b))\n",
    "print (cos_sim)"
   ]
  },
  {
   "cell_type": "code",
   "execution_count": 3,
   "metadata": {
    "collapsed": false
   },
   "outputs": [
    {
     "name": "stdout",
     "output_type": "stream",
     "text": [
      "0.540452818933254\n"
     ]
    }
   ],
   "source": [
    "from scipy.spatial.distance import cosine\n",
    "\n",
    "print(1 - cosine(a, b))"
   ]
  },
  {
   "cell_type": "code",
   "execution_count": 3,
   "metadata": {
    "collapsed": false,
    "scrolled": true
   },
   "outputs": [
    {
     "data": {
      "text/plain": [
       "array([[1.        , 0.54045282, 0.71774056],\n",
       "       [0.54045282, 1.        , 0.77580982],\n",
       "       [0.71774056, 0.77580982, 1.        ]])"
      ]
     },
     "execution_count": 3,
     "metadata": {},
     "output_type": "execute_result"
    }
   ],
   "source": [
    "from sklearn.metrics.pairwise import cosine_similarity\n",
    "\n",
    "cosine_similarity([a, b, c])"
   ]
  },
  {
   "cell_type": "markdown",
   "metadata": {
    "slideshow": {
     "slide_type": "slide"
    }
   },
   "source": [
    "* 상관관계\n",
    "\n",
    "* Jaccard\n",
    "\n",
    "$\\frac{A \\cap B}{A \\cup B}$"
   ]
  },
  {
   "cell_type": "code",
   "execution_count": 4,
   "metadata": {
    "collapsed": false
   },
   "outputs": [
    {
     "name": "stdout",
     "output_type": "stream",
     "text": [
      "0.4\n"
     ]
    }
   ],
   "source": [
    "from math import *\n",
    " \n",
    "def jaccardSimilarity(x,y): \n",
    "    intersection_cardinality = len(set.intersection(*[set(x), set(y)]))\n",
    "    union_cardinality = len(set.union(*[set(x), set(y)]))\n",
    "    return intersection_cardinality/float(union_cardinality)\n",
    "\n",
    "print (jaccardSimilarity(a,b))"
   ]
  },
  {
   "cell_type": "markdown",
   "metadata": {},
   "source": [
    "### S.5.5 correlation\n",
    "\n",
    "$$\n",
    "   r = \\frac{\\sum\\limits_{i=1}^n (X_i - \\bar{X})(Y_i -\n",
    "   \\bar{Y})}{\\sqrt{\\sum\\limits_{i=1}^n (X_i - \\bar{X})^2} \\sqrt{\\sum\n",
    "   \\limits_{i=1}^n (Y_i - \\bar{Y})^2}}\n",
    "$$"
   ]
  },
  {
   "cell_type": "markdown",
   "metadata": {},
   "source": [
    "### S.5.6 similarity"
   ]
  },
  {
   "cell_type": "code",
   "execution_count": null,
   "metadata": {
    "collapsed": true
   },
   "outputs": [],
   "source": [
    "import numpy as np\n",
    "R = np.array([\n",
    "     [5,3,0,1],\n",
    "     [4,0,0,1],\n",
    "     [1,1,0,5],\n",
    "     [1,0,0,4],\n",
    "     [0,1,5,4],\n",
    "    ])\n",
    "\n",
    "rpd=pd.DataFrame(R)\n",
    "\n",
    "rpd.iloc[0]\n",
    "\n",
    "rpd.iloc[[0,3]]\n",
    "\n",
    "rpd[[0,3]]\n",
    "\n",
    "```pdist()``` 함수는 입력 변수의 쌍대비교\n",
    "\n",
    "from scipy.spatial.distance import pdist\n",
    "pdist(rpd.iloc[[0,1]])\n",
    "\n",
    "from scipy.spatial.distance import pdist\n",
    "pdist(rpd.iloc[[0,3]])\n",
    "\n",
    "from scipy.spatial.distance import pdist\n",
    "pdist(rpd.T)\n",
    "\n",
    "np.linalg.norm(np.array([5,3,0,1])-np.array([4,0,0,1]))\n",
    "\n",
    "\n",
    "\n",
    "\n",
    "\n",
    "from scipy.spatial.distance import pdist\n",
    "pdist(_utility.loc[[2, 3]])\n",
    "\n",
    "s2=_utility.loc[[2]]\n",
    "s3=_utility.loc[[3]]\n",
    "\n",
    "from math import*\n",
    " \n",
    "def euclideanDistance(x,y):\n",
    "    return sqrt(sum(pow(a-b,2) for a, b in zip(x, y)))\n",
    "\n",
    "print euclideanDistance(s2,s3)\n",
    "\n",
    "import numpy as np\n",
    "np.linalg.norm(s2-s3)"
   ]
  },
  {
   "cell_type": "markdown",
   "metadata": {
    "slideshow": {
     "slide_type": "slide"
    }
   },
   "source": [
    "## S.6 영화 평가\n",
    "\n",
    "### S.6.1 데이터 내려받기\n",
    "\n",
    "?https://inclass.kaggle.com/c/movie\n",
    "\n",
    "MovieLens는 University of Minnesota에서 제공하는 프로젝트, [grouplens](https://grouplens.org/)이다.\n",
    "영화평가 파일은 zip으로 되어 있다.\n",
    "\n",
    "Harper, F. M., & Konstan, J. A. (2016). The movielens datasets: History and context. ACM transactions on interactive intelligent systems (tiis), 5(4), 19."
   ]
  },
  {
   "cell_type": "markdown",
   "metadata": {
    "slideshow": {
     "slide_type": "subslide"
    }
   },
   "source": [
    "데이터는 4개의 CSV 파일로 구성되었다 ratings, movies, links and tags.\n",
    "ratings 데이터는 100,836\n",
    "\n",
    "movielens 사이트의 url에서 데이터를 직접 읽어오자."
   ]
  },
  {
   "cell_type": "code",
   "execution_count": 5,
   "metadata": {
    "collapsed": true
   },
   "outputs": [],
   "source": [
    "import os\n",
    "import urllib\n",
    "\n",
    "ml_url = 'http://files.grouplens.org/datasets/movielens/ml-latest.zip'\n",
    "ml_small_url = 'http://files.grouplens.org/datasets/movielens/ml-latest-small.zip'"
   ]
  },
  {
   "cell_type": "markdown",
   "metadata": {
    "slideshow": {
     "slide_type": "subslide"
    }
   },
   "source": [
    "```urllib.urlretrieve()``` 함수로 url에서 직접 읽어 주어진 파일명으로 저장한다. ```ml-latest.zip```와 ```ml-latest-small.zip``` 두 개의 파일이 있다."
   ]
  },
  {
   "cell_type": "code",
   "execution_count": 7,
   "metadata": {
    "collapsed": false
   },
   "outputs": [],
   "source": [
    "ml_fname=os.path.join(os.getcwd(),'data','ml-latest.zip')\n",
    "if(not os.path.exists(ml_fname)):\n",
    "    print (\"%s data does not exist! retrieving..\" % ml_fname)\n",
    "    ml_f=urllib.urlretrieve(ml_url,ml_fname)"
   ]
  },
  {
   "cell_type": "code",
   "execution_count": 8,
   "metadata": {
    "collapsed": true
   },
   "outputs": [],
   "source": [
    "ml_small_fname=os.path.join(os.getcwd(),'data','ml-latest-small.zip')\n",
    "if(not os.path.exists(ml_small_fname)):\n",
    "    print (\"%s data does not exist! retrieving..\" % ml_small_fname)\n",
    "    ml_small_f=urllib.urlretrieve(ml_small_url,ml_small_fname)"
   ]
  },
  {
   "cell_type": "markdown",
   "metadata": {
    "slideshow": {
     "slide_type": "subslide"
    }
   },
   "source": [
    "```extractall()``` 함수는 ```data``` 디렉토리에 zip을 풀어서 저장한다."
   ]
  },
  {
   "cell_type": "code",
   "execution_count": null,
   "metadata": {
    "collapsed": true
   },
   "outputs": [],
   "source": [
    "import zipfile\n",
    "\n",
    "zipfiles=[ml_fname,ml_small_fname]\n",
    "for f in zipfiles:\n",
    "    zip = zipfile.ZipFile(f)\n",
    "    zip.extractall('data')"
   ]
  },
  {
   "cell_type": "markdown",
   "metadata": {
    "slideshow": {
     "slide_type": "subslide"
    }
   },
   "source": [
    "압축한 파일을 살펴 보자. 각 파일의 내용을 ```head```로 읽어보자."
   ]
  },
  {
   "cell_type": "code",
   "execution_count": 9,
   "metadata": {
    "collapsed": false
   },
   "outputs": [
    {
     "name": "stdout",
     "output_type": "stream",
     "text": [
      "links.csv  movies.csv  ratings.csv  README.txt\ttags.csv\r\n"
     ]
    }
   ],
   "source": [
    "!ls data/ml-latest-small/"
   ]
  },
  {
   "cell_type": "code",
   "execution_count": 10,
   "metadata": {
    "collapsed": false
   },
   "outputs": [
    {
     "name": "stdout",
     "output_type": "stream",
     "text": [
      "movieId,imdbId,tmdbId\r",
      "\r\n",
      "1,0114709,862\r",
      "\r\n",
      "2,0113497,8844\r",
      "\r\n",
      "3,0113228,15602\r",
      "\r\n",
      "4,0114885,31357\r",
      "\r\n",
      "5,0113041,11862\r",
      "\r\n",
      "6,0113277,949\r",
      "\r\n",
      "7,0114319,11860\r",
      "\r\n",
      "8,0112302,45325\r",
      "\r\n",
      "9,0114576,9091\r",
      "\r\n"
     ]
    }
   ],
   "source": [
    "!head data/ml-latest-small/links.csv"
   ]
  },
  {
   "cell_type": "code",
   "execution_count": 6,
   "metadata": {
    "collapsed": false,
    "slideshow": {
     "slide_type": "subslide"
    }
   },
   "outputs": [
    {
     "name": "stdout",
     "output_type": "stream",
     "text": [
      "movieId,title,genres\r",
      "\r\n",
      "1,Toy Story (1995),Adventure|Animation|Children|Comedy|Fantasy\r",
      "\r\n",
      "2,Jumanji (1995),Adventure|Children|Fantasy\r",
      "\r\n",
      "3,Grumpier Old Men (1995),Comedy|Romance\r",
      "\r\n",
      "4,Waiting to Exhale (1995),Comedy|Drama|Romance\r",
      "\r\n",
      "5,Father of the Bride Part II (1995),Comedy\r",
      "\r\n",
      "6,Heat (1995),Action|Crime|Thriller\r",
      "\r\n",
      "7,Sabrina (1995),Comedy|Romance\r",
      "\r\n",
      "8,Tom and Huck (1995),Adventure|Children\r",
      "\r\n",
      "9,Sudden Death (1995),Action\r",
      "\r\n"
     ]
    }
   ],
   "source": [
    "!head data/ml-latest-small/movies.csv"
   ]
  },
  {
   "cell_type": "code",
   "execution_count": 7,
   "metadata": {
    "collapsed": false,
    "slideshow": {
     "slide_type": "subslide"
    }
   },
   "outputs": [
    {
     "name": "stdout",
     "output_type": "stream",
     "text": [
      "userId,movieId,rating,timestamp\r",
      "\r\n",
      "1,16,4.0,1217897793\r",
      "\r\n",
      "1,24,1.5,1217895807\r",
      "\r\n",
      "1,32,4.0,1217896246\r",
      "\r\n",
      "1,47,4.0,1217896556\r",
      "\r\n",
      "1,50,4.0,1217896523\r",
      "\r\n",
      "1,110,4.0,1217896150\r",
      "\r\n",
      "1,150,3.0,1217895940\r",
      "\r\n",
      "1,161,4.0,1217897864\r",
      "\r\n",
      "1,165,3.0,1217897135\r",
      "\r\n"
     ]
    }
   ],
   "source": [
    "!head data/ml-latest-small/ratings.csv"
   ]
  },
  {
   "cell_type": "code",
   "execution_count": 8,
   "metadata": {
    "collapsed": false,
    "slideshow": {
     "slide_type": "subslide"
    }
   },
   "outputs": [
    {
     "name": "stdout",
     "output_type": "stream",
     "text": [
      "userId,movieId,tag,timestamp\r",
      "\r\n",
      "12,16,20060407,1144396544\r",
      "\r\n",
      "12,16,robert de niro,1144396554\r",
      "\r\n",
      "12,16,scorcese,1144396564\r",
      "\r\n",
      "17,64116,movie to see,1234720092\r",
      "\r\n",
      "21,260,action,1428011080\r",
      "\r\n",
      "21,260,politics,1428011080\r",
      "\r\n",
      "21,260,science fiction,1428011080\r",
      "\r\n",
      "21,296,dark humor,1428788132\r",
      "\r\n",
      "21,296,drugs,1428788132\r",
      "\r\n"
     ]
    }
   ],
   "source": [
    "!head data/ml-latest-small/tags.csv"
   ]
  },
  {
   "cell_type": "markdown",
   "metadata": {
    "slideshow": {
     "slide_type": "subslide"
    }
   },
   "source": [
    "### S.6.2 Pandas로 데이터 읽기\n",
    "\n",
    "Pandas는 데이터를 분석하는 파이썬 라이브러리이다.\n",
    "Dataframe은 엑셀과 같이 행과 열로 구성된 데이터 구조로서, 행과 열로 다양한 분석기능을 사용할 수 있다."
   ]
  },
  {
   "cell_type": "markdown",
   "metadata": {},
   "source": [
    "앞서 준비해 놓은 파일은 컴마로 데이터가 분리된 csv (comma separated values)이다.\n",
    "```read_csv()```함수는 지정한 경로에서 csv 파일을 읽어온다.\n",
    "경로는 현재 작업디렉토리를 의미하는 ```os.getcwd()```에서 시작하여, 접근하려는 디렉토리와 파일을 연속적으로 적어준다.\n",
    "ml-latest는 데이터가 많아서 컴퓨터에 따라 분석에 제한이 될 수 있으므로, 축소판 ml-latest-small를 사용하기로 한다."
   ]
  },
  {
   "cell_type": "code",
   "execution_count": 64,
   "metadata": {
    "collapsed": false
   },
   "outputs": [],
   "source": [
    "import pandas as pd\n",
    "import os\n",
    "\n",
    "#ratings = pd.read_csv(os.path.join(os.getcwd(),'data','ml-latest','ratings.csv'))\n",
    "#movies = pd.read_csv(os.path.join(os.getcwd(),'data','ml-latest','movies.csv'))\n",
    "ratings = pd.read_csv(os.path.join(os.getcwd(),'data','ml-latest-small','ratings.csv'))\n",
    "movies = pd.read_csv(os.path.join(os.getcwd(),'data','ml-latest-small','movies.csv'))"
   ]
  },
  {
   "cell_type": "markdown",
   "metadata": {},
   "source": [
    "사용자 평점과 영화파일이 잘 읽혀졌는지 첫 3행을 읽어보자."
   ]
  },
  {
   "cell_type": "code",
   "execution_count": 65,
   "metadata": {
    "collapsed": false
   },
   "outputs": [
    {
     "data": {
      "text/html": [
       "<div>\n",
       "<style scoped>\n",
       "    .dataframe tbody tr th:only-of-type {\n",
       "        vertical-align: middle;\n",
       "    }\n",
       "\n",
       "    .dataframe tbody tr th {\n",
       "        vertical-align: top;\n",
       "    }\n",
       "\n",
       "    .dataframe thead th {\n",
       "        text-align: right;\n",
       "    }\n",
       "</style>\n",
       "<table border=\"1\" class=\"dataframe\">\n",
       "  <thead>\n",
       "    <tr style=\"text-align: right;\">\n",
       "      <th></th>\n",
       "      <th>userId</th>\n",
       "      <th>movieId</th>\n",
       "      <th>rating</th>\n",
       "      <th>timestamp</th>\n",
       "    </tr>\n",
       "  </thead>\n",
       "  <tbody>\n",
       "    <tr>\n",
       "      <th>0</th>\n",
       "      <td>1</td>\n",
       "      <td>16</td>\n",
       "      <td>4.0</td>\n",
       "      <td>1217897793</td>\n",
       "    </tr>\n",
       "    <tr>\n",
       "      <th>1</th>\n",
       "      <td>1</td>\n",
       "      <td>24</td>\n",
       "      <td>1.5</td>\n",
       "      <td>1217895807</td>\n",
       "    </tr>\n",
       "    <tr>\n",
       "      <th>2</th>\n",
       "      <td>1</td>\n",
       "      <td>32</td>\n",
       "      <td>4.0</td>\n",
       "      <td>1217896246</td>\n",
       "    </tr>\n",
       "  </tbody>\n",
       "</table>\n",
       "</div>"
      ],
      "text/plain": [
       "   userId  movieId  rating   timestamp\n",
       "0       1       16     4.0  1217897793\n",
       "1       1       24     1.5  1217895807\n",
       "2       1       32     4.0  1217896246"
      ]
     },
     "execution_count": 65,
     "metadata": {},
     "output_type": "execute_result"
    }
   ],
   "source": [
    "ratings.head(3)"
   ]
  },
  {
   "cell_type": "code",
   "execution_count": 67,
   "metadata": {
    "collapsed": false
   },
   "outputs": [
    {
     "data": {
      "text/html": [
       "<div>\n",
       "<style scoped>\n",
       "    .dataframe tbody tr th:only-of-type {\n",
       "        vertical-align: middle;\n",
       "    }\n",
       "\n",
       "    .dataframe tbody tr th {\n",
       "        vertical-align: top;\n",
       "    }\n",
       "\n",
       "    .dataframe thead th {\n",
       "        text-align: right;\n",
       "    }\n",
       "</style>\n",
       "<table border=\"1\" class=\"dataframe\">\n",
       "  <thead>\n",
       "    <tr style=\"text-align: right;\">\n",
       "      <th></th>\n",
       "      <th>movieId</th>\n",
       "      <th>title</th>\n",
       "      <th>genres</th>\n",
       "    </tr>\n",
       "  </thead>\n",
       "  <tbody>\n",
       "    <tr>\n",
       "      <th>0</th>\n",
       "      <td>1</td>\n",
       "      <td>Toy Story (1995)</td>\n",
       "      <td>Adventure|Animation|Children|Comedy|Fantasy</td>\n",
       "    </tr>\n",
       "    <tr>\n",
       "      <th>1</th>\n",
       "      <td>2</td>\n",
       "      <td>Jumanji (1995)</td>\n",
       "      <td>Adventure|Children|Fantasy</td>\n",
       "    </tr>\n",
       "    <tr>\n",
       "      <th>2</th>\n",
       "      <td>3</td>\n",
       "      <td>Grumpier Old Men (1995)</td>\n",
       "      <td>Comedy|Romance</td>\n",
       "    </tr>\n",
       "  </tbody>\n",
       "</table>\n",
       "</div>"
      ],
      "text/plain": [
       "   movieId                    title  \\\n",
       "0        1         Toy Story (1995)   \n",
       "1        2           Jumanji (1995)   \n",
       "2        3  Grumpier Old Men (1995)   \n",
       "\n",
       "                                        genres  \n",
       "0  Adventure|Animation|Children|Comedy|Fantasy  \n",
       "1                   Adventure|Children|Fantasy  \n",
       "2                               Comedy|Romance  "
      ]
     },
     "execution_count": 67,
     "metadata": {},
     "output_type": "execute_result"
    }
   ],
   "source": [
    "movies.head(3)"
   ]
  },
  {
   "cell_type": "markdown",
   "metadata": {
    "slideshow": {
     "slide_type": "subslide"
    }
   },
   "source": [
    "파일 컬럼의 행에 붙여진 속성 이름인 column header를 알아보자.\n",
    "* ratings는 사용자ID, 영화ID, 사용자 평점, 평가일시로 구성되어 있다.\n",
    "* movies는 영화ID, 영화제목, 장르 데이터를 가지고 있다."
   ]
  },
  {
   "cell_type": "code",
   "execution_count": 68,
   "metadata": {
    "collapsed": false
   },
   "outputs": [
    {
     "data": {
      "text/plain": [
       "array(['userId', 'movieId', 'rating', 'timestamp'], dtype=object)"
      ]
     },
     "execution_count": 68,
     "metadata": {},
     "output_type": "execute_result"
    }
   ],
   "source": [
    "ratings.columns.values"
   ]
  },
  {
   "cell_type": "code",
   "execution_count": 69,
   "metadata": {
    "collapsed": false
   },
   "outputs": [
    {
     "data": {
      "text/plain": [
       "array(['movieId', 'title', 'genres'], dtype=object)"
      ]
     },
     "execution_count": 69,
     "metadata": {},
     "output_type": "execute_result"
    }
   ],
   "source": [
    "movies.columns.values"
   ]
  },
  {
   "cell_type": "markdown",
   "metadata": {
    "slideshow": {
     "slide_type": "slide"
    }
   },
   "source": [
    "### S.6.3 영화 검색\n",
    "\n",
    "#### 열 읽기\n",
    "\n",
    "Dataframe은 행 row, 열 column으로 구성된 데이터 저장소이다.\n",
    "먼저 열로 영화를 조회해 보자.\n",
    "영화는 컬럼명 'title'로 제목을 검색하고, 그 컬럼의 첫번째를 읽어보자."
   ]
  },
  {
   "cell_type": "code",
   "execution_count": 51,
   "metadata": {
    "collapsed": false
   },
   "outputs": [
    {
     "data": {
      "text/plain": [
       "'Toy Story (1995)'"
      ]
     },
     "execution_count": 51,
     "metadata": {},
     "output_type": "execute_result"
    }
   ],
   "source": [
    "movies['title'][0]"
   ]
  },
  {
   "cell_type": "markdown",
   "metadata": {
    "slideshow": {
     "slide_type": "subslide"
    }
   },
   "source": [
    "영화제목에 'Toy Story'가 포함되었는지 검색해보자.\n",
    "```movies['title'].str.contains()``` 함수는 **정규표현식**을 사용해서 영화제목에 문자열이 포함되었는지 확인한다."
   ]
  },
  {
   "cell_type": "code",
   "execution_count": 9,
   "metadata": {
    "collapsed": false
   },
   "outputs": [
    {
     "data": {
      "text/html": [
       "<div>\n",
       "<style scoped>\n",
       "    .dataframe tbody tr th:only-of-type {\n",
       "        vertical-align: middle;\n",
       "    }\n",
       "\n",
       "    .dataframe tbody tr th {\n",
       "        vertical-align: top;\n",
       "    }\n",
       "\n",
       "    .dataframe thead th {\n",
       "        text-align: right;\n",
       "    }\n",
       "</style>\n",
       "<table border=\"1\" class=\"dataframe\">\n",
       "  <thead>\n",
       "    <tr style=\"text-align: right;\">\n",
       "      <th></th>\n",
       "      <th>movieId</th>\n",
       "      <th>title</th>\n",
       "      <th>genres</th>\n",
       "    </tr>\n",
       "  </thead>\n",
       "  <tbody>\n",
       "    <tr>\n",
       "      <th>0</th>\n",
       "      <td>1</td>\n",
       "      <td>Toy Story (1995)</td>\n",
       "      <td>Adventure|Animation|Children|Comedy|Fantasy</td>\n",
       "    </tr>\n",
       "    <tr>\n",
       "      <th>2496</th>\n",
       "      <td>3114</td>\n",
       "      <td>Toy Story 2 (1999)</td>\n",
       "      <td>Adventure|Animation|Children|Comedy|Fantasy</td>\n",
       "    </tr>\n",
       "    <tr>\n",
       "      <th>8599</th>\n",
       "      <td>78499</td>\n",
       "      <td>Toy Story 3 (2010)</td>\n",
       "      <td>Adventure|Animation|Children|Comedy|Fantasy|IMAX</td>\n",
       "    </tr>\n",
       "  </tbody>\n",
       "</table>\n",
       "</div>"
      ],
      "text/plain": [
       "      movieId               title  \\\n",
       "0           1    Toy Story (1995)   \n",
       "2496     3114  Toy Story 2 (1999)   \n",
       "8599    78499  Toy Story 3 (2010)   \n",
       "\n",
       "                                                genres  \n",
       "0          Adventure|Animation|Children|Comedy|Fantasy  \n",
       "2496       Adventure|Animation|Children|Comedy|Fantasy  \n",
       "8599  Adventure|Animation|Children|Comedy|Fantasy|IMAX  "
      ]
     },
     "execution_count": 9,
     "metadata": {},
     "output_type": "execute_result"
    }
   ],
   "source": [
    "movies[movies['title'].str.contains(\"Toy Story\")==True]"
   ]
  },
  {
   "cell_type": "markdown",
   "metadata": {},
   "source": [
    "정규식 **```\\d```**는 숫자를 의미하는 메타문자이다.\n",
    "```.\\d+.*```는 어떤 한 문자(.), 이어서 숫자 1개 이상(\\d+), 그리고 여러 문자 (.*)가 뒤 따르는 패턴을 찾게 된다.\n",
    "따라서 Toy Story 속편 2, 3이 검색된다.\n",
    "정규식 패턴 ```.\\d*.*```는 숫자가 없어도 찾아낸다."
   ]
  },
  {
   "cell_type": "code",
   "execution_count": 17,
   "metadata": {
    "collapsed": false
   },
   "outputs": [
    {
     "data": {
      "text/html": [
       "<div>\n",
       "<style scoped>\n",
       "    .dataframe tbody tr th:only-of-type {\n",
       "        vertical-align: middle;\n",
       "    }\n",
       "\n",
       "    .dataframe tbody tr th {\n",
       "        vertical-align: top;\n",
       "    }\n",
       "\n",
       "    .dataframe thead th {\n",
       "        text-align: right;\n",
       "    }\n",
       "</style>\n",
       "<table border=\"1\" class=\"dataframe\">\n",
       "  <thead>\n",
       "    <tr style=\"text-align: right;\">\n",
       "      <th></th>\n",
       "      <th>movieId</th>\n",
       "      <th>title</th>\n",
       "      <th>genres</th>\n",
       "    </tr>\n",
       "  </thead>\n",
       "  <tbody>\n",
       "    <tr>\n",
       "      <th>2496</th>\n",
       "      <td>3114</td>\n",
       "      <td>Toy Story 2 (1999)</td>\n",
       "      <td>Adventure|Animation|Children|Comedy|Fantasy</td>\n",
       "    </tr>\n",
       "    <tr>\n",
       "      <th>8599</th>\n",
       "      <td>78499</td>\n",
       "      <td>Toy Story 3 (2010)</td>\n",
       "      <td>Adventure|Animation|Children|Comedy|Fantasy|IMAX</td>\n",
       "    </tr>\n",
       "  </tbody>\n",
       "</table>\n",
       "</div>"
      ],
      "text/plain": [
       "      movieId               title  \\\n",
       "2496     3114  Toy Story 2 (1999)   \n",
       "8599    78499  Toy Story 3 (2010)   \n",
       "\n",
       "                                                genres  \n",
       "2496       Adventure|Animation|Children|Comedy|Fantasy  \n",
       "8599  Adventure|Animation|Children|Comedy|Fantasy|IMAX  "
      ]
     },
     "execution_count": 17,
     "metadata": {},
     "output_type": "execute_result"
    }
   ],
   "source": [
    "movies[movies['title'].str.contains(\"Toy Story.\\d+.*\")==True]"
   ]
  },
  {
   "cell_type": "markdown",
   "metadata": {
    "slideshow": {
     "slide_type": "subslide"
    }
   },
   "source": [
    "#### 행으로 데이터 읽기\n",
    "\n",
    "행 데이터는 인덱스로 검색할 수 있다. ```[시작 인덱스:끝 인덱스]```를 적어주면 해당하는 행을 출력할 수 있다."
   ]
  },
  {
   "cell_type": "code",
   "execution_count": 7,
   "metadata": {
    "collapsed": false,
    "scrolled": false
   },
   "outputs": [
    {
     "data": {
      "text/html": [
       "<div style=\"max-height:1000px;max-width:1500px;overflow:auto;\">\n",
       "<table border=\"1\" class=\"dataframe\">\n",
       "  <thead>\n",
       "    <tr style=\"text-align: right;\">\n",
       "      <th></th>\n",
       "      <th>movieId</th>\n",
       "      <th>title</th>\n",
       "      <th>genres</th>\n",
       "    </tr>\n",
       "  </thead>\n",
       "  <tbody>\n",
       "    <tr>\n",
       "      <th>1</th>\n",
       "      <td>2</td>\n",
       "      <td>Jumanji (1995)</td>\n",
       "      <td>Adventure|Children|Fantasy</td>\n",
       "    </tr>\n",
       "    <tr>\n",
       "      <th>2</th>\n",
       "      <td>3</td>\n",
       "      <td>Grumpier Old Men (1995)</td>\n",
       "      <td>Comedy|Romance</td>\n",
       "    </tr>\n",
       "  </tbody>\n",
       "</table>\n",
       "</div>"
      ],
      "text/plain": [
       "   movieId                    title                      genres\n",
       "1        2           Jumanji (1995)  Adventure|Children|Fantasy\n",
       "2        3  Grumpier Old Men (1995)              Comedy|Romance"
      ]
     },
     "execution_count": 7,
     "metadata": {},
     "output_type": "execute_result"
    }
   ],
   "source": [
    "movies[1:3]"
   ]
  },
  {
   "cell_type": "markdown",
   "metadata": {
    "slideshow": {
     "slide_type": "subslide"
    }
   },
   "source": [
    "두 명령어 **```loc```**, **```iloc```**를 사용할 수 있는데, 서로 비슷해서 조금 혼란스럽다.\n",
    "우리가 다른 배열에서 사용하는 인덱스와 ```iloc```와 비슷하다.\n",
    "**```iloc```** 인덱스의 위치로 검색한다. 1은 첫째 행을 의미한다."
   ]
  },
  {
   "cell_type": "code",
   "execution_count": 11,
   "metadata": {
    "collapsed": false,
    "scrolled": true
   },
   "outputs": [
    {
     "data": {
      "text/plain": [
       "movieId                             2\n",
       "title                  Jumanji (1995)\n",
       "genres     Adventure|Children|Fantasy\n",
       "Name: 1, dtype: object"
      ]
     },
     "execution_count": 11,
     "metadata": {},
     "output_type": "execute_result"
    }
   ],
   "source": [
    "movies.iloc[1] # first row"
   ]
  },
  {
   "cell_type": "code",
   "execution_count": 9,
   "metadata": {
    "collapsed": false,
    "scrolled": true
   },
   "outputs": [
    {
     "data": {
      "text/html": [
       "<div style=\"max-height:1000px;max-width:1500px;overflow:auto;\">\n",
       "<table border=\"1\" class=\"dataframe\">\n",
       "  <thead>\n",
       "    <tr style=\"text-align: right;\">\n",
       "      <th></th>\n",
       "      <th>movieId</th>\n",
       "      <th>title</th>\n",
       "      <th>genres</th>\n",
       "    </tr>\n",
       "  </thead>\n",
       "  <tbody>\n",
       "    <tr>\n",
       "      <th>2496</th>\n",
       "      <td>3114</td>\n",
       "      <td>Toy Story 2 (1999)</td>\n",
       "      <td>Adventure|Animation|Children|Comedy|Fantasy</td>\n",
       "    </tr>\n",
       "    <tr>\n",
       "      <th>8599</th>\n",
       "      <td>78499</td>\n",
       "      <td>Toy Story 3 (2010)</td>\n",
       "      <td>Adventure|Animation|Children|Comedy|Fantasy|IMAX</td>\n",
       "    </tr>\n",
       "  </tbody>\n",
       "</table>\n",
       "</div>"
      ],
      "text/plain": [
       "      movieId               title  \\\n",
       "2496     3114  Toy Story 2 (1999)   \n",
       "8599    78499  Toy Story 3 (2010)   \n",
       "\n",
       "                                                genres  \n",
       "2496       Adventure|Animation|Children|Comedy|Fantasy  \n",
       "8599  Adventure|Animation|Children|Comedy|Fantasy|IMAX  "
      ]
     },
     "execution_count": 9,
     "metadata": {},
     "output_type": "execute_result"
    }
   ],
   "source": [
    "movies.iloc[[2496,8599]]"
   ]
  },
  {
   "cell_type": "markdown",
   "metadata": {
    "slideshow": {
     "slide_type": "subslide"
    }
   },
   "source": [
    "**```loc```**는 인덱스 **레이블**로 검색, 즉 인덱스의 레이블 값을 지칭한다.\n",
    "인덱스가 1, 3은 첫번째, 세번째인 경우가 아니라, 인덱스 명이 1, 3인 경우가 해당한다."
   ]
  },
  {
   "cell_type": "code",
   "execution_count": 10,
   "metadata": {
    "collapsed": false,
    "scrolled": false,
    "slideshow": {
     "slide_type": "-"
    }
   },
   "outputs": [
    {
     "data": {
      "text/html": [
       "<div style=\"max-height:1000px;max-width:1500px;overflow:auto;\">\n",
       "<table border=\"1\" class=\"dataframe\">\n",
       "  <thead>\n",
       "    <tr style=\"text-align: right;\">\n",
       "      <th></th>\n",
       "      <th>movieId</th>\n",
       "      <th>title</th>\n",
       "      <th>genres</th>\n",
       "    </tr>\n",
       "  </thead>\n",
       "  <tbody>\n",
       "    <tr>\n",
       "      <th>1</th>\n",
       "      <td>2</td>\n",
       "      <td>Jumanji (1995)</td>\n",
       "      <td>Adventure|Children|Fantasy</td>\n",
       "    </tr>\n",
       "    <tr>\n",
       "      <th>3</th>\n",
       "      <td>4</td>\n",
       "      <td>Waiting to Exhale (1995)</td>\n",
       "      <td>Comedy|Drama|Romance</td>\n",
       "    </tr>\n",
       "  </tbody>\n",
       "</table>\n",
       "</div>"
      ],
      "text/plain": [
       "   movieId                     title                      genres\n",
       "1        2            Jumanji (1995)  Adventure|Children|Fantasy\n",
       "3        4  Waiting to Exhale (1995)        Comedy|Drama|Romance"
      ]
     },
     "execution_count": 10,
     "metadata": {},
     "output_type": "execute_result"
    }
   ],
   "source": [
    "movies.loc[[1,3]]"
   ]
  },
  {
   "cell_type": "code",
   "execution_count": 10,
   "metadata": {
    "collapsed": false,
    "scrolled": true
   },
   "outputs": [
    {
     "data": {
      "text/html": [
       "<div style=\"max-height:1000px;max-width:1500px;overflow:auto;\">\n",
       "<table border=\"1\" class=\"dataframe\">\n",
       "  <thead>\n",
       "    <tr style=\"text-align: right;\">\n",
       "      <th></th>\n",
       "      <th>movieId</th>\n",
       "      <th>title</th>\n",
       "      <th>genres</th>\n",
       "    </tr>\n",
       "  </thead>\n",
       "  <tbody>\n",
       "    <tr>\n",
       "      <th>2496</th>\n",
       "      <td>3114</td>\n",
       "      <td>Toy Story 2 (1999)</td>\n",
       "      <td>Adventure|Animation|Children|Comedy|Fantasy</td>\n",
       "    </tr>\n",
       "    <tr>\n",
       "      <th>8599</th>\n",
       "      <td>78499</td>\n",
       "      <td>Toy Story 3 (2010)</td>\n",
       "      <td>Adventure|Animation|Children|Comedy|Fantasy|IMAX</td>\n",
       "    </tr>\n",
       "  </tbody>\n",
       "</table>\n",
       "</div>"
      ],
      "text/plain": [
       "      movieId               title  \\\n",
       "2496     3114  Toy Story 2 (1999)   \n",
       "8599    78499  Toy Story 3 (2010)   \n",
       "\n",
       "                                                genres  \n",
       "2496       Adventure|Animation|Children|Comedy|Fantasy  \n",
       "8599  Adventure|Animation|Children|Comedy|Fantasy|IMAX  "
      ]
     },
     "execution_count": 10,
     "metadata": {},
     "output_type": "execute_result"
    }
   ],
   "source": [
    "movies.loc[[2496,8599]]"
   ]
  },
  {
   "cell_type": "code",
   "execution_count": 11,
   "metadata": {
    "collapsed": false,
    "scrolled": true
   },
   "outputs": [
    {
     "data": {
      "text/html": [
       "<div style=\"max-height:1000px;max-width:1500px;overflow:auto;\">\n",
       "<table border=\"1\" class=\"dataframe\">\n",
       "  <thead>\n",
       "    <tr style=\"text-align: right;\">\n",
       "      <th></th>\n",
       "      <th>title</th>\n",
       "    </tr>\n",
       "  </thead>\n",
       "  <tbody>\n",
       "    <tr>\n",
       "      <th>2496</th>\n",
       "      <td>Toy Story 2 (1999)</td>\n",
       "    </tr>\n",
       "    <tr>\n",
       "      <th>8599</th>\n",
       "      <td>Toy Story 3 (2010)</td>\n",
       "    </tr>\n",
       "  </tbody>\n",
       "</table>\n",
       "</div>"
      ],
      "text/plain": [
       "                   title\n",
       "2496  Toy Story 2 (1999)\n",
       "8599  Toy Story 3 (2010)"
      ]
     },
     "execution_count": 11,
     "metadata": {},
     "output_type": "execute_result"
    }
   ],
   "source": [
    "movies.loc[[2496,8599],['title']]"
   ]
  },
  {
   "cell_type": "markdown",
   "metadata": {},
   "source": [
    "### 반복문\n",
    "\n",
    "**```iterrows()```** 함수는 Pandas의 ```Series``` 객체를 반환하기 때문에, 데이터프레임의 컬럼명으로 값을 조회할 수 있다."
   ]
  },
  {
   "cell_type": "code",
   "execution_count": 60,
   "metadata": {
    "collapsed": false
   },
   "outputs": [
    {
     "name": "stdout",
     "output_type": "stream",
     "text": [
      "index:  1.0 169.0 2.5 1204927694.0\n",
      "index:  1.0 2471.0 3.0 1204927438.0\n",
      "index:  1.0 48516.0 5.0 1204927435.0\n",
      "index:  2.0 2571.0 3.5 1436165433.0\n",
      "index:  2.0 109487.0 4.0 1436165496.0\n"
     ]
    }
   ],
   "source": [
    "for index,e in ratings.head().iterrows():\n",
    "    print (\"index: \", e['userId'], e['movieId'], e['rating'], e['timestamp'])"
   ]
  },
  {
   "cell_type": "markdown",
   "metadata": {},
   "source": [
    "**```itertuples()```** 함수는 인덱스 순서대로 데이터를 조회하게 된다."
   ]
  },
  {
   "cell_type": "code",
   "execution_count": 61,
   "metadata": {
    "collapsed": false
   },
   "outputs": [
    {
     "name": "stdout",
     "output_type": "stream",
     "text": [
      "0 1 169 2.5 1204927694\n",
      "1 1 2471 3.0 1204927438\n",
      "2 1 48516 5.0 1204927435\n",
      "3 2 2571 3.5 1436165433\n",
      "4 2 109487 4.0 1436165496\n"
     ]
    }
   ],
   "source": [
    "for e in ratings.head().itertuples():\n",
    "    print (e[0], e[1], e[2], e[3], e[4])"
   ]
  },
  {
   "cell_type": "markdown",
   "metadata": {
    "slideshow": {
     "slide_type": "subslide"
    }
   },
   "source": [
    "### S.6.4 missing values\n",
    "\n",
    "결측 값이 있는 경우, 평균을 구하거나 통계분석에 있어 문제가 될 수 있다.\n",
    "isnull() 함수는 결측 값인지 true, false를 반환한다.\n",
    "결측 값인지 아닌지 반환 값을 sum()하게 되면 결측 개수를 알 수 있다."
   ]
  },
  {
   "cell_type": "code",
   "execution_count": 4,
   "metadata": {
    "collapsed": false
   },
   "outputs": [
    {
     "data": {
      "text/plain": [
       "userId       0\n",
       "movieId      0\n",
       "rating       0\n",
       "timestamp    0\n",
       "dtype: int64"
      ]
     },
     "execution_count": 4,
     "metadata": {},
     "output_type": "execute_result"
    }
   ],
   "source": [
    "ratings.isnull().sum()"
   ]
  },
  {
   "cell_type": "markdown",
   "metadata": {
    "collapsed": false
   },
   "source": [
    "unique()는 중복을 제거하고 유일한 값을 출력한다.\n",
    "pandas의 DataFrame.shape은 차원을 출력하는데, 사용자는 668개, 영화는 10,325개를 가지고 있다.\n",
    "사용자의 최대값과는 동일하지만, 영화는 사용자의 평점이 존재하지 않는 경우도 많아 최대 값과 149,352와 차이가 있다."
   ]
  },
  {
   "cell_type": "code",
   "execution_count": 10,
   "metadata": {
    "collapsed": false
   },
   "outputs": [
    {
     "name": "stdout",
     "output_type": "stream",
     "text": [
      "Users \tN=668\tMax=668\n",
      "Movies \tN=10325\tMax=149532\n"
     ]
    }
   ],
   "source": [
    "nUsers=ratings.userId.unique().shape[0]\n",
    "nItems=ratings.movieId.unique().shape[0]\n",
    "\n",
    "print (\"Users \\tN={}\\tMax={}\".format(nUsers, max(ratings.userId)))\n",
    "print (\"Movies \\tN={}\\tMax={}\".format(nItems, max(ratings.movieId)))"
   ]
  },
  {
   "cell_type": "markdown",
   "metadata": {
    "slideshow": {
     "slide_type": "subslide"
    }
   },
   "source": [
    "### S.6.5 ratings와 movies 데이터 합치기\n",
    "\n",
    "```merge()```는 공통 속성 ```on```을 기준으로 dataframe을 병합한다.\n",
    "```how```는 ```left, right, inner, outer``` 4가지 방법으로 병합할 수 있다.\n",
    "* ```left```: 왼쪽 dataframe의 모든 행을 보존\n",
    "* ```right```: 오른쪽 dataframe의 모든 행을 보존\n",
    "* ```inner```: 기본 **```default```** 왼쪽 오른쪽 dataframe의 공통 값으로만 병합\n",
    "* ```outer```: 왼쪽 오른쪽 dataframe의........ 행의 일치하는 값이 없는 경우 NaN\n"
   ]
  },
  {
   "cell_type": "markdown",
   "metadata": {
    "collapsed": true
   },
   "source": [
    "영화와 사용자평점에는 movieId라는 공통 속성이 있고, 이를 기준으로 두 파일을 합쳐보자.\n",
    "how='left'이므로, 왼쪽인 ratings의 모든 속성을 보존하고, 영화정보를 병합한다."
   ]
  },
  {
   "cell_type": "code",
   "execution_count": 72,
   "metadata": {
    "collapsed": false,
    "scrolled": false
   },
   "outputs": [
    {
     "data": {
      "text/html": [
       "<div>\n",
       "<style scoped>\n",
       "    .dataframe tbody tr th:only-of-type {\n",
       "        vertical-align: middle;\n",
       "    }\n",
       "\n",
       "    .dataframe tbody tr th {\n",
       "        vertical-align: top;\n",
       "    }\n",
       "\n",
       "    .dataframe thead th {\n",
       "        text-align: right;\n",
       "    }\n",
       "</style>\n",
       "<table border=\"1\" class=\"dataframe\">\n",
       "  <thead>\n",
       "    <tr style=\"text-align: right;\">\n",
       "      <th></th>\n",
       "      <th>userId</th>\n",
       "      <th>movieId</th>\n",
       "      <th>rating</th>\n",
       "      <th>timestamp</th>\n",
       "      <th>title</th>\n",
       "      <th>genres</th>\n",
       "    </tr>\n",
       "  </thead>\n",
       "  <tbody>\n",
       "    <tr>\n",
       "      <th>0</th>\n",
       "      <td>1</td>\n",
       "      <td>16</td>\n",
       "      <td>4.0</td>\n",
       "      <td>1217897793</td>\n",
       "      <td>Casino (1995)</td>\n",
       "      <td>Crime|Drama</td>\n",
       "    </tr>\n",
       "    <tr>\n",
       "      <th>1</th>\n",
       "      <td>1</td>\n",
       "      <td>24</td>\n",
       "      <td>1.5</td>\n",
       "      <td>1217895807</td>\n",
       "      <td>Powder (1995)</td>\n",
       "      <td>Drama|Sci-Fi</td>\n",
       "    </tr>\n",
       "    <tr>\n",
       "      <th>2</th>\n",
       "      <td>1</td>\n",
       "      <td>32</td>\n",
       "      <td>4.0</td>\n",
       "      <td>1217896246</td>\n",
       "      <td>Twelve Monkeys (a.k.a. 12 Monkeys) (1995)</td>\n",
       "      <td>Mystery|Sci-Fi|Thriller</td>\n",
       "    </tr>\n",
       "    <tr>\n",
       "      <th>3</th>\n",
       "      <td>1</td>\n",
       "      <td>47</td>\n",
       "      <td>4.0</td>\n",
       "      <td>1217896556</td>\n",
       "      <td>Seven (a.k.a. Se7en) (1995)</td>\n",
       "      <td>Mystery|Thriller</td>\n",
       "    </tr>\n",
       "    <tr>\n",
       "      <th>4</th>\n",
       "      <td>1</td>\n",
       "      <td>50</td>\n",
       "      <td>4.0</td>\n",
       "      <td>1217896523</td>\n",
       "      <td>Usual Suspects, The (1995)</td>\n",
       "      <td>Crime|Mystery|Thriller</td>\n",
       "    </tr>\n",
       "    <tr>\n",
       "      <th>5</th>\n",
       "      <td>1</td>\n",
       "      <td>110</td>\n",
       "      <td>4.0</td>\n",
       "      <td>1217896150</td>\n",
       "      <td>Braveheart (1995)</td>\n",
       "      <td>Action|Drama|War</td>\n",
       "    </tr>\n",
       "    <tr>\n",
       "      <th>6</th>\n",
       "      <td>1</td>\n",
       "      <td>150</td>\n",
       "      <td>3.0</td>\n",
       "      <td>1217895940</td>\n",
       "      <td>Apollo 13 (1995)</td>\n",
       "      <td>Adventure|Drama|IMAX</td>\n",
       "    </tr>\n",
       "    <tr>\n",
       "      <th>7</th>\n",
       "      <td>1</td>\n",
       "      <td>161</td>\n",
       "      <td>4.0</td>\n",
       "      <td>1217897864</td>\n",
       "      <td>Crimson Tide (1995)</td>\n",
       "      <td>Drama|Thriller|War</td>\n",
       "    </tr>\n",
       "    <tr>\n",
       "      <th>8</th>\n",
       "      <td>1</td>\n",
       "      <td>165</td>\n",
       "      <td>3.0</td>\n",
       "      <td>1217897135</td>\n",
       "      <td>Die Hard: With a Vengeance (1995)</td>\n",
       "      <td>Action|Crime|Thriller</td>\n",
       "    </tr>\n",
       "    <tr>\n",
       "      <th>9</th>\n",
       "      <td>1</td>\n",
       "      <td>204</td>\n",
       "      <td>0.5</td>\n",
       "      <td>1217895786</td>\n",
       "      <td>Under Siege 2: Dark Territory (1995)</td>\n",
       "      <td>Action</td>\n",
       "    </tr>\n",
       "  </tbody>\n",
       "</table>\n",
       "</div>"
      ],
      "text/plain": [
       "   userId  movieId  rating   timestamp  \\\n",
       "0       1       16     4.0  1217897793   \n",
       "1       1       24     1.5  1217895807   \n",
       "2       1       32     4.0  1217896246   \n",
       "3       1       47     4.0  1217896556   \n",
       "4       1       50     4.0  1217896523   \n",
       "5       1      110     4.0  1217896150   \n",
       "6       1      150     3.0  1217895940   \n",
       "7       1      161     4.0  1217897864   \n",
       "8       1      165     3.0  1217897135   \n",
       "9       1      204     0.5  1217895786   \n",
       "\n",
       "                                       title                   genres  \n",
       "0                              Casino (1995)              Crime|Drama  \n",
       "1                              Powder (1995)             Drama|Sci-Fi  \n",
       "2  Twelve Monkeys (a.k.a. 12 Monkeys) (1995)  Mystery|Sci-Fi|Thriller  \n",
       "3                Seven (a.k.a. Se7en) (1995)         Mystery|Thriller  \n",
       "4                 Usual Suspects, The (1995)   Crime|Mystery|Thriller  \n",
       "5                          Braveheart (1995)         Action|Drama|War  \n",
       "6                           Apollo 13 (1995)     Adventure|Drama|IMAX  \n",
       "7                        Crimson Tide (1995)       Drama|Thriller|War  \n",
       "8          Die Hard: With a Vengeance (1995)    Action|Crime|Thriller  \n",
       "9       Under Siege 2: Dark Territory (1995)                   Action  "
      ]
     },
     "execution_count": 72,
     "metadata": {},
     "output_type": "execute_result"
    }
   ],
   "source": [
    "ratingsMovie=pd.merge(ratings, movies, on='movieId', how='left')\n",
    "ratingsMovie.head(10)"
   ]
  },
  {
   "cell_type": "markdown",
   "metadata": {},
   "source": [
    "## S.7 인지도 기반 추천\n",
    "\n",
    "인지도 기반 추천은 사람들이 높은 평점을 준 영화를 추천하는 방식을 말한다.\n",
    "* 우선 영화의 평균 평점을 계산하고,\n",
    "* 다음으로 그 가운데 높은 평점을 추천한다."
   ]
  },
  {
   "cell_type": "markdown",
   "metadata": {
    "slideshow": {
     "slide_type": "slide"
    }
   },
   "source": [
    "### 평균 평점 계산\n",
    "\n",
    "groupby('title')는 영화제목별로 구분해서, 사용자 평점 mean() 평균을 구한다."
   ]
  },
  {
   "cell_type": "code",
   "execution_count": 73,
   "metadata": {
    "collapsed": false
   },
   "outputs": [],
   "source": [
    "ratingsByTitle=pd.DataFrame(ratingsMovie.groupby('title')['rating'].mean())"
   ]
  },
  {
   "cell_type": "markdown",
   "metadata": {
    "collapsed": true
   },
   "source": [
    "### 정렬\n",
    "\n",
    "평점이 높은 순으로 정렬해보자.\n",
    "sort() 함수는 Pandas 0.20 버전 (2017-05-05) 이후 제거 되었고, sort_values()를 사용하면 된다.\n",
    "sort_values() 함수에는 정렬할 컬럼명 'rating'과 내림차순, 오름차순을 정해준다."
   ]
  },
  {
   "cell_type": "code",
   "execution_count": 74,
   "metadata": {
    "collapsed": false
   },
   "outputs": [
    {
     "data": {
      "text/html": [
       "<div>\n",
       "<style scoped>\n",
       "    .dataframe tbody tr th:only-of-type {\n",
       "        vertical-align: middle;\n",
       "    }\n",
       "\n",
       "    .dataframe tbody tr th {\n",
       "        vertical-align: top;\n",
       "    }\n",
       "\n",
       "    .dataframe thead th {\n",
       "        text-align: right;\n",
       "    }\n",
       "</style>\n",
       "<table border=\"1\" class=\"dataframe\">\n",
       "  <thead>\n",
       "    <tr style=\"text-align: right;\">\n",
       "      <th></th>\n",
       "      <th>rating</th>\n",
       "    </tr>\n",
       "    <tr>\n",
       "      <th>title</th>\n",
       "      <th></th>\n",
       "    </tr>\n",
       "  </thead>\n",
       "  <tbody>\n",
       "    <tr>\n",
       "      <th>Saddest Music in the World, The (2003)</th>\n",
       "      <td>5.0</td>\n",
       "    </tr>\n",
       "    <tr>\n",
       "      <th>Interstate 60 (2002)</th>\n",
       "      <td>5.0</td>\n",
       "    </tr>\n",
       "    <tr>\n",
       "      <th>Gunfighter, The (1950)</th>\n",
       "      <td>5.0</td>\n",
       "    </tr>\n",
       "    <tr>\n",
       "      <th>Heima (2007)</th>\n",
       "      <td>5.0</td>\n",
       "    </tr>\n",
       "    <tr>\n",
       "      <th>Limelight (1952)</th>\n",
       "      <td>5.0</td>\n",
       "    </tr>\n",
       "    <tr>\n",
       "      <th>Plague Dogs, The (1982)</th>\n",
       "      <td>5.0</td>\n",
       "    </tr>\n",
       "    <tr>\n",
       "      <th>Love Me If You Dare (Jeux d'enfants) (2003)</th>\n",
       "      <td>5.0</td>\n",
       "    </tr>\n",
       "    <tr>\n",
       "      <th>Syrup (2013)</th>\n",
       "      <td>5.0</td>\n",
       "    </tr>\n",
       "    <tr>\n",
       "      <th>Interstella 5555: The 5tory of the 5ecret 5tar 5ystem (2003)</th>\n",
       "      <td>5.0</td>\n",
       "    </tr>\n",
       "    <tr>\n",
       "      <th>Symbol (Shinboru) (2009)</th>\n",
       "      <td>5.0</td>\n",
       "    </tr>\n",
       "  </tbody>\n",
       "</table>\n",
       "</div>"
      ],
      "text/plain": [
       "                                                    rating\n",
       "title                                                     \n",
       "Saddest Music in the World, The (2003)                 5.0\n",
       "Interstate 60 (2002)                                   5.0\n",
       "Gunfighter, The (1950)                                 5.0\n",
       "Heima (2007)                                           5.0\n",
       "Limelight (1952)                                       5.0\n",
       "Plague Dogs, The (1982)                                5.0\n",
       "Love Me If You Dare (Jeux d'enfants) (2003)            5.0\n",
       "Syrup (2013)                                           5.0\n",
       "Interstella 5555: The 5tory of the 5ecret 5tar ...     5.0\n",
       "Symbol (Shinboru) (2009)                               5.0"
      ]
     },
     "execution_count": 74,
     "metadata": {},
     "output_type": "execute_result"
    }
   ],
   "source": [
    "ratingsByTitle.sort_values('rating', ascending=False).head(10)"
   ]
  },
  {
   "cell_type": "markdown",
   "metadata": {
    "slideshow": {
     "slide_type": "subslide"
    }
   },
   "source": [
    "### Utility matrix\n",
    "\n",
    "사용자 m, 상품 n이 있다고 하자. \n",
    "m x n 테이블이 만들어 지고, 그 셀에는 사용자의 항목에 대한 의견이 입력된다.\n",
    "\n",
    "\n",
    "사용자 A는 영화 m2, m4에 대해 1점 4점 평점을 부여하였다.\n",
    "평점은 5점 만점으로 3점은 보통, 1점은 부정적, 5점은 긍정적이다.\n",
    "\n",
    "사용자 \\ 영화 | m1 | m2 | m3 | m4 | m5\n",
    "-----|-----|-----|-----|-----|-----\n",
    "A | - | 1 | - | 4 | -\n",
    "B | - | 4 | - | 2 | 3\n",
    "C | - | 1 | - | 4 | 4\n",
    "\n",
    "문제는 이 테이블에 빈 값이 많을 수 밖에 없다는 것이다. 이를 해결하는 방법은:\n",
    "* 사용자로 하여금 모든 영화에 평점을 부여하도록 하거나\n",
    "* 평점을 유추하는 것이다."
   ]
  },
  {
   "cell_type": "markdown",
   "metadata": {},
   "source": [
    "#### 사용자, 영화별 평점배열 생성\n",
    "\n",
    "사용자 x 영화 배열을 새로이 생성하고, 각 셀을 해당하는 평점으로 채워줄 수 있다.\n",
    "이 경우, 앞서 보았듯이 사용자ID는 일련번호로 비어 있는 값이 없으나, 영화ID는 듬성듬성 비어 있는 값이 많다.\n",
    "numpy array을 가능한 최대의 값으로 shape을 정해서 갯수를 정해 주어야 한다.\n",
    "그러나, 이 방법보다는 Pandas에서 지원하는 pivot_table() 함수를 사용하면 보다 쉽게 만들어 줄 수 있다."
   ]
  },
  {
   "cell_type": "markdown",
   "metadata": {
    "slideshow": {
     "slide_type": "subslide"
    }
   },
   "source": [
    "피벗테이블 ```pivot_table```은 데이터를 그룹별로 구분하여 각 그룹의 갯수, 합계, 평균 등을 분석하는 방법이다.\n",
    "영화의 사용자별, 영화별로 평점을 계산해 보자.\n",
    "ratings를 ```pivot()``` 해보자. pivot은 행을 열로, 또는 열을 행으로 전환하여 데이터를 그룹핑해서 평균, 합계를 계산해준다.\n",
    "* index에는 행이 되는 변수명으로, 'userId'를 적어준다. \n",
    "* columns는 열이 되는 값으로 'movidId'를 적어준다.\n",
    "* values는 셀에 입력되는 값으로 'rating'의 평균을 출력한다.\n",
    "\n",
    "fillna(0)는 NA값을 0으로 대체하게 된다."
   ]
  },
  {
   "cell_type": "markdown",
   "metadata": {
    "slideshow": {
     "slide_type": "subslide"
    }
   },
   "source": [
    "**```pivot_table()```**은 셀에 **복수**의 값이 허용되고 (```pivot()```은 복수의 값이 허용되지 않는다), 그런 경우 ```numpy.mean()``` 평균 값을 **기본 default**로 채택한다."
   ]
  },
  {
   "cell_type": "code",
   "execution_count": 75,
   "metadata": {
    "collapsed": false
   },
   "outputs": [],
   "source": [
    "utility = ratingsMovie.pivot_table(index='userId', columns='title', values='rating')"
   ]
  },
  {
   "cell_type": "code",
   "execution_count": 83,
   "metadata": {
    "collapsed": false
   },
   "outputs": [
    {
     "ename": "KeyError",
     "evalue": "'title'",
     "output_type": "error",
     "traceback": [
      "\u001b[0;31m---------------------------------------------------------------\u001b[0m",
      "\u001b[0;31mKeyError\u001b[0m                      Traceback (most recent call last)",
      "\u001b[0;32m<ipython-input-83-01472dc0bcfb>\u001b[0m in \u001b[0;36m<module>\u001b[0;34m\u001b[0m\n\u001b[0;32m----> 1\u001b[0;31m \u001b[0mutility\u001b[0m \u001b[0;34m=\u001b[0m \u001b[0mutility\u001b[0m\u001b[0;34m.\u001b[0m\u001b[0mgroupby\u001b[0m\u001b[0;34m(\u001b[0m\u001b[0;34m'title'\u001b[0m\u001b[0;34m)\u001b[0m\u001b[0;34m.\u001b[0m\u001b[0mmean\u001b[0m\u001b[0;34m(\u001b[0m\u001b[0;34m)\u001b[0m\u001b[0;34m\u001b[0m\u001b[0;34m\u001b[0m\u001b[0m\n\u001b[0m",
      "\u001b[0;32m~/.local/lib/python3.6/site-packages/pandas/core/frame.py\u001b[0m in \u001b[0;36mgroupby\u001b[0;34m(self, by, axis, level, as_index, sort, group_keys, squeeze, observed)\u001b[0m\n\u001b[1;32m   5808\u001b[0m             \u001b[0mgroup_keys\u001b[0m\u001b[0;34m=\u001b[0m\u001b[0mgroup_keys\u001b[0m\u001b[0;34m,\u001b[0m\u001b[0;34m\u001b[0m\u001b[0;34m\u001b[0m\u001b[0m\n\u001b[1;32m   5809\u001b[0m             \u001b[0msqueeze\u001b[0m\u001b[0;34m=\u001b[0m\u001b[0msqueeze\u001b[0m\u001b[0;34m,\u001b[0m\u001b[0;34m\u001b[0m\u001b[0;34m\u001b[0m\u001b[0m\n\u001b[0;32m-> 5810\u001b[0;31m             \u001b[0mobserved\u001b[0m\u001b[0;34m=\u001b[0m\u001b[0mobserved\u001b[0m\u001b[0;34m,\u001b[0m\u001b[0;34m\u001b[0m\u001b[0;34m\u001b[0m\u001b[0m\n\u001b[0m\u001b[1;32m   5811\u001b[0m         )\n\u001b[1;32m   5812\u001b[0m \u001b[0;34m\u001b[0m\u001b[0m\n",
      "\u001b[0;32m~/.local/lib/python3.6/site-packages/pandas/core/groupby/groupby.py\u001b[0m in \u001b[0;36m__init__\u001b[0;34m(self, obj, keys, axis, level, grouper, exclusions, selection, as_index, sort, group_keys, squeeze, observed, mutated)\u001b[0m\n\u001b[1;32m    408\u001b[0m                 \u001b[0msort\u001b[0m\u001b[0;34m=\u001b[0m\u001b[0msort\u001b[0m\u001b[0;34m,\u001b[0m\u001b[0;34m\u001b[0m\u001b[0;34m\u001b[0m\u001b[0m\n\u001b[1;32m    409\u001b[0m                 \u001b[0mobserved\u001b[0m\u001b[0;34m=\u001b[0m\u001b[0mobserved\u001b[0m\u001b[0;34m,\u001b[0m\u001b[0;34m\u001b[0m\u001b[0;34m\u001b[0m\u001b[0m\n\u001b[0;32m--> 410\u001b[0;31m                 \u001b[0mmutated\u001b[0m\u001b[0;34m=\u001b[0m\u001b[0mself\u001b[0m\u001b[0;34m.\u001b[0m\u001b[0mmutated\u001b[0m\u001b[0;34m,\u001b[0m\u001b[0;34m\u001b[0m\u001b[0;34m\u001b[0m\u001b[0m\n\u001b[0m\u001b[1;32m    411\u001b[0m             )\n\u001b[1;32m    412\u001b[0m \u001b[0;34m\u001b[0m\u001b[0m\n",
      "\u001b[0;32m~/.local/lib/python3.6/site-packages/pandas/core/groupby/grouper.py\u001b[0m in \u001b[0;36mget_grouper\u001b[0;34m(obj, key, axis, level, sort, observed, mutated, validate)\u001b[0m\n\u001b[1;32m    598\u001b[0m                 \u001b[0min_axis\u001b[0m\u001b[0;34m,\u001b[0m \u001b[0mname\u001b[0m\u001b[0;34m,\u001b[0m \u001b[0mlevel\u001b[0m\u001b[0;34m,\u001b[0m \u001b[0mgpr\u001b[0m \u001b[0;34m=\u001b[0m \u001b[0;32mFalse\u001b[0m\u001b[0;34m,\u001b[0m \u001b[0;32mNone\u001b[0m\u001b[0;34m,\u001b[0m \u001b[0mgpr\u001b[0m\u001b[0;34m,\u001b[0m \u001b[0;32mNone\u001b[0m\u001b[0;34m\u001b[0m\u001b[0;34m\u001b[0m\u001b[0m\n\u001b[1;32m    599\u001b[0m             \u001b[0;32melse\u001b[0m\u001b[0;34m:\u001b[0m\u001b[0;34m\u001b[0m\u001b[0;34m\u001b[0m\u001b[0m\n\u001b[0;32m--> 600\u001b[0;31m                 \u001b[0;32mraise\u001b[0m \u001b[0mKeyError\u001b[0m\u001b[0;34m(\u001b[0m\u001b[0mgpr\u001b[0m\u001b[0;34m)\u001b[0m\u001b[0;34m\u001b[0m\u001b[0;34m\u001b[0m\u001b[0m\n\u001b[0m\u001b[1;32m    601\u001b[0m         \u001b[0;32melif\u001b[0m \u001b[0misinstance\u001b[0m\u001b[0;34m(\u001b[0m\u001b[0mgpr\u001b[0m\u001b[0;34m,\u001b[0m \u001b[0mGrouper\u001b[0m\u001b[0;34m)\u001b[0m \u001b[0;32mand\u001b[0m \u001b[0mgpr\u001b[0m\u001b[0;34m.\u001b[0m\u001b[0mkey\u001b[0m \u001b[0;32mis\u001b[0m \u001b[0;32mnot\u001b[0m \u001b[0;32mNone\u001b[0m\u001b[0;34m:\u001b[0m\u001b[0;34m\u001b[0m\u001b[0;34m\u001b[0m\u001b[0m\n\u001b[1;32m    602\u001b[0m             \u001b[0;31m# Add key to exclusions\u001b[0m\u001b[0;34m\u001b[0m\u001b[0;34m\u001b[0m\u001b[0;34m\u001b[0m\u001b[0m\n",
      "\u001b[0;31mKeyError\u001b[0m: 'title'"
     ]
    }
   ],
   "source": [
    "utility = utility.groupby('title').mean()"
   ]
  },
  {
   "cell_type": "code",
   "execution_count": 76,
   "metadata": {
    "collapsed": false
   },
   "outputs": [
    {
     "data": {
      "text/plain": [
       "userId\n",
       "1     4.0\n",
       "2     NaN\n",
       "3     NaN\n",
       "4     NaN\n",
       "5     NaN\n",
       "6     NaN\n",
       "7     NaN\n",
       "8     NaN\n",
       "9     4.0\n",
       "10    NaN\n",
       "Name: Casino (1995), dtype: float64"
      ]
     },
     "execution_count": 76,
     "metadata": {},
     "output_type": "execute_result"
    }
   ],
   "source": [
    "utility['Casino (1995)'][0:10]"
   ]
  },
  {
   "cell_type": "code",
   "execution_count": 77,
   "metadata": {
    "collapsed": false
   },
   "outputs": [
    {
     "data": {
      "text/html": [
       "<div>\n",
       "<style scoped>\n",
       "    .dataframe tbody tr th:only-of-type {\n",
       "        vertical-align: middle;\n",
       "    }\n",
       "\n",
       "    .dataframe tbody tr th {\n",
       "        vertical-align: top;\n",
       "    }\n",
       "\n",
       "    .dataframe thead th {\n",
       "        text-align: right;\n",
       "    }\n",
       "</style>\n",
       "<table border=\"1\" class=\"dataframe\">\n",
       "  <thead>\n",
       "    <tr style=\"text-align: right;\">\n",
       "      <th>title</th>\n",
       "      <th>'71 (2014)</th>\n",
       "      <th>'Hellboy': The Seeds of Creation (2004)</th>\n",
       "      <th>'Round Midnight (1986)</th>\n",
       "      <th>'Til There Was You (1997)</th>\n",
       "      <th>'burbs, The (1989)</th>\n",
       "      <th>'night Mother (1986)</th>\n",
       "      <th>(500) Days of Summer (2009)</th>\n",
       "      <th>*batteries not included (1987)</th>\n",
       "      <th>...And Justice for All (1979)</th>\n",
       "      <th>10 (1979)</th>\n",
       "      <th>...</th>\n",
       "      <th>[REC] (2007)</th>\n",
       "      <th>[REC]² (2009)</th>\n",
       "      <th>[REC]³ 3 Génesis (2012)</th>\n",
       "      <th>a/k/a Tommy Chong (2005)</th>\n",
       "      <th>eXistenZ (1999)</th>\n",
       "      <th>loudQUIETloud: A Film About the Pixies (2006)</th>\n",
       "      <th>xXx (2002)</th>\n",
       "      <th>xXx: State of the Union (2005)</th>\n",
       "      <th>¡Three Amigos! (1986)</th>\n",
       "      <th>À nous la liberté (Freedom for Us) (1931)</th>\n",
       "    </tr>\n",
       "    <tr>\n",
       "      <th>userId</th>\n",
       "      <th></th>\n",
       "      <th></th>\n",
       "      <th></th>\n",
       "      <th></th>\n",
       "      <th></th>\n",
       "      <th></th>\n",
       "      <th></th>\n",
       "      <th></th>\n",
       "      <th></th>\n",
       "      <th></th>\n",
       "      <th></th>\n",
       "      <th></th>\n",
       "      <th></th>\n",
       "      <th></th>\n",
       "      <th></th>\n",
       "      <th></th>\n",
       "      <th></th>\n",
       "      <th></th>\n",
       "      <th></th>\n",
       "      <th></th>\n",
       "      <th></th>\n",
       "    </tr>\n",
       "  </thead>\n",
       "  <tbody>\n",
       "    <tr>\n",
       "      <th>1</th>\n",
       "      <td>NaN</td>\n",
       "      <td>NaN</td>\n",
       "      <td>NaN</td>\n",
       "      <td>NaN</td>\n",
       "      <td>NaN</td>\n",
       "      <td>NaN</td>\n",
       "      <td>NaN</td>\n",
       "      <td>NaN</td>\n",
       "      <td>NaN</td>\n",
       "      <td>NaN</td>\n",
       "      <td>...</td>\n",
       "      <td>NaN</td>\n",
       "      <td>NaN</td>\n",
       "      <td>NaN</td>\n",
       "      <td>NaN</td>\n",
       "      <td>NaN</td>\n",
       "      <td>NaN</td>\n",
       "      <td>NaN</td>\n",
       "      <td>NaN</td>\n",
       "      <td>NaN</td>\n",
       "      <td>NaN</td>\n",
       "    </tr>\n",
       "    <tr>\n",
       "      <th>2</th>\n",
       "      <td>NaN</td>\n",
       "      <td>NaN</td>\n",
       "      <td>NaN</td>\n",
       "      <td>NaN</td>\n",
       "      <td>NaN</td>\n",
       "      <td>NaN</td>\n",
       "      <td>NaN</td>\n",
       "      <td>NaN</td>\n",
       "      <td>NaN</td>\n",
       "      <td>NaN</td>\n",
       "      <td>...</td>\n",
       "      <td>NaN</td>\n",
       "      <td>NaN</td>\n",
       "      <td>NaN</td>\n",
       "      <td>NaN</td>\n",
       "      <td>NaN</td>\n",
       "      <td>NaN</td>\n",
       "      <td>NaN</td>\n",
       "      <td>NaN</td>\n",
       "      <td>NaN</td>\n",
       "      <td>NaN</td>\n",
       "    </tr>\n",
       "    <tr>\n",
       "      <th>3</th>\n",
       "      <td>NaN</td>\n",
       "      <td>NaN</td>\n",
       "      <td>NaN</td>\n",
       "      <td>NaN</td>\n",
       "      <td>NaN</td>\n",
       "      <td>NaN</td>\n",
       "      <td>NaN</td>\n",
       "      <td>NaN</td>\n",
       "      <td>NaN</td>\n",
       "      <td>NaN</td>\n",
       "      <td>...</td>\n",
       "      <td>NaN</td>\n",
       "      <td>NaN</td>\n",
       "      <td>NaN</td>\n",
       "      <td>NaN</td>\n",
       "      <td>NaN</td>\n",
       "      <td>NaN</td>\n",
       "      <td>NaN</td>\n",
       "      <td>NaN</td>\n",
       "      <td>NaN</td>\n",
       "      <td>NaN</td>\n",
       "    </tr>\n",
       "    <tr>\n",
       "      <th>4</th>\n",
       "      <td>NaN</td>\n",
       "      <td>NaN</td>\n",
       "      <td>NaN</td>\n",
       "      <td>NaN</td>\n",
       "      <td>NaN</td>\n",
       "      <td>NaN</td>\n",
       "      <td>NaN</td>\n",
       "      <td>NaN</td>\n",
       "      <td>NaN</td>\n",
       "      <td>NaN</td>\n",
       "      <td>...</td>\n",
       "      <td>NaN</td>\n",
       "      <td>NaN</td>\n",
       "      <td>NaN</td>\n",
       "      <td>NaN</td>\n",
       "      <td>NaN</td>\n",
       "      <td>NaN</td>\n",
       "      <td>NaN</td>\n",
       "      <td>NaN</td>\n",
       "      <td>NaN</td>\n",
       "      <td>NaN</td>\n",
       "    </tr>\n",
       "    <tr>\n",
       "      <th>5</th>\n",
       "      <td>NaN</td>\n",
       "      <td>NaN</td>\n",
       "      <td>NaN</td>\n",
       "      <td>NaN</td>\n",
       "      <td>NaN</td>\n",
       "      <td>NaN</td>\n",
       "      <td>NaN</td>\n",
       "      <td>NaN</td>\n",
       "      <td>NaN</td>\n",
       "      <td>NaN</td>\n",
       "      <td>...</td>\n",
       "      <td>NaN</td>\n",
       "      <td>NaN</td>\n",
       "      <td>NaN</td>\n",
       "      <td>NaN</td>\n",
       "      <td>NaN</td>\n",
       "      <td>NaN</td>\n",
       "      <td>NaN</td>\n",
       "      <td>NaN</td>\n",
       "      <td>NaN</td>\n",
       "      <td>NaN</td>\n",
       "    </tr>\n",
       "  </tbody>\n",
       "</table>\n",
       "<p>5 rows × 10323 columns</p>\n",
       "</div>"
      ],
      "text/plain": [
       "title   '71 (2014)  'Hellboy': The Seeds of Creation (2004)  \\\n",
       "userId                                                        \n",
       "1              NaN                                      NaN   \n",
       "2              NaN                                      NaN   \n",
       "3              NaN                                      NaN   \n",
       "4              NaN                                      NaN   \n",
       "5              NaN                                      NaN   \n",
       "\n",
       "title   'Round Midnight (1986)  'Til There Was You (1997)  'burbs, The (1989)  \\\n",
       "userId                                                                          \n",
       "1                          NaN                        NaN                 NaN   \n",
       "2                          NaN                        NaN                 NaN   \n",
       "3                          NaN                        NaN                 NaN   \n",
       "4                          NaN                        NaN                 NaN   \n",
       "5                          NaN                        NaN                 NaN   \n",
       "\n",
       "title   'night Mother (1986)  (500) Days of Summer (2009)  \\\n",
       "userId                                                      \n",
       "1                        NaN                          NaN   \n",
       "2                        NaN                          NaN   \n",
       "3                        NaN                          NaN   \n",
       "4                        NaN                          NaN   \n",
       "5                        NaN                          NaN   \n",
       "\n",
       "title   *batteries not included (1987)  ...And Justice for All (1979)  \\\n",
       "userId                                                                  \n",
       "1                                  NaN                            NaN   \n",
       "2                                  NaN                            NaN   \n",
       "3                                  NaN                            NaN   \n",
       "4                                  NaN                            NaN   \n",
       "5                                  NaN                            NaN   \n",
       "\n",
       "title   10 (1979)  ...  [REC] (2007)  [REC]² (2009)  [REC]³ 3 Génesis (2012)  \\\n",
       "userId             ...                                                         \n",
       "1             NaN  ...           NaN            NaN                      NaN   \n",
       "2             NaN  ...           NaN            NaN                      NaN   \n",
       "3             NaN  ...           NaN            NaN                      NaN   \n",
       "4             NaN  ...           NaN            NaN                      NaN   \n",
       "5             NaN  ...           NaN            NaN                      NaN   \n",
       "\n",
       "title   a/k/a Tommy Chong (2005)  eXistenZ (1999)  \\\n",
       "userId                                              \n",
       "1                            NaN              NaN   \n",
       "2                            NaN              NaN   \n",
       "3                            NaN              NaN   \n",
       "4                            NaN              NaN   \n",
       "5                            NaN              NaN   \n",
       "\n",
       "title   loudQUIETloud: A Film About the Pixies (2006)  xXx (2002)  \\\n",
       "userId                                                              \n",
       "1                                                 NaN         NaN   \n",
       "2                                                 NaN         NaN   \n",
       "3                                                 NaN         NaN   \n",
       "4                                                 NaN         NaN   \n",
       "5                                                 NaN         NaN   \n",
       "\n",
       "title   xXx: State of the Union (2005)  ¡Three Amigos! (1986)  \\\n",
       "userId                                                          \n",
       "1                                  NaN                    NaN   \n",
       "2                                  NaN                    NaN   \n",
       "3                                  NaN                    NaN   \n",
       "4                                  NaN                    NaN   \n",
       "5                                  NaN                    NaN   \n",
       "\n",
       "title   À nous la liberté (Freedom for Us) (1931)  \n",
       "userId                                             \n",
       "1                                             NaN  \n",
       "2                                             NaN  \n",
       "3                                             NaN  \n",
       "4                                             NaN  \n",
       "5                                             NaN  \n",
       "\n",
       "[5 rows x 10323 columns]"
      ]
     },
     "execution_count": 77,
     "metadata": {},
     "output_type": "execute_result"
    }
   ],
   "source": [
    "utility.head()"
   ]
  },
  {
   "cell_type": "code",
   "execution_count": null,
   "metadata": {
    "collapsed": true
   },
   "outputs": [],
   "source": []
  },
  {
   "cell_type": "markdown",
   "metadata": {},
   "source": [
    "### 상관관계\n",
    "\n",
    "corrwith() 함수는 행이나 컬럼끼리 상관관계를 계산한다. \n",
    "'Toy Story (1995)'와 상관관계를 계산해 보자.\n",
    "상관관계를 계산하면서 RuntimeWarning: divide by zero가 발생할 수 있는데 이는 결측값 NaN이 남아 있어서 그렇다.\n",
    "\n",
    "astype()으로 평점을 소수로 형변환해주면 그런 Warning이 사라진다.\n",
    "\n",
    "앞서 fillna()로 결측값을 제거했다."
   ]
  },
  {
   "cell_type": "code",
   "execution_count": 79,
   "metadata": {
    "collapsed": false,
    "slideshow": {
     "slide_type": "subslide"
    }
   },
   "outputs": [
    {
     "name": "stderr",
     "output_type": "stream",
     "text": [
      "/home/jsl/.local/lib/python3.6/site-packages/numpy/lib/function_base.py:2551: RuntimeWarning: Degrees of freedom <= 0 for slice\n",
      "  c = cov(x, y, rowvar)\n",
      "/home/jsl/.local/lib/python3.6/site-packages/numpy/lib/function_base.py:2480: RuntimeWarning: divide by zero encountered in true_divide\n",
      "  c *= np.true_divide(1, fact)\n"
     ]
    },
    {
     "data": {
      "text/html": [
       "<div>\n",
       "<style scoped>\n",
       "    .dataframe tbody tr th:only-of-type {\n",
       "        vertical-align: middle;\n",
       "    }\n",
       "\n",
       "    .dataframe tbody tr th {\n",
       "        vertical-align: top;\n",
       "    }\n",
       "\n",
       "    .dataframe thead th {\n",
       "        text-align: right;\n",
       "    }\n",
       "</style>\n",
       "<table border=\"1\" class=\"dataframe\">\n",
       "  <thead>\n",
       "    <tr style=\"text-align: right;\">\n",
       "      <th></th>\n",
       "      <th>corr</th>\n",
       "    </tr>\n",
       "    <tr>\n",
       "      <th>title</th>\n",
       "      <th></th>\n",
       "    </tr>\n",
       "  </thead>\n",
       "  <tbody>\n",
       "    <tr>\n",
       "      <th>'burbs, The (1989)</th>\n",
       "      <td>0.470402</td>\n",
       "    </tr>\n",
       "    <tr>\n",
       "      <th>(500) Days of Summer (2009)</th>\n",
       "      <td>0.301871</td>\n",
       "    </tr>\n",
       "    <tr>\n",
       "      <th>*batteries not included (1987)</th>\n",
       "      <td>-0.058926</td>\n",
       "    </tr>\n",
       "    <tr>\n",
       "      <th>...And Justice for All (1979)</th>\n",
       "      <td>-0.046829</td>\n",
       "    </tr>\n",
       "    <tr>\n",
       "      <th>10 (1979)</th>\n",
       "      <td>0.000000</td>\n",
       "    </tr>\n",
       "  </tbody>\n",
       "</table>\n",
       "</div>"
      ],
      "text/plain": [
       "                                    corr\n",
       "title                                   \n",
       "'burbs, The (1989)              0.470402\n",
       "(500) Days of Summer (2009)     0.301871\n",
       "*batteries not included (1987) -0.058926\n",
       "...And Justice for All (1979)  -0.046829\n",
       "10 (1979)                       0.000000"
      ]
     },
     "execution_count": 79,
     "metadata": {},
     "output_type": "execute_result"
    }
   ],
   "source": [
    "corrToyStory = pd.DataFrame(utility.corrwith(utility['Toy Story (1995)']), columns=['corr'])\n",
    "corrToyStory.dropna(inplace=True)\n",
    "corrToyStory.head()"
   ]
  },
  {
   "cell_type": "code",
   "execution_count": 80,
   "metadata": {
    "collapsed": false,
    "scrolled": true,
    "slideshow": {
     "slide_type": "subslide"
    }
   },
   "outputs": [
    {
     "data": {
      "text/html": [
       "<div>\n",
       "<style scoped>\n",
       "    .dataframe tbody tr th:only-of-type {\n",
       "        vertical-align: middle;\n",
       "    }\n",
       "\n",
       "    .dataframe tbody tr th {\n",
       "        vertical-align: top;\n",
       "    }\n",
       "\n",
       "    .dataframe thead th {\n",
       "        text-align: right;\n",
       "    }\n",
       "</style>\n",
       "<table border=\"1\" class=\"dataframe\">\n",
       "  <thead>\n",
       "    <tr style=\"text-align: right;\">\n",
       "      <th></th>\n",
       "      <th>corr</th>\n",
       "    </tr>\n",
       "    <tr>\n",
       "      <th>title</th>\n",
       "      <th></th>\n",
       "    </tr>\n",
       "  </thead>\n",
       "  <tbody>\n",
       "    <tr>\n",
       "      <th>Two Mules for Sister Sara (1970)</th>\n",
       "      <td>1.0</td>\n",
       "    </tr>\n",
       "    <tr>\n",
       "      <th>Raven, The (1963)</th>\n",
       "      <td>1.0</td>\n",
       "    </tr>\n",
       "    <tr>\n",
       "      <th>Alice (2009)</th>\n",
       "      <td>1.0</td>\n",
       "    </tr>\n",
       "    <tr>\n",
       "      <th>Assassination of Richard Nixon, The (2004)</th>\n",
       "      <td>1.0</td>\n",
       "    </tr>\n",
       "    <tr>\n",
       "      <th>Unvanquished, The (Aparajito) (1957)</th>\n",
       "      <td>1.0</td>\n",
       "    </tr>\n",
       "  </tbody>\n",
       "</table>\n",
       "</div>"
      ],
      "text/plain": [
       "                                            corr\n",
       "title                                           \n",
       "Two Mules for Sister Sara (1970)             1.0\n",
       "Raven, The (1963)                            1.0\n",
       "Alice (2009)                                 1.0\n",
       "Assassination of Richard Nixon, The (2004)   1.0\n",
       "Unvanquished, The (Aparajito) (1957)         1.0"
      ]
     },
     "execution_count": 80,
     "metadata": {},
     "output_type": "execute_result"
    }
   ],
   "source": [
    "corrToyStory.sort_values('corr', ascending=False).head()"
   ]
  },
  {
   "cell_type": "markdown",
   "metadata": {},
   "source": [
    "### 평가건수\n",
    "\n",
    "평가를 몇 건이나 받았는지 세어보자.\n",
    "앞서 만든 ratingsMovie의 'title'별 'rating'의 건수를 세어보자."
   ]
  },
  {
   "cell_type": "code",
   "execution_count": 81,
   "metadata": {
    "collapsed": false,
    "scrolled": true,
    "slideshow": {
     "slide_type": "subslide"
    }
   },
   "outputs": [
    {
     "data": {
      "text/html": [
       "<div>\n",
       "<style scoped>\n",
       "    .dataframe tbody tr th:only-of-type {\n",
       "        vertical-align: middle;\n",
       "    }\n",
       "\n",
       "    .dataframe tbody tr th {\n",
       "        vertical-align: top;\n",
       "    }\n",
       "\n",
       "    .dataframe thead th {\n",
       "        text-align: right;\n",
       "    }\n",
       "</style>\n",
       "<table border=\"1\" class=\"dataframe\">\n",
       "  <thead>\n",
       "    <tr style=\"text-align: right;\">\n",
       "      <th></th>\n",
       "      <th>count</th>\n",
       "    </tr>\n",
       "    <tr>\n",
       "      <th>title</th>\n",
       "      <th></th>\n",
       "    </tr>\n",
       "  </thead>\n",
       "  <tbody>\n",
       "    <tr>\n",
       "      <th>Pulp Fiction (1994)</th>\n",
       "      <td>325</td>\n",
       "    </tr>\n",
       "    <tr>\n",
       "      <th>Forrest Gump (1994)</th>\n",
       "      <td>311</td>\n",
       "    </tr>\n",
       "    <tr>\n",
       "      <th>Shawshank Redemption, The (1994)</th>\n",
       "      <td>308</td>\n",
       "    </tr>\n",
       "    <tr>\n",
       "      <th>Jurassic Park (1993)</th>\n",
       "      <td>294</td>\n",
       "    </tr>\n",
       "    <tr>\n",
       "      <th>Silence of the Lambs, The (1991)</th>\n",
       "      <td>290</td>\n",
       "    </tr>\n",
       "  </tbody>\n",
       "</table>\n",
       "</div>"
      ],
      "text/plain": [
       "                                  count\n",
       "title                                  \n",
       "Pulp Fiction (1994)                 325\n",
       "Forrest Gump (1994)                 311\n",
       "Shawshank Redemption, The (1994)    308\n",
       "Jurassic Park (1993)                294\n",
       "Silence of the Lambs, The (1991)    290"
      ]
     },
     "execution_count": 81,
     "metadata": {},
     "output_type": "execute_result"
    }
   ],
   "source": [
    "countRatings = ratingsMovie.groupby('title')['rating'].count().to_frame('count')\n",
    "countRatings.sort_values(by='count', ascending=False).head()"
   ]
  },
  {
   "cell_type": "markdown",
   "metadata": {},
   "source": [
    "### merge\n"
   ]
  },
  {
   "cell_type": "code",
   "execution_count": 82,
   "metadata": {
    "collapsed": true
   },
   "outputs": [],
   "source": [
    "corrCountToyStory=pd.merge(corrToyStory, countRatings, on='title', how='left')"
   ]
  },
  {
   "cell_type": "markdown",
   "metadata": {},
   "source": [
    "정렬을 2개할 경우에는 ['corr', 'count']와 같이 배열을 만들어서 넣어준다."
   ]
  },
  {
   "cell_type": "code",
   "execution_count": 47,
   "metadata": {
    "collapsed": false
   },
   "outputs": [
    {
     "data": {
      "text/html": [
       "<div>\n",
       "<style scoped>\n",
       "    .dataframe tbody tr th:only-of-type {\n",
       "        vertical-align: middle;\n",
       "    }\n",
       "\n",
       "    .dataframe tbody tr th {\n",
       "        vertical-align: top;\n",
       "    }\n",
       "\n",
       "    .dataframe thead th {\n",
       "        text-align: right;\n",
       "    }\n",
       "</style>\n",
       "<table border=\"1\" class=\"dataframe\">\n",
       "  <thead>\n",
       "    <tr style=\"text-align: right;\">\n",
       "      <th></th>\n",
       "      <th>corr</th>\n",
       "      <th>count</th>\n",
       "    </tr>\n",
       "    <tr>\n",
       "      <th>title</th>\n",
       "      <th></th>\n",
       "      <th></th>\n",
       "    </tr>\n",
       "  </thead>\n",
       "  <tbody>\n",
       "    <tr>\n",
       "      <th>Toy Story (1995)</th>\n",
       "      <td>1.0</td>\n",
       "      <td>232</td>\n",
       "    </tr>\n",
       "    <tr>\n",
       "      <th>Eve's Bayou (1997)</th>\n",
       "      <td>1.0</td>\n",
       "      <td>10</td>\n",
       "    </tr>\n",
       "    <tr>\n",
       "      <th>Nightmare on Elm Street 3: Dream Warriors, A (1987)</th>\n",
       "      <td>1.0</td>\n",
       "      <td>9</td>\n",
       "    </tr>\n",
       "    <tr>\n",
       "      <th>Wild Strawberries (Smultronstället) (1957)</th>\n",
       "      <td>1.0</td>\n",
       "      <td>9</td>\n",
       "    </tr>\n",
       "    <tr>\n",
       "      <th>88 Minutes (2008)</th>\n",
       "      <td>1.0</td>\n",
       "      <td>7</td>\n",
       "    </tr>\n",
       "  </tbody>\n",
       "</table>\n",
       "</div>"
      ],
      "text/plain": [
       "                                                    corr  count\n",
       "title                                                          \n",
       "Toy Story (1995)                                     1.0    232\n",
       "Eve's Bayou (1997)                                   1.0     10\n",
       "Nightmare on Elm Street 3: Dream Warriors, A (1...   1.0      9\n",
       "Wild Strawberries (Smultronstället) (1957)           1.0      9\n",
       "88 Minutes (2008)                                    1.0      7"
      ]
     },
     "execution_count": 47,
     "metadata": {},
     "output_type": "execute_result"
    }
   ],
   "source": [
    "corrCountToyStory.sort_values(['corr', 'count'], ascending=[False, False]).head()"
   ]
  },
  {
   "cell_type": "code",
   "execution_count": null,
   "metadata": {
    "collapsed": true
   },
   "outputs": [],
   "source": []
  },
  {
   "cell_type": "markdown",
   "metadata": {
    "slideshow": {
     "slide_type": "subslide"
    }
   },
   "source": [
    "column 명을 변경한다."
   ]
  },
  {
   "cell_type": "code",
   "execution_count": 29,
   "metadata": {
    "collapsed": false
   },
   "outputs": [],
   "source": [
    "corr_rcountToyStory.columns=['corr','ratingsCount']"
   ]
  },
  {
   "cell_type": "code",
   "execution_count": 40,
   "metadata": {
    "collapsed": false,
    "scrolled": true
   },
   "outputs": [
    {
     "data": {
      "text/html": [
       "<div style=\"max-height:1000px;max-width:1500px;overflow:auto;\">\n",
       "<table border=\"1\" class=\"dataframe\">\n",
       "  <thead>\n",
       "    <tr style=\"text-align: right;\">\n",
       "      <th></th>\n",
       "      <th>corr</th>\n",
       "      <th>ratingsCount</th>\n",
       "    </tr>\n",
       "    <tr>\n",
       "      <th>title</th>\n",
       "      <th></th>\n",
       "      <th></th>\n",
       "    </tr>\n",
       "  </thead>\n",
       "  <tbody>\n",
       "    <tr>\n",
       "      <th>'burbs, The (1989)</th>\n",
       "      <td>0.470402</td>\n",
       "      <td>20</td>\n",
       "    </tr>\n",
       "    <tr>\n",
       "      <th>(500) Days of Summer (2009)</th>\n",
       "      <td>0.301871</td>\n",
       "      <td>37</td>\n",
       "    </tr>\n",
       "    <tr>\n",
       "      <th>*batteries not included (1987)</th>\n",
       "      <td>-0.058926</td>\n",
       "      <td>11</td>\n",
       "    </tr>\n",
       "    <tr>\n",
       "      <th>...And Justice for All (1979)</th>\n",
       "      <td>-0.046829</td>\n",
       "      <td>10</td>\n",
       "    </tr>\n",
       "    <tr>\n",
       "      <th>10 (1979)</th>\n",
       "      <td>0.000000</td>\n",
       "      <td>3</td>\n",
       "    </tr>\n",
       "    <tr>\n",
       "      <th>10 Things I Hate About You (1999)</th>\n",
       "      <td>0.349920</td>\n",
       "      <td>59</td>\n",
       "    </tr>\n",
       "    <tr>\n",
       "      <th>10,000 BC (2008)</th>\n",
       "      <td>0.155556</td>\n",
       "      <td>11</td>\n",
       "    </tr>\n",
       "    <tr>\n",
       "      <th>101 Dalmatians (1996)</th>\n",
       "      <td>0.161703</td>\n",
       "      <td>42</td>\n",
       "    </tr>\n",
       "    <tr>\n",
       "      <th>101 Dalmatians (One Hundred and One Dalmatians) (1961)</th>\n",
       "      <td>0.439606</td>\n",
       "      <td>37</td>\n",
       "    </tr>\n",
       "    <tr>\n",
       "      <th>102 Dalmatians (2000)</th>\n",
       "      <td>-0.519589</td>\n",
       "      <td>7</td>\n",
       "    </tr>\n",
       "  </tbody>\n",
       "</table>\n",
       "</div>"
      ],
      "text/plain": [
       "                                                        corr  ratingsCount\n",
       "title                                                                     \n",
       "'burbs, The (1989)                                  0.470402            20\n",
       "(500) Days of Summer (2009)                         0.301871            37\n",
       "*batteries not included (1987)                     -0.058926            11\n",
       "...And Justice for All (1979)                      -0.046829            10\n",
       "10 (1979)                                           0.000000             3\n",
       "10 Things I Hate About You (1999)                   0.349920            59\n",
       "10,000 BC (2008)                                    0.155556            11\n",
       "101 Dalmatians (1996)                               0.161703            42\n",
       "101 Dalmatians (One Hundred and One Dalmatians)...  0.439606            37\n",
       "102 Dalmatians (2000)                              -0.519589             7"
      ]
     },
     "execution_count": 40,
     "metadata": {},
     "output_type": "execute_result"
    }
   ],
   "source": [
    "corr_rcountToyStory.head(10)"
   ]
  },
  {
   "cell_type": "code",
   "execution_count": 41,
   "metadata": {
    "collapsed": false,
    "slideshow": {
     "slide_type": "subslide"
    }
   },
   "outputs": [
    {
     "data": {
      "text/html": [
       "<div style=\"max-height:1000px;max-width:1500px;overflow:auto;\">\n",
       "<table border=\"1\" class=\"dataframe\">\n",
       "  <thead>\n",
       "    <tr style=\"text-align: right;\">\n",
       "      <th></th>\n",
       "      <th>corr</th>\n",
       "      <th>ratingsCount</th>\n",
       "    </tr>\n",
       "    <tr>\n",
       "      <th>title</th>\n",
       "      <th></th>\n",
       "      <th></th>\n",
       "    </tr>\n",
       "  </thead>\n",
       "  <tbody>\n",
       "    <tr>\n",
       "      <th>Pulp Fiction (1994)</th>\n",
       "      <td>0.154139</td>\n",
       "      <td>325</td>\n",
       "    </tr>\n",
       "    <tr>\n",
       "      <th>Forrest Gump (1994)</th>\n",
       "      <td>0.092166</td>\n",
       "      <td>311</td>\n",
       "    </tr>\n",
       "    <tr>\n",
       "      <th>Shawshank Redemption, The (1994)</th>\n",
       "      <td>0.118852</td>\n",
       "      <td>308</td>\n",
       "    </tr>\n",
       "    <tr>\n",
       "      <th>Jurassic Park (1993)</th>\n",
       "      <td>0.417862</td>\n",
       "      <td>294</td>\n",
       "    </tr>\n",
       "    <tr>\n",
       "      <th>Silence of the Lambs, The (1991)</th>\n",
       "      <td>0.071004</td>\n",
       "      <td>290</td>\n",
       "    </tr>\n",
       "    <tr>\n",
       "      <th>Star Wars: Episode IV - A New Hope (1977)</th>\n",
       "      <td>0.148712</td>\n",
       "      <td>273</td>\n",
       "    </tr>\n",
       "    <tr>\n",
       "      <th>Matrix, The (1999)</th>\n",
       "      <td>0.254059</td>\n",
       "      <td>261</td>\n",
       "    </tr>\n",
       "    <tr>\n",
       "      <th>Terminator 2: Judgment Day (1991)</th>\n",
       "      <td>0.257904</td>\n",
       "      <td>253</td>\n",
       "    </tr>\n",
       "    <tr>\n",
       "      <th>Schindler's List (1993)</th>\n",
       "      <td>0.313121</td>\n",
       "      <td>248</td>\n",
       "    </tr>\n",
       "    <tr>\n",
       "      <th>Braveheart (1995)</th>\n",
       "      <td>0.183313</td>\n",
       "      <td>248</td>\n",
       "    </tr>\n",
       "  </tbody>\n",
       "</table>\n",
       "</div>"
      ],
      "text/plain": [
       "                                               corr  ratingsCount\n",
       "title                                                            \n",
       "Pulp Fiction (1994)                        0.154139           325\n",
       "Forrest Gump (1994)                        0.092166           311\n",
       "Shawshank Redemption, The (1994)           0.118852           308\n",
       "Jurassic Park (1993)                       0.417862           294\n",
       "Silence of the Lambs, The (1991)           0.071004           290\n",
       "Star Wars: Episode IV - A New Hope (1977)  0.148712           273\n",
       "Matrix, The (1999)                         0.254059           261\n",
       "Terminator 2: Judgment Day (1991)          0.257904           253\n",
       "Schindler's List (1993)                    0.313121           248\n",
       "Braveheart (1995)                          0.183313           248"
      ]
     },
     "execution_count": 41,
     "metadata": {},
     "output_type": "execute_result"
    }
   ],
   "source": [
    "corr_rcountToyStory.sort('ratingsCount', ascending=False).head(10)"
   ]
  },
  {
   "cell_type": "markdown",
   "metadata": {
    "slideshow": {
     "slide_type": "subslide"
    }
   },
   "source": [
    "#### filtering\n",
    "\n",
    "```[corr_rcountToyStory ['ratingsCount']>50]```는 컬럼명에 대한 조건을 넣어 데이터를 필터링을 할 수 있다."
   ]
  },
  {
   "cell_type": "code",
   "execution_count": 47,
   "metadata": {
    "collapsed": false
   },
   "outputs": [
    {
     "data": {
      "text/html": [
       "<div style=\"max-height:1000px;max-width:1500px;overflow:auto;\">\n",
       "<table border=\"1\" class=\"dataframe\">\n",
       "  <thead>\n",
       "    <tr style=\"text-align: right;\">\n",
       "      <th></th>\n",
       "      <th>corr</th>\n",
       "      <th>ratingsCount</th>\n",
       "    </tr>\n",
       "    <tr>\n",
       "      <th>title</th>\n",
       "      <th></th>\n",
       "      <th></th>\n",
       "    </tr>\n",
       "  </thead>\n",
       "  <tbody>\n",
       "    <tr>\n",
       "      <th>Toy Story (1995)</th>\n",
       "      <td>1.000000</td>\n",
       "      <td>232</td>\n",
       "    </tr>\n",
       "    <tr>\n",
       "      <th>Wallace &amp; Gromit: A Close Shave (1995)</th>\n",
       "      <td>0.725063</td>\n",
       "      <td>55</td>\n",
       "    </tr>\n",
       "    <tr>\n",
       "      <th>Toy Story 2 (1999)</th>\n",
       "      <td>0.709677</td>\n",
       "      <td>104</td>\n",
       "    </tr>\n",
       "    <tr>\n",
       "      <th>Client, The (1994)</th>\n",
       "      <td>0.695989</td>\n",
       "      <td>65</td>\n",
       "    </tr>\n",
       "    <tr>\n",
       "      <th>Others, The (2001)</th>\n",
       "      <td>0.681520</td>\n",
       "      <td>53</td>\n",
       "    </tr>\n",
       "  </tbody>\n",
       "</table>\n",
       "</div>"
      ],
      "text/plain": [
       "                                            corr  ratingsCount\n",
       "title                                                         \n",
       "Toy Story (1995)                        1.000000           232\n",
       "Wallace & Gromit: A Close Shave (1995)  0.725063            55\n",
       "Toy Story 2 (1999)                      0.709677           104\n",
       "Client, The (1994)                      0.695989            65\n",
       "Others, The (2001)                      0.681520            53"
      ]
     },
     "execution_count": 47,
     "metadata": {},
     "output_type": "execute_result"
    }
   ],
   "source": [
    "corr_rcountToyStory[corr_rcountToyStory ['ratingsCount']>50].sort('corr', ascending=False).head()"
   ]
  },
  {
   "cell_type": "code",
   "execution_count": null,
   "metadata": {
    "collapsed": true
   },
   "outputs": [],
   "source": []
  },
  {
   "cell_type": "code",
   "execution_count": null,
   "metadata": {
    "collapsed": true
   },
   "outputs": [],
   "source": []
  },
  {
   "cell_type": "markdown",
   "metadata": {},
   "source": [
    "pandas Dataframe을 numpy array로 변환하려면 단순히 ```values```해주면 된다."
   ]
  },
  {
   "cell_type": "code",
   "execution_count": null,
   "metadata": {
    "collapsed": true
   },
   "outputs": [],
   "source": []
  },
  {
   "cell_type": "code",
   "execution_count": null,
   "metadata": {
    "collapsed": true
   },
   "outputs": [],
   "source": []
  },
  {
   "cell_type": "markdown",
   "metadata": {},
   "source": [
    "## S.9 경사도 하강법\n",
    "\n",
    "학습율 alpha\n",
    "regularization $\\lambda$\n",
    "latent features K\n",
    "http://www.albertauyeung.com/post/python-matrix-factorization/"
   ]
  },
  {
   "cell_type": "markdown",
   "metadata": {},
   "source": [
    "#### 단계 1: p와 q를 초기화 한다.\n",
    "\n",
    "원래 평점행렬을 분해하여 p, q를 구하려고 한다. 우선 p와 q를 임의의 값으로 초기화 하자.\n",
    "* p는 $i \\times k$ 사용자 벡터 ($i$는 사용자, $k$는 latent features의 갯수를 말한다.)\n",
    "* q는 $k \\times j$ 상품 벡터  ($j$는 상품, $k$는 latent features의 갯수)"
   ]
  },
  {
   "cell_type": "markdown",
   "metadata": {},
   "source": [
    "#### 단계 2: 예측 값 계산\n",
    "\n",
    "행렬을 분해하고 얻게 되는 p, q를 곱하게 되면 r의 예측 값을 계산할 수 있다.\n",
    "물론 이 값은 첫 반복에는 만족스럽지 못할 것이고 반복을 통해 최적값에 접근하게 된다.\n",
    "* $\\hat{r}$은 $\\hat{r}_{ij}$는 p와 q의 곱셈 연산으로 계산한다. ($\\hat{r}$은 평점 **예측** 값)\n",
    "* $\\hat{r}_{ij} = \\sum_{k=1}^K p_{ik} q_{kj}$"
   ]
  },
  {
   "cell_type": "markdown",
   "metadata": {},
   "source": [
    "#### 단계 3: 오류 계산\n",
    "\n",
    "예측 값과 실제 값의 차이가 오류가 되고, 이를 계산한다.\n",
    "* 예측 값의 차이는 MSE Mean Square Error로 다음과 같이 계산된다.\n",
    "    * $e_{ij} = (r_{ij} - \\hat{r_{ij}})^2 = (r_{ij} - \\sum_{k=1}^K p_{ik} q_{kj})^2$\n",
    "\n",
    "* 또는 overfitting을 피하기 위해, MSE에 Regularization 식을 더해 계산할 수도 있다. $\\beta$는 regularization 계수이다.\n",
    "    * $e_{ij}=(r_{ij} - \\sum_{k=1}^K p_{ik} q_{kj})^2 + \\frac{1}{2}\\beta \\sum_{k=1}^K (||p||^2 + ||q||^2)$\n"
   ]
  },
  {
   "cell_type": "markdown",
   "metadata": {},
   "source": [
    "#### 단계 4: 경사도 계산\n",
    "\n",
    "오류를 최소화하기 위해서는 경사도를 찾아 갱신해야 한다. 위 MSE 오류식을 p, q에 대해 편미분해서 경사도를 찾는다.\n",
    "오류 regularization을 사용하려면, 그 계산식을 편미분해야 한다.\n",
    "이를 **경사도하강법 Gradient Descent**이라고 한다.\n",
    "\n",
    "* $\\frac{\\partial e}{\\partial{p_j}} = 2 \\times (r_{ij} - \\sum_{k=1}^K p_{ik} q_{kj}) \\times -q_{kj}$\n",
    "* $\\frac{\\partial e}{\\partial{q_j}} = 2 \\times (r_{ij} - \\sum_{k=1}^K p_{ik} q_{kj}) \\times -q_{kj}$"
   ]
  },
  {
   "cell_type": "markdown",
   "metadata": {},
   "source": [
    "#### 단계 5: Update rules\n",
    "\n",
    "실제 - 예측의 차이는 오류이다. 그 오류에 학습비율 $\\alpha$을 곱해서 갱신한다. \n",
    "$\\alpha$ 값이 너무 크게 되면 오류의 최저점을 통과할 수 있게 되고, 너무 작게 되면 최저점을 찾는 횟수가 늘어날 수 밖에 없다.\n",
    "반복이 거듭되면 오류가 차즘 줄어들고, 어떤 값에 수렴하게 된다.\n",
    "\n",
    "* $p_{new} = p_{old} - \\alpha \\times 2 \\times (r - \\sum_{k=1}^K p_{ik} q_{jk}) \\times -q = p_{old} + 2 \\alpha q (r - \\sum_{k=1}^K p_{ik} q_{jk})$\n",
    "* $q_{new} = q_{old} - \\alpha \\times 2 \\times (r - \\sum_{k=1}^K p_{ik} q_{jk}) \\times -p = q_{old} + 2 \\alpha p (r - \\sum_{k=1}^K p_{ik} q_{jk})$"
   ]
  },
  {
   "cell_type": "code",
   "execution_count": null,
   "metadata": {
    "collapsed": true
   },
   "outputs": [],
   "source": []
  },
  {
   "cell_type": "markdown",
   "metadata": {
    "slideshow": {
     "slide_type": "subslide"
    }
   },
   "source": [
    "### S.9.2 풀어보기\n",
    "\n",
    "```python\n",
    "5 2 4 4 3\n",
    "3 1 2 4 1\n",
    "2 3 1 4\n",
    "2 5 4 3 5\n",
    "4 4 5 4\n",
    "```"
   ]
  },
  {
   "cell_type": "markdown",
   "metadata": {},
   "source": [
    "#### 단계 1, 2: 예측 값\n",
    "\n",
    "P, Q를 1로 초기화하고, 곱해서 예측 값을 계산하자.\n",
    "\n",
    "\n",
    "```python\n",
    "p   1                           p+1 p+1 p+1 p+1 p+1\n",
    "1   1     1   1   1   1   1     2   2   2   2   2\n",
    "1   1     1   1   1   1   1     2   2   2   2   2\n",
    "1   1                           2   2   2   2   2\n",
    "1   1                           2   2   2   2   2\n",
    "```"
   ]
  },
  {
   "cell_type": "markdown",
   "metadata": {},
   "source": [
    "#### 단계 3: 오류 계산\n",
    "\n",
    "오류를 계산하면:\n",
    "\n",
    "$(5-(p+1))^2+(2-(p+1))^2+(4-(p+1))^2+(4-(p+1))^2+(3-(p+1))^2\\\\\n",
    "=((4-p)+(1-p)+(3-p)+(3-p)+(2-p))^2$"
   ]
  },
  {
   "cell_type": "markdown",
   "metadata": {},
   "source": [
    "#### 단계 4: 경사하강법\n",
    "\n",
    "편미분하면:\n",
    "\n",
    "$\\frac{\\partial e}{\\partial{p}} = -2 ((4-p)+(1-p)+(3-p)+(3-p)+(2-p)) = -2(13-5p) = -26 + 10p$\n",
    "\n",
    "이를 0으로 놓으면 p=2.6"
   ]
  },
  {
   "cell_type": "markdown",
   "metadata": {
    "slideshow": {
     "slide_type": "subslide"
    }
   },
   "source": [
    "#### 단계 5: update\n",
    "\n",
    "앞서 계산한 p=2.6으로 대체하면, $p_{new} = p_{old} + \\alpha \\times gradient = 1 + 1 \\times 2.6 = 3.6$\n",
    "편의상 $\\alpha$는 1로 계산하자.\n",
    "\n",
    "```python\n",
    "2.6 1                           3.6 3.6 3.6 3.6 3.6\n",
    "1   1     1   1   1   1   1     2   2   2   2   2\n",
    "1   1     1   1   1   1   1     2   2   2   2   2\n",
    "1   1                           2   2   2   2   2\n",
    "1   1                           2   2   2   2   2\n",
    "```"
   ]
  },
  {
   "cell_type": "markdown",
   "metadata": {},
   "source": [
    "#### 단계 2 반복: 예측 값 계산\n",
    "\n",
    "```dot()``` 계산을 하면:\n",
    "\n",
    "```python\n",
    "2.6 1                           2.6q+1 3.6 3.6 3.6 3.6\n",
    "1   1     q   1   1   1   1     q+1    2   2   2   2\n",
    "1   1     1   1   1   1   1     q+1    2   2   2   2\n",
    "1   1                           q+1    2   2   2   2\n",
    "1   1                           q+1    2   2   2   2\n",
    "```"
   ]
  },
  {
   "cell_type": "markdown",
   "metadata": {},
   "source": [
    "#### 단계 3 반복: 오류 계산\n",
    "\n",
    "$(5-(2.6q+1))^2+(3-(q+1))^2+(2-(q+1))^2+(2-(q+1))^2+(4-(q+1))^2\\\\\n",
    "=((4-2.6q)+(2-q)+(1-q)+(1-q)+(3-q))^2$"
   ]
  },
  {
   "cell_type": "markdown",
   "metadata": {},
   "source": [
    "#### 단계 4 반복: 경사하강법\n",
    "\n",
    "$\\frac{\\partial e}{\\partial{p}} = -2 (2.6(4-2.6q)+(2-q)+(1-q)+(1-q)+(3-q)) = -2(17.4-10.76p) = -34.8 + 21.52p$\n",
    "이를 0으로 놓으면 q=1.6171"
   ]
  },
  {
   "cell_type": "markdown",
   "metadata": {
    "slideshow": {
     "slide_type": "subslide"
    }
   },
   "source": [
    "#### 단계 5 반복: update\n",
    "\n",
    "앞서 계산한 q=1.6171으로 대체하면:\n",
    "\n",
    "```python\n",
    "2.6 1                           5.204  3.6 3.6 3.6 3.6\n",
    "1   1     1.617 1   1   1   1   2.617  2   2   2   2\n",
    "1   1     1     1   1   1   1   2.617  2   2   2   2\n",
    "1   1                           2.617  2   2   2   2\n",
    "1   1                           2.617  2   2   2   2\n",
    "```"
   ]
  },
  {
   "cell_type": "markdown",
   "metadata": {},
   "source": [
    "### S.9.3 프로그램으로 풀어보기\n",
    "\n",
    "R은 실제 값을 가지고 있는 배열이다.\n",
    "0은 결측에 해당하는 경우에 넣은 값이다."
   ]
  },
  {
   "cell_type": "code",
   "execution_count": 10,
   "metadata": {
    "collapsed": true,
    "slideshow": {
     "slide_type": "subslide"
    }
   },
   "outputs": [],
   "source": [
    "import numpy as np\n",
    "R = np.array([\n",
    "     [5,3,0,1],\n",
    "     [4,0,0,1],\n",
    "     [1,1,0,5],\n",
    "     [1,0,0,4],\n",
    "     [0,1,5,4],\n",
    "    ])\n",
    "R = np.array([\n",
    "     [5,2,4,4,3],\n",
    "     [3,1,2,4,1],\n",
    "     [2,3,1,4,0],\n",
    "     [2,5,4,3,5],\n",
    "     [4,4,5,4,0],\n",
    "    ])"
   ]
  },
  {
   "cell_type": "markdown",
   "metadata": {},
   "source": [
    "R의 행과 열의 개수를 ```shape``` 명령어로 구할 수 있다."
   ]
  },
  {
   "cell_type": "code",
   "execution_count": 11,
   "metadata": {
    "collapsed": false
   },
   "outputs": [
    {
     "data": {
      "text/plain": [
       "(5, 5)"
      ]
     },
     "execution_count": 11,
     "metadata": {},
     "output_type": "execute_result"
    }
   ],
   "source": [
    "row=R.shape[0]\n",
    "col=R.shape[1]\n",
    "row,col"
   ]
  },
  {
   "cell_type": "markdown",
   "metadata": {},
   "source": [
    "계산을 위해 필요한 계수의 값을 정하자.\n",
    "* K는 숨겨진 특징으로 P의 열, Q의 행에 해당한다.\n",
    "* $\\alpha$는 학습율\n",
    "* $\\beta$는 regularization 계수"
   ]
  },
  {
   "cell_type": "code",
   "execution_count": 12,
   "metadata": {
    "collapsed": true
   },
   "outputs": [],
   "source": [
    "K = 2\n",
    "alpha=0.0002\n",
    "beta=0.02"
   ]
  },
  {
   "cell_type": "markdown",
   "metadata": {
    "slideshow": {
     "slide_type": "subslide"
    }
   },
   "source": [
    "#### 단계 1: P, Q 초기화\n",
    "\n",
    "P, Q에 어떤 값으로든 입력하여 초기화해야 하는데, 무작위 숫자를 채워 넣어보자."
   ]
  },
  {
   "cell_type": "code",
   "execution_count": 13,
   "metadata": {
    "collapsed": false
   },
   "outputs": [],
   "source": [
    "P = np.random.rand(row,K)\n",
    "Q = np.random.rand(col,K)"
   ]
  },
  {
   "cell_type": "code",
   "execution_count": 14,
   "metadata": {
    "collapsed": false
   },
   "outputs": [
    {
     "name": "stdout",
     "output_type": "stream",
     "text": [
      "P\n",
      "[[0.53880284 0.2704054 ]\n",
      " [0.64048924 0.13234048]\n",
      " [0.2095911  0.61574954]\n",
      " [0.75415146 0.0637908 ]\n",
      " [0.59786107 0.92084664]]\n",
      "\n",
      "Q\n",
      "[[0.1156839  0.09604362]\n",
      " [0.86361254 0.39224683]\n",
      " [0.36700913 0.75449041]\n",
      " [0.40500429 0.47125038]\n",
      " [0.6448252  0.04320448]]\n"
     ]
    }
   ],
   "source": [
    "print (\"P\\n{}\\n\\nQ\\n{}\".format(P, Q))"
   ]
  },
  {
   "cell_type": "markdown",
   "metadata": {},
   "source": [
    "P, Q의 첫째 행을 읽어보자. 뒤에 반복을 하게 되면, P, Q를 이렇게 나누어서 계산하게 된다."
   ]
  },
  {
   "cell_type": "code",
   "execution_count": 15,
   "metadata": {
    "collapsed": false
   },
   "outputs": [
    {
     "data": {
      "text/plain": [
       "array([0.53880284, 0.2704054 ])"
      ]
     },
     "execution_count": 15,
     "metadata": {},
     "output_type": "execute_result"
    }
   ],
   "source": [
    "P[0,:]"
   ]
  },
  {
   "cell_type": "code",
   "execution_count": 16,
   "metadata": {
    "collapsed": false
   },
   "outputs": [
    {
     "data": {
      "text/plain": [
       "array([0.1156839 , 0.09604362])"
      ]
     },
     "execution_count": 16,
     "metadata": {},
     "output_type": "execute_result"
    }
   ],
   "source": [
    "Q.T[:,0]"
   ]
  },
  {
   "cell_type": "code",
   "execution_count": 17,
   "metadata": {
    "collapsed": false
   },
   "outputs": [
    {
     "data": {
      "text/plain": [
       "((2,), (2,))"
      ]
     },
     "execution_count": 17,
     "metadata": {},
     "output_type": "execute_result"
    }
   ],
   "source": [
    "P[0,:].shape, Q.T[:,0].shape"
   ]
  },
  {
   "cell_type": "markdown",
   "metadata": {
    "slideshow": {
     "slide_type": "subslide"
    }
   },
   "source": [
    "#### 단계 2: 예측\n",
    "\n",
    "rating의 예측 값은 5x4 행렬이어야 한다. P(5x2)와 Q.T(2x4)로 연산을 해야 5x4 행렬이 만들어진다.\n",
    "\n",
    "우선 첫 번째 **```R[0,0]```**의 예측 값을 계산해 보자. \n",
    "R의 예측 값은 PQ의 dot으로 계산된다.\n",
    "실제와 예측의 차이는 오류가 되고, 이 오류는 아직 큰 차이가 있고, 반복을 하면서 근사 값으로 갱신되게 된다."
   ]
  },
  {
   "cell_type": "code",
   "execution_count": 18,
   "metadata": {
    "collapsed": false
   },
   "outputs": [
    {
     "name": "stdout",
     "output_type": "stream",
     "text": [
      "R[0,0]: actual=5 predicted=0.088\n"
     ]
    }
   ],
   "source": [
    "rhat=np.dot(P[0,:],Q.T[:,0])\n",
    "print (\"R[0,0]: actual={} predicted={:.3f}\".format(R[0,0], rhat))"
   ]
  },
  {
   "cell_type": "markdown",
   "metadata": {
    "slideshow": {
     "slide_type": "subslide"
    }
   },
   "source": [
    "#### 단계 3: 오류\n",
    "\n",
    "오류는 실제와 예측의 차이이다."
   ]
  },
  {
   "cell_type": "code",
   "execution_count": 19,
   "metadata": {
    "collapsed": false
   },
   "outputs": [
    {
     "name": "stdout",
     "output_type": "stream",
     "text": [
      "Error=4.912\n"
     ]
    }
   ],
   "source": [
    "eij=R[0,0]-rhat\n",
    "print (\"Error={:.3f}\".format(eij))"
   ]
  },
  {
   "cell_type": "markdown",
   "metadata": {
    "slideshow": {
     "slide_type": "subslide"
    }
   },
   "source": [
    "#### 단계 4: 경사도 하강법\n",
    "\n",
    "P의 경사도 하강법으로 p를 계산해보자.\n",
    "\n",
    "$\\frac{\\partial e}{\\partial{p_j}} = 2 \\times (r_{ij} - \\sum_{k=1}^K p_{ik} q_{kj}) \\times -q_{kj}$\n"
   ]
  },
  {
   "cell_type": "code",
   "execution_count": 22,
   "metadata": {
    "collapsed": false
   },
   "outputs": [
    {
     "data": {
      "text/plain": [
       "0.5682044238655533"
      ]
     },
     "execution_count": 22,
     "metadata": {},
     "output_type": "execute_result"
    }
   ],
   "source": [
    "#eij*Q[0][0]\n",
    "np.dot(eij,Q[0][0])"
   ]
  },
  {
   "cell_type": "code",
   "execution_count": 23,
   "metadata": {
    "collapsed": false
   },
   "outputs": [
    {
     "data": {
      "text/plain": [
       "0.01077605670522022"
      ]
     },
     "execution_count": 23,
     "metadata": {},
     "output_type": "execute_result"
    }
   ],
   "source": [
    "beta*P[0][0]"
   ]
  },
  {
   "cell_type": "code",
   "execution_count": 31,
   "metadata": {
    "collapsed": false
   },
   "outputs": [
    {
     "name": "stdout",
     "output_type": "stream",
     "text": [
      "1.1256327910258863\n",
      "8.478200695018243\n"
     ]
    }
   ],
   "source": [
    "for k in range(K):\n",
    "    # MSE regularization\n",
    "    pGradient=2*np.dot(eij,Q[k][0]) - beta*P[0][k]\n",
    "    # MSE\n",
    "    #pGradient=2*np.dot(eij,Q[k][0])\n",
    "    print (pGradient),"
   ]
  },
  {
   "cell_type": "markdown",
   "metadata": {
    "slideshow": {
     "slide_type": "subslide"
    }
   },
   "source": [
    "이번에는 Q gradient를 계산해 보자.\n",
    "\n",
    "5x4, 5x2 -> 4x2"
   ]
  },
  {
   "cell_type": "code",
   "execution_count": 35,
   "metadata": {
    "collapsed": false
   },
   "outputs": [
    {
     "data": {
      "text/plain": [
       "2.6464370638606263"
      ]
     },
     "execution_count": 35,
     "metadata": {},
     "output_type": "execute_result"
    }
   ],
   "source": [
    "#eij*P[0][0]\n",
    "np.dot(eij.T,P[0][0])"
   ]
  },
  {
   "cell_type": "code",
   "execution_count": 36,
   "metadata": {
    "collapsed": false
   },
   "outputs": [
    {
     "data": {
      "text/plain": [
       "0.0023136779541622432"
      ]
     },
     "execution_count": 36,
     "metadata": {},
     "output_type": "execute_result"
    }
   ],
   "source": [
    "beta*Q[0][0]"
   ]
  },
  {
   "cell_type": "code",
   "execution_count": 17,
   "metadata": {
    "collapsed": false
   },
   "outputs": [
    {
     "name": "stdout",
     "output_type": "stream",
     "text": [
      "2.27227636398 5.20692348493\n"
     ]
    }
   ],
   "source": [
    "for k in xrange(K):\n",
    "    qGradient=2*np.dot(eij,P[0][k]) - beta*Q[k][0]\n",
    "    print qGradient,"
   ]
  },
  {
   "cell_type": "markdown",
   "metadata": {
    "slideshow": {
     "slide_type": "subslide"
    }
   },
   "source": [
    "#### 단계 5: update\n",
    "\n",
    "이제 P, Q를 갱신해보자. "
   ]
  },
  {
   "cell_type": "code",
   "execution_count": 47,
   "metadata": {
    "collapsed": false
   },
   "outputs": [
    {
     "name": "stdout",
     "output_type": "stream",
     "text": [
      "0.5392634859937055 0.27228865387969575 "
     ]
    }
   ],
   "source": [
    "for k in range(K):\n",
    "    # MSE regularization\n",
    "    pGradient=2*np.dot(eij,Q[k][0]) - beta*P[0][k]\n",
    "    # MSE\n",
    "    #pGradient=2*np.dot(eij,Q[k][0])\n",
    "    P[0][k]+=alpha*pGradient\n",
    "    print (P[0][k], end=\" \")"
   ]
  },
  {
   "cell_type": "code",
   "execution_count": 48,
   "metadata": {
    "collapsed": false,
    "scrolled": true
   },
   "outputs": [
    {
     "name": "stdout",
     "output_type": "stream",
     "text": [
      "[[0.53926349 0.27228865]\n",
      " [0.64048924 0.13234048]\n",
      " [0.2095911  0.61574954]\n",
      " [0.75415146 0.0637908 ]\n",
      " [0.59786107 0.92084664]]\n"
     ]
    }
   ],
   "source": [
    "print (P)"
   ]
  },
  {
   "cell_type": "code",
   "execution_count": 46,
   "metadata": {
    "collapsed": false
   },
   "outputs": [
    {
     "name": "stdout",
     "output_type": "stream",
     "text": [
      "0.12097662732341785 0.863612541319265 "
     ]
    }
   ],
   "source": [
    "for k in range(K):\n",
    "    # MSE regularization\n",
    "    qGradient=2*np.dot(eij,P[0][k]) - beta*Q.T[k][0]\n",
    "    # MSE\n",
    "    #qGradient=2*np.dot(eij,P[0][k])\n",
    "    Q.T[k][0]+=alpha*qGradient\n",
    "    print (Q[k][0], end=\" \")"
   ]
  },
  {
   "cell_type": "code",
   "execution_count": 20,
   "metadata": {
    "collapsed": false
   },
   "outputs": [
    {
     "name": "stdout",
     "output_type": "stream",
     "text": [
      "0.294515768862 0.091219295983\n"
     ]
    }
   ],
   "source": [
    "for k in xrange(K):\n",
    "    qGradient=2*np.dot(eij,P[0][k]) - beta*Q.T[k][0]\n",
    "    Q.T[k][0]+=alpha*qGradient\n",
    "    print Q[k][0],"
   ]
  },
  {
   "cell_type": "code",
   "execution_count": null,
   "metadata": {
    "collapsed": true
   },
   "outputs": [],
   "source": [
    "??? data confirm Q.T"
   ]
  },
  {
   "cell_type": "code",
   "execution_count": 49,
   "metadata": {
    "collapsed": false
   },
   "outputs": [
    {
     "name": "stdout",
     "output_type": "stream",
     "text": [
      "[[0.12097663 0.09869982]\n",
      " [0.86361254 0.39224683]\n",
      " [0.36700913 0.75449041]\n",
      " [0.40500429 0.47125038]\n",
      " [0.6448252  0.04320448]]\n"
     ]
    }
   ],
   "source": [
    "print (Q)"
   ]
  },
  {
   "cell_type": "markdown",
   "metadata": {
    "collapsed": true
   },
   "source": [
    "행렬을 분해해서 P, Q를 갱신한 값을 서로 곱하면 원래의 행렬이 복원된다.\n",
    "이 값은 예측 값으로 원행렬과의 차이만큼 오류가 된다.\n",
    "물론 첫 반복에는 오류가 크겠지만 반복을 할수록 경사도가 하강하면서 그 값은 줄어들게 된다."
   ]
  },
  {
   "cell_type": "code",
   "execution_count": null,
   "metadata": {
    "collapsed": true
   },
   "outputs": [],
   "source": []
  },
  {
   "cell_type": "code",
   "execution_count": null,
   "metadata": {
    "collapsed": true
   },
   "outputs": [],
   "source": []
  },
  {
   "cell_type": "code",
   "execution_count": null,
   "metadata": {
    "collapsed": true
   },
   "outputs": [],
   "source": []
  },
  {
   "cell_type": "markdown",
   "metadata": {
    "collapsed": true
   },
   "source": [
    "이제 1회 반복을 수행하였다.\n",
    "이제 P, Q 행열의 각 요소에 대해 경사도하강법을 적용하고, 이를 적당한 횟수만큼 반복을 해보자.\n",
    "전체 행렬 P ($5 \\times 2$), Q ($2 \\times 5$)의 ```dot()``` 연산을 하면 $5 \\times 5$ 벡터가 계산된다."
   ]
  },
  {
   "cell_type": "code",
   "execution_count": null,
   "metadata": {
    "collapsed": true
   },
   "outputs": [],
   "source": [
    "? no regularizaiton\n",
    "? error 계산 추가?"
   ]
  },
  {
   "cell_type": "code",
   "execution_count": 69,
   "metadata": {
    "collapsed": false
   },
   "outputs": [],
   "source": [
    "iters=2000\n",
    "for iter in range(iters):\n",
    "    for i in range(row):\n",
    "        for j in range(col):\n",
    "            if R[i][j] > 0:  # missing values were initialized to 0 \n",
    "                rhat=np.dot(P[i,:],Q.T[:,j])\n",
    "                eij = R[i][j] - rhat\n",
    "                for k in range(K):\n",
    "                    #pGradient=2*np.dot(eij,Q.T[k][j]) - beta*P[i][k]\n",
    "                    pGradient=2*np.dot(eij,Q.T[k][j])\n",
    "                    #qGradient=2*np.dot(eij,P[i][k]) - beta*Q.T[k][j]\n",
    "                    qGradient=2*np.dot(eij,P[i][k])\n",
    "                    P[i][k]+=alpha*pGradient\n",
    "                    Q.T[k][j]+=alpha*qGradient"
   ]
  },
  {
   "cell_type": "code",
   "execution_count": 70,
   "metadata": {
    "collapsed": false
   },
   "outputs": [
    {
     "name": "stdout",
     "output_type": "stream",
     "text": [
      "P\n",
      "[[2.25892813 0.67772939]\n",
      " [1.68408167 0.56390122]\n",
      " [0.12616897 2.0363746 ]\n",
      " [0.10005522 1.70455438]\n",
      " [1.33363082 1.70192238]]\n",
      "\n",
      "Q\n",
      "[[ 2.13818101  0.43563524]\n",
      " [ 0.88201385  0.36471101]\n",
      " [ 1.6551348   1.59036742]\n",
      " [-0.18546538  2.4014136 ]]\n"
     ]
    }
   ],
   "source": [
    "print (\"P\\n{}\\n\\nQ\\n{}\".format(P, Q))"
   ]
  },
  {
   "cell_type": "markdown",
   "metadata": {},
   "source": [
    "\n",
    "```python\n",
    "    D1\tD2\tD3\tD4\n",
    "U1\t4.97\t2.98\t2.18\t0.98\n",
    "U2\t3.97\t2.40\t1.97\t0.99\n",
    "U3\t1.02\t0.93\t5.32\t4.93\n",
    "U4\t1.00\t0.85\t4.59\t3.93\n",
    "U5\t1.36\t1.07\t4.89\t4.12\n",
    "```"
   ]
  },
  {
   "cell_type": "code",
   "execution_count": 67,
   "metadata": {
    "collapsed": false
   },
   "outputs": [
    {
     "name": "stdout",
     "output_type": "stream",
     "text": [
      "[[5 3 0 1]\n",
      " [4 0 0 1]\n",
      " [1 1 0 5]\n",
      " [1 0 0 4]\n",
      " [0 1 5 4]]\n"
     ]
    }
   ],
   "source": [
    "print(R)"
   ]
  },
  {
   "cell_type": "markdown",
   "metadata": {},
   "source": [
    "rhat"
   ]
  },
  {
   "cell_type": "code",
   "execution_count": 71,
   "metadata": {
    "collapsed": false
   },
   "outputs": [
    {
     "name": "stdout",
     "output_type": "stream",
     "text": [
      "[[5.12524002 2.23958127 4.8166693  1.20855561]\n",
      " [3.84652668 1.69104434 3.6841923  1.0418212 ]\n",
      " [1.15688862 0.85397101 3.44741047 4.86677768]\n",
      " [0.95650012 0.70991983 2.87647263 4.07478329]\n",
      " [3.59296144 1.79699068 4.91402069 3.8396772 ]]\n"
     ]
    }
   ],
   "source": [
    "print (np.dot(P,Q.T))"
   ]
  },
  {
   "cell_type": "code",
   "execution_count": 68,
   "metadata": {
    "collapsed": false
   },
   "outputs": [
    {
     "data": {
      "text/plain": [
       "array([[3.43902697, 1.62132958, 4.17615947, 3.24074575],\n",
       "       [2.57425665, 1.21953785, 3.12441851, 2.43402867],\n",
       "       [2.92673254, 1.37525163, 3.55530291, 2.7516646 ],\n",
       "       [2.43105925, 1.26689575, 2.91914894, 2.45849898],\n",
       "       [4.02082253, 1.89213568, 4.88361007, 3.78416569]])"
      ]
     },
     "execution_count": 68,
     "metadata": {},
     "output_type": "execute_result"
    }
   ],
   "source": [
    "np.dot(P,Q.T)"
   ]
  },
  {
   "cell_type": "markdown",
   "metadata": {},
   "source": [
    "error"
   ]
  },
  {
   "cell_type": "code",
   "execution_count": 25,
   "metadata": {
    "collapsed": false
   },
   "outputs": [
    {
     "data": {
      "text/plain": [
       "array([[  0.30173149,   0.72056269,   6.1796671 ,   0.85056945],\n",
       "       [  0.63235716,   2.32879456,   4.42874814,   0.5634959 ],\n",
       "       [  1.23921656,   0.01957108,  11.51007959,   2.27626859],\n",
       "       [  0.39145506,   0.39912471,   9.12161071,   0.69892524],\n",
       "       [ 15.1545202 ,   0.50919565,   0.2720112 ,   0.13460719]])"
      ]
     },
     "execution_count": 25,
     "metadata": {},
     "output_type": "execute_result"
    }
   ],
   "source": [
    "pow(R-np.dot(P,Q.T),2)"
   ]
  },
  {
   "cell_type": "code",
   "execution_count": null,
   "metadata": {
    "collapsed": true
   },
   "outputs": [],
   "source": []
  },
  {
   "cell_type": "code",
   "execution_count": null,
   "metadata": {
    "collapsed": true
   },
   "outputs": [],
   "source": []
  },
  {
   "cell_type": "markdown",
   "metadata": {},
   "source": [
    "http://www.quuxlabs.com/blog/2010/09/matrix-factorization-a-simple-tutorial-and-implementation-in-python/#source-code"
   ]
  },
  {
   "cell_type": "code",
   "execution_count": 3,
   "metadata": {
    "collapsed": true
   },
   "outputs": [],
   "source": [
    "\"\"\"\n",
    "@INPUT:\n",
    "    R     : a matrix to be factorized, dimension N x M\n",
    "    P     : an initial matrix of dimension N x K\n",
    "    Q     : an initial matrix of dimension M x K\n",
    "    K     : the number of latent features\n",
    "    steps : the maximum number of steps to perform the optimisation\n",
    "    alpha : the learning rate\n",
    "    beta  : the regularization parameter\n",
    "@OUTPUT:\n",
    "    the final matrices P and Q\n",
    "\"\"\"\n",
    "def matrixFactorization(R, P, Q, K, iters=5000, alpha=0.0002, beta=0.02):\n",
    "    Q = Q.T\n",
    "    row=R.shape[0]\n",
    "    col=R.shape[1]\n",
    "    for iter in range(iters):\n",
    "        for i in range(row):\n",
    "            for j in range(col):\n",
    "                if R[i][j] > 0:\n",
    "                    rhat=np.dot(P[i,:],Q[:,j])\n",
    "                    eij = R[i][j] - rhat\n",
    "                    for k in range(K):\n",
    "                        #pGradient=2*np.dot(eij,Q[k][j]) - beta*P[i][k]\n",
    "                        #pGradient=2*eij*Q[k][j] - beta*P[i][k]\n",
    "                        pGradient=2*np.dot(eij,Q[k][j])\n",
    "                        #pGradient=2*eij*Q[k][j]\n",
    "                        #qGradient=2*np.dot(eij,P[i][k]) - beta*Q[k][j]\n",
    "                        #qGradient=2*eij*P[i][k] - beta*Q[k][j]\n",
    "                        qGradient=2*np.dot(eij,P[i][k])\n",
    "                        #qGradient=2*eij*P[i][k]\n",
    "                        P[i][k]+=alpha*pGradient\n",
    "                        Q[k][j]+=alpha*qGradient\n",
    "        #eR = np.dot(P,Q)\n",
    "        #e = 0\n",
    "        #for i in range(len(R)):\n",
    "        #    for j in range(len(R[i])):\n",
    "        #        if R[i][j] > 0:\n",
    "        #            e = e + pow(R[i][j] - np.dot(P[i,:],Q[:,j]), 2)\n",
    "        #            for k in range(K):\n",
    "        #                e = e + (beta/2) * ( pow(P[i][k],2) + pow(Q[k][j],2) )\n",
    "        #if e < 0.001:\n",
    "        #    break\n",
    "    return P, Q.T"
   ]
  },
  {
   "cell_type": "code",
   "execution_count": 7,
   "metadata": {
    "collapsed": true
   },
   "outputs": [],
   "source": [
    "\"\"\"\n",
    "@INPUT:\n",
    "    R     : a matrix to be factorized, dimension N x M\n",
    "    P     : an initial matrix of dimension N x K\n",
    "    Q     : an initial matrix of dimension M x K\n",
    "    K     : the number of latent features\n",
    "    steps : the maximum number of steps to perform the optimisation\n",
    "    alpha : the learning rate\n",
    "    beta  : the regularization parameter\n",
    "@OUTPUT:\n",
    "    the final matrices P and Q\n",
    "\"\"\"\n",
    "def matrixFactorization2(R, P, Q, K, steps=5000, alpha=0.0002, beta=0.02):\n",
    "    Q = Q.T\n",
    "    for step in range(steps):\n",
    "        for i in range(len(R)):\n",
    "            for j in range(len(R[i])):\n",
    "                if R[i][j] > 0:\n",
    "                    eij = R[i][j] - np.dot(P[i,:],Q[:,j])\n",
    "                    for k in range(K):\n",
    "                        P[i][k] = P[i][k] + alpha * (2 * eij * Q[k][j] - beta * P[i][k])\n",
    "                        Q[k][j] = Q[k][j] + alpha * (2 * eij * P[i][k] - beta * Q[k][j])\n",
    "        eR = np.dot(P,Q)\n",
    "        e = 0\n",
    "        for i in range(len(R)):\n",
    "            for j in range(len(R[i])):\n",
    "                if R[i][j] > 0:\n",
    "                    e = e + pow(R[i][j] - np.dot(P[i,:],Q[:,j]), 2)\n",
    "                    for k in range(K):\n",
    "                        e = e + (beta/2) * ( pow(P[i][k],2) + pow(Q[k][j],2) )\n",
    "        if e < 0.001:\n",
    "            break\n",
    "    return P, Q.T"
   ]
  },
  {
   "cell_type": "code",
   "execution_count": 8,
   "metadata": {
    "collapsed": false
   },
   "outputs": [],
   "source": [
    "import numpy as np\n",
    "\n",
    "\n",
    "R = np.array([\n",
    "     [5,3,0,1],\n",
    "     [4,0,0,1],\n",
    "     [1,1,0,5],\n",
    "     [1,0,0,4],\n",
    "     [0,1,5,4],\n",
    "    ])\n",
    "R = np.array([\n",
    "     [5,2,4,4,3],\n",
    "     [3,1,2,4,1],\n",
    "     [2,3,1,4,0],\n",
    "     [2,5,4,3,5],\n",
    "     [4,4,5,4,0],\n",
    "    ])\n",
    "N = len(R)\n",
    "M = len(R[0])\n",
    "K = 2\n",
    "\n",
    "# random\n",
    "P = np.random.rand(N,K)\n",
    "Q = np.random.rand(M,K)\n",
    "\n",
    "#P=np.ones((N,K))\n",
    "#Q=np.ones((N,K))\n",
    "nP, nQ = matrixFactorization2(R, P, Q, K)"
   ]
  },
  {
   "cell_type": "code",
   "execution_count": 5,
   "metadata": {
    "collapsed": false
   },
   "outputs": [
    {
     "data": {
      "text/plain": [
       "array([[ 1.33839939,  1.65660438],\n",
       "       [ 0.60173652,  1.5107834 ],\n",
       "       [ 1.18974955,  0.60022464],\n",
       "       [ 2.37651055, -0.35964263],\n",
       "       [ 2.17922256,  0.73521941]])"
      ]
     },
     "execution_count": 5,
     "metadata": {},
     "output_type": "execute_result"
    }
   ],
   "source": [
    "nP"
   ]
  },
  {
   "cell_type": "code",
   "execution_count": 87,
   "metadata": {
    "collapsed": false
   },
   "outputs": [
    {
     "data": {
      "text/plain": [
       "(5, 4)"
      ]
     },
     "execution_count": 87,
     "metadata": {},
     "output_type": "execute_result"
    }
   ],
   "source": [
    "N, M"
   ]
  },
  {
   "cell_type": "code",
   "execution_count": 88,
   "metadata": {
    "collapsed": false
   },
   "outputs": [
    {
     "data": {
      "text/plain": [
       "array([[0.23036159, 0.18000042],\n",
       "       [0.81038103, 0.82600249],\n",
       "       [0.48486926, 0.00947757],\n",
       "       [0.65192864, 0.97694153],\n",
       "       [0.29982883, 0.75137995]])"
      ]
     },
     "execution_count": 88,
     "metadata": {},
     "output_type": "execute_result"
    }
   ],
   "source": [
    "import numpy as np\n",
    "np.random.rand(N,K)"
   ]
  },
  {
   "cell_type": "code",
   "execution_count": 9,
   "metadata": {
    "collapsed": false
   },
   "outputs": [
    {
     "name": "stdout",
     "output_type": "stream",
     "text": [
      "[[4.54208679 2.25902028 3.6056191  4.6978022  2.78854302]\n",
      " [3.42070024 0.80312512 2.2065994  3.34432892 1.24564688]\n",
      " [2.35345211 2.41135047 2.57120226 2.70165897 2.62530212]\n",
      " [2.06570265 4.98278765 3.88063984 2.98929251 5.03102193]\n",
      " [3.86222321 4.20974895 4.36262333 4.48810166 4.54856789]]\n"
     ]
    }
   ],
   "source": [
    "nR = np.dot(nP, nQ.T)\n",
    "print(nR)"
   ]
  },
  {
   "cell_type": "code",
   "execution_count": 32,
   "metadata": {
    "collapsed": false
   },
   "outputs": [
    {
     "name": "stdout",
     "output_type": "stream",
     "text": [
      "[[ 5.0354243   2.85096871  5.08329796  0.98640713]\n",
      " [ 3.92591948  2.22472243  4.12481818  1.00843566]\n",
      " [ 1.13457634  0.68064953  4.33973884  4.95476714]\n",
      " [ 0.9340535   0.55954221  3.50508312  3.97883394]\n",
      " [ 2.42256887  1.40049285  4.85579601  4.04530207]]\n"
     ]
    }
   ],
   "source": [
    "nR = np.dot(nP, nQ.T)\n",
    "print nR"
   ]
  },
  {
   "cell_type": "code",
   "execution_count": null,
   "metadata": {
    "collapsed": true
   },
   "outputs": [],
   "source": [
    "R = np.array([\n",
    "     [5,2,4,4,3],\n",
    "     [3,1,2,4,1],\n",
    "     [2,3,1,4,0],\n",
    "     [2,5,4,3,5],\n",
    "     [4,4,5,4,0],\n",
    "    ])"
   ]
  },
  {
   "cell_type": "markdown",
   "metadata": {},
   "source": [
    "### utility matrix를 변환"
   ]
  },
  {
   "cell_type": "code",
   "execution_count": 3,
   "metadata": {
    "collapsed": false
   },
   "outputs": [],
   "source": [
    "import numpy as np\n",
    "R = np.array([\n",
    "     [5,3,0,1],\n",
    "     [4,0,0,1],\n",
    "     [1,1,0,5],\n",
    "     [1,0,0,4],\n",
    "     [0,1,5,4],\n",
    "    ])"
   ]
  },
  {
   "cell_type": "code",
   "execution_count": 4,
   "metadata": {
    "collapsed": false
   },
   "outputs": [],
   "source": [
    "row=R.shape[0]\n",
    "col=R.shape[1]\n",
    "ratingsUI=np.zeros([row*col,3])"
   ]
  },
  {
   "cell_type": "code",
   "execution_count": 5,
   "metadata": {
    "collapsed": false
   },
   "outputs": [
    {
     "name": "stdout",
     "output_type": "stream",
     "text": [
      "r:0 c:0 ratings:[ 0.  0.  5.] Rij:5\n",
      "r:0 c:1 ratings:[ 0.  1.  3.] Rij:3\n",
      "r:0 c:2 ratings:[ 0.  2.  0.] Rij:0\n",
      "r:0 c:3 ratings:[ 0.  3.  1.] Rij:1\n",
      "r:1 c:0 ratings:[ 1.  0.  4.] Rij:4\n",
      "r:1 c:1 ratings:[ 1.  1.  0.] Rij:0\n",
      "r:1 c:2 ratings:[ 1.  2.  0.] Rij:0\n",
      "r:1 c:3 ratings:[ 1.  3.  1.] Rij:1\n",
      "r:2 c:0 ratings:[ 2.  0.  1.] Rij:1\n",
      "r:2 c:1 ratings:[ 2.  1.  1.] Rij:1\n",
      "r:2 c:2 ratings:[ 2.  2.  0.] Rij:0\n",
      "r:2 c:3 ratings:[ 2.  3.  5.] Rij:5\n",
      "r:3 c:0 ratings:[ 3.  0.  1.] Rij:1\n",
      "r:3 c:1 ratings:[ 3.  1.  0.] Rij:0\n",
      "r:3 c:2 ratings:[ 3.  2.  0.] Rij:0\n",
      "r:3 c:3 ratings:[ 3.  3.  4.] Rij:4\n",
      "r:4 c:0 ratings:[ 4.  0.  0.] Rij:0\n",
      "r:4 c:1 ratings:[ 4.  1.  1.] Rij:1\n",
      "r:4 c:2 ratings:[ 4.  2.  5.] Rij:5\n",
      "r:4 c:3 ratings:[ 4.  3.  4.] Rij:4\n"
     ]
    }
   ],
   "source": [
    "counter=0\n",
    "for r in range(row):\n",
    "    for c in range(col):\n",
    "        ratingsUI[counter]=[r,c,R[r,c]]\n",
    "        print \"r:{0} c:{1} ratings:{2} Rij:{3}\\n\".format(r,c,ratingsUI[counter],R[r,c]),\n",
    "        counter+=1"
   ]
  },
  {
   "cell_type": "code",
   "execution_count": 6,
   "metadata": {
    "collapsed": false,
    "scrolled": true
   },
   "outputs": [
    {
     "data": {
      "text/plain": [
       "array([[ 0.,  0.,  5.],\n",
       "       [ 0.,  1.,  3.],\n",
       "       [ 0.,  2.,  0.],\n",
       "       [ 0.,  3.,  1.],\n",
       "       [ 1.,  0.,  4.],\n",
       "       [ 1.,  1.,  0.],\n",
       "       [ 1.,  2.,  0.],\n",
       "       [ 1.,  3.,  1.],\n",
       "       [ 2.,  0.,  1.],\n",
       "       [ 2.,  1.,  1.],\n",
       "       [ 2.,  2.,  0.],\n",
       "       [ 2.,  3.,  5.],\n",
       "       [ 3.,  0.,  1.],\n",
       "       [ 3.,  1.,  0.],\n",
       "       [ 3.,  2.,  0.],\n",
       "       [ 3.,  3.,  4.],\n",
       "       [ 4.,  0.,  0.],\n",
       "       [ 4.,  1.,  1.],\n",
       "       [ 4.,  2.,  5.],\n",
       "       [ 4.,  3.,  4.]])"
      ]
     },
     "execution_count": 6,
     "metadata": {},
     "output_type": "execute_result"
    }
   ],
   "source": [
    "ratingsUI"
   ]
  },
  {
   "cell_type": "markdown",
   "metadata": {
    "slideshow": {
     "slide_type": "subslide"
    }
   },
   "source": [
    "pandas를 경유해서 dataframe으로 변환한다."
   ]
  },
  {
   "cell_type": "code",
   "execution_count": 7,
   "metadata": {
    "collapsed": false
   },
   "outputs": [],
   "source": [
    "import pandas as pd\n",
    "pdf = pd.DataFrame(ratingsUI)"
   ]
  },
  {
   "cell_type": "code",
   "execution_count": 8,
   "metadata": {
    "collapsed": false
   },
   "outputs": [],
   "source": [
    "df = spark.createDataFrame(pdf, [\"user\", \"item\", \"rating\"])"
   ]
  },
  {
   "cell_type": "code",
   "execution_count": 9,
   "metadata": {
    "collapsed": false
   },
   "outputs": [
    {
     "data": {
      "text/plain": [
       "20"
      ]
     },
     "execution_count": 9,
     "metadata": {},
     "output_type": "execute_result"
    }
   ],
   "source": [
    "df.count()"
   ]
  },
  {
   "cell_type": "code",
   "execution_count": 10,
   "metadata": {
    "collapsed": false
   },
   "outputs": [
    {
     "name": "stdout",
     "output_type": "stream",
     "text": [
      "+----+----+------+\n",
      "|user|item|rating|\n",
      "+----+----+------+\n",
      "| 0.0| 0.0|   5.0|\n",
      "| 0.0| 1.0|   3.0|\n",
      "| 0.0| 2.0|   0.0|\n",
      "| 0.0| 3.0|   1.0|\n",
      "| 1.0| 0.0|   4.0|\n",
      "| 1.0| 1.0|   0.0|\n",
      "| 1.0| 2.0|   0.0|\n",
      "| 1.0| 3.0|   1.0|\n",
      "| 2.0| 0.0|   1.0|\n",
      "| 2.0| 1.0|   1.0|\n",
      "| 2.0| 2.0|   0.0|\n",
      "| 2.0| 3.0|   5.0|\n",
      "| 3.0| 0.0|   1.0|\n",
      "| 3.0| 1.0|   0.0|\n",
      "| 3.0| 2.0|   0.0|\n",
      "| 3.0| 3.0|   4.0|\n",
      "| 4.0| 0.0|   0.0|\n",
      "| 4.0| 1.0|   1.0|\n",
      "| 4.0| 2.0|   5.0|\n",
      "| 4.0| 3.0|   4.0|\n",
      "+----+----+------+\n",
      "\n"
     ]
    }
   ],
   "source": [
    "df.show(df.count())"
   ]
  },
  {
   "cell_type": "code",
   "execution_count": 11,
   "metadata": {
    "collapsed": false
   },
   "outputs": [],
   "source": [
    "from pyspark.ml.recommendation import ALS\n",
    "\n",
    "als = ALS(rank=10, maxIter=5, seed=0,\n",
    "         userCol=\"user\", itemCol=\"item\", ratingCol=\"rating\")\n",
    "model = als.fit(df)"
   ]
  },
  {
   "cell_type": "markdown",
   "metadata": {
    "slideshow": {
     "slide_type": "subslide"
    }
   },
   "source": [
    "userFactors는 id, features를 저장한 DataFrame"
   ]
  },
  {
   "cell_type": "code",
   "execution_count": 13,
   "metadata": {
    "collapsed": false
   },
   "outputs": [
    {
     "data": {
      "text/plain": [
       "[Row(id=0, features=[0.6518023014068604, -0.3774568438529968, 0.45830395817756653, 0.5326328277587891, 0.5370028614997864, -0.13303984701633453, 0.9978336691856384, -0.049184586852788925, 1.2127164602279663, -0.44631215929985046]),\n",
       " Row(id=1, features=[0.7823089957237244, 0.055251941084861755, -0.1760573387145996, -0.35000845789909363, 0.5918315649032593, 0.006784677039831877, -0.25240689516067505, -0.01705523021519184, 1.1433072090148926, -0.03908538073301315]),\n",
       " Row(id=2, features=[-0.4606591463088989, -0.3179605305194855, 0.6577496528625488, -0.1826791912317276, 0.36359283328056335, -0.898631751537323, -0.4057735800743103, 0.5501425266265869, 0.24210044741630554, -0.7884545922279358]),\n",
       " Row(id=3, features=[-0.22923962771892548, -0.12811774015426636, 0.32501572370529175, -0.41224557161331177, 0.36770564317703247, -0.6602339744567871, -0.6686253547668457, 0.4330856502056122, 0.3078712821006775, -0.5111319422721863]),\n",
       " Row(id=4, features=[-0.43931934237480164, -0.9368381500244141, 0.2447604238986969, 0.7337656617164612, 1.3527833223342896, 0.5761058330535889, -0.7706223726272583, -0.061208512634038925, -0.37902387976646423, -0.1018574982881546])]"
      ]
     },
     "execution_count": 13,
     "metadata": {},
     "output_type": "execute_result"
    }
   ],
   "source": [
    "model.userFactors.orderBy(\"id\").collect()"
   ]
  },
  {
   "cell_type": "code",
   "execution_count": null,
   "metadata": {
    "collapsed": true
   },
   "outputs": [],
   "source": []
  },
  {
   "cell_type": "code",
   "execution_count": 13,
   "metadata": {
    "collapsed": false
   },
   "outputs": [],
   "source": [
    "test = spark.createDataFrame([(0, 2), (1, 0), (2, 0)], [\"user\", \"item\"])"
   ]
  },
  {
   "cell_type": "code",
   "execution_count": 17,
   "metadata": {
    "collapsed": false
   },
   "outputs": [
    {
     "name": "stdout",
     "output_type": "stream",
     "text": [
      "+----+----+\n",
      "|user|item|\n",
      "+----+----+\n",
      "|   0|   2|\n",
      "|   1|   0|\n",
      "|   2|   0|\n",
      "+----+----+\n",
      "\n"
     ]
    }
   ],
   "source": [
    "test.show()"
   ]
  },
  {
   "cell_type": "code",
   "execution_count": 14,
   "metadata": {
    "collapsed": true
   },
   "outputs": [],
   "source": [
    "predictions = sorted(model.transform(test).collect(), key=lambda r: r[0])"
   ]
  },
  {
   "cell_type": "code",
   "execution_count": null,
   "metadata": {
    "collapsed": true
   },
   "outputs": [],
   "source": [
    "[[ 5.0354243   2.85096871  5.08329796  0.98640713]\n",
    " [ 3.92591948  2.22472243  4.12481818  1.00843566]\n",
    " [ 1.13457634  0.68064953  4.33973884  4.95476714]\n",
    " [ 0.9340535   0.55954221  3.50508312  3.97883394]\n",
    " [ 2.42256887  1.40049285  4.85579601  4.04530207]]"
   ]
  },
  {
   "cell_type": "code",
   "execution_count": 15,
   "metadata": {
    "collapsed": false
   },
   "outputs": [
    {
     "data": {
      "text/plain": [
       "[Row(user=0, item=2, prediction=0.018792565912008286),\n",
       " Row(user=1, item=0, prediction=3.712459087371826),\n",
       " Row(user=2, item=0, prediction=1.0534387826919556)]"
      ]
     },
     "execution_count": 15,
     "metadata": {},
     "output_type": "execute_result"
    }
   ],
   "source": [
    "for p in predictions:\n",
    "    print p"
   ]
  },
  {
   "cell_type": "code",
   "execution_count": null,
   "metadata": {
    "collapsed": true
   },
   "outputs": [],
   "source": []
  },
  {
   "cell_type": "markdown",
   "metadata": {
    "collapsed": true
   },
   "source": [
    "### 평가"
   ]
  },
  {
   "cell_type": "code",
   "execution_count": 20,
   "metadata": {
    "collapsed": true
   },
   "outputs": [],
   "source": [
    "from pyspark.ml.evaluation import RegressionEvaluator\n",
    "\n",
    "\n",
    "evaluator=RegressionEvaluator(metricName=\"rmse\",labelCol=\"rating\",predictionCol=\"prediction\")"
   ]
  },
  {
   "cell_type": "code",
   "execution_count": 22,
   "metadata": {
    "collapsed": false
   },
   "outputs": [
    {
     "name": "stdout",
     "output_type": "stream",
     "text": [
      "RMSE=0.167463491628\n",
      "+----+----+------+------------+\n",
      "|user|item|rating|  prediction|\n",
      "+----+----+------+------------+\n",
      "| 1.0| 1.0|   0.0|   0.2648269|\n",
      "| 3.0| 1.0|   0.0| 0.114437595|\n",
      "| 4.0| 1.0|   1.0|  0.97063005|\n",
      "| 2.0| 1.0|   1.0|   0.9153577|\n",
      "| 0.0| 1.0|   3.0|   2.6919935|\n",
      "| 1.0| 3.0|   1.0|  0.99896544|\n",
      "| 3.0| 3.0|   4.0|   3.7990217|\n",
      "| 4.0| 3.0|   4.0|   3.9464648|\n",
      "| 2.0| 3.0|   5.0|    4.758358|\n",
      "| 0.0| 3.0|   1.0|   1.0506728|\n",
      "| 1.0| 2.0|   0.0|-0.041997816|\n",
      "| 3.0| 2.0|   0.0|  0.10027863|\n",
      "| 4.0| 2.0|   5.0|    4.657796|\n",
      "| 2.0| 2.0|   0.0|  0.15604466|\n",
      "| 0.0| 2.0|   0.0| 0.018792566|\n",
      "| 1.0| 0.0|   4.0|    3.712459|\n",
      "| 3.0| 0.0|   1.0|   0.9773247|\n",
      "| 4.0| 0.0|   0.0| 0.026058678|\n",
      "| 2.0| 0.0|   1.0|   1.0534388|\n",
      "| 0.0| 0.0|   5.0|    4.826267|\n",
      "+----+----+------+------------+\n",
      "\n"
     ]
    }
   ],
   "source": [
    "predictions=model.transform(df)\n",
    "rmse=evaluator.evaluate(predictions)\n",
    "print(\"RMSE=\"+str(rmse))\n",
    "predictions.show()"
   ]
  },
  {
   "cell_type": "code",
   "execution_count": null,
   "metadata": {
    "collapsed": true
   },
   "outputs": [],
   "source": []
  },
  {
   "cell_type": "code",
   "execution_count": null,
   "metadata": {
    "collapsed": true
   },
   "outputs": [],
   "source": []
  },
  {
   "cell_type": "code",
   "execution_count": null,
   "metadata": {
    "collapsed": true
   },
   "outputs": [],
   "source": []
  },
  {
   "cell_type": "markdown",
   "metadata": {},
   "source": [
    "## S.10 SVD\n",
    "\n",
    "SVD는 어떤 매트릭스라도 3개의 매트릭스로 분할하는 것을 말한다.\n",
    "예를 들어 57은 1 3 19 \n",
    "\n",
    "A = U D V.T\n",
    "m x n = m x r  r x r  r x n\n",
    "\n",
    "3 x 2 = 3 x 3  3 x 2  2 x 2\n",
    "\n",
    "\n",
    "* U 사용자 x latent factors\n",
    "* S는 대각선 매트릭스로 latent factor의 강도를 표현\n",
    "* V는 상품 x latent factors\n",
    "\n",
    "https://alyssaq.github.io/2015/20150426-simple-movie-recommender-using-svd/"
   ]
  },
  {
   "cell_type": "markdown",
   "metadata": {
    "collapsed": true
   },
   "source": [
    ">>> from scipy.sparse import csc_matrix\n",
    ">>> from scipy.sparse.linalg import svds\n",
    ">>> A = csc_matrix([[1, 0, 0], [5, 0, 2], [0, -1, 0], [0, 0, 3]], dtype=float)\n",
    ">>> u, s, vt = svds(A, k=2) # k is the number of factors\n",
    ">>> s\n",
    "array([ 2.75193379,  5.6059665 ])"
   ]
  },
  {
   "cell_type": "markdown",
   "metadata": {},
   "source": [
    "#https://datascience.stackexchange.com/questions/15457/svd-for-recommendation-engine\n",
    "from numpy.linalg import svd\n",
    "\n",
    "U, S, V = svd(R)\n",
    "\n",
    "k = 2 #dimension reduction\n",
    "A_k = U[:, :k] * np.diag(S[:k]) * V.T[:k, :]"
   ]
  },
  {
   "cell_type": "code",
   "execution_count": 14,
   "metadata": {
    "collapsed": true
   },
   "outputs": [],
   "source": [
    "import numpy as np\n",
    "R = np.array([\n",
    "     [5,3,0,1],\n",
    "     [4,0,0,1],\n",
    "     [1,1,0,5],\n",
    "     [1,0,0,4],\n",
    "     [0,1,5,4],\n",
    "    ])"
   ]
  },
  {
   "cell_type": "code",
   "execution_count": null,
   "metadata": {
    "collapsed": true
   },
   "outputs": [],
   "source": []
  },
  {
   "cell_type": "code",
   "execution_count": null,
   "metadata": {
    "collapsed": true
   },
   "outputs": [],
   "source": []
  },
  {
   "cell_type": "code",
   "execution_count": null,
   "metadata": {
    "collapsed": true
   },
   "outputs": [],
   "source": []
  },
  {
   "cell_type": "code",
   "execution_count": null,
   "metadata": {
    "collapsed": true
   },
   "outputs": [],
   "source": []
  },
  {
   "cell_type": "markdown",
   "metadata": {},
   "source": [
    "사용자 평점의 평균은 행으로 구한다."
   ]
  },
  {
   "cell_type": "code",
   "execution_count": 42,
   "metadata": {
    "collapsed": false
   },
   "outputs": [
    {
     "name": "stdout",
     "output_type": "stream",
     "text": [
      "[ 2.25  1.25  1.75  1.25  2.5 ]\n"
     ]
    }
   ],
   "source": [
    "rowMean=np.mean(R, 1)\n",
    "print np.asarray(rowMean)"
   ]
  },
  {
   "cell_type": "code",
   "execution_count": 43,
   "metadata": {
    "collapsed": true
   },
   "outputs": [],
   "source": [
    "rowMean.shape=(5,1)"
   ]
  },
  {
   "cell_type": "code",
   "execution_count": 44,
   "metadata": {
    "collapsed": false
   },
   "outputs": [
    {
     "name": "stdout",
     "output_type": "stream",
     "text": [
      "[[ 2.75  0.75 -2.25 -1.25]\n",
      " [ 2.75 -1.25 -1.25 -0.25]\n",
      " [-0.75 -0.75 -1.75  3.25]\n",
      " [-0.25 -1.25 -1.25  2.75]\n",
      " [-2.5  -1.5   2.5   1.5 ]]\n"
     ]
    }
   ],
   "source": [
    "normalisedR=R - rowMean\n",
    "print normalisedR"
   ]
  },
  {
   "cell_type": "code",
   "execution_count": 50,
   "metadata": {
    "collapsed": false
   },
   "outputs": [
    {
     "name": "stdout",
     "output_type": "stream",
     "text": [
      "[[ 1.375  0.375 -1.125 -0.625]\n",
      " [ 1.375 -0.625 -0.625 -0.125]\n",
      " [-0.375 -0.375 -0.875  1.625]\n",
      " [-0.125 -0.625 -0.625  1.375]\n",
      " [-1.25  -0.75   1.25   0.75 ]]\n"
     ]
    }
   ],
   "source": [
    "A = normalisedR/ np.sqrt(R.shape[0] - 1)\n",
    "print A"
   ]
  },
  {
   "cell_type": "code",
   "execution_count": 51,
   "metadata": {
    "collapsed": false
   },
   "outputs": [
    {
     "ename": "TypeError",
     "evalue": "svd() got an unexpected keyword argument 'k'",
     "output_type": "error",
     "traceback": [
      "\u001b[0;31m---------------------------------------------------------------------------\u001b[0m",
      "\u001b[0;31mTypeError\u001b[0m                                 Traceback (most recent call last)",
      "\u001b[0;32m<ipython-input-51-1838f0916d1e>\u001b[0m in \u001b[0;36m<module>\u001b[0;34m()\u001b[0m\n\u001b[0;32m----> 1\u001b[0;31m \u001b[0mU\u001b[0m\u001b[0;34m,\u001b[0m \u001b[0mD\u001b[0m\u001b[0;34m,\u001b[0m \u001b[0mV\u001b[0m\u001b[0;34m=\u001b[0m\u001b[0mnp\u001b[0m\u001b[0;34m.\u001b[0m\u001b[0mlinalg\u001b[0m\u001b[0;34m.\u001b[0m\u001b[0msvd\u001b[0m\u001b[0;34m(\u001b[0m\u001b[0mA\u001b[0m\u001b[0;34m,\u001b[0m \u001b[0mk\u001b[0m\u001b[0;34m=\u001b[0m\u001b[0;36m2\u001b[0m\u001b[0;34m)\u001b[0m\u001b[0;34m\u001b[0m\u001b[0m\n\u001b[0m\u001b[1;32m      2\u001b[0m \u001b[0;32mprint\u001b[0m \u001b[0mU\u001b[0m\u001b[0;34m.\u001b[0m\u001b[0mshape\u001b[0m\u001b[0;34m,\u001b[0m\u001b[0mD\u001b[0m\u001b[0;34m.\u001b[0m\u001b[0mshape\u001b[0m\u001b[0;34m,\u001b[0m\u001b[0mV\u001b[0m\u001b[0;34m.\u001b[0m\u001b[0mshape\u001b[0m\u001b[0;34m\u001b[0m\u001b[0m\n",
      "\u001b[0;31mTypeError\u001b[0m: svd() got an unexpected keyword argument 'k'"
     ]
    }
   ],
   "source": [
    "U, D, V=np.linalg.svd(A)\n",
    "print U.shape,D.shape,V.shape"
   ]
  },
  {
   "cell_type": "code",
   "execution_count": 34,
   "metadata": {
    "collapsed": false
   },
   "outputs": [
    {
     "data": {
      "text/plain": [
       "array([[ 0.59393667,  0.3747321 , -0.25779275, -0.21147617, -0.62899588],\n",
       "       [-0.18540429, -0.30892111, -0.69499063, -0.60844446,  0.13029336],\n",
       "       [-0.10634084,  0.80626825, -0.31668765,  0.0876219 ,  0.480265  ],\n",
       "       [ 0.76820725, -0.21663394,  0.06947398, -0.07635481,  0.59352393],\n",
       "       [-0.106835  ,  0.25912323,  0.58771865, -0.75601952,  0.06680341]])"
      ]
     },
     "execution_count": 34,
     "metadata": {},
     "output_type": "execute_result"
    }
   ],
   "source": [
    "V"
   ]
  },
  {
   "cell_type": "code",
   "execution_count": null,
   "metadata": {
    "collapsed": true
   },
   "outputs": [],
   "source": []
  },
  {
   "cell_type": "code",
   "execution_count": 37,
   "metadata": {
    "collapsed": false
   },
   "outputs": [],
   "source": [
    "from scipy.sparse import csc_matrix\n",
    "A=csc_matrix([[1, 0, 0], [5, 0, 2], [0, -1, 0], [0, 0, 3]], dtype=float)"
   ]
  },
  {
   "cell_type": "code",
   "execution_count": 39,
   "metadata": {
    "collapsed": false
   },
   "outputs": [
    {
     "data": {
      "text/plain": [
       "<4x3 sparse matrix of type '<type 'numpy.float64'>'\n",
       "\twith 5 stored elements in Compressed Sparse Column format>"
      ]
     },
     "execution_count": 39,
     "metadata": {},
     "output_type": "execute_result"
    }
   ],
   "source": [
    "A"
   ]
  },
  {
   "cell_type": "code",
   "execution_count": null,
   "metadata": {
    "collapsed": true
   },
   "outputs": [],
   "source": []
  },
  {
   "cell_type": "code",
   "execution_count": null,
   "metadata": {
    "collapsed": true
   },
   "outputs": [],
   "source": []
  },
  {
   "cell_type": "code",
   "execution_count": null,
   "metadata": {
    "collapsed": true
   },
   "outputs": [],
   "source": []
  },
  {
   "cell_type": "code",
   "execution_count": 42,
   "metadata": {
    "collapsed": false,
    "scrolled": true
   },
   "outputs": [
    {
     "data": {
      "text/plain": [
       "array([[-0.69366543,  0.59343205, -0.40824829],\n",
       "       [-0.4427092 , -0.79833696, -0.40824829],\n",
       "       [-0.56818732, -0.10245245,  0.81649658]])"
      ]
     },
     "execution_count": 42,
     "metadata": {},
     "output_type": "execute_result"
    }
   ],
   "source": [
    "import numpy as np\n",
    "A = np.array([[7, 2], [3, 4], [5, 3]])\n",
    "U, D, V = np.linalg.svd(A)\n",
    "U"
   ]
  },
  {
   "cell_type": "code",
   "execution_count": 14,
   "metadata": {
    "collapsed": true
   },
   "outputs": [],
   "source": [
    "from scipy.sparse.linalg import svds\n",
    "U,sigma,Vt=svds(r_demeaned,k=50)"
   ]
  },
  {
   "cell_type": "code",
   "execution_count": 19,
   "metadata": {
    "collapsed": false
   },
   "outputs": [
    {
     "data": {
      "text/plain": [
       "((668,), (50, 10325))"
      ]
     },
     "execution_count": 19,
     "metadata": {},
     "output_type": "execute_result"
    }
   ],
   "source": [
    "np.dot(U,sigma).T.shape, Vt.shape"
   ]
  },
  {
   "cell_type": "code",
   "execution_count": 15,
   "metadata": {
    "collapsed": false
   },
   "outputs": [
    {
     "ename": "ValueError",
     "evalue": "shapes (668,) and (50,10325) not aligned: 668 (dim 0) != 50 (dim 0)",
     "output_type": "error",
     "traceback": [
      "\u001b[0;31m---------------------------------------------------------------------------\u001b[0m",
      "\u001b[0;31mValueError\u001b[0m                                Traceback (most recent call last)",
      "\u001b[0;32m<ipython-input-15-c10e9dc4090c>\u001b[0m in \u001b[0;36m<module>\u001b[0;34m()\u001b[0m\n\u001b[0;32m----> 1\u001b[0;31m \u001b[0mnp\u001b[0m\u001b[0;34m.\u001b[0m\u001b[0mdot\u001b[0m\u001b[0;34m(\u001b[0m\u001b[0mnp\u001b[0m\u001b[0;34m.\u001b[0m\u001b[0mdot\u001b[0m\u001b[0;34m(\u001b[0m\u001b[0mU\u001b[0m\u001b[0;34m,\u001b[0m\u001b[0msigma\u001b[0m\u001b[0;34m)\u001b[0m\u001b[0;34m,\u001b[0m\u001b[0mVt\u001b[0m\u001b[0;34m)\u001b[0m\u001b[0;34m\u001b[0m\u001b[0m\n\u001b[0m",
      "\u001b[0;31mValueError\u001b[0m: shapes (668,) and (50,10325) not aligned: 668 (dim 0) != 50 (dim 0)"
     ]
    }
   ],
   "source": [
    "np.dot(np.dot(U,sigma),Vt)"
   ]
  },
  {
   "cell_type": "code",
   "execution_count": null,
   "metadata": {
    "collapsed": true
   },
   "outputs": [],
   "source": []
  },
  {
   "cell_type": "code",
   "execution_count": null,
   "metadata": {
    "collapsed": true
   },
   "outputs": [],
   "source": []
  },
  {
   "cell_type": "code",
   "execution_count": null,
   "metadata": {
    "collapsed": true
   },
   "outputs": [],
   "source": []
  },
  {
   "cell_type": "code",
   "execution_count": null,
   "metadata": {
    "collapsed": true
   },
   "outputs": [],
   "source": []
  },
  {
   "cell_type": "code",
   "execution_count": null,
   "metadata": {
    "collapsed": true
   },
   "outputs": [],
   "source": []
  },
  {
   "cell_type": "code",
   "execution_count": null,
   "metadata": {
    "collapsed": true
   },
   "outputs": [],
   "source": []
  },
  {
   "cell_type": "markdown",
   "metadata": {},
   "source": [
    "* Rating\n",
    "    * 추천에서 사용한다.\n",
    "    * 사용자, 제품, 평가 항목으로 구성한다.\n",
    "\n",
    "\n",
    "from pyspark.mllib.recommendation import Rating\n",
    "Rating(1, 2, 5.0)"
   ]
  },
  {
   "cell_type": "markdown",
   "metadata": {
    "slideshow": {
     "slide_type": "slide"
    }
   },
   "source": [
    "## 문제 S-5: ALS 알고리즘으로 영화 추천\n",
    "\n",
    "### 문제\n",
    "\n",
    "함께 영화를 보러 간다고 하자.\n",
    "어떤 영화를 볼까? 묻지 않고 영화를 고르면 좋아할까?\n",
    "그렇다면 어떤 영화를 좋아하는지 직접 묻지 않고 어떻게 알 수 있을까?\n",
    "영화에 대한 선호도를 모른다 하더라도, 추정할 수 있는 방법이 있다.\n",
    "추천 알고리즘인 Matrix Factorization을 푸는 방식으로 ALS Alternating Least Squares를 추천해 보자.\n",
    "\n",
    "참조: [spark recommendation](https://www.codementor.io/spark/tutorial/building-a-recommender-with-apache-spark-python-example-app-part1)\n",
    "\n",
    "* 주 13 - spark 추천 영화 음악? \n",
    "    * amazon similarity lookup http://blogs.gartner.com/martin-kihn/how-to-build-a-recommender-system-in-python/\n",
    "    * https://www.codementor.io/spark/tutorial/building-a-web-service-with-apache-spark-flask-example-app-part2\n",
    "    * https://github.com/grahamjenson/list_of_recommender_systems\n",
    "        * content-based filtering\n",
    "        * collaborative filtering\n"
   ]
  },
  {
   "cell_type": "markdown",
   "metadata": {
    "slideshow": {
     "slide_type": "subslide"
    }
   },
   "source": [
    "## IPython Notebook에서 SparkSession 생성하기\n",
    "\n",
    "Jupyter Notebook에서 Spark를 사용하려면 몇 가지 설정이 필요하다.\n",
    "Spark 실행에 필요한 라이브러리를 경로에서 찾을 수 있게 설정해야 한다.\n",
    "아래와 같이 ```sys.path.insert()``` 함수를 사용하면 라이브러리를 Python 경로에 추가할 수 있다."
   ]
  },
  {
   "cell_type": "code",
   "execution_count": 1,
   "metadata": {
    "collapsed": true
   },
   "outputs": [],
   "source": [
    "import os\n",
    "import sys \n",
    "os.environ[\"SPARK_HOME\"]=os.path.join(os.environ['HOME'],'Downloads','spark-2.0.0-bin-hadoop2.7')\n",
    "os.environ[\"PYLIB\"]=os.path.join(os.environ[\"SPARK_HOME\"],'python','lib')\n",
    "sys.path.insert(0,os.path.join(os.environ[\"PYLIB\"],'py4j-0.10.1-src.zip'))\n",
    "sys.path.insert(0,os.path.join(os.environ[\"PYLIB\"],'pyspark.zip'))"
   ]
  },
  {
   "cell_type": "code",
   "execution_count": 4,
   "metadata": {
    "collapsed": true,
    "slideshow": {
     "slide_type": "slide"
    }
   },
   "outputs": [],
   "source": [
    "import pyspark\n",
    "myConf=pyspark.SparkConf()\n",
    "spark = pyspark.sql.SparkSession.builder\\\n",
    "    .master(\"local\")\\\n",
    "    .appName(\"myApp\")\\\n",
    "    .config(conf=myConf)\\\n",
    "    .getOrCreate()"
   ]
  },
  {
   "cell_type": "markdown",
   "metadata": {
    "slideshow": {
     "slide_type": "subslide"
    }
   },
   "source": [
    "## 데이터\n",
    "\n",
    "사용자의 영화에 대한 평가가 저장되어 있는 ```ratings```, 영화정보를 가지고 있는 ```movies``` 파일을 읽어서, RDD를 생성한다."
   ]
  },
  {
   "cell_type": "markdown",
   "metadata": {
    "slideshow": {
     "slide_type": "subslide"
    }
   },
   "source": [
    "### ratings\n",
    "\n",
    "```ratings```는 사용자, 영화, 평점, 시간 정보를 가지고 있는데, 이 파일을 읽어보자."
   ]
  },
  {
   "cell_type": "code",
   "execution_count": 14,
   "metadata": {
    "collapsed": false
   },
   "outputs": [],
   "source": [
    "import os\n",
    "small_ratings = os.path.join('data', 'ml-latest-small', 'ratings.csv')"
   ]
  },
  {
   "cell_type": "markdown",
   "metadata": {
    "slideshow": {
     "slide_type": "subslide"
    }
   },
   "source": [
    "RDD는 sparkContext의 ```textFile(파일)``` 함수로부터 생성한다.\n",
    "보통 파일은 헤더와 내용으로 구성된다. 첫 줄을 읽어서, 데이터 헤더를 확인하자."
   ]
  },
  {
   "cell_type": "code",
   "execution_count": 34,
   "metadata": {
    "collapsed": true
   },
   "outputs": [],
   "source": [
    "small_ratings_rdd = spark.sparkContext.textFile(small_ratings)"
   ]
  },
  {
   "cell_type": "code",
   "execution_count": 35,
   "metadata": {
    "collapsed": false
   },
   "outputs": [
    {
     "name": "stdout",
     "output_type": "stream",
     "text": [
      "[u'userId,movieId,rating,timestamp']\n"
     ]
    }
   ],
   "source": [
    "print small_ratings_rdd.take(1)"
   ]
  },
  {
   "cell_type": "code",
   "execution_count": 36,
   "metadata": {
    "collapsed": true
   },
   "outputs": [],
   "source": [
    "small_ratings_rdd_header = small_ratings_rdd.take(1)"
   ]
  },
  {
   "cell_type": "code",
   "execution_count": 37,
   "metadata": {
    "collapsed": false
   },
   "outputs": [
    {
     "name": "stdout",
     "output_type": "stream",
     "text": [
      "userId,movieId,rating,timestamp\n"
     ]
    }
   ],
   "source": [
    "print small_ratings_rdd_header[0]"
   ]
  },
  {
   "cell_type": "markdown",
   "metadata": {
    "slideshow": {
     "slide_type": "subslide"
    }
   },
   "source": [
    "파일의 첫째 줄이 header이므로 이를 ```filter()```한다.\n",
    "데이터는 4개의 컬럼으로 구성된다. 이를 컴마로 분리하고 처음 3개만 RDD로 만든다.\n",
    "\n",
    "\n",
    "```python\n",
    "userId,movieId,rating,timestamp\n",
    "1,16,4.0,1217897793\n",
    "1,24,1.5,1217895807\n",
    "1,32,4.0,1217896246\n",
    "...\n",
    "```"
   ]
  },
  {
   "cell_type": "markdown",
   "metadata": {
    "slideshow": {
     "slide_type": "subslide"
    }
   },
   "source": [
    "아래 ```cache()``` 함수는 필요한 경우에 사용한다.\n",
    "RDD는 lazy 연산을 한다. ```collect()```, ```count()``` 등과 같은 action 함수와 같이, 실제 데이터로부터 연산이 필요하기 전까지는 lazy 연산을 한다. ```cache()``` 함수는 메모리에 올려놓는다는 의미이다. cache는 연산이 일어나면 메모리에 데이터를 올려놓고, 다음부터 그 cache에 저장된 것을 사용하게 되므로 빠르다.\n"
   ]
  },
  {
   "cell_type": "code",
   "execution_count": 7,
   "metadata": {
    "collapsed": true
   },
   "outputs": [],
   "source": [
    "small_ratings_data = small_ratings_rdd\\\n",
    "    .filter(lambda line: line!=small_ratings_rdd_header)\\\n",
    "    .map(lambda line: line.split(\",\"))\\\n",
    "    .map(lambda tokens: (tokens[0],tokens[1],tokens[2]))\\\n",
    "    .cache()"
   ]
  },
  {
   "cell_type": "code",
   "execution_count": 8,
   "metadata": {
    "collapsed": false
   },
   "outputs": [
    {
     "data": {
      "text/plain": [
       "[(u'1', u'16', u'4.0'), (u'1', u'24', u'1.5'), (u'1', u'32', u'4.0')]"
      ]
     },
     "execution_count": 8,
     "metadata": {},
     "output_type": "execute_result"
    }
   ],
   "source": [
    "small_ratings_data.take(3)"
   ]
  },
  {
   "cell_type": "markdown",
   "metadata": {
    "slideshow": {
     "slide_type": "subslide"
    }
   },
   "source": [
    "이를 ```csvRdd()``` 함수로 만들어 ratings, movies 데이터를 만들어 보자.\n",
    "\n",
    "RDD는 lazy 연산을 한다. ```collect()```, ```count()``` 등과 같은 action 함수와 같이, 실제 데이터로부터 연산이 필요하기 전까지는 lazy 연산을 한다. ```cache()``` 함수는 메모리에 올려놓는다는 의미이다. cache는 연산이 일어나면 메모리에 데이터를 올려놓고, 다음부터 그 cache에 저장된 것을 사용하게 되므로 빠르다.\n",
    "```cache()```는 필요한 경우에 사용한다."
   ]
  },
  {
   "cell_type": "code",
   "execution_count": 38,
   "metadata": {
    "collapsed": true
   },
   "outputs": [],
   "source": [
    "def csvRdd(csvpath):\n",
    "    _rdd = spark.sparkContext.textFile(csvpath)\n",
    "    _rdd_header = _rdd.take(1)[0]\n",
    "    print \"header: %s\" % _rdd_header\n",
    "    rdd = _rdd\\\n",
    "        .filter(lambda line: line!=_rdd_header) \\\n",
    "        .map(lambda line: line.split(\",\")) \\\n",
    "        .map(lambda tokens: (tokens[0],tokens[1],tokens[2])) \\\n",
    "        .cache()\n",
    "    return rdd"
   ]
  },
  {
   "cell_type": "code",
   "execution_count": null,
   "metadata": {
    "collapsed": true
   },
   "outputs": [],
   "source": [
    "#ratingspath = os.path.join(datapath, 'ml-latest-small', 'ratings.csv')\n",
    "#ratings=csvRdd(ratingspath)\n",
    "ratings=csvRdd(small_ratings)"
   ]
  },
  {
   "cell_type": "code",
   "execution_count": 20,
   "metadata": {
    "collapsed": false
   },
   "outputs": [
    {
     "name": "stdout",
     "output_type": "stream",
     "text": [
      "header: userId,movieId,rating,timestamp\n"
     ]
    },
    {
     "data": {
      "text/plain": [
       "[(u'1', u'16', u'4.0'), (u'1', u'24', u'1.5'), (u'1', u'32', u'4.0')]"
      ]
     },
     "execution_count": 20,
     "metadata": {},
     "output_type": "execute_result"
    }
   ],
   "source": [
    "ratings.take(3)"
   ]
  },
  {
   "cell_type": "markdown",
   "metadata": {
    "slideshow": {
     "slide_type": "subslide"
    }
   },
   "source": [
    "### movies\n",
    "\n",
    "```movies``` 파일은 영화제목, 장르 정보를 가지고 있다."
   ]
  },
  {
   "cell_type": "code",
   "execution_count": 39,
   "metadata": {
    "collapsed": false
   },
   "outputs": [
    {
     "name": "stdout",
     "output_type": "stream",
     "text": [
      "header: movieId,title,genres\n"
     ]
    },
    {
     "data": {
      "text/plain": [
       "[(u'1', u'Toy Story (1995)', u'Adventure|Animation|Children|Comedy|Fantasy'),\n",
       " (u'2', u'Jumanji (1995)', u'Adventure|Children|Fantasy'),\n",
       " (u'3', u'Grumpier Old Men (1995)', u'Comedy|Romance')]"
      ]
     },
     "execution_count": 39,
     "metadata": {},
     "output_type": "execute_result"
    }
   ],
   "source": [
    "moviespath = os.path.join('data', 'ml-latest-small', 'movies.csv')\n",
    "movies=csvRdd(moviespath)\n",
    "movies.take(3)"
   ]
  },
  {
   "cell_type": "markdown",
   "metadata": {
    "slideshow": {
     "slide_type": "subslide"
    }
   },
   "source": [
    "### train, test\n",
    "\n",
    "훈련, 테스트 데이터를 분리해 보자. ```randomSplit(weights, seed=None)``` 함수는 weights, seed를 인자로 받는다.\n",
    "* weights: ```ratings``` 데이터의 분할하는 비율을 설정하고, 정규화해서 합계를 1.0으로 만들어 준다.\n",
    "* seed: 샘플링하는 숫자\n",
    "\n",
    "구분 | 비율\n",
    "-----|-----\n",
    "train | 6\n",
    "validation | 2\n",
    "test | 2"
   ]
  },
  {
   "cell_type": "code",
   "execution_count": 22,
   "metadata": {
    "collapsed": true
   },
   "outputs": [],
   "source": [
    "from pyspark.mllib.recommendation import ALS\n",
    "import math\n",
    "\n",
    "_train, _validation, _test=ratings.randomSplit([6, 2, 2], seed=0L)"
   ]
  },
  {
   "cell_type": "code",
   "execution_count": 23,
   "metadata": {
    "collapsed": true
   },
   "outputs": [],
   "source": [
    "_validation_01 = _validation.map(lambda x: (x[0], x[1]))"
   ]
  },
  {
   "cell_type": "code",
   "execution_count": 24,
   "metadata": {
    "collapsed": false
   },
   "outputs": [],
   "source": [
    "_test_01 = _test.map(lambda x: (x[0], x[1]))"
   ]
  },
  {
   "cell_type": "markdown",
   "metadata": {
    "slideshow": {
     "slide_type": "subslide"
    }
   },
   "source": [
    "### ALS 모델링\n",
    "\n",
    "ALS는 mllib, ml 패키지 모두 제공되고 있으나, 서로 사용하는 방법이 다르므로 주의가 필요하다.\n",
    "RDD 기반 API는 Spark 3.0에서는 제외될 예정이다.\n",
    "\n",
    "```python\n",
    "#----------------ml package------------------\n",
    "from pyspark.ml.recommendation import ALS\n",
    "als = ALS(rank=10, maxIter=20, userCol=\"user\", itemCol=\"item\", ratingCol=\"rating\")\n",
    "model = als.fit(trainDf)\n",
    "predictions = model.transform(testDf)\n",
    "\n",
    "#----------------mllib package----------------\n",
    "from pyspark.mllib.recommendation import ALS\n",
    "model = ALS.train(trainRdd, 10, seed=3, iterations=20)\n",
    "predictions = model.predictAll(testRdd).map(lambda r: (r.user, r.product, r.rating))\n",
    "```"
   ]
  },
  {
   "cell_type": "markdown",
   "metadata": {
    "collapsed": true
   },
   "source": [
    "\n",
    "\n",
    "ALS는 mllib, ml 패키지 모두 제공되고 있으나, 서로 사용하는 방법이 다르므로 주의가 필요하다.\n",
    "RDD 기반 API는 Spark 3.0에서는 제외될 예정이다.\n",
    "\n",
    "```python\n",
    "#----------------ml package------------------\n",
    "from pyspark.ml.recommendation import ALS\n",
    "als = ALS(rank=10, maxIter=20, userCol=\"user\", itemCol=\"item\", ratingCol=\"rating\")\n",
    "model = als.fit(trainDf)\n",
    "predictions = model.transform(testDf)\n",
    "\n",
    "#----------------mllib package----------------\n",
    "from pyspark.mllib.recommendation import ALS\n",
    "model = ALS.train(trainRdd, 10, seed=3, iterations=20)\n",
    "predictions = model.predictAll(testRdd).map(lambda r: (r.user, r.product, r.rating))\n",
    "```"
   ]
  },
  {
   "cell_type": "markdown",
   "metadata": {
    "slideshow": {
     "slide_type": "subslide"
    }
   },
   "source": [
    "ALS 모델에 필요한 설정이 있다.\n",
    "* rank는 숨겨진 요인 latent factors의 수\n",
    "* iterations 반복회수\n",
    "* lambda는 regularization 계수 (높으면 regularizaton 높음..."
   ]
  },
  {
   "cell_type": "code",
   "execution_count": 78,
   "metadata": {
    "collapsed": false
   },
   "outputs": [],
   "source": [
    "seed = 5L\n",
    "iterations = 10\n",
    "regularization_parameter = 0.1\n",
    "\n",
    "errors = [0, 0, 0]\n",
    "err = 0\n",
    "tolerance = 0.02\n",
    "\n",
    "min_error = float('inf')\n",
    "best_rank = -1\n",
    "best_iteration = -1\n",
    "\n",
    "rank=4\n",
    "# start for\n",
    "# ranks = [4, 8, 12]\n",
    "# for rank in ranks:\n",
    "model = ALS.train(_train,rank,seed=seed,iterations=iterations,lambda_=0.1)"
   ]
  },
  {
   "cell_type": "markdown",
   "metadata": {
    "slideshow": {
     "slide_type": "subslide"
    }
   },
   "source": [
    "### 예측\n",
    "\n",
    "#### 전체\n",
    "\n",
    "```predictAll()``` 함수는 ```ratings``` 평가점수를 예측한다. 즉 사용자의 영화에 대한 평가점수가 없는 경우, 몇 점인지 예측하게 된다."
   ]
  },
  {
   "cell_type": "code",
   "execution_count": 79,
   "metadata": {
    "collapsed": true
   },
   "outputs": [],
   "source": [
    "predictions = model.predictAll(_validation_01)"
   ]
  },
  {
   "cell_type": "markdown",
   "metadata": {},
   "source": [
    "predictions은 RDD이므로, 예측 결과 값은 아래와 같이 ```take()```, ```collect()``` 함수를 바로 사용하거나, ```map()``` 함수를 사용해서 추출할 수 있다."
   ]
  },
  {
   "cell_type": "code",
   "execution_count": 80,
   "metadata": {
    "collapsed": false
   },
   "outputs": [
    {
     "data": {
      "text/plain": [
       "pyspark.rdd.RDD"
      ]
     },
     "execution_count": 80,
     "metadata": {},
     "output_type": "execute_result"
    }
   ],
   "source": [
    "type(predictions)"
   ]
  },
  {
   "cell_type": "code",
   "execution_count": 81,
   "metadata": {
    "collapsed": false
   },
   "outputs": [
    {
     "data": {
      "text/plain": [
       "[Rating(user=475, product=81132, rating=1.208942277934203),\n",
       " Rating(user=469, product=667, rating=2.287210521555096)]"
      ]
     },
     "execution_count": 81,
     "metadata": {},
     "output_type": "execute_result"
    }
   ],
   "source": [
    "predictions.take(2)"
   ]
  },
  {
   "cell_type": "code",
   "execution_count": 82,
   "metadata": {
    "collapsed": false
   },
   "outputs": [
    {
     "data": {
      "text/plain": [
       "[((475, 81132), 1.208942277934203), ((469, 667), 2.287210521555096)]"
      ]
     },
     "execution_count": 82,
     "metadata": {},
     "output_type": "execute_result"
    }
   ],
   "source": [
    "predictions.map(lambda r: ((r[0], r[1]), r[2])).take(2)"
   ]
  },
  {
   "cell_type": "markdown",
   "metadata": {
    "slideshow": {
     "slide_type": "subslide"
    }
   },
   "source": [
    "실제와 예측을 나란히 비교해 보자.\n",
    "먼저 예측을 저장하고, 이를 ```map()``` 함수로 실제 값을 출력하고 ```join()``` 함수로 나란히 출력해 보자."
   ]
  },
  {
   "cell_type": "code",
   "execution_count": 83,
   "metadata": {
    "collapsed": false
   },
   "outputs": [],
   "source": [
    "predictions=predictions.map(lambda r: ((r[0], r[1]), r[2]))"
   ]
  },
  {
   "cell_type": "code",
   "execution_count": 84,
   "metadata": {
    "collapsed": true
   },
   "outputs": [],
   "source": [
    "rates_and_preds = _validation\\\n",
    "    .map(lambda r: ((int(r[0]), int(r[1])), float(r[2])))\\\n",
    "    .join(predictions)"
   ]
  },
  {
   "cell_type": "code",
   "execution_count": 85,
   "metadata": {
    "collapsed": false
   },
   "outputs": [
    {
     "data": {
      "text/plain": [
       "[((627, 30793), (3.5, 3.3273636051642086)),\n",
       " ((668, 4030), (1.5, 1.8208563455773858)),\n",
       " ((332, 2528), (4.0, 4.088212813873781))]"
      ]
     },
     "execution_count": 85,
     "metadata": {},
     "output_type": "execute_result"
    }
   ],
   "source": [
    "rates_and_preds.take(3)"
   ]
  },
  {
   "cell_type": "code",
   "execution_count": null,
   "metadata": {
    "collapsed": true
   },
   "outputs": [],
   "source": []
  },
  {
   "cell_type": "code",
   "execution_count": 88,
   "metadata": {
    "collapsed": false
   },
   "outputs": [
    {
     "data": {
      "text/plain": [
       "PythonRDD[1214] at RDD at PythonRDD.scala:48"
      ]
     },
     "execution_count": 88,
     "metadata": {},
     "output_type": "execute_result"
    }
   ],
   "source": [
    "model.userFeatures()"
   ]
  },
  {
   "cell_type": "code",
   "execution_count": null,
   "metadata": {
    "collapsed": true
   },
   "outputs": [],
   "source": []
  },
  {
   "cell_type": "markdown",
   "metadata": {
    "slideshow": {
     "slide_type": "subslide"
    }
   },
   "source": [
    "#### 사용자별 예측\n",
    "\n",
    "userId, moveId를 넣으면, 평가점수를 예측할 수 있다.\n",
    "예를 들어, 1번 사용자, 24번 영화에 대한 rating은 약 2.04이다."
   ]
  },
  {
   "cell_type": "code",
   "execution_count": 70,
   "metadata": {
    "collapsed": false,
    "scrolled": true
   },
   "outputs": [
    {
     "data": {
      "text/plain": [
       "2.477817297611674"
      ]
     },
     "execution_count": 70,
     "metadata": {},
     "output_type": "execute_result"
    }
   ],
   "source": [
    "model.predict(1,24)"
   ]
  },
  {
   "cell_type": "markdown",
   "metadata": {},
   "source": [
    "* 1번 사용자, 상위 10개 상품 추천"
   ]
  },
  {
   "cell_type": "code",
   "execution_count": 92,
   "metadata": {
    "collapsed": false,
    "scrolled": true
   },
   "outputs": [],
   "source": [
    "top10for1 = model.recommendProducts(1,10)"
   ]
  },
  {
   "cell_type": "code",
   "execution_count": 93,
   "metadata": {
    "collapsed": false
   },
   "outputs": [
    {
     "data": {
      "text/plain": [
       "list"
      ]
     },
     "execution_count": 93,
     "metadata": {},
     "output_type": "execute_result"
    }
   ],
   "source": [
    "type(top10for1)"
   ]
  },
  {
   "cell_type": "code",
   "execution_count": 94,
   "metadata": {
    "collapsed": false,
    "scrolled": true
   },
   "outputs": [
    {
     "data": {
      "text/plain": [
       "[Rating(user=1, product=5147, rating=5.417326172972089),\n",
       " Rating(user=1, product=3272, rating=5.272865359188067),\n",
       " Rating(user=1, product=103980, rating=5.221125234610412),\n",
       " Rating(user=1, product=90603, rating=5.199192419824584),\n",
       " Rating(user=1, product=6583, rating=5.131635645196752),\n",
       " Rating(user=1, product=105844, rating=5.127320038146992),\n",
       " Rating(user=1, product=714, rating=5.094333621153465),\n",
       " Rating(user=1, product=917, rating=5.076105430608997),\n",
       " Rating(user=1, product=59810, rating=5.037403608152832),\n",
       " Rating(user=1, product=104177, rating=5.037403608152832)]"
      ]
     },
     "execution_count": 94,
     "metadata": {},
     "output_type": "execute_result"
    }
   ],
   "source": [
    "top10for1"
   ]
  },
  {
   "cell_type": "code",
   "execution_count": 96,
   "metadata": {
    "collapsed": false
   },
   "outputs": [
    {
     "data": {
      "text/plain": [
       "103980"
      ]
     },
     "execution_count": 96,
     "metadata": {},
     "output_type": "execute_result"
    }
   ],
   "source": [
    "top10for1[2][1]"
   ]
  },
  {
   "cell_type": "code",
   "execution_count": 99,
   "metadata": {
    "collapsed": false
   },
   "outputs": [
    {
     "data": {
      "text/plain": [
       "<bound method PipelinedRDD.lookup of PythonRDD[273] at RDD at PythonRDD.scala:48>"
      ]
     },
     "execution_count": 99,
     "metadata": {},
     "output_type": "execute_result"
    }
   ],
   "source": [
    "movies.lookup"
   ]
  },
  {
   "cell_type": "markdown",
   "metadata": {
    "slideshow": {
     "slide_type": "subslide"
    }
   },
   "source": [
    "### 오류\n",
    "\n",
    "MSE Mean Squared Error을 출력해보자."
   ]
  },
  {
   "cell_type": "code",
   "execution_count": 90,
   "metadata": {
    "collapsed": true
   },
   "outputs": [],
   "source": [
    "error = math.sqrt(rates_and_preds\n",
    "                  .map(lambda r: (r[1][0]-r[1][1])**2)\\\n",
    "                  .mean()\n",
    "                 )"
   ]
  },
  {
   "cell_type": "code",
   "execution_count": 91,
   "metadata": {
    "collapsed": false
   },
   "outputs": [
    {
     "name": "stdout",
     "output_type": "stream",
     "text": [
      "0.919837162894\n"
     ]
    }
   ],
   "source": [
    "print error"
   ]
  },
  {
   "cell_type": "code",
   "execution_count": null,
   "metadata": {
    "collapsed": true,
    "slideshow": {
     "slide_type": "subslide"
    }
   },
   "outputs": [],
   "source": [
    "# errors[err] = error\n",
    "#err += 1\n",
    "#print 'For rank %s the RMSE is %s' % (rank, error)\n",
    "#if error < min_error:\n",
    "#    min_error = error\n",
    "#    best_rank = rank\n",
    "# end for\n",
    "# print 'The best model was trained with rank %s' % best_rank"
   ]
  },
  {
   "cell_type": "markdown",
   "metadata": {
    "slideshow": {
     "slide_type": "subslide"
    }
   },
   "source": [
    "### 묶으면"
   ]
  },
  {
   "cell_type": "code",
   "execution_count": 77,
   "metadata": {
    "collapsed": false
   },
   "outputs": [
    {
     "ename": "NameError",
     "evalue": "name 'regularization_parameter' is not defined",
     "output_type": "error",
     "traceback": [
      "\u001b[0;31m---------------------------------------------------------------------------\u001b[0m",
      "\u001b[0;31mNameError\u001b[0m                                 Traceback (most recent call last)",
      "\u001b[0;32m<ipython-input-77-faaeab6c69ad>\u001b[0m in \u001b[0;36m<module>\u001b[0;34m()\u001b[0m\n\u001b[1;32m      1\u001b[0m \u001b[0;34m\u001b[0m\u001b[0m\n\u001b[0;32m----> 2\u001b[0;31m \u001b[0mmodel\u001b[0m \u001b[0;34m=\u001b[0m \u001b[0mALS\u001b[0m\u001b[0;34m.\u001b[0m\u001b[0mtrain\u001b[0m\u001b[0;34m(\u001b[0m\u001b[0m_train\u001b[0m\u001b[0;34m,\u001b[0m \u001b[0mbest_rank\u001b[0m\u001b[0;34m,\u001b[0m \u001b[0mseed\u001b[0m\u001b[0;34m=\u001b[0m\u001b[0mseed\u001b[0m\u001b[0;34m,\u001b[0m \u001b[0miterations\u001b[0m\u001b[0;34m=\u001b[0m\u001b[0miterations\u001b[0m\u001b[0;34m,\u001b[0m\u001b[0mlambda_\u001b[0m\u001b[0;34m=\u001b[0m\u001b[0mregularization_parameter\u001b[0m\u001b[0;34m)\u001b[0m\u001b[0;34m\u001b[0m\u001b[0m\n\u001b[0m\u001b[1;32m      3\u001b[0m \u001b[0mpredictions\u001b[0m \u001b[0;34m=\u001b[0m \u001b[0mmodel\u001b[0m\u001b[0;34m.\u001b[0m\u001b[0mpredictAll\u001b[0m\u001b[0;34m(\u001b[0m\u001b[0m_test_01\u001b[0m\u001b[0;34m)\u001b[0m\u001b[0;34m.\u001b[0m\u001b[0mmap\u001b[0m\u001b[0;34m(\u001b[0m\u001b[0;32mlambda\u001b[0m \u001b[0mr\u001b[0m\u001b[0;34m:\u001b[0m \u001b[0;34m(\u001b[0m\u001b[0;34m(\u001b[0m\u001b[0mr\u001b[0m\u001b[0;34m[\u001b[0m\u001b[0;36m0\u001b[0m\u001b[0;34m]\u001b[0m\u001b[0;34m,\u001b[0m \u001b[0mr\u001b[0m\u001b[0;34m[\u001b[0m\u001b[0;36m1\u001b[0m\u001b[0;34m]\u001b[0m\u001b[0;34m)\u001b[0m\u001b[0;34m,\u001b[0m \u001b[0mr\u001b[0m\u001b[0;34m[\u001b[0m\u001b[0;36m2\u001b[0m\u001b[0;34m]\u001b[0m\u001b[0;34m)\u001b[0m\u001b[0;34m)\u001b[0m\u001b[0;34m\u001b[0m\u001b[0m\n\u001b[1;32m      4\u001b[0m \u001b[0mrates_and_preds\u001b[0m \u001b[0;34m=\u001b[0m \u001b[0m_test\u001b[0m    \u001b[0;34m.\u001b[0m\u001b[0mmap\u001b[0m\u001b[0;34m(\u001b[0m\u001b[0;32mlambda\u001b[0m \u001b[0mr\u001b[0m\u001b[0;34m:\u001b[0m \u001b[0;34m(\u001b[0m\u001b[0;34m(\u001b[0m\u001b[0mint\u001b[0m\u001b[0;34m(\u001b[0m\u001b[0mr\u001b[0m\u001b[0;34m[\u001b[0m\u001b[0;36m0\u001b[0m\u001b[0;34m]\u001b[0m\u001b[0;34m)\u001b[0m\u001b[0;34m,\u001b[0m \u001b[0mint\u001b[0m\u001b[0;34m(\u001b[0m\u001b[0mr\u001b[0m\u001b[0;34m[\u001b[0m\u001b[0;36m1\u001b[0m\u001b[0;34m]\u001b[0m\u001b[0;34m)\u001b[0m\u001b[0;34m)\u001b[0m\u001b[0;34m,\u001b[0m \u001b[0mfloat\u001b[0m\u001b[0;34m(\u001b[0m\u001b[0mr\u001b[0m\u001b[0;34m[\u001b[0m\u001b[0;36m2\u001b[0m\u001b[0;34m]\u001b[0m\u001b[0;34m)\u001b[0m\u001b[0;34m)\u001b[0m\u001b[0;34m)\u001b[0m    \u001b[0;34m.\u001b[0m\u001b[0mjoin\u001b[0m\u001b[0;34m(\u001b[0m\u001b[0mpredictions\u001b[0m\u001b[0;34m)\u001b[0m\u001b[0;34m\u001b[0m\u001b[0m\n\u001b[1;32m      5\u001b[0m \u001b[0merror\u001b[0m \u001b[0;34m=\u001b[0m \u001b[0mmath\u001b[0m\u001b[0;34m.\u001b[0m\u001b[0msqrt\u001b[0m\u001b[0;34m(\u001b[0m\u001b[0mrates_and_preds\u001b[0m\u001b[0;34m.\u001b[0m\u001b[0mmap\u001b[0m\u001b[0;34m(\u001b[0m\u001b[0;32mlambda\u001b[0m \u001b[0mr\u001b[0m\u001b[0;34m:\u001b[0m \u001b[0;34m(\u001b[0m\u001b[0mr\u001b[0m\u001b[0;34m[\u001b[0m\u001b[0;36m1\u001b[0m\u001b[0;34m]\u001b[0m\u001b[0;34m[\u001b[0m\u001b[0;36m0\u001b[0m\u001b[0;34m]\u001b[0m \u001b[0;34m-\u001b[0m \u001b[0mr\u001b[0m\u001b[0;34m[\u001b[0m\u001b[0;36m1\u001b[0m\u001b[0;34m]\u001b[0m\u001b[0;34m[\u001b[0m\u001b[0;36m1\u001b[0m\u001b[0;34m]\u001b[0m\u001b[0;34m)\u001b[0m\u001b[0;34m**\u001b[0m\u001b[0;36m2\u001b[0m\u001b[0;34m)\u001b[0m\u001b[0;34m.\u001b[0m\u001b[0mmean\u001b[0m\u001b[0;34m(\u001b[0m\u001b[0;34m)\u001b[0m\u001b[0;34m)\u001b[0m\u001b[0;34m\u001b[0m\u001b[0m\n",
      "\u001b[0;31mNameError\u001b[0m: name 'regularization_parameter' is not defined"
     ]
    }
   ],
   "source": [
    "\n",
    "model = ALS.train(_train, best_rank, seed=seed, iterations=iterations,lambda_=regularization_parameter)\n",
    "predictions = model.predictAll(_test_01).map(lambda r: ((r[0], r[1]), r[2]))\n",
    "rates_and_preds = _test\\\n",
    "    .map(lambda r: ((int(r[0]), int(r[1])), float(r[2])))\\\n",
    "    .join(predictions)\n",
    "error = math.sqrt(rates_and_preds.map(lambda r: (r[1][0] - r[1][1])**2).mean())\n",
    "\n",
    "print 'For testing data the RMSE is %s' % (error)\n"
   ]
  },
  {
   "cell_type": "code",
   "execution_count": null,
   "metadata": {
    "collapsed": true
   },
   "outputs": [],
   "source": []
  },
  {
   "cell_type": "code",
   "execution_count": null,
   "metadata": {
    "collapsed": true
   },
   "outputs": [],
   "source": []
  },
  {
   "cell_type": "code",
   "execution_count": null,
   "metadata": {
    "collapsed": true
   },
   "outputs": [],
   "source": []
  },
  {
   "cell_type": "code",
   "execution_count": null,
   "metadata": {
    "collapsed": true
   },
   "outputs": [],
   "source": []
  },
  {
   "cell_type": "code",
   "execution_count": 14,
   "metadata": {
    "collapsed": true
   },
   "outputs": [],
   "source": [
    "new_user_ratings = [\n",
    "     (0,260,4), # Star Wars (1977)\n",
    "     (0,1,3), # Toy Story (1995)\n",
    "     (0,16,3), # Casino (1995)\n",
    "     (0,25,4), # Leaving Las Vegas (1995)\n",
    "     (0,32,4), # Twelve Monkeys (a.k.a. 12 Monkeys) (1995)\n",
    "     (0,335,1), # Flintstones, The (1994)\n",
    "     (0,379,1), # Timecop (1994)\n",
    "     (0,296,3), # Pulp Fiction (1994)\n",
    "     (0,858,5) , # Godfather, The (1972)\n",
    "     (0,50,4) # Usual Suspects, The (1995)\n",
    "    ]"
   ]
  },
  {
   "cell_type": "code",
   "execution_count": 16,
   "metadata": {
    "collapsed": false
   },
   "outputs": [],
   "source": [
    "new_user_ratings_RDD = spark.sparkContext.parallelize(new_user_ratings)"
   ]
  },
  {
   "cell_type": "code",
   "execution_count": 27,
   "metadata": {
    "collapsed": false
   },
   "outputs": [],
   "source": [
    "complete_data_with_new_ratings_RDD=ratings.union(new_user_ratings_RDD)"
   ]
  },
  {
   "cell_type": "markdown",
   "metadata": {},
   "source": [
    "complete_data_with_new_ratings_RDD.collect()"
   ]
  },
  {
   "cell_type": "code",
   "execution_count": null,
   "metadata": {
    "collapsed": true
   },
   "outputs": [],
   "source": []
  },
  {
   "cell_type": "code",
   "execution_count": null,
   "metadata": {
    "collapsed": true
   },
   "outputs": [],
   "source": []
  },
  {
   "cell_type": "code",
   "execution_count": null,
   "metadata": {
    "collapsed": true
   },
   "outputs": [],
   "source": []
  },
  {
   "cell_type": "code",
   "execution_count": null,
   "metadata": {
    "collapsed": true
   },
   "outputs": [],
   "source": []
  },
  {
   "cell_type": "markdown",
   "metadata": {
    "collapsed": true
   },
   "source": [
    "## Visualising London Bike Hire Journey Lengths with Python and OSRM\n",
    "http://sensitivecities.com/bikeshare.html#.WUTJphPyiL4"
   ]
  },
  {
   "cell_type": "markdown",
   "metadata": {
    "collapsed": true
   },
   "source": [
    "### 문제 M-6: Ethereum"
   ]
  },
  {
   "cell_type": "code",
   "execution_count": null,
   "metadata": {
    "collapsed": true
   },
   "outputs": [],
   "source": [
    "base_url = Template('http://www.gutenberg.org/files/$book_id/$book_id.txt')\n",
    "r = requests.get('http://www.gutenberg.org/browse/scores/top')"
   ]
  },
  {
   "cell_type": "markdown",
   "metadata": {
    "collapsed": true
   },
   "source": [
    "* [spark flask](https://www.codementor.io/spark/tutorial/building-a-web-service-with-apache-spark-flask-example-app-part2)\n"
   ]
  }
 ],
 "metadata": {
  "celltoolbar": "Slideshow",
  "kernelspec": {
   "display_name": "Python 3",
   "language": "python",
   "name": "python3"
  },
  "language_info": {
   "codemirror_mode": {
    "name": "ipython",
    "version": 3
   },
   "file_extension": ".py",
   "mimetype": "text/x-python",
   "name": "python",
   "nbconvert_exporter": "python",
   "pygments_lexer": "ipython3",
   "version": "3.6.9"
  }
 },
 "nbformat": 4,
 "nbformat_minor": 0
}
