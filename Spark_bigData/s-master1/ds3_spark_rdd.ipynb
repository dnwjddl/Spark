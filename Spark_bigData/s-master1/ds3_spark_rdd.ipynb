{
 "cells": [
  {
   "cell_type": "markdown",
   "metadata": {
    "slideshow": {
     "slide_type": "slide"
    }
   },
   "source": [
    "# Spark RDD\n",
    "\n",
    "* Last updated 20200920SUN1400 20191001_20181201_20171218_20170515_20161125\n",
    "\n",
    "## S.1 학습내용\n",
    "\n",
    "### S.1.1 목표\n",
    "\n",
    "* 파일, JSON 등에서 RDD를 생성할 수 있다.\n",
    "* map-reduce 등 RDD API를 사용하여 데이터를 변환하고, 분석할 수 있다.\n",
    "* 텍스트데이터를 단어 빈도, word vector로 변환할 수 있다."
   ]
  },
  {
   "cell_type": "markdown",
   "metadata": {
    "slideshow": {
     "slide_type": "slide"
    }
   },
   "source": [
    "### S.1.2 목차\n",
    "\n",
    "* S.2 SparkSession\n",
    "* S.2.1 Spark를 설치한 경우\n",
    "* S.2.2 pyspark를 설치한 경우\n",
    "* S.2.3 Spark 설정\n",
    "* S.3 데이터 구조\n",
    "* S.4 RDD 소개\n",
    "* S.5 RDD 생성\n",
    "* 문제 S-1: 파일에서 RDD 생성하기\n",
    "* S.6 RDD API \n",
    "* S.6.1 비슷한 Python 함수\n",
    "* S.6.2 RDD 사용하기\n",
    "* 5.6.3 Pair RDD\n",
    "* S.7 spark-submit\n",
    "\n",
    "### S.1.3 문제\n",
    "\n",
    "* 문제 S-2: RDD를 사용하여 word count를 계산하고 그래프 그리기.\n",
    "* 문제 S-3: 성적 합계 및 평균.\n",
    "* 문제 S-4: 서울시 지하철호선별 승차인원 평균 구하기.\n",
    "* 문제 S-3: RDD를 사용하여 word vector를 생성하기."
   ]
  },
  {
   "cell_type": "markdown",
   "metadata": {
    "slideshow": {
     "slide_type": "slide"
    }
   },
   "source": [
    "## S.2 SparkSession\n",
    "\n",
    "**Spark 2.0부터는 SparkSession을 시작점**으로 개별적인 Context를 모두 **통합**해서 사용한다.\n",
    "SparkSession은 빅데이터를 처리하기 위해 구성된 **Spark 클러스터에 대한 클라이언트**와 같은 역할을 하며, 이를 통해 모든 기능을 사용한다.\n",
    "따라서 클러스터 매니저로부터 CPU, 메모리, 하드웨어 등 시스템 자원을 배분받아서 필요한 작업을 수행하게 된다.\n",
    "\n",
    "**Spark 2.0 이전에는 SparkContext를 먼저 만들고** 이를 통해 다른 Context를 사용했다. 아래에서 보듯이 Spark 1.x에서는 **SparkContext를 직접 생성**하고, **이를 통해 SQLContext, HiveContext도 생성**하여 사용했다. 이런 방식은 2.x에서도 호환되므로 그대로 사용할 수도 있지만, **SparkSession으로 통합**되었다.\n",
    "\n",
    "```python\n",
    "# 버전 1.x\n",
    "import pyspark\n",
    "conf=pyspark.SparkConf()\n",
    "conf = pyspark.SparkConf().setAppName(\"myAppName\")\n",
    "sc = pyspark.SparkContext(conf=conf)  #SparkContext를 직접 생성한다.\n",
    "sqlContext = SQLContext(sc)           #SparkContext를 넣어서 SQLContext를 생성\n",
    "```"
   ]
  },
  {
   "cell_type": "markdown",
   "metadata": {
    "slideshow": {
     "slide_type": "subslide"
    }
   },
   "source": [
    "Context는 다음과 같이 RDD, DataFrame, 라이브데이터, 데이터베이스에 대해 제공되고 있다.\n",
    "\n",
    "Context 구분 | 설명 | 사용 예\n",
    "----------|----------|----------|----------\n",
    "SparkContext | RDD를 사용하는 Context | SparkSession로부터 SparkContext 생성\n",
    "StreamingContext | 트위터, Flume, TCP 소켓 등 라이브 데이터 | pyspark.streaming.StreamingContext(sparkConf, Seconds(2)) 2초마다\n",
    "SQLContext | Spark SQL, DataFrame | spark.sql (1.x에서는 SQLContext(SparkContext))\n",
    "HiveContext | HiveQL, DataFrame | spark.sql (1.x에스는 HiveContext(SparkContext))"
   ]
  },
  {
   "cell_type": "markdown",
   "metadata": {
    "slideshow": {
     "slide_type": "subslide"
    }
   },
   "source": [
    "### S.2.1  Spark를 설치한 경우\n",
    "\n",
    "* 경로 및 라이브러리 추가\n",
    "\n",
    "Spark를 jupyter notebook에서 사용하려면, \n",
    "Spark가 설치된 디렉토리를 SPARK_HOME으로 설정하고, 또한 실행에 필요한 라이브러리를 추가한다.\n",
    "(Annaconda 문서 \"**Configuring Anaconda with Spark**\" 참조)\n",
    "보통 라이브러리 경로는 디렉토리를 지정하게 되지만, **zip**파일도 경로로 추가할 수 있다.\n",
    "\n",
    "설정 항목 | 설명\n",
    "----------|----------\n",
    "SPARK_HOME | Spark가 설치된 경로이다.\n",
    "PYTHONPATH | sys.path.insert()를 사용하여 'PYTHONPATH'를 수정한다. pyspark.zip, py4j-0.10.x-src.zip를 추가 (버전은 수정해야 함)"
   ]
  },
  {
   "cell_type": "code",
   "execution_count": 4,
   "metadata": {
    "collapsed": true,
    "slideshow": {
     "slide_type": "subslide"
    }
   },
   "outputs": [],
   "source": [
    "import os\n",
    "import sys\n",
    "\n",
    "#home=os.path.expanduser(\"~\") # HOME이 설정되어 있지 않으면 expanduser('~')를 사용한다.\n",
    "#os.environ[\"PYSPARK_PYTHON\"] = \"/usr/bin/python\"\n",
    "os.environ[\"SPARK_HOME\"]=os.path.join(os.environ['HOME'],'Downloads','spark-3.0.0-bin-hadoop2.7')\n",
    "os.environ[\"PYLIB\"]=os.path.join(os.environ[\"SPARK_HOME\"],'python','lib')\n",
    "sys.path.insert(0,os.path.join(os.environ[\"PYLIB\"],'py4j-0.10.9-src.zip'))\n",
    "sys.path.insert(0,os.path.join(os.environ[\"PYLIB\"],'pyspark.zip'))"
   ]
  },
  {
   "cell_type": "markdown",
   "metadata": {},
   "source": [
    "* SparkSession 생성"
   ]
  },
  {
   "cell_type": "code",
   "execution_count": 5,
   "metadata": {
    "collapsed": false
   },
   "outputs": [],
   "source": [
    "import pyspark"
   ]
  },
  {
   "cell_type": "code",
   "execution_count": 6,
   "metadata": {
    "collapsed": false,
    "slideshow": {
     "slide_type": "-"
    }
   },
   "outputs": [],
   "source": [
    "myConf=pyspark.SparkConf()\n",
    "spark = pyspark.sql.SparkSession\\\n",
    "    .builder\\\n",
    "    .master(\"local\")\\\n",
    "    .appName(\"myApp\")\\\n",
    "    .config(conf=myConf)\\\n",
    "    .getOrCreate()"
   ]
  },
  {
   "cell_type": "markdown",
   "metadata": {},
   "source": [
    "### S.2.2  pypark를 설치한 경우\n",
    "\n",
    "pyspark를 설치하는 경우에는 Spark가 설치된 경로 SPARK_HOME, Python 라이브러리 경로 PYTHONPATH를 별도로 설정할 필요가 없이 SparkSession을 별도로 생성하면 된다. 또는 Databricks의 Spark Cloud에서는 SparkSession을 미리 생성해 주어서 굳이 생성하지 않아도 된다.\n",
    "pyspark를 사용하거나 Spark Cloud를 사용해도 SparkSession을 생성해도 된다."
   ]
  },
  {
   "cell_type": "markdown",
   "metadata": {},
   "source": [
    "#### pyspark 설치 경로 확인"
   ]
  },
  {
   "cell_type": "markdown",
   "metadata": {
    "slideshow": {
     "slide_type": "subslide"
    }
   },
   "source": [
    "\n",
    "Python 라이브러리 경로가 방금 추가한 두 개의 zip파일이 잡혀있는 것을 볼 수 있다.\n",
    "필요한 jars파일은 보통 /python3.6/site-packages/pyspark/jars에 설치가 된다.\n",
    "```/home/jsl/.local/lib/python3.6/site-packages``` 디렉토리를 찾아보자.\n",
    "pyspark만 설치해도 필요한 jars가 설치되고, 그렇기 때문에 Spark를 설치하지 않아도 기능을 사용할 수 있게 된다.\n"
   ]
  },
  {
   "cell_type": "code",
   "execution_count": 24,
   "metadata": {
    "collapsed": false,
    "scrolled": true,
    "slideshow": {
     "slide_type": "-"
    }
   },
   "outputs": [
    {
     "name": "stdout",
     "output_type": "stream",
     "text": [
      "/usr/lib/python36.zip\n",
      "/tmp/spark-361bc0eb-560f-4aff-a0e1-59815daef09c/userFiles-a49295dc-f238-4c15-927f-cf1d2be3d91d\n",
      "/usr/lib/python3.6\n",
      "/usr/lib/python3.6/lib-dynload\n",
      "\n",
      "/home/jsl/.local/lib/python3.6/site-packages\n",
      "/usr/local/lib/python3.6/dist-packages\n",
      "/usr/lib/python3/dist-packages\n",
      "/home/jsl/.local/lib/python3.6/site-packages/IPython/extensions\n",
      "/home/jsl/.ipython\n"
     ]
    }
   ],
   "source": [
    "import sys\n",
    "for i in sys.path:\n",
    "    print(i)"
   ]
  },
  {
   "cell_type": "markdown",
   "metadata": {},
   "source": [
    "#### Python 2, 3이 같이 설정되어 있는 경우\n",
    "\n",
    "자신의 PC에 복수의 파이썬 2.x, 3.x 버전이 설치되어 있는 경우, 어느 버전을 사용해야 하는지 환경변수를 설정해서 실행 경로를 지정해주어야 한다.\n",
    "* PYSPARK_PYTHON는 workers/executors가 사용하는 버전\n",
    "* PYSPARK_DRIVER_PYTHON: driver가 사용하는 버전\n",
    "\n",
    "spark를 생성한 후, 환경변수를 다시 설정해주면 Kernel을 재시작해야 한다."
   ]
  },
  {
   "cell_type": "code",
   "execution_count": 2,
   "metadata": {
    "collapsed": true
   },
   "outputs": [],
   "source": [
    "import os\n",
    "os.environ[\"PYSPARK_PYTHON\"]=\"/usr/bin/python3\"\n",
    "os.environ[\"PYSPARK_DRIVER_PYTHON\"]=\"/usr/bin/python3\""
   ]
  },
  {
   "cell_type": "markdown",
   "metadata": {
    "slideshow": {
     "slide_type": "subslide"
    }
   },
   "source": [
    "#### SparkSession 생성\n",
    "\n",
    "\n",
    "Spark를 사용하려면 ```SparkSession``` 객체를 생성해야 한다.\n",
    "\n",
    "SparkSession을 생성해 보자. SparkSesion은 sql 모듈로 **'pyspark.sql.SparkSession'**을 클라이언트로 사용한다.\n",
    "필요한 설정은 SparkSession이 만들지기 전에 해 두어야 한다. 여기서는 설정을 별도로 하지 않고 비워 놓았다.\n",
    "SparkSession은 **builder.getOrCreate()** 함수를 호출하여, 기존의 session 또는 새로 생성하여 사용한다. 함수 **getOrCreate()** 함수는 **singleton 패턴**으로 한 번에 하나의 세션만이 존재하도록 한다.\n",
    "SparkSession을 종료하려면 stop() 함수를 호출한다.\n",
    "\n",
    "```python\n",
    "spark = pyspark.sql.SparkSession.builder.getOrCreate()\n",
    "spark.stop()\n",
    "```"
   ]
  },
  {
   "cell_type": "markdown",
   "metadata": {},
   "source": [
    "Spark를 실행하기 전 **필수적**으로 설정해야 하는 항목은\n",
    "* **master**: (1) 분산의 경우 master URL 또는 (2) 로컬인 경우 ```local[]```라고 적어준다.\n",
    "즉 local의 수는 CPU core의 수를 의미한다. 예를 들어 ```local[*]```는 가능한 최대한의  core를 사용한다는 의미이다.\n",
    "예를 들어, local[5]라고 하면, core의 수가 2개라고 하더라도 데이터는 5개의 partitions로 나누어져 주어진다.\n",
    "    * ```local```은 Spark를 로컬에서 실행한다는 의미이다.\n",
    "    * ```local[n]```는 worker의 쓰레드를 n개로 한다는 의미. CPU core의 개수에 맞추어 설정하자.\n",
    "    * ```local[*]``` 는 가능하면 가용한 모든 쓰레드를 사용한다는 의미 (Runtime.getRuntime.availableProcessors()로 그 수를 알 수 있다)\n",
    "* **appName**: 앱의 이름"
   ]
  },
  {
   "cell_type": "code",
   "execution_count": 3,
   "metadata": {
    "collapsed": false,
    "slideshow": {
     "slide_type": "-"
    }
   },
   "outputs": [],
   "source": [
    "import pyspark\n",
    "\n",
    "myConf=pyspark.SparkConf()\n",
    "#myConf=pyspark.SparkConf().set(\"spark.driver.bindAddress\", \"127.0.0.1\")\n",
    "spark = pyspark.sql.SparkSession\\\n",
    "    .builder\\\n",
    "    .master(\"local\")\\\n",
    "    .appName(\"myApp\")\\\n",
    "    .config(conf=myConf)\\\n",
    "    .getOrCreate()"
   ]
  },
  {
   "cell_type": "markdown",
   "metadata": {
    "collapsed": true
   },
   "source": [
    "### S.2.3 Spark 설정\n",
    "\n",
    "몇 가지 설정을 확인해 보자.\n",
    "설치디렉토리 아래 ```conf/```에 있는 spark-defaults.conf와 같은 설정파일에 자신에게 필요한 설정을 해 놓으면 된다."
   ]
  },
  {
   "cell_type": "code",
   "execution_count": 3,
   "metadata": {
    "collapsed": false,
    "slideshow": {
     "slide_type": "subslide"
    }
   },
   "outputs": [
    {
     "name": "stdout",
     "output_type": "stream",
     "text": [
      "Spark version \t: 3.0.0\n",
      "Spark App \t: myApp\n",
      "Spark Master \t: local\n",
      "Spark Host \t: 117.16.44.45\n"
     ]
    }
   ],
   "source": [
    "print (\"Spark version \\t: {}\".format(spark.version))\n",
    "print (\"Spark App \\t: {}\".format(spark.conf.get('spark.app.name')))\n",
    "print (\"Spark Master \\t: {}\".format(spark.conf.get('spark.master')))\n",
    "print (\"Spark Host \\t: {}\".format(spark.conf.get('spark.driver.host')))"
   ]
  },
  {
   "cell_type": "markdown",
   "metadata": {
    "slideshow": {
     "slide_type": "subslide"
    }
   },
   "source": [
    "#### spark-warehouse\n",
    "\n",
    "spark-warehouse는 내부적으로 사용되는 디렉토리로서, Derby 데이터베이스 관련 파일을 저장하게 된다.\n",
    "이 디렉토리는 Spark를 실행하면 **작업 디렉토리 아래 자동으로 생성**된다.\n",
    "또는 ```/conf/hive-site.xml``` 파일에 spark.sql.warehouse.dir를 설정해도 된다.\n",
    "또는 실행하면서 추가할 수도 있다. (참고: hdfs 파일형식으로 ```file:///```을 추가)\n",
    "\n",
    "```python\n",
    "spark = pyspark.sql.SparkSession.builder\\\n",
    "    .master(\"local\")\\\n",
    "    .appName(\"myApp\")\\\n",
    "    .config(\"spark.sql.warehouse.dir\", \"C:/Users/jsl/myTemp\")\\\n",
    "    .getOrCreate()\n",
    "```"
   ]
  },
  {
   "cell_type": "markdown",
   "metadata": {
    "slideshow": {
     "slide_type": "subslide"
    }
   },
   "source": [
    "spark-warehouse 디렉토리는 conf.get() 함수로 알아볼 수 있다. 다음에서 보듯이, ```usr.dir``` 밑에 spark-warehous가 만들어졌다는 의미이다.\n",
    "Java Property에 따르면 ```user.dir```는 사용자 작업디렉토리, user working directory이다. ```user.home```은 홈 디렉토리이다."
   ]
  },
  {
   "cell_type": "code",
   "execution_count": 15,
   "metadata": {
    "collapsed": false
   },
   "outputs": [
    {
     "data": {
      "text/plain": [
       "'file:/home/jsl/Code/git/bb/jsl/pyds/spark-warehouse/'"
      ]
     },
     "execution_count": 15,
     "metadata": {},
     "output_type": "execute_result"
    }
   ],
   "source": [
    "spark.conf.get('spark.sql.warehouse.dir')"
   ]
  },
  {
   "cell_type": "markdown",
   "metadata": {},
   "source": [
    "#### 모든 설정\n",
    "\n",
    "spark 2.1이상에서는 아래와 같이 설정을 dictionary 형식으로 읽을 수 있다."
   ]
  },
  {
   "cell_type": "code",
   "execution_count": 4,
   "metadata": {
    "collapsed": false
   },
   "outputs": [
    {
     "data": {
      "text/plain": [
       "[('spark.master', 'local'),\n",
       " ('spark.app.name', 'myApp'),\n",
       " ('spark.rdd.compress', 'True'),\n",
       " ('spark.serializer.objectStreamReset', '100'),\n",
       " ('spark.submit.pyFiles', ''),\n",
       " ('spark.executor.id', 'driver'),\n",
       " ('spark.submit.deployMode', 'client'),\n",
       " ('spark.driver.port', '33017'),\n",
       " ('spark.app.id', 'local-1600346575246'),\n",
       " ('spark.ui.showConsoleProgress', 'true'),\n",
       " ('spark.driver.host', '117.16.44.45')]"
      ]
     },
     "execution_count": 4,
     "metadata": {},
     "output_type": "execute_result"
    }
   ],
   "source": [
    "spark.sparkContext.getConf().getAll()"
   ]
  },
  {
   "cell_type": "code",
   "execution_count": 11,
   "metadata": {
    "collapsed": false,
    "scrolled": true
   },
   "outputs": [
    {
     "data": {
      "text/plain": [
       "[('spark.master', 'local'),\n",
       " ('spark.app.name', 'myApp'),\n",
       " ('spark.rdd.compress', 'True'),\n",
       " ('spark.serializer.objectStreamReset', '100'),\n",
       " ('spark.submit.pyFiles', ''),\n",
       " ('spark.executor.id', 'driver'),\n",
       " ('spark.submit.deployMode', 'client'),\n",
       " ('spark.driver.port', '33017'),\n",
       " ('spark.app.id', 'local-1600346575246'),\n",
       " ('spark.ui.showConsoleProgress', 'true'),\n",
       " ('spark.driver.bindAddress', '127.0.0.1'),\n",
       " ('spark.driver.host', '117.16.44.45')]"
      ]
     },
     "execution_count": 11,
     "metadata": {},
     "output_type": "execute_result"
    }
   ],
   "source": [
    "spark.sparkContext._conf.getAll()"
   ]
  },
  {
   "cell_type": "markdown",
   "metadata": {},
   "source": [
    "#### 설정의 변경\n",
    "\n",
    "SparkSession이 일단 만들어지고 나서는, sparkContext를 경유해서 ```spark.sparkContext._conf.set()``` 함수로 설정을 변경할 수 있다."
   ]
  },
  {
   "cell_type": "code",
   "execution_count": null,
   "metadata": {
    "collapsed": true
   },
   "outputs": [],
   "source": [
    "java.net.BindException이 발생한 경우\n",
    "process를 죽이거나, 로컬주소가 바인딩이 되어있지 못해서 그렇다."
   ]
  },
  {
   "cell_type": "code",
   "execution_count": 7,
   "metadata": {
    "collapsed": false
   },
   "outputs": [
    {
     "data": {
      "text/plain": [
       "<pyspark.conf.SparkConf at 0x7f4dd8edd240>"
      ]
     },
     "execution_count": 7,
     "metadata": {},
     "output_type": "execute_result"
    }
   ],
   "source": [
    "spark.sparkContext._conf.set(\"spark.driver.bindAddress\", \"127.0.0.1\")"
   ]
  },
  {
   "cell_type": "code",
   "execution_count": 10,
   "metadata": {
    "collapsed": false
   },
   "outputs": [
    {
     "data": {
      "text/plain": [
       "<pyspark.conf.SparkConf at 0x7fdf213bf240>"
      ]
     },
     "execution_count": 10,
     "metadata": {},
     "output_type": "execute_result"
    }
   ],
   "source": [
    "spark.sparkContext._conf.set(\"spark.executor.memory\", '8g')\n",
    "spark.sparkContext._conf.set('spark.app.name', 'jsl')\n",
    "spark.sparkContext._conf.set('spark.executor.cores', '3')\n",
    "spark.sparkContext._conf.set('spark.cores.max', '3')\n",
    "spark.sparkContext._conf.set(\"spark.driver.memory\",'8g')"
   ]
  },
  {
   "cell_type": "code",
   "execution_count": 11,
   "metadata": {
    "collapsed": false
   },
   "outputs": [
    {
     "data": {
      "text/plain": [
       "[('spark.master', 'local'),\n",
       " ('spark.app.name', 'jsl'),\n",
       " ('spark.app.id', 'local-1599391969423'),\n",
       " ('spark.executor.id', 'driver'),\n",
       " ('spark.driver.host', 'localhost'),\n",
       " ('spark.cores.max', '3'),\n",
       " ('spark.driver.port', '37573'),\n",
       " ('spark.rdd.compress', 'True'),\n",
       " ('spark.driver.memory', '8g'),\n",
       " ('spark.serializer.objectStreamReset', '100'),\n",
       " ('spark.executor.memory', '8g'),\n",
       " ('spark.submit.pyFiles', ''),\n",
       " ('spark.executor.cores', '3'),\n",
       " ('spark.submit.deployMode', 'client'),\n",
       " ('spark.ui.showConsoleProgress', 'true')]"
      ]
     },
     "execution_count": 11,
     "metadata": {},
     "output_type": "execute_result"
    }
   ],
   "source": [
    "spark.sparkContext._conf.getAll()"
   ]
  },
  {
   "cell_type": "markdown",
   "metadata": {
    "slideshow": {
     "slide_type": "subslide"
    }
   },
   "source": [
    "Spark를 실행하면서 라이브러리를 설정해야 할 필요도 생겨나게 된다. 다음은 mongo, graphframes, csv 등의 라이브러리가 설정되어 있는 내용을 보여주고 있다. 라이브러리는 https://spark-packages.org 를 방문해서 찾아서 사용하면 된다. 실제로 설치하지 않고, 명명규칙에 따라, maven에서 하는 것과 같이, 콜론으로 구분해, 패키지명과 라이브러리를 버전정보와 같이 적어주면 된다."
   ]
  },
  {
   "cell_type": "markdown",
   "metadata": {},
   "source": [
    "\"spark.jars\"는 컴마로 구분된 jar 파일 목록으로 classpath로 설정된다."
   ]
  },
  {
   "cell_type": "code",
   "execution_count": 13,
   "metadata": {
    "collapsed": false
   },
   "outputs": [],
   "source": [
    "SparkHOME=os.path.join(os.environ['HOME'], \"Downloads/spark-2.0.0-bin-hadoop2.7\")\n",
    "jars = [os.path.join(SparkHOME, x) for x in os.listdir(os.path.join(SparkHOME, \"jars\"))]"
   ]
  },
  {
   "cell_type": "code",
   "execution_count": 17,
   "metadata": {
    "collapsed": false
   },
   "outputs": [
    {
     "name": "stdout",
     "output_type": "stream",
     "text": [
      "['/home/jsl/Downloads/spark-2.0.0-bin-hadoop2.7/scala-library-2.11.8.jar', '/home/jsl/Downloads/spark-2.0.0-bin-hadoop2.7/parquet-format-2.3.0-incubating.jar', '/home/jsl/Downloads/spark-2.0.0-bin-hadoop2.7/xz-1.0.jar', '/home/jsl/Downloads/spark-2.0.0-bin-hadoop2.7/commons-dbcp-1.4.jar', '/home/jsl/Downloads/spark-2.0.0-bin-hadoop2.7/snappy-0.2.jar']\n"
     ]
    }
   ],
   "source": [
    "print(jars[0:5])"
   ]
  },
  {
   "cell_type": "code",
   "execution_count": 18,
   "metadata": {
    "collapsed": false
   },
   "outputs": [
    {
     "data": {
      "text/plain": [
       "<pyspark.conf.SparkConf at 0x7fdf213bf240>"
      ]
     },
     "execution_count": 18,
     "metadata": {},
     "output_type": "execute_result"
    }
   ],
   "source": [
    "spark.sparkContext._conf.set('spark.jars', jars)    "
   ]
  },
  {
   "cell_type": "code",
   "execution_count": 21,
   "metadata": {
    "collapsed": false
   },
   "outputs": [
    {
     "data": {
      "text/plain": [
       "[('spark.master', 'local'),\n",
       " ('spark.app.name', 'jsl'),\n",
       " ('spark.app.id', 'local-1599391969423'),\n",
       " ('spark.executor.id', 'driver'),\n",
       " ('spark.driver.host', 'localhost'),\n",
       " ('spark.cores.max', '3'),\n",
       " ('spark.driver.port', '37573'),\n",
       " ('spark.rdd.compress', 'True'),\n",
       " ('spark.driver.memory', '8g'),\n",
       " ('spark.serializer.objectStreamReset', '100'),\n",
       " ('spark.executor.memory', '8g'),\n",
       " ('spark.submit.pyFiles', ''),\n",
       " ('spark.executor.cores', '3'),\n",
       " ('spark.submit.deployMode', 'client'),\n",
       " ('spark.jars',\n",
       "  \"['/home/jsl/Downloads/spark-2.0.0-bin-hadoop2.7/scala-library-2.11.8.jar', '/home/jsl/Downloads/spark-2.0.0-bin-hadoop2.7/parquet-format-2.3.0-incubating.jar', '/home/jsl/Downloads/spark-2.0.0-bin-hadoop2.7/xz-1.0.jar', '/home/jsl/Downloads/spark-2.0.0-bin-hadoop2.7/commons-dbcp-1.4.jar', '/home/jsl/Downloads/spark-2.0.0-bin-hadoop2.7/snappy-0.2.jar', '/home/jsl/Downloads/spark-2.0.0-bin-hadoop2.7/protobuf-java-2.5.0.jar', '/home/jsl/Downloads/spark-2.0.0-bin-hadoop2.7/spark-core_2.11-2.0.0.jar', '/home/jsl/Downloads/spark-2.0.0-bin-hadoop2.7/metrics-core-3.1.2.jar', '/home/jsl/Downloads/spark-2.0.0-bin-hadoop2.7/scala-compiler-2.11.8.jar', '/home/jsl/Downloads/spark-2.0.0-bin-hadoop2.7/spark-mllib_2.11-2.0.0.jar', '/home/jsl/Downloads/spark-2.0.0-bin-hadoop2.7/py4j-0.10.1.jar', '/home/jsl/Downloads/spark-2.0.0-bin-hadoop2.7/jersey-container-servlet-core-2.22.2.jar', '/home/jsl/Downloads/spark-2.0.0-bin-hadoop2.7/activation-1.1.1.jar', '/home/jsl/Downloads/spark-2.0.0-bin-hadoop2.7/jackson-core-asl-1.9.13.jar', '/home/jsl/Downloads/spark-2.0.0-bin-hadoop2.7/oro-2.0.8.jar', '/home/jsl/Downloads/spark-2.0.0-bin-hadoop2.7/spark-unsafe_2.11-2.0.0.jar', '/home/jsl/Downloads/spark-2.0.0-bin-hadoop2.7/avro-mapred-1.7.7-hadoop2.jar', '/home/jsl/Downloads/spark-2.0.0-bin-hadoop2.7/hive-exec-1.2.1.spark2.jar', '/home/jsl/Downloads/spark-2.0.0-bin-hadoop2.7/jackson-module-scala_2.11-2.6.5.jar', '/home/jsl/Downloads/spark-2.0.0-bin-hadoop2.7/guice-servlet-3.0.jar', '/home/jsl/Downloads/spark-2.0.0-bin-hadoop2.7/gson-2.2.4.jar', '/home/jsl/Downloads/spark-2.0.0-bin-hadoop2.7/xmlenc-0.52.jar', '/home/jsl/Downloads/spark-2.0.0-bin-hadoop2.7/jodd-core-3.5.2.jar', '/home/jsl/Downloads/spark-2.0.0-bin-hadoop2.7/kryo-shaded-3.0.3.jar', '/home/jsl/Downloads/spark-2.0.0-bin-hadoop2.7/datanucleus-api-jdo-3.2.6.jar', '/home/jsl/Downloads/spark-2.0.0-bin-hadoop2.7/json4s-jackson_2.11-3.2.11.jar', '/home/jsl/Downloads/spark-2.0.0-bin-hadoop2.7/ivy-2.4.0.jar', '/home/jsl/Downloads/spark-2.0.0-bin-hadoop2.7/jackson-module-paranamer-2.6.5.jar', '/home/jsl/Downloads/spark-2.0.0-bin-hadoop2.7/stringtemplate-3.2.1.jar', '/home/jsl/Downloads/spark-2.0.0-bin-hadoop2.7/slf4j-log4j12-1.7.16.jar', '/home/jsl/Downloads/spark-2.0.0-bin-hadoop2.7/jackson-databind-2.6.5.jar', '/home/jsl/Downloads/spark-2.0.0-bin-hadoop2.7/metrics-jvm-3.1.2.jar', '/home/jsl/Downloads/spark-2.0.0-bin-hadoop2.7/parquet-common-1.7.0.jar', '/home/jsl/Downloads/spark-2.0.0-bin-hadoop2.7/leveldbjni-all-1.8.jar', '/home/jsl/Downloads/spark-2.0.0-bin-hadoop2.7/hadoop-auth-2.7.2.jar', '/home/jsl/Downloads/spark-2.0.0-bin-hadoop2.7/httpclient-4.5.2.jar', '/home/jsl/Downloads/spark-2.0.0-bin-hadoop2.7/mesos-0.21.1-shaded-protobuf.jar', '/home/jsl/Downloads/spark-2.0.0-bin-hadoop2.7/scala-xml_2.11-1.0.2.jar', '/home/jsl/Downloads/spark-2.0.0-bin-hadoop2.7/log4j-1.2.17.jar', '/home/jsl/Downloads/spark-2.0.0-bin-hadoop2.7/lz4-1.3.0.jar', '/home/jsl/Downloads/spark-2.0.0-bin-hadoop2.7/eigenbase-properties-1.1.5.jar', '/home/jsl/Downloads/spark-2.0.0-bin-hadoop2.7/hive-metastore-1.2.1.spark2.jar', '/home/jsl/Downloads/spark-2.0.0-bin-hadoop2.7/spark-sketch_2.11-2.0.0.jar', '/home/jsl/Downloads/spark-2.0.0-bin-hadoop2.7/scala-reflect-2.11.8.jar', '/home/jsl/Downloads/spark-2.0.0-bin-hadoop2.7/parquet-hadoop-1.7.0.jar', '/home/jsl/Downloads/spark-2.0.0-bin-hadoop2.7/chill-java-0.8.0.jar', '/home/jsl/Downloads/spark-2.0.0-bin-hadoop2.7/commons-collections-3.2.2.jar', '/home/jsl/Downloads/spark-2.0.0-bin-hadoop2.7/commons-math3-3.4.1.jar', '/home/jsl/Downloads/spark-2.0.0-bin-hadoop2.7/commons-digester-1.8.jar', '/home/jsl/Downloads/spark-2.0.0-bin-hadoop2.7/jackson-mapper-asl-1.9.13.jar', '/home/jsl/Downloads/spark-2.0.0-bin-hadoop2.7/stax-api-1.0-2.jar', '/home/jsl/Downloads/spark-2.0.0-bin-hadoop2.7/objenesis-2.1.jar', '/home/jsl/Downloads/spark-2.0.0-bin-hadoop2.7/apacheds-i18n-2.0.0-M15.jar', '/home/jsl/Downloads/spark-2.0.0-bin-hadoop2.7/spark-hive-thriftserver_2.11-2.0.0.jar', '/home/jsl/Downloads/spark-2.0.0-bin-hadoop2.7/javolution-5.5.1.jar', '/home/jsl/Downloads/spark-2.0.0-bin-hadoop2.7/bcprov-jdk15on-1.51.jar', '/home/jsl/Downloads/spark-2.0.0-bin-hadoop2.7/spark-yarn_2.11-2.0.0.jar', '/home/jsl/Downloads/spark-2.0.0-bin-hadoop2.7/hk2-locator-2.4.0-b34.jar', '/home/jsl/Downloads/spark-2.0.0-bin-hadoop2.7/pyrolite-4.9.jar', '/home/jsl/Downloads/spark-2.0.0-bin-hadoop2.7/commons-lang3-3.3.2.jar', '/home/jsl/Downloads/spark-2.0.0-bin-hadoop2.7/jersey-common-2.22.2.jar', '/home/jsl/Downloads/spark-2.0.0-bin-hadoop2.7/curator-framework-2.6.0.jar', '/home/jsl/Downloads/spark-2.0.0-bin-hadoop2.7/mail-1.4.7.jar', '/home/jsl/Downloads/spark-2.0.0-bin-hadoop2.7/json4s-core_2.11-3.2.11.jar', '/home/jsl/Downloads/spark-2.0.0-bin-hadoop2.7/base64-2.3.8.jar', '/home/jsl/Downloads/spark-2.0.0-bin-hadoop2.7/hadoop-client-2.7.2.jar', '/home/jsl/Downloads/spark-2.0.0-bin-hadoop2.7/hadoop-yarn-client-2.7.2.jar', '/home/jsl/Downloads/spark-2.0.0-bin-hadoop2.7/datanucleus-core-3.2.10.jar', '/home/jsl/Downloads/spark-2.0.0-bin-hadoop2.7/jpam-1.1.jar', '/home/jsl/Downloads/spark-2.0.0-bin-hadoop2.7/commons-httpclient-3.1.jar', '/home/jsl/Downloads/spark-2.0.0-bin-hadoop2.7/calcite-avatica-1.2.0-incubating.jar', '/home/jsl/Downloads/spark-2.0.0-bin-hadoop2.7/spark-tags_2.11-2.0.0.jar', '/home/jsl/Downloads/spark-2.0.0-bin-hadoop2.7/spark-mllib-local_2.11-2.0.0.jar', '/home/jsl/Downloads/spark-2.0.0-bin-hadoop2.7/jdo-api-3.0.1.jar', '/home/jsl/Downloads/spark-2.0.0-bin-hadoop2.7/commons-beanutils-1.7.0.jar', '/home/jsl/Downloads/spark-2.0.0-bin-hadoop2.7/hadoop-hdfs-2.7.2.jar', '/home/jsl/Downloads/spark-2.0.0-bin-hadoop2.7/bonecp-0.8.0.RELEASE.jar', '/home/jsl/Downloads/spark-2.0.0-bin-hadoop2.7/parquet-jackson-1.7.0.jar', '/home/jsl/Downloads/spark-2.0.0-bin-hadoop2.7/httpcore-4.4.4.jar', '/home/jsl/Downloads/spark-2.0.0-bin-hadoop2.7/jackson-jaxrs-1.9.13.jar', '/home/jsl/Downloads/spark-2.0.0-bin-hadoop2.7/jul-to-slf4j-1.7.16.jar', '/home/jsl/Downloads/spark-2.0.0-bin-hadoop2.7/calcite-linq4j-1.2.0-incubating.jar', '/home/jsl/Downloads/spark-2.0.0-bin-hadoop2.7/hadoop-mapreduce-client-shuffle-2.7.2.jar', '/home/jsl/Downloads/spark-2.0.0-bin-hadoop2.7/metrics-json-3.1.2.jar', '/home/jsl/Downloads/spark-2.0.0-bin-hadoop2.7/commons-pool-1.5.4.jar', '/home/jsl/Downloads/spark-2.0.0-bin-hadoop2.7/commons-compress-1.4.1.jar', '/home/jsl/Downloads/spark-2.0.0-bin-hadoop2.7/javax.inject-2.4.0-b34.jar', '/home/jsl/Downloads/spark-2.0.0-bin-hadoop2.7/hadoop-yarn-api-2.7.2.jar', '/home/jsl/Downloads/spark-2.0.0-bin-hadoop2.7/hadoop-yarn-server-common-2.7.2.jar', '/home/jsl/Downloads/spark-2.0.0-bin-hadoop2.7/commons-lang-2.6.jar', '/home/jsl/Downloads/spark-2.0.0-bin-hadoop2.7/spire_2.11-0.7.4.jar', '/home/jsl/Downloads/spark-2.0.0-bin-hadoop2.7/derby-10.11.1.1.jar', '/home/jsl/Downloads/spark-2.0.0-bin-hadoop2.7/breeze-macros_2.11-0.11.2.jar', '/home/jsl/Downloads/spark-2.0.0-bin-hadoop2.7/apacheds-kerberos-codec-2.0.0-M15.jar', '/home/jsl/Downloads/spark-2.0.0-bin-hadoop2.7/hk2-api-2.4.0-b34.jar', '/home/jsl/Downloads/spark-2.0.0-bin-hadoop2.7/arpack_combined_all-0.1.jar', '/home/jsl/Downloads/spark-2.0.0-bin-hadoop2.7/stream-2.7.0.jar', '/home/jsl/Downloads/spark-2.0.0-bin-hadoop2.7/jackson-xc-1.9.13.jar', '/home/jsl/Downloads/spark-2.0.0-bin-hadoop2.7/xercesImpl-2.9.1.jar', '/home/jsl/Downloads/spark-2.0.0-bin-hadoop2.7/jetty-util-6.1.26.jar', '/home/jsl/Downloads/spark-2.0.0-bin-hadoop2.7/datanucleus-rdbms-3.2.9.jar', '/home/jsl/Downloads/spark-2.0.0-bin-hadoop2.7/spark-network-common_2.11-2.0.0.jar', '/home/jsl/Downloads/spark-2.0.0-bin-hadoop2.7/spark-repl_2.11-2.0.0.jar', '/home/jsl/Downloads/spark-2.0.0-bin-hadoop2.7/parquet-hadoop-bundle-1.6.0.jar', '/home/jsl/Downloads/spark-2.0.0-bin-hadoop2.7/parquet-column-1.7.0.jar', '/home/jsl/Downloads/spark-2.0.0-bin-hadoop2.7/hadoop-yarn-server-web-proxy-2.7.2.jar', '/home/jsl/Downloads/spark-2.0.0-bin-hadoop2.7/hadoop-mapreduce-client-core-2.7.2.jar', '/home/jsl/Downloads/spark-2.0.0-bin-hadoop2.7/hadoop-annotations-2.7.2.jar', '/home/jsl/Downloads/spark-2.0.0-bin-hadoop2.7/aopalliance-1.0.jar', '/home/jsl/Downloads/spark-2.0.0-bin-hadoop2.7/htrace-core-3.1.0-incubating.jar', '/home/jsl/Downloads/spark-2.0.0-bin-hadoop2.7/hive-beeline-1.2.1.spark2.jar', '/home/jsl/Downloads/spark-2.0.0-bin-hadoop2.7/joda-time-2.9.3.jar', '/home/jsl/Downloads/spark-2.0.0-bin-hadoop2.7/mx4j-3.0.2.jar', '/home/jsl/Downloads/spark-2.0.0-bin-hadoop2.7/commons-compiler-2.7.6.jar', '/home/jsl/Downloads/spark-2.0.0-bin-hadoop2.7/osgi-resource-locator-1.0.1.jar', '/home/jsl/Downloads/spark-2.0.0-bin-hadoop2.7/curator-client-2.6.0.jar', '/home/jsl/Downloads/spark-2.0.0-bin-hadoop2.7/ST4-4.0.4.jar', '/home/jsl/Downloads/spark-2.0.0-bin-hadoop2.7/minlog-1.3.0.jar', '/home/jsl/Downloads/spark-2.0.0-bin-hadoop2.7/zookeeper-3.4.6.jar', '/home/jsl/Downloads/spark-2.0.0-bin-hadoop2.7/commons-logging-1.1.3.jar', '/home/jsl/Downloads/spark-2.0.0-bin-hadoop2.7/hive-cli-1.2.1.spark2.jar', '/home/jsl/Downloads/spark-2.0.0-bin-hadoop2.7/janino-2.7.8.jar', '/home/jsl/Downloads/spark-2.0.0-bin-hadoop2.7/breeze_2.11-0.11.2.jar', '/home/jsl/Downloads/spark-2.0.0-bin-hadoop2.7/spire-macros_2.11-0.7.4.jar', '/home/jsl/Downloads/spark-2.0.0-bin-hadoop2.7/netty-3.8.0.Final.jar', '/home/jsl/Downloads/spark-2.0.0-bin-hadoop2.7/spark-network-shuffle_2.11-2.0.0.jar', '/home/jsl/Downloads/spark-2.0.0-bin-hadoop2.7/hadoop-mapreduce-client-common-2.7.2.jar', '/home/jsl/Downloads/spark-2.0.0-bin-hadoop2.7/snappy-java-1.1.2.4.jar', '/home/jsl/Downloads/spark-2.0.0-bin-hadoop2.7/hk2-utils-2.4.0-b34.jar', '/home/jsl/Downloads/spark-2.0.0-bin-hadoop2.7/jta-1.1.jar', '/home/jsl/Downloads/spark-2.0.0-bin-hadoop2.7/RoaringBitmap-0.5.11.jar', '/home/jsl/Downloads/spark-2.0.0-bin-hadoop2.7/guava-14.0.1.jar', '/home/jsl/Downloads/spark-2.0.0-bin-hadoop2.7/commons-configuration-1.6.jar', '/home/jsl/Downloads/spark-2.0.0-bin-hadoop2.7/javax.inject-1.jar', '/home/jsl/Downloads/spark-2.0.0-bin-hadoop2.7/stax-api-1.0.1.jar', '/home/jsl/Downloads/spark-2.0.0-bin-hadoop2.7/spark-catalyst_2.11-2.0.0.jar', '/home/jsl/Downloads/spark-2.0.0-bin-hadoop2.7/spark-launcher_2.11-2.0.0.jar', '/home/jsl/Downloads/spark-2.0.0-bin-hadoop2.7/jsr305-1.3.9.jar', '/home/jsl/Downloads/spark-2.0.0-bin-hadoop2.7/jersey-media-jaxb-2.22.2.jar', '/home/jsl/Downloads/spark-2.0.0-bin-hadoop2.7/apache-log4j-extras-1.2.17.jar', '/home/jsl/Downloads/spark-2.0.0-bin-hadoop2.7/javassist-3.18.1-GA.jar', '/home/jsl/Downloads/spark-2.0.0-bin-hadoop2.7/jaxb-api-2.2.2.jar', '/home/jsl/Downloads/spark-2.0.0-bin-hadoop2.7/spark-sql_2.11-2.0.0.jar', '/home/jsl/Downloads/spark-2.0.0-bin-hadoop2.7/xbean-asm5-shaded-4.4.jar', '/home/jsl/Downloads/spark-2.0.0-bin-hadoop2.7/calcite-core-1.2.0-incubating.jar', '/home/jsl/Downloads/spark-2.0.0-bin-hadoop2.7/scalap-2.11.8.jar', '/home/jsl/Downloads/spark-2.0.0-bin-hadoop2.7/commons-net-2.2.jar', '/home/jsl/Downloads/spark-2.0.0-bin-hadoop2.7/metrics-graphite-3.1.2.jar', '/home/jsl/Downloads/spark-2.0.0-bin-hadoop2.7/pmml-model-1.2.15.jar', '/home/jsl/Downloads/spark-2.0.0-bin-hadoop2.7/jersey-server-2.22.2.jar', '/home/jsl/Downloads/spark-2.0.0-bin-hadoop2.7/commons-beanutils-core-1.8.0.jar', '/home/jsl/Downloads/spark-2.0.0-bin-hadoop2.7/javax.servlet-api-3.1.0.jar', '/home/jsl/Downloads/spark-2.0.0-bin-hadoop2.7/hadoop-common-2.7.2.jar', '/home/jsl/Downloads/spark-2.0.0-bin-hadoop2.7/avro-1.7.7.jar', '/home/jsl/Downloads/spark-2.0.0-bin-hadoop2.7/paranamer-2.3.jar', '/home/jsl/Downloads/spark-2.0.0-bin-hadoop2.7/api-util-1.0.0-M20.jar', '/home/jsl/Downloads/spark-2.0.0-bin-hadoop2.7/avro-ipc-1.7.7.jar', '/home/jsl/Downloads/spark-2.0.0-bin-hadoop2.7/jcl-over-slf4j-1.7.16.jar', '/home/jsl/Downloads/spark-2.0.0-bin-hadoop2.7/jersey-container-servlet-2.22.2.jar', '/home/jsl/Downloads/spark-2.0.0-bin-hadoop2.7/json4s-ast_2.11-3.2.11.jar', '/home/jsl/Downloads/spark-2.0.0-bin-hadoop2.7/hadoop-yarn-common-2.7.2.jar', '/home/jsl/Downloads/spark-2.0.0-bin-hadoop2.7/spark-graphx_2.11-2.0.0.jar', '/home/jsl/Downloads/spark-2.0.0-bin-hadoop2.7/json-20090211.jar', '/home/jsl/Downloads/spark-2.0.0-bin-hadoop2.7/antlr-2.7.7.jar', '/home/jsl/Downloads/spark-2.0.0-bin-hadoop2.7/univocity-parsers-2.1.1.jar', '/home/jsl/Downloads/spark-2.0.0-bin-hadoop2.7/super-csv-2.2.0.jar', '/home/jsl/Downloads/spark-2.0.0-bin-hadoop2.7/jets3t-0.9.3.jar', '/home/jsl/Downloads/spark-2.0.0-bin-hadoop2.7/pmml-schema-1.2.15.jar', '/home/jsl/Downloads/spark-2.0.0-bin-hadoop2.7/opencsv-2.3.jar', '/home/jsl/Downloads/spark-2.0.0-bin-hadoop2.7/jsp-api-2.1.jar', '/home/jsl/Downloads/spark-2.0.0-bin-hadoop2.7/jetty-6.1.26.jar', '/home/jsl/Downloads/spark-2.0.0-bin-hadoop2.7/libthrift-0.9.2.jar', '/home/jsl/Downloads/spark-2.0.0-bin-hadoop2.7/guice-3.0.jar', '/home/jsl/Downloads/spark-2.0.0-bin-hadoop2.7/JavaEWAH-0.3.2.jar', '/home/jsl/Downloads/spark-2.0.0-bin-hadoop2.7/chill_2.11-0.8.0.jar', '/home/jsl/Downloads/spark-2.0.0-bin-hadoop2.7/curator-recipes-2.6.0.jar', '/home/jsl/Downloads/spark-2.0.0-bin-hadoop2.7/libfb303-0.9.2.jar', '/home/jsl/Downloads/spark-2.0.0-bin-hadoop2.7/compress-lzf-1.0.3.jar', '/home/jsl/Downloads/spark-2.0.0-bin-hadoop2.7/core-1.1.2.jar', '/home/jsl/Downloads/spark-2.0.0-bin-hadoop2.7/parquet-encoding-1.7.0.jar', '/home/jsl/Downloads/spark-2.0.0-bin-hadoop2.7/hive-jdbc-1.2.1.spark2.jar', '/home/jsl/Downloads/spark-2.0.0-bin-hadoop2.7/netty-all-4.0.29.Final.jar', '/home/jsl/Downloads/spark-2.0.0-bin-hadoop2.7/javax.ws.rs-api-2.0.1.jar', '/home/jsl/Downloads/spark-2.0.0-bin-hadoop2.7/jackson-annotations-2.6.5.jar', '/home/jsl/Downloads/spark-2.0.0-bin-hadoop2.7/validation-api-1.1.0.Final.jar', '/home/jsl/Downloads/spark-2.0.0-bin-hadoop2.7/commons-codec-1.10.jar', '/home/jsl/Downloads/spark-2.0.0-bin-hadoop2.7/jtransforms-2.4.0.jar', '/home/jsl/Downloads/spark-2.0.0-bin-hadoop2.7/jackson-core-2.6.5.jar', '/home/jsl/Downloads/spark-2.0.0-bin-hadoop2.7/jersey-client-2.22.2.jar', '/home/jsl/Downloads/spark-2.0.0-bin-hadoop2.7/jersey-guava-2.22.2.jar', '/home/jsl/Downloads/spark-2.0.0-bin-hadoop2.7/scala-parser-combinators_2.11-1.0.4.jar', '/home/jsl/Downloads/spark-2.0.0-bin-hadoop2.7/commons-cli-1.2.jar', '/home/jsl/Downloads/spark-2.0.0-bin-hadoop2.7/antlr-runtime-3.4.jar', '/home/jsl/Downloads/spark-2.0.0-bin-hadoop2.7/jline-2.12.jar', '/home/jsl/Downloads/spark-2.0.0-bin-hadoop2.7/slf4j-api-1.7.16.jar', '/home/jsl/Downloads/spark-2.0.0-bin-hadoop2.7/spark-streaming_2.11-2.0.0.jar', '/home/jsl/Downloads/spark-2.0.0-bin-hadoop2.7/javax.annotation-api-1.2.jar', '/home/jsl/Downloads/spark-2.0.0-bin-hadoop2.7/antlr4-runtime-4.5.3.jar', '/home/jsl/Downloads/spark-2.0.0-bin-hadoop2.7/hadoop-mapreduce-client-jobclient-2.7.2.jar', '/home/jsl/Downloads/spark-2.0.0-bin-hadoop2.7/java-xmlbuilder-1.0.jar', '/home/jsl/Downloads/spark-2.0.0-bin-hadoop2.7/commons-io-2.4.jar', '/home/jsl/Downloads/spark-2.0.0-bin-hadoop2.7/parquet-generator-1.7.0.jar', '/home/jsl/Downloads/spark-2.0.0-bin-hadoop2.7/aopalliance-repackaged-2.4.0-b34.jar', '/home/jsl/Downloads/spark-2.0.0-bin-hadoop2.7/spark-hive_2.11-2.0.0.jar', '/home/jsl/Downloads/spark-2.0.0-bin-hadoop2.7/api-asn1-api-1.0.0-M20.jar', '/home/jsl/Downloads/spark-2.0.0-bin-hadoop2.7/hadoop-mapreduce-client-app-2.7.2.jar']\"),\n",
       " ('spark.ui.showConsoleProgress', 'true')]"
      ]
     },
     "execution_count": 21,
     "metadata": {},
     "output_type": "execute_result"
    }
   ],
   "source": [
    "spark.sparkContext._conf.getAll()"
   ]
  },
  {
   "cell_type": "markdown",
   "metadata": {
    "slideshow": {
     "slide_type": "slide"
    }
   },
   "source": [
    "## S.3 데이터 구조\n",
    "\n",
    "Spark에서는 RDD, Dataframe, DataSet 세 가지 데이터구조를 제공하고 있다. 이 가운데 **RDD API에 대한 지원은 축소**되고 있다.\n",
    "* **RDD**는 Spark 1.0부터 사용되었고, 이를 기반으로 다른 데이터구조가 만들어졌다. RDD는 데이터가 **비구조적**인 경우 사용하기 적합하다. 모델schema를 정하지 않고 사용할 수 있다.\n",
    "* **Dataframe**은 버전 1.3에서 제공되어 많이 쓰이고 있다. DataFrame과 DataSet은 데이터가 schema와 데이터타잎을 가진 **구조적**인 경우 사용한다.\n",
    "* **DataSet**은 그 후 1.6부터 제공하고 있다.\n",
    "\n",
    "데이터구조 | 언제 Spark에 도입 | 설명\n",
    "---------|---------|---------\n",
    "**RDD** | 1.0 | **비구조적**, schema free, low-level\n",
    "**Dataframe** | 1.3 | **구조적**, schema를 가진다. Dataset[Row]와 같은 의미로, 타잎을 강제하지 않는다.\n",
    "**Dataset** | 1.6 | 자바의 Generic과 같이 Dataset[T]으로 '타잎'을 강제하는 형식이다. Scala and Java에서 사용한다. Python loosely-typed이므로 사용하지 않는다.\n",
    "\n",
    "* Spark의 RDD, DataFrame 모두 immutable이라 일단 생성되고 나면 원본을 수정할 수 없다.\n",
    "* Spark의 데이터는 모두 **lazy**, 실제 transformation을 action까지 연기한다. **변환할 때마다 실제 변환이 일어나면 그 결과가 메모리에 저장되는 비효율성**을 막기 위해, **action이 실행되는 경우, 계산이 이루어지고, 실제 메모리를 사용**한다. RDD의 경우, action이 실행될 때마다 재계산이 이루어지는 것을 막기 위해 persist (or cache)함수를 사용할 수 있다.\n"
   ]
  },
  {
   "cell_type": "markdown",
   "metadata": {
    "slideshow": {
     "slide_type": "slide"
    }
   },
   "source": [
    "## S.4 RDD 소개\n",
    "\n",
    "RDD (Resilient Distributed Dataset)는 그 줄임말에서 알 수 있듯이 **데이터를 저장하고 있는 DataSet**이며, 여러 컴퓨터에 **분산**해서 사용해서 사용할 수 있다는 점이 특징이다.\n",
    "* Resilient - 작업이 실패하지 않도록 fault tolerent, 즉 어느 한 노드에서 작업이 실패하면 다른 노드에서 실행\n",
    "* Distributed - 클라스터로 구성된 여러 노드에 분산해서 처리\n",
    "* Dataset - 데이터 구조\n",
    "\n",
    "RDD는 Python List, 파일, hdfs 등 다양한 자료에서 생성할 수 있고, 생성된 자료는 수정할 수 없는 read-only이다."
   ]
  },
  {
   "cell_type": "markdown",
   "metadata": {
    "slideshow": {
     "slide_type": "slide"
    }
   },
   "source": [
    "## S.5 RDD 생성\n",
    "\n",
    "RDD는 **sparkContext**로부터 만들어 진다.\n",
    "* 1) 이미 만들어진 배열과 같에서 읽어서 생성한다. 이 경우 parallelize() 함수를 사용하게 된다.\n",
    "* 2) 또는 파일, 데이터베이스 등 외부에서 읽어서 생성할 수도 있다. textFile() 함수를 사용한다.\n",
    "\n",
    "생성 방법 | 설명 | 함수\n",
    "----------|----------|----------\n",
    "내부에서 읽기 | Pytho list에서 생성 | parallelize()\n",
    "외부에서 읽기 | 파일, HDFS, HBase 등 | ```textFile(\"mydir/\")```<br>```textFile(\"mydir/*.txt\")```<br>```textFile(\"mydir/*.gz\")```<br>```Hadoop InputFormat```\n"
   ]
  },
  {
   "cell_type": "markdown",
   "metadata": {
    "slideshow": {
     "slide_type": "subslide"
    }
   },
   "source": [
    "### List에서 RDD 생성하기\n",
    "\n",
    "```sparkContext.parallelize()``` 함수를 사용하여 Python list에서 RDD를 생성할 수 있다."
   ]
  },
  {
   "cell_type": "code",
   "execution_count": 235,
   "metadata": {
    "collapsed": true
   },
   "outputs": [],
   "source": [
    "myList=[1,2,3,4,5,6,7]"
   ]
  },
  {
   "cell_type": "code",
   "execution_count": 236,
   "metadata": {
    "collapsed": false
   },
   "outputs": [],
   "source": [
    "myRdd1 = spark.sparkContext.parallelize(myList)"
   ]
  },
  {
   "cell_type": "markdown",
   "metadata": {},
   "source": [
    "take(number)는 num만큼의 줄을 출력한다."
   ]
  },
  {
   "cell_type": "code",
   "execution_count": 237,
   "metadata": {
    "collapsed": false
   },
   "outputs": [
    {
     "data": {
      "text/plain": [
       "[1, 2, 3]"
      ]
     },
     "execution_count": 237,
     "metadata": {},
     "output_type": "execute_result"
    }
   ],
   "source": [
    "myRdd1.take(3)"
   ]
  },
  {
   "cell_type": "code",
   "execution_count": 240,
   "metadata": {
    "collapsed": false
   },
   "outputs": [
    {
     "data": {
      "text/plain": [
       "[0, 2, 3, 4, 6]"
      ]
     },
     "execution_count": 240,
     "metadata": {},
     "output_type": "execute_result"
    }
   ],
   "source": [
    "spark.sparkContext.parallelize([0, 2, 3, 4, 6], 2).collect()"
   ]
  },
  {
   "cell_type": "markdown",
   "metadata": {
    "collapsed": true
   },
   "source": [
    "* glom()\n",
    "\n",
    "```parallelize([1,2,3,4,5,6,7], 2)```와 같이 slice 개수를 정할 수 있다.\n",
    "glom() 함수는 각 partition에 있는 요소를 묶어서 RDD 만들어 준다.\n",
    "아래 예제에서 보듯이 [1,2,3,4,5,6,7]을 2개의 slice로 분할하고, RDD로 만들어 주고 있다."
   ]
  },
  {
   "cell_type": "code",
   "execution_count": 241,
   "metadata": {
    "collapsed": false
   },
   "outputs": [
    {
     "data": {
      "text/plain": [
       "[[1, 2, 3], [4, 5, 6, 7]]"
      ]
     },
     "execution_count": 241,
     "metadata": {},
     "output_type": "execute_result"
    }
   ],
   "source": [
    "spark.sparkContext.parallelize([1,2,3,4,5,6,7], 2).glom().collect()"
   ]
  },
  {
   "cell_type": "markdown",
   "metadata": {
    "slideshow": {
     "slide_type": "subslide"
    }
   },
   "source": [
    "### 파일에서 RDD 생성하기\n",
    "\n",
    "파일에서 직접 RDD를 생성해 본다.\n",
    "현재 작업 디렉토리 아래에 **'data/' 디렉토리**를 만들고 아래 파일을 생성한다.\n",
    "파일 내용은 wikipedia에서 Apache spark를 검색한 후 첫 문단을 복사해서 가져 왔다.\n",
    "일부러 3째줄은 한글, 4째 줄은 같은 단어를 반복해서 추가했다."
   ]
  },
  {
   "cell_type": "code",
   "execution_count": 5,
   "metadata": {
    "collapsed": false,
    "slideshow": {
     "slide_type": "subslide"
    }
   },
   "outputs": [
    {
     "name": "stdout",
     "output_type": "stream",
     "text": [
      "Overwriting data/ds_spark_wiki.txt\n"
     ]
    }
   ],
   "source": [
    "%%writefile data/ds_spark_wiki.txt\n",
    "Wikipedia\n",
    "Apache Spark is an open source cluster computing framework.\n",
    "아파치 스파크는 오픈 소스 클러스터 컴퓨팅 프레임워크이다.\n",
    "Apache Spark Apache Spark Apache Spark Apache Spark\n",
    "아파치 스파크 아파치 스파크 아파치 스파크 아파치 스파크\n",
    "Originally developed at the University of California, Berkeley's AMPLab,\n",
    "the Spark codebase was later donated to the Apache Software Foundation,\n",
    "which has maintained it since.\n",
    "Spark provides an interface for programming entire clusters with\n",
    "implicit data parallelism and fault-tolerance."
   ]
  },
  {
   "cell_type": "markdown",
   "metadata": {},
   "source": [
    "파일에서 RDD를 생성하기 위해서는 앞서와 같이 SparkContext를 사용한다.\n",
    "파일명을 textFile() 함수 인자로 넣어서 만들어 주면 된다."
   ]
  },
  {
   "cell_type": "code",
   "execution_count": 9,
   "metadata": {
    "collapsed": true
   },
   "outputs": [],
   "source": [
    "myRdd2=spark.sparkContext\\\n",
    "    .textFile(os.path.join(\"data\",\"ds_spark_wiki.txt\"))"
   ]
  },
  {
   "cell_type": "markdown",
   "metadata": {
    "collapsed": true,
    "slideshow": {
     "slide_type": "subslide"
    }
   },
   "source": [
    "```first()```는 첫 데이터만 조회하는 action함수이다.\n",
    "first()은 take(1)과 동일한 결과를 출력하는데, 그 이유는 first()는 내부적으로 take(1) 함수를 사용하기 때문이다."
   ]
  },
  {
   "cell_type": "code",
   "execution_count": 10,
   "metadata": {
    "collapsed": false,
    "slideshow": {
     "slide_type": "-"
    }
   },
   "outputs": [
    {
     "data": {
      "text/plain": [
       "'Wikipedia'"
      ]
     },
     "execution_count": 10,
     "metadata": {},
     "output_type": "execute_result"
    }
   ],
   "source": [
    "myRdd2.first()"
   ]
  },
  {
   "cell_type": "markdown",
   "metadata": {
    "collapsed": true,
    "slideshow": {
     "slide_type": "subslide"
    }
   },
   "source": [
    "#### RDD와 Spark Dataframe를 만드는 함수는 서로 다르다\n",
    "\n",
    "DataFrame은 다음 장에서 배우게 되겠지만, file에서 읽는 방식이 RDD와 Dataframe이 서로 다르다.\n",
    "RDD는 sparkContext.textFile(), Dataframe은 read.text()을 사용한다.\n",
    "\n",
    "구분 | 설명\n",
    "-----|-----\n",
    "SparkSession.sparkContext.textFile() | **'SparkContext'를 사용하므로 RDD를 생성**한다.\n",
    "SparkSession.read.text() | **DataFrame을 생성**한다."
   ]
  },
  {
   "cell_type": "code",
   "execution_count": 11,
   "metadata": {
    "collapsed": false,
    "slideshow": {
     "slide_type": "subslide"
    }
   },
   "outputs": [
    {
     "name": "stdout",
     "output_type": "stream",
     "text": [
      "Row(value='Wikipedia')\n"
     ]
    }
   ],
   "source": [
    "import os\n",
    "myDf=spark.read.text(os.path.join(\"data\", \"ds_spark_wiki.txt\"))\n",
    "print (myDf.first())"
   ]
  },
  {
   "cell_type": "markdown",
   "metadata": {},
   "source": [
    "읽고 생성된 변수 myDf의 데이터타입을 type()으로 확인하면 DataFrame이다."
   ]
  },
  {
   "cell_type": "code",
   "execution_count": 9,
   "metadata": {
    "collapsed": false
   },
   "outputs": [
    {
     "name": "stdout",
     "output_type": "stream",
     "text": [
      "<class 'pyspark.sql.dataframe.DataFrame'>\n"
     ]
    }
   ],
   "source": [
    "print (type(myDf))"
   ]
  },
  {
   "cell_type": "markdown",
   "metadata": {
    "slideshow": {
     "slide_type": "subslide"
    }
   },
   "source": [
    "#### csv에서 RDD 생성하기\n",
    "\n",
    "csv 파일은 컴마로 구분된 데이터를 저장하고 있다. 이 파일을 읽어서 RDD를 생성해 보자."
   ]
  },
  {
   "cell_type": "code",
   "execution_count": 12,
   "metadata": {
    "collapsed": false,
    "slideshow": {
     "slide_type": "subslide"
    }
   },
   "outputs": [
    {
     "name": "stdout",
     "output_type": "stream",
     "text": [
      "Overwriting ./data/ds_spark_2cols.csv\n"
     ]
    }
   ],
   "source": [
    "%%writefile ./data/ds_spark_2cols.csv\n",
    "35, 2\n",
    "40, 27\n",
    "12, 38\n",
    "15, 31\n",
    "21, 1\n",
    "14, 19\n",
    "46, 1\n",
    "10, 34\n",
    "28, 3\n",
    "48, 1\n",
    "16, 2\n",
    "30, 3\n",
    "32, 2\n",
    "48, 1\n",
    "31, 2\n",
    "22, 1\n",
    "12, 3\n",
    "39, 29\n",
    "19, 37\n",
    "25, 2"
   ]
  },
  {
   "cell_type": "markdown",
   "metadata": {
    "slideshow": {
     "slide_type": "subslide"
    }
   },
   "source": [
    "파일에서 읽어 RDD를 생성할 수 있다."
   ]
  },
  {
   "cell_type": "code",
   "execution_count": 32,
   "metadata": {
    "collapsed": false,
    "slideshow": {
     "slide_type": "-"
    }
   },
   "outputs": [],
   "source": [
    "myRdd4 = spark.sparkContext\\\n",
    "    .textFile(os.path.join(\"data\",\"ds_spark_2cols.csv\"))"
   ]
  },
  {
   "cell_type": "markdown",
   "metadata": {},
   "source": [
    "```take()```를 하면 그 결과는 리스트가 된다.\n",
    "아래에서 보듯이 파일의 각 라인이 묶여서 리스트의 한 요소로 만들어진다."
   ]
  },
  {
   "cell_type": "code",
   "execution_count": 14,
   "metadata": {
    "collapsed": false
   },
   "outputs": [
    {
     "name": "stdout",
     "output_type": "stream",
     "text": [
      "<class 'list'>\n"
     ]
    }
   ],
   "source": [
    "myList=myRdd4.take(5)\n",
    "print (type(myList))"
   ]
  },
  {
   "cell_type": "markdown",
   "metadata": {},
   "source": [
    "## 문제: 파일에서 RDD 생성\n",
    "\n",
    "다음 링크에서 파일을 읽어서 RDD를 생성하고, 5줄을 화면출력하세요.\n",
    "\n",
    "* 1) 경기도 의정부시 인구현황 (파일명: ```경기도 의정부시_인구현황_20200904```)\n",
    "https://www.data.go.kr/data/15009613/fileData.do\n",
    "\n",
    "* 2) 제주특별자치도 서귀포시 내 연도별 65세이상 인구수 및 고령화비율, 노령화지수 현황 (파일명: ```제주특별자치도 서귀포시_고령화비율및노령화지수현황_20200623```)\n",
    "https://www.data.go.kr/data/15051545/fileData.do"
   ]
  },
  {
   "cell_type": "markdown",
   "metadata": {
    "collapsed": true
   },
   "source": [
    "### 주의:\n",
    "\n",
    "* SparkSession은 한 번만 생성하면 된다. 파일을 2번 읽는다 하더라도, SparkSession은 세션 동안 1회만 생성하면 된다.\n",
    "* 파일을 읽을 경우, 문자가 한글인지, 영어인지 어떻게 인코딩되었는지 주의해야 한다. 결과가 깨져보인다면, 그 이유를 간단히 적으세요."
   ]
  },
  {
   "cell_type": "markdown",
   "metadata": {},
   "source": [
    "### SparkSession 생성"
   ]
  },
  {
   "cell_type": "code",
   "execution_count": 1,
   "metadata": {
    "collapsed": true
   },
   "outputs": [],
   "source": [
    "import os\n",
    "import pyspark\n",
    "\n",
    "os.environ[\"PYSPARK_PYTHON\"]=\"/usr/bin/python3\"\n",
    "os.environ[\"PYSPARK_DRIVER_PYTHON\"]=\"/usr/bin/python3\"\n",
    "myConf=pyspark.SparkConf()\n",
    "spark = pyspark.sql.SparkSession\\\n",
    "    .builder\\\n",
    "    .master(\"local\")\\\n",
    "    .appName(\"myApp\")\\\n",
    "    .config(conf=myConf)\\\n",
    "    .getOrCreate()"
   ]
  },
  {
   "cell_type": "markdown",
   "metadata": {},
   "source": [
    "### RDD로 읽기"
   ]
  },
  {
   "cell_type": "code",
   "execution_count": 2,
   "metadata": {
    "collapsed": false
   },
   "outputs": [],
   "source": [
    "popRdd = spark.sparkContext\\\n",
    "    .textFile(os.path.join(\"data\",\"경기도 의정부시_인구현황_20200904.csv\"), use_unicode=True)"
   ]
  },
  {
   "cell_type": "code",
   "execution_count": 4,
   "metadata": {
    "collapsed": false
   },
   "outputs": [
    {
     "data": {
      "text/plain": [
       "['�������,�α���(��),�α���(��),�α���(��),������(��),������(��),������(��),����,�����,������α�,���������,�����μ���,�μ���ȭ��ȣ,�����ͱ�������',\n",
       " '������1��       ,31467 ,16077 ,15390 ,6.89,3.52,3.37,104.46,19109 ,1.65,�����ν�,�ùκ����,031-828-2464,2020-09-04',\n",
       " '������2��       ,31440 ,15573 ,15867 ,6.88,3.41,3.47,98.15,15763 ,1.99,�����ν�,�ùκ����,031-828-2464,2020-09-04',\n",
       " 'ȣ��1��         ,36282 ,17751 ,18531 ,7.95,3.89,4.06,95.79,15508 ,2.34,�����ν�,�ùκ����,031-828-2464,2020-09-04',\n",
       " 'ȣ��2��         ,35443 ,17196 ,18247 ,7.76,3.77,4,94.24,13509 ,2.62,�����ν�,�ùκ����,031-828-2464,2020-09-04']"
      ]
     },
     "execution_count": 4,
     "metadata": {},
     "output_type": "execute_result"
    }
   ],
   "source": [
    "popRdd.take(5)"
   ]
  },
  {
   "cell_type": "code",
   "execution_count": 4,
   "metadata": {
    "collapsed": false
   },
   "outputs": [
    {
     "name": "stdout",
     "output_type": "stream",
     "text": [
      "�������,�α���(��),�α���(��),�α���(��),������(��),������(��),������(��),����,�����,������α�,���������,�����μ���,�μ���ȭ��ȣ,�����ͱ�������\n",
      "������1��       ,31467 ,16077 ,15390 ,6.89,3.52,3.37,104.46,19109 ,1.65,�����ν�,�ùκ����,031-828-2464,2020-09-04\n",
      "������2��       ,31440 ,15573 ,15867 ,6.88,3.41,3.47,98.15,15763 ,1.99,�����ν�,�ùκ����,031-828-2464,2020-09-04\n",
      "ȣ��1��         ,36282 ,17751 ,18531 ,7.95,3.89,4.06,95.79,15508 ,2.34,�����ν�,�ùκ����,031-828-2464,2020-09-04\n",
      "ȣ��2��         ,35443 ,17196 ,18247 ,7.76,3.77,4,94.24,13509 ,2.62,�����ν�,�ùκ����,031-828-2464,2020-09-04\n"
     ]
    }
   ],
   "source": [
    "for i in popRdd.take(5):\n",
    "    print(i)"
   ]
  },
  {
   "cell_type": "markdown",
   "metadata": {},
   "source": [
    "화면에 출력하면 한글이 깨져있다. ```use_unicode=True```설정을 주었는데도 그렇다.\n",
    "다운로드 받으면서 한글이 깨져 있기 때문에 그렇다. 다운로드 받은 파일을 수정해서 출력하면 된다."
   ]
  },
  {
   "cell_type": "code",
   "execution_count": 17,
   "metadata": {
    "collapsed": true
   },
   "outputs": [],
   "source": [
    "agedRdd = spark.sparkContext\\\n",
    "    .textFile(os.path.join(\"data\",\"제주특별자치도 서귀포시_고령화비율및노령화지수현황_20200623.csv\"), use_unicode=True)"
   ]
  },
  {
   "cell_type": "code",
   "execution_count": 18,
   "metadata": {
    "collapsed": false
   },
   "outputs": [
    {
     "name": "stdout",
     "output_type": "stream",
     "text": [
      "������,�������� �α���,65���̻� �α��� ,0~14�� �α���,���ȭ����,���ȭ����,�����ͱ�������\n",
      "2012,154057,25826,22861,16.76,112.97,2020-06-23\n",
      "2013,155641,26936,22393,17.31,120.29,2020-06-23\n",
      "2014,158512,27877,22058,17.59,126.38,2020-06-23\n",
      "2015,164519,28979,22362,17.61,129.59,2020-06-23\n"
     ]
    }
   ],
   "source": [
    "for i in agedRdd.take(5):\n",
    "    print(i)"
   ]
  },
  {
   "cell_type": "markdown",
   "metadata": {},
   "source": [
    "### binaryFiles\n",
    "\n",
    "binaryFiles()는 이진파일을 읽는 함수이다."
   ]
  },
  {
   "cell_type": "code",
   "execution_count": 6,
   "metadata": {
    "collapsed": false
   },
   "outputs": [],
   "source": [
    "popRddBin = spark.sparkContext.binaryFiles(os.path.join(\"data\",\"경기도 의정부시_인구현황_20200904.csv\"))"
   ]
  },
  {
   "cell_type": "code",
   "execution_count": 7,
   "metadata": {
    "collapsed": false
   },
   "outputs": [],
   "source": [
    "_my = popRddBin.map(lambda x :x[1].decode('euc-kr'))"
   ]
  },
  {
   "cell_type": "code",
   "execution_count": 8,
   "metadata": {
    "collapsed": false
   },
   "outputs": [
    {
     "data": {
      "text/plain": [
       "['행정기관,인구수(계),인구수(남),인구수(여),구성비(계),구성비(남),구성비(여),성비,세대수,세대당인구,관리기관명,관리부서명,부서전화번호,데이터기준일자\\r\\n의정부1동       ,31467 ,16077 ,15390 ,6.89,3.52,3.37,104.46,19109 ,1.65,의정부시,시민봉사과,031-828-2464,2020-09-04\\r\\n의정부2동       ,31440 ,15573 ,15867 ,6.88,3.41,3.47,98.15,15763 ,1.99,의정부시,시민봉사과,031-828-2464,2020-09-04\\r\\n호원1동         ,36282 ,17751 ,18531 ,7.95,3.89,4.06,95.79,15508 ,2.34,의정부시,시민봉사과,031-828-2464,2020-09-04\\r\\n호원2동         ,35443 ,17196 ,18247 ,7.76,3.77,4,94.24,13509 ,2.62,의정부시,시민봉사과,031-828-2464,2020-09-04\\r\\n장암동          ,20806 ,9935 ,10871 ,4.56,2.18,2.38,91.39,8585 ,2.42,의정부시,시민봉사과,031-828-2464,2020-09-04\\r\\n신곡1동         ,44492 ,21944 ,22548 ,9.74,4.81,4.94,97.32,18076 ,2.46,의정부시,시민봉사과,031-828-2464,2020-09-04\\r\\n신곡2동         ,44929 ,21764 ,23165 ,9.84,4.77,5.07,93.95,17491 ,2.57,의정부시,시민봉사과,031-828-2464,2020-09-04\\r\\n송산1동         ,36504 ,18113 ,18391 ,7.99,3.97,4.03,98.49,15830 ,2.31,의정부시,시민봉사과,031-828-2464,2020-09-04\\r\\n송산2동         ,33932 ,16782 ,17150 ,7.43,3.67,3.76,97.85,12991 ,2.61,의정부시,시민봉사과,031-828-2464,2020-09-04\\r\\n송산3동         ,46291 ,22538 ,23753 ,10.14,4.94,5.2,94.88,17394 ,2.66,의정부시,시민봉사과,031-828-2464,2020-09-04\\r\\n자금동          ,27390 ,13420 ,13970 ,6,2.94,3.06,96.06,11693 ,2.34,의정부시,시민봉사과,031-828-2464,2020-09-04\\r\\n가능동          ,26216 ,13067 ,13149 ,5.74,2.86,2.88,99.38,12406 ,2.11,의정부시,시민봉사과,031-828-2464,2020-09-04\\r\\n흥선동          ,19200 ,9725 ,9475 ,4.2,2.13,2.07,102.64,9265 ,2.07,의정부시,시민봉사과,031-828-2464,2020-09-04\\r\\n녹양동          ,22268 ,11100 ,11168 ,4.88,2.43,2.45,99.39,9442 ,2.36,의정부시,시민봉사과,031-828-2464,2020-09-04\\r\\n']"
      ]
     },
     "execution_count": 8,
     "metadata": {},
     "output_type": "execute_result"
    }
   ],
   "source": [
    "_my.take(1)"
   ]
  },
  {
   "cell_type": "markdown",
   "metadata": {},
   "source": [
    "RDD binaryFiles로 읽으니, 파일의 전체내용을 하나의 값으로 읽을 뿐만 아니라,\n",
    "2차원 배열로 읽어도 행렬의 구조가 없어서 이해하기 어렵다.\n",
    "인덱스를 변경해서 데이터를 읽어 보자."
   ]
  },
  {
   "cell_type": "code",
   "execution_count": 11,
   "metadata": {
    "collapsed": false
   },
   "outputs": [
    {
     "data": {
      "text/plain": [
       "'의정부1동'"
      ]
     },
     "execution_count": 11,
     "metadata": {},
     "output_type": "execute_result"
    }
   ],
   "source": [
    "popList = _my.map(lambda x: x.split()).take(3)\n",
    "popList[0][1]"
   ]
  },
  {
   "cell_type": "markdown",
   "metadata": {
    "collapsed": true
   },
   "source": [
    "### DataFrame\n",
    "\n",
    "데이터를 읽어서 DataFrame을 만드려면 read() 함수를 사용한다.\n",
    "폰트를 변경하거나 ```option(\"charset\", \"euc-kr\")```, 헤더를 읽을지 ```option(\"header\", \"true\")``` 설정을 변경할 수 있어 RDD보다 편리하다."
   ]
  },
  {
   "cell_type": "code",
   "execution_count": 11,
   "metadata": {
    "collapsed": false
   },
   "outputs": [],
   "source": [
    "popDf = spark\\\n",
    "            .read.option(\"charset\", \"euc-kr\")\\\n",
    "            .option(\"header\", \"true\")\\\n",
    "            .csv(os.path.join(\"data\",\"경기도 의정부시_인구현황_20200904.csv\"))"
   ]
  },
  {
   "cell_type": "code",
   "execution_count": 14,
   "metadata": {
    "collapsed": false,
    "scrolled": false
   },
   "outputs": [
    {
     "name": "stdout",
     "output_type": "stream",
     "text": [
      "+----------------+----------+----------+----------+----------+----------+----------+------+------+----------+----------+----------+------------+--------------+\n",
      "|        행정기관|인구수(계)|인구수(남)|인구수(여)|구성비(계)|구성비(남)|구성비(여)|  성비|세대수|세대당인구|관리기관명|관리부서명|부서전화번호|데이터기준일자|\n",
      "+----------------+----------+----------+----------+----------+----------+----------+------+------+----------+----------+----------+------------+--------------+\n",
      "|의정부1동       |    31467 |    16077 |    15390 |      6.89|      3.52|      3.37|104.46|19109 |      1.65|  의정부시|시민봉사과|031-828-2464|    2020-09-04|\n",
      "|의정부2동       |    31440 |    15573 |    15867 |      6.88|      3.41|      3.47| 98.15|15763 |      1.99|  의정부시|시민봉사과|031-828-2464|    2020-09-04|\n",
      "|호원1동         |    36282 |    17751 |    18531 |      7.95|      3.89|      4.06| 95.79|15508 |      2.34|  의정부시|시민봉사과|031-828-2464|    2020-09-04|\n",
      "|호원2동         |    35443 |    17196 |    18247 |      7.76|      3.77|         4| 94.24|13509 |      2.62|  의정부시|시민봉사과|031-828-2464|    2020-09-04|\n",
      "|장암동          |    20806 |     9935 |    10871 |      4.56|      2.18|      2.38| 91.39| 8585 |      2.42|  의정부시|시민봉사과|031-828-2464|    2020-09-04|\n",
      "+----------------+----------+----------+----------+----------+----------+----------+------+------+----------+----------+----------+------------+--------------+\n",
      "only showing top 5 rows\n",
      "\n"
     ]
    }
   ],
   "source": [
    "popDf.show(5)"
   ]
  },
  {
   "cell_type": "code",
   "execution_count": 18,
   "metadata": {
    "collapsed": false
   },
   "outputs": [],
   "source": [
    "agedDf = spark\\\n",
    "            .read.option(\"charset\", \"euc-kr\")\\\n",
    "            .option(\"header\", \"true\")\\\n",
    "            .csv(os.path.join(\"data\",\"제주특별자치도 서귀포시_고령화비율및노령화지수현황_20200623.csv\"))"
   ]
  },
  {
   "cell_type": "code",
   "execution_count": 19,
   "metadata": {
    "collapsed": false,
    "scrolled": false
   },
   "outputs": [
    {
     "name": "stdout",
     "output_type": "stream",
     "text": [
      "+------+---------------+----------------+-------------+----------+----------+--------------+\n",
      "|연도별|서귀포시 인구수|65세이상 인구수 |0~14세 인구수|고령화비율|노령화지수|데이터기준일자|\n",
      "+------+---------------+----------------+-------------+----------+----------+--------------+\n",
      "|  2012|         154057|           25826|        22861|     16.76|    112.97|    2020-06-23|\n",
      "|  2013|         155641|           26936|        22393|     17.31|    120.29|    2020-06-23|\n",
      "|  2014|         158512|           27877|        22058|     17.59|    126.38|    2020-06-23|\n",
      "|  2015|         164519|           28979|        22362|     17.61|    129.59|    2020-06-23|\n",
      "|  2016|         170932|           30030|        23044|     17.57|    130.32|    2020-06-23|\n",
      "+------+---------------+----------------+-------------+----------+----------+--------------+\n",
      "only showing top 5 rows\n",
      "\n"
     ]
    }
   ],
   "source": [
    "agedDf.show(5)"
   ]
  },
  {
   "cell_type": "markdown",
   "metadata": {},
   "source": [
    "### spark-submit 실행\n",
    "\n",
    "위 프로그램을 ```.py```로 저장하고, ```spark-submit``` 명령으로 배치 실행을 할 수 있다."
   ]
  },
  {
   "cell_type": "code",
   "execution_count": 22,
   "metadata": {
    "collapsed": false,
    "scrolled": true
   },
   "outputs": [
    {
     "name": "stdout",
     "output_type": "stream",
     "text": [
      "Overwriting src/ds3_popCsvRead.py\n"
     ]
    }
   ],
   "source": [
    "%%writefile src/ds3_popCsvRead.py\n",
    "#!/usr/bin/env python3\n",
    "# -*- coding: UTF-8 -*-\n",
    "import os\n",
    "import pyspark\n",
    "\n",
    "def doIt():\n",
    "    print (\"---------RESULT-----------\")\n",
    "    popDf = spark\\\n",
    "                .read.option(\"charset\", \"euc-kr\")\\\n",
    "                .option(\"header\", \"true\")\\\n",
    "                .csv(os.path.join(\"data\",\"경기도 의정부시_인구현황_20200904.csv\"))\n",
    "    popDf.show(5)\n",
    "    agedDf = spark\\\n",
    "                .read.option(\"charset\", \"euc-kr\")\\\n",
    "                .option(\"header\", \"true\")\\\n",
    "                .csv(os.path.join(\"data\",\"제주특별자치도 서귀포시_고령화비율및노령화지수현황_20200623.csv\"))\n",
    "    agedDf.show(5)\n",
    "\n",
    "if __name__ == \"__main__\":\n",
    "    os.environ[\"PYSPARK_PYTHON\"]=\"/usr/bin/python3\"\n",
    "    os.environ[\"PYSPARK_DRIVER_PYTHON\"]=\"/usr/bin/python3\"\n",
    "    myConf=pyspark.SparkConf()\n",
    "    spark = pyspark.sql.SparkSession.builder\\\n",
    "        .master(\"local\")\\\n",
    "        .appName(\"myApp\")\\\n",
    "        .config(conf=myConf)\\\n",
    "        .getOrCreate()\n",
    "    doIt()\n",
    "    spark.stop()"
   ]
  },
  {
   "cell_type": "code",
   "execution_count": 23,
   "metadata": {
    "collapsed": false
   },
   "outputs": [
    {
     "name": "stdout",
     "output_type": "stream",
     "text": [
      "20/09/12 15:02:24 WARN Utils: Your hostname, jsl-smu resolves to a loopback address: 127.0.1.1; using 117.16.44.45 instead (on interface eth0)\n",
      "20/09/12 15:02:24 WARN Utils: Set SPARK_LOCAL_IP if you need to bind to another address\n",
      "WARNING: An illegal reflective access operation has occurred\n",
      "WARNING: Illegal reflective access by org.apache.spark.unsafe.Platform (file:/home/jsl/.local/lib/python3.6/site-packages/pyspark/jars/spark-unsafe_2.12-3.0.0.jar) to constructor java.nio.DirectByteBuffer(long,int)\n",
      "WARNING: Please consider reporting this to the maintainers of org.apache.spark.unsafe.Platform\n",
      "WARNING: Use --illegal-access=warn to enable warnings of further illegal reflective access operations\n",
      "WARNING: All illegal access operations will be denied in a future release\n",
      "20/09/12 15:02:24 WARN NativeCodeLoader: Unable to load native-hadoop library for your platform... using builtin-java classes where applicable\n",
      "Using Spark's default log4j profile: org/apache/spark/log4j-defaults.properties\n",
      "20/09/12 15:02:25 INFO SparkContext: Running Spark version 3.0.0\n",
      "20/09/12 15:02:25 INFO ResourceUtils: ==============================================================\n",
      "20/09/12 15:02:25 INFO ResourceUtils: Resources for spark.driver:\n",
      "\n",
      "20/09/12 15:02:25 INFO ResourceUtils: ==============================================================\n",
      "20/09/12 15:02:25 INFO SparkContext: Submitted application: myApp\n",
      "20/09/12 15:02:25 INFO SecurityManager: Changing view acls to: jsl\n",
      "20/09/12 15:02:25 INFO SecurityManager: Changing modify acls to: jsl\n",
      "20/09/12 15:02:25 INFO SecurityManager: Changing view acls groups to: \n",
      "20/09/12 15:02:25 INFO SecurityManager: Changing modify acls groups to: \n",
      "20/09/12 15:02:25 INFO SecurityManager: SecurityManager: authentication disabled; ui acls disabled; users  with view permissions: Set(jsl); groups with view permissions: Set(); users  with modify permissions: Set(jsl); groups with modify permissions: Set()\n",
      "20/09/12 15:02:25 INFO Utils: Successfully started service 'sparkDriver' on port 46069.\n",
      "20/09/12 15:02:25 INFO SparkEnv: Registering MapOutputTracker\n",
      "20/09/12 15:02:25 INFO SparkEnv: Registering BlockManagerMaster\n",
      "20/09/12 15:02:25 INFO BlockManagerMasterEndpoint: Using org.apache.spark.storage.DefaultTopologyMapper for getting topology information\n",
      "20/09/12 15:02:25 INFO BlockManagerMasterEndpoint: BlockManagerMasterEndpoint up\n",
      "20/09/12 15:02:25 INFO SparkEnv: Registering BlockManagerMasterHeartbeat\n",
      "20/09/12 15:02:25 INFO DiskBlockManager: Created local directory at /tmp/blockmgr-bb78c2ad-69b5-41bd-834a-ebe9a806ac69\n",
      "20/09/12 15:02:25 INFO MemoryStore: MemoryStore started with capacity 434.4 MiB\n",
      "20/09/12 15:02:25 INFO SparkEnv: Registering OutputCommitCoordinator\n",
      "20/09/12 15:02:26 WARN Utils: Service 'SparkUI' could not bind on port 4040. Attempting port 4041.\n",
      "20/09/12 15:02:26 INFO Utils: Successfully started service 'SparkUI' on port 4041.\n",
      "20/09/12 15:02:26 INFO SparkUI: Bound SparkUI to 0.0.0.0, and started at http://117.16.44.45:4041\n",
      "20/09/12 15:02:26 INFO Executor: Starting executor ID driver on host 117.16.44.45\n",
      "20/09/12 15:02:26 INFO Utils: Successfully started service 'org.apache.spark.network.netty.NettyBlockTransferService' on port 41495.\n",
      "20/09/12 15:02:26 INFO NettyBlockTransferService: Server created on 117.16.44.45:41495\n",
      "20/09/12 15:02:26 INFO BlockManager: Using org.apache.spark.storage.RandomBlockReplicationPolicy for block replication policy\n",
      "20/09/12 15:02:26 INFO BlockManagerMaster: Registering BlockManager BlockManagerId(driver, 117.16.44.45, 41495, None)\n",
      "20/09/12 15:02:26 INFO BlockManagerMasterEndpoint: Registering block manager 117.16.44.45:41495 with 434.4 MiB RAM, BlockManagerId(driver, 117.16.44.45, 41495, None)\n",
      "20/09/12 15:02:26 INFO BlockManagerMaster: Registered BlockManager BlockManagerId(driver, 117.16.44.45, 41495, None)\n",
      "20/09/12 15:02:26 INFO BlockManager: Initialized BlockManager: BlockManagerId(driver, 117.16.44.45, 41495, None)\n",
      "20/09/12 15:02:26 INFO SharedState: Setting hive.metastore.warehouse.dir ('null') to the value of spark.sql.warehouse.dir ('file:/home/jsl/Code/git/bb/jsl/pyds/spark-warehouse/').\n",
      "20/09/12 15:02:26 INFO SharedState: Warehouse path is 'file:/home/jsl/Code/git/bb/jsl/pyds/spark-warehouse/'.\n",
      "---------RESULT-----------\n",
      "20/09/12 15:02:27 INFO InMemoryFileIndex: It took 34 ms to list leaf files for 1 paths.\n",
      "20/09/12 15:02:27 INFO MemoryStore: Block broadcast_0 stored as values in memory (estimated size 127.4 KiB, free 434.3 MiB)\n",
      "20/09/12 15:02:27 INFO MemoryStore: Block broadcast_0_piece0 stored as bytes in memory (estimated size 23.6 KiB, free 434.3 MiB)\n",
      "20/09/12 15:02:27 INFO BlockManagerInfo: Added broadcast_0_piece0 in memory on 117.16.44.45:41495 (size: 23.6 KiB, free: 434.4 MiB)\n",
      "20/09/12 15:02:27 INFO SparkContext: Created broadcast 0 from csv at NativeMethodAccessorImpl.java:0\n",
      "20/09/12 15:02:29 INFO CodeGenerator: Code generated in 138.068995 ms\n",
      "20/09/12 15:02:29 INFO FileInputFormat: Total input paths to process : 1\n",
      "20/09/12 15:02:29 INFO SparkContext: Starting job: csv at NativeMethodAccessorImpl.java:0\n",
      "20/09/12 15:02:29 INFO DAGScheduler: Got job 0 (csv at NativeMethodAccessorImpl.java:0) with 1 output partitions\n",
      "20/09/12 15:02:29 INFO DAGScheduler: Final stage: ResultStage 0 (csv at NativeMethodAccessorImpl.java:0)\n",
      "20/09/12 15:02:29 INFO DAGScheduler: Parents of final stage: List()\n",
      "20/09/12 15:02:29 INFO DAGScheduler: Missing parents: List()\n",
      "20/09/12 15:02:29 INFO DAGScheduler: Submitting ResultStage 0 (MapPartitionsRDD[4] at csv at NativeMethodAccessorImpl.java:0), which has no missing parents\n",
      "20/09/12 15:02:29 INFO MemoryStore: Block broadcast_1 stored as values in memory (estimated size 11.5 KiB, free 434.2 MiB)\n",
      "20/09/12 15:02:29 INFO MemoryStore: Block broadcast_1_piece0 stored as bytes in memory (estimated size 5.5 KiB, free 434.2 MiB)\n",
      "20/09/12 15:02:29 INFO BlockManagerInfo: Added broadcast_1_piece0 in memory on 117.16.44.45:41495 (size: 5.5 KiB, free: 434.4 MiB)\n",
      "20/09/12 15:02:29 INFO SparkContext: Created broadcast 1 from broadcast at DAGScheduler.scala:1200\n",
      "20/09/12 15:02:29 INFO DAGScheduler: Submitting 1 missing tasks from ResultStage 0 (MapPartitionsRDD[4] at csv at NativeMethodAccessorImpl.java:0) (first 15 tasks are for partitions Vector(0))\n",
      "20/09/12 15:02:29 INFO TaskSchedulerImpl: Adding task set 0.0 with 1 tasks\n",
      "20/09/12 15:02:29 INFO TaskSetManager: Starting task 0.0 in stage 0.0 (TID 0, 117.16.44.45, executor driver, partition 0, PROCESS_LOCAL, 7430 bytes)\n",
      "20/09/12 15:02:29 INFO Executor: Running task 0.0 in stage 0.0 (TID 0)\n",
      "20/09/12 15:02:29 INFO HadoopRDD: Input split: file:/home/jsl/Code/git/bb/jsl/pyds/data/경기도 의정부시_인구현황_20200904.csv:0+1762\n",
      "20/09/12 15:02:30 INFO Executor: Finished task 0.0 in stage 0.0 (TID 0). 1708 bytes result sent to driver\n",
      "20/09/12 15:02:30 INFO TaskSetManager: Finished task 0.0 in stage 0.0 (TID 0) in 285 ms on 117.16.44.45 (executor driver) (1/1)\n",
      "20/09/12 15:02:30 INFO TaskSchedulerImpl: Removed TaskSet 0.0, whose tasks have all completed, from pool \n",
      "20/09/12 15:02:30 INFO DAGScheduler: ResultStage 0 (csv at NativeMethodAccessorImpl.java:0) finished in 0.405 s\n",
      "20/09/12 15:02:30 INFO DAGScheduler: Job 0 is finished. Cancelling potential speculative or zombie tasks for this job\n",
      "20/09/12 15:02:30 INFO TaskSchedulerImpl: Killing all running tasks in stage 0: Stage finished\n",
      "20/09/12 15:02:30 INFO DAGScheduler: Job 0 finished: csv at NativeMethodAccessorImpl.java:0, took 0.455550 s\n",
      "20/09/12 15:02:30 INFO CodeGenerator: Code generated in 11.953092 ms\n",
      "20/09/12 15:02:30 INFO FileSourceStrategy: Pruning directories with: \n",
      "20/09/12 15:02:30 INFO FileSourceStrategy: Pushed Filters: \n",
      "20/09/12 15:02:30 INFO FileSourceStrategy: Post-Scan Filters: \n",
      "20/09/12 15:02:30 INFO FileSourceStrategy: Output Data Schema: struct<행정기관: string, 인구수(계): string, 인구수(남): string, 인구수(여): string, 구성비(계): string ... 12 more fields>\n",
      "20/09/12 15:02:30 INFO MemoryStore: Block broadcast_2 stored as values in memory (estimated size 171.2 KiB, free 434.1 MiB)\n",
      "20/09/12 15:02:30 INFO MemoryStore: Block broadcast_2_piece0 stored as bytes in memory (estimated size 23.9 KiB, free 434.0 MiB)\n",
      "20/09/12 15:02:30 INFO BlockManagerInfo: Added broadcast_2_piece0 in memory on 117.16.44.45:41495 (size: 23.9 KiB, free: 434.3 MiB)\n",
      "20/09/12 15:02:30 INFO SparkContext: Created broadcast 2 from showString at NativeMethodAccessorImpl.java:0\n",
      "20/09/12 15:02:30 INFO FileSourceScanExec: Planning scan with bin packing, max size: 4196066 bytes, open cost is considered as scanning 4194304 bytes.\n",
      "20/09/12 15:02:30 INFO SparkContext: Starting job: showString at NativeMethodAccessorImpl.java:0\n",
      "20/09/12 15:02:30 INFO DAGScheduler: Got job 1 (showString at NativeMethodAccessorImpl.java:0) with 1 output partitions\n",
      "20/09/12 15:02:30 INFO DAGScheduler: Final stage: ResultStage 1 (showString at NativeMethodAccessorImpl.java:0)\n",
      "20/09/12 15:02:30 INFO DAGScheduler: Parents of final stage: List()\n",
      "20/09/12 15:02:30 INFO DAGScheduler: Missing parents: List()\n",
      "20/09/12 15:02:30 INFO DAGScheduler: Submitting ResultStage 1 (MapPartitionsRDD[11] at showString at NativeMethodAccessorImpl.java:0), which has no missing parents\n",
      "20/09/12 15:02:30 INFO MemoryStore: Block broadcast_3 stored as values in memory (estimated size 10.2 KiB, free 434.0 MiB)\n",
      "20/09/12 15:02:30 INFO MemoryStore: Block broadcast_3_piece0 stored as bytes in memory (estimated size 5.4 KiB, free 434.0 MiB)\n",
      "20/09/12 15:02:30 INFO BlockManagerInfo: Added broadcast_3_piece0 in memory on 117.16.44.45:41495 (size: 5.4 KiB, free: 434.3 MiB)\n",
      "20/09/12 15:02:30 INFO SparkContext: Created broadcast 3 from broadcast at DAGScheduler.scala:1200\n",
      "20/09/12 15:02:30 INFO DAGScheduler: Submitting 1 missing tasks from ResultStage 1 (MapPartitionsRDD[11] at showString at NativeMethodAccessorImpl.java:0) (first 15 tasks are for partitions Vector(0))\n",
      "20/09/12 15:02:30 INFO TaskSchedulerImpl: Adding task set 1.0 with 1 tasks\n",
      "20/09/12 15:02:30 INFO TaskSetManager: Starting task 0.0 in stage 1.0 (TID 1, 117.16.44.45, executor driver, partition 0, PROCESS_LOCAL, 7790 bytes)\n",
      "20/09/12 15:02:30 INFO Executor: Running task 0.0 in stage 1.0 (TID 1)\n",
      "20/09/12 15:02:30 INFO FileScanRDD: Reading File path: file:///home/jsl/Code/git/bb/jsl/pyds/data/경기도%20의정부시_인구현황_20200904.csv, range: 0-1762, partition values: [empty row]\n",
      "20/09/12 15:02:30 INFO CodeGenerator: Code generated in 22.502268 ms\n",
      "20/09/12 15:02:30 INFO Executor: Finished task 0.0 in stage 1.0 (TID 1). 1993 bytes result sent to driver\n",
      "20/09/12 15:02:30 INFO TaskSetManager: Finished task 0.0 in stage 1.0 (TID 1) in 95 ms on 117.16.44.45 (executor driver) (1/1)\n",
      "20/09/12 15:02:30 INFO TaskSchedulerImpl: Removed TaskSet 1.0, whose tasks have all completed, from pool \n",
      "20/09/12 15:02:30 INFO DAGScheduler: ResultStage 1 (showString at NativeMethodAccessorImpl.java:0) finished in 0.125 s\n",
      "20/09/12 15:02:30 INFO DAGScheduler: Job 1 is finished. Cancelling potential speculative or zombie tasks for this job\n",
      "20/09/12 15:02:30 INFO TaskSchedulerImpl: Killing all running tasks in stage 1: Stage finished\n",
      "20/09/12 15:02:30 INFO DAGScheduler: Job 1 finished: showString at NativeMethodAccessorImpl.java:0, took 0.133061 s\n",
      "20/09/12 15:02:30 INFO CodeGenerator: Code generated in 24.812795 ms\n",
      "+----------------+----------+----------+----------+----------+----------+----------+------+------+----------+----------+----------+------------+--------------+\n",
      "|        행정기관|인구수(계)|인구수(남)|인구수(여)|구성비(계)|구성비(남)|구성비(여)|  성비|세대수|세대당인구|관리기관명|관리부서명|부서전화번호|데이터기준일자|\n",
      "+----------------+----------+----------+----------+----------+----------+----------+------+------+----------+----------+----------+------------+--------------+\n",
      "|의정부1동       |    31467 |    16077 |    15390 |      6.89|      3.52|      3.37|104.46|19109 |      1.65|  의정부시|시민봉사과|031-828-2464|    2020-09-04|\n",
      "|의정부2동       |    31440 |    15573 |    15867 |      6.88|      3.41|      3.47| 98.15|15763 |      1.99|  의정부시|시민봉사과|031-828-2464|    2020-09-04|\n",
      "|호원1동         |    36282 |    17751 |    18531 |      7.95|      3.89|      4.06| 95.79|15508 |      2.34|  의정부시|시민봉사과|031-828-2464|    2020-09-04|\n",
      "|호원2동         |    35443 |    17196 |    18247 |      7.76|      3.77|         4| 94.24|13509 |      2.62|  의정부시|시민봉사과|031-828-2464|    2020-09-04|\n",
      "|장암동          |    20806 |     9935 |    10871 |      4.56|      2.18|      2.38| 91.39| 8585 |      2.42|  의정부시|시민봉사과|031-828-2464|    2020-09-04|\n",
      "+----------------+----------+----------+----------+----------+----------+----------+------+------+----------+----------+----------+------------+--------------+\n",
      "only showing top 5 rows\n",
      "\n",
      "20/09/12 15:02:30 INFO InMemoryFileIndex: It took 1 ms to list leaf files for 1 paths.\n",
      "20/09/12 15:02:30 INFO MemoryStore: Block broadcast_4 stored as values in memory (estimated size 127.4 KiB, free 433.9 MiB)\n",
      "20/09/12 15:02:30 INFO MemoryStore: Block broadcast_4_piece0 stored as bytes in memory (estimated size 23.6 KiB, free 433.9 MiB)\n",
      "20/09/12 15:02:30 INFO BlockManagerInfo: Added broadcast_4_piece0 in memory on 117.16.44.45:41495 (size: 23.6 KiB, free: 434.3 MiB)\n",
      "20/09/12 15:02:30 INFO SparkContext: Created broadcast 4 from csv at NativeMethodAccessorImpl.java:0\n",
      "20/09/12 15:02:30 INFO BlockManagerInfo: Removed broadcast_1_piece0 on 117.16.44.45:41495 in memory (size: 5.5 KiB, free: 434.3 MiB)\n",
      "20/09/12 15:02:30 INFO BlockManagerInfo: Removed broadcast_3_piece0 on 117.16.44.45:41495 in memory (size: 5.4 KiB, free: 434.3 MiB)\n",
      "20/09/12 15:02:30 INFO BlockManagerInfo: Removed broadcast_2_piece0 on 117.16.44.45:41495 in memory (size: 23.9 KiB, free: 434.4 MiB)\n",
      "20/09/12 15:02:30 INFO FileInputFormat: Total input paths to process : 1\n",
      "20/09/12 15:02:30 INFO SparkContext: Starting job: csv at NativeMethodAccessorImpl.java:0\n",
      "20/09/12 15:02:30 INFO DAGScheduler: Got job 2 (csv at NativeMethodAccessorImpl.java:0) with 1 output partitions\n",
      "20/09/12 15:02:30 INFO DAGScheduler: Final stage: ResultStage 2 (csv at NativeMethodAccessorImpl.java:0)\n",
      "20/09/12 15:02:30 INFO DAGScheduler: Parents of final stage: List()\n",
      "20/09/12 15:02:30 INFO DAGScheduler: Missing parents: List()\n",
      "20/09/12 15:02:30 INFO DAGScheduler: Submitting ResultStage 2 (MapPartitionsRDD[16] at csv at NativeMethodAccessorImpl.java:0), which has no missing parents\n",
      "20/09/12 15:02:30 INFO MemoryStore: Block broadcast_5 stored as values in memory (estimated size 11.5 KiB, free 434.1 MiB)\n",
      "20/09/12 15:02:30 INFO MemoryStore: Block broadcast_5_piece0 stored as bytes in memory (estimated size 5.5 KiB, free 434.1 MiB)\n",
      "20/09/12 15:02:30 INFO BlockManagerInfo: Added broadcast_5_piece0 in memory on 117.16.44.45:41495 (size: 5.5 KiB, free: 434.3 MiB)\n",
      "20/09/12 15:02:30 INFO SparkContext: Created broadcast 5 from broadcast at DAGScheduler.scala:1200\n",
      "20/09/12 15:02:30 INFO DAGScheduler: Submitting 1 missing tasks from ResultStage 2 (MapPartitionsRDD[16] at csv at NativeMethodAccessorImpl.java:0) (first 15 tasks are for partitions Vector(0))\n",
      "20/09/12 15:02:30 INFO TaskSchedulerImpl: Adding task set 2.0 with 1 tasks\n",
      "20/09/12 15:02:30 INFO TaskSetManager: Starting task 0.0 in stage 2.0 (TID 2, 117.16.44.45, executor driver, partition 0, PROCESS_LOCAL, 7470 bytes)\n",
      "20/09/12 15:02:30 INFO Executor: Running task 0.0 in stage 2.0 (TID 2)\n",
      "20/09/12 15:02:30 INFO HadoopRDD: Input split: file:/home/jsl/Code/git/bb/jsl/pyds/data/제주특별자치도 서귀포시_고령화비율및노령화지수현황_20200623.csv:0+532\n",
      "20/09/12 15:02:30 INFO Executor: Finished task 0.0 in stage 2.0 (TID 2). 1628 bytes result sent to driver\n",
      "20/09/12 15:02:30 INFO TaskSetManager: Finished task 0.0 in stage 2.0 (TID 2) in 16 ms on 117.16.44.45 (executor driver) (1/1)\n",
      "20/09/12 15:02:30 INFO TaskSchedulerImpl: Removed TaskSet 2.0, whose tasks have all completed, from pool \n",
      "20/09/12 15:02:30 INFO DAGScheduler: ResultStage 2 (csv at NativeMethodAccessorImpl.java:0) finished in 0.026 s\n",
      "20/09/12 15:02:30 INFO DAGScheduler: Job 2 is finished. Cancelling potential speculative or zombie tasks for this job\n",
      "20/09/12 15:02:30 INFO TaskSchedulerImpl: Killing all running tasks in stage 2: Stage finished\n",
      "20/09/12 15:02:30 INFO DAGScheduler: Job 2 finished: csv at NativeMethodAccessorImpl.java:0, took 0.030387 s\n",
      "20/09/12 15:02:30 INFO FileSourceStrategy: Pruning directories with: \n",
      "20/09/12 15:02:30 INFO FileSourceStrategy: Pushed Filters: \n",
      "20/09/12 15:02:30 INFO FileSourceStrategy: Post-Scan Filters: \n",
      "20/09/12 15:02:30 INFO FileSourceStrategy: Output Data Schema: struct<연도별: string, 서귀포시 인구수: string, 65세이상 인구수 : string, 0~14세 인구수: string, 고령화비율: string ... 5 more fields>\n",
      "20/09/12 15:02:30 INFO MemoryStore: Block broadcast_6 stored as values in memory (estimated size 171.2 KiB, free 433.9 MiB)\n",
      "20/09/12 15:02:30 INFO MemoryStore: Block broadcast_6_piece0 stored as bytes in memory (estimated size 23.9 KiB, free 433.9 MiB)\n",
      "20/09/12 15:02:30 INFO BlockManagerInfo: Added broadcast_6_piece0 in memory on 117.16.44.45:41495 (size: 23.9 KiB, free: 434.3 MiB)\n",
      "20/09/12 15:02:30 INFO SparkContext: Created broadcast 6 from showString at NativeMethodAccessorImpl.java:0\n",
      "20/09/12 15:02:30 INFO FileSourceScanExec: Planning scan with bin packing, max size: 4194836 bytes, open cost is considered as scanning 4194304 bytes.\n",
      "20/09/12 15:02:30 INFO SparkContext: Starting job: showString at NativeMethodAccessorImpl.java:0\n",
      "20/09/12 15:02:30 INFO DAGScheduler: Got job 3 (showString at NativeMethodAccessorImpl.java:0) with 1 output partitions\n",
      "20/09/12 15:02:30 INFO DAGScheduler: Final stage: ResultStage 3 (showString at NativeMethodAccessorImpl.java:0)\n",
      "20/09/12 15:02:30 INFO DAGScheduler: Parents of final stage: List()\n",
      "20/09/12 15:02:30 INFO DAGScheduler: Missing parents: List()\n",
      "20/09/12 15:02:30 INFO DAGScheduler: Submitting ResultStage 3 (MapPartitionsRDD[23] at showString at NativeMethodAccessorImpl.java:0), which has no missing parents\n",
      "20/09/12 15:02:30 INFO MemoryStore: Block broadcast_7 stored as values in memory (estimated size 9.4 KiB, free 433.9 MiB)\n",
      "20/09/12 15:02:30 INFO MemoryStore: Block broadcast_7_piece0 stored as bytes in memory (estimated size 5.1 KiB, free 433.9 MiB)\n",
      "20/09/12 15:02:30 INFO BlockManagerInfo: Added broadcast_7_piece0 in memory on 117.16.44.45:41495 (size: 5.1 KiB, free: 434.3 MiB)\n",
      "20/09/12 15:02:30 INFO SparkContext: Created broadcast 7 from broadcast at DAGScheduler.scala:1200\n",
      "20/09/12 15:02:30 INFO DAGScheduler: Submitting 1 missing tasks from ResultStage 3 (MapPartitionsRDD[23] at showString at NativeMethodAccessorImpl.java:0) (first 15 tasks are for partitions Vector(0))\n",
      "20/09/12 15:02:30 INFO TaskSchedulerImpl: Adding task set 3.0 with 1 tasks\n",
      "20/09/12 15:02:30 INFO TaskSetManager: Starting task 0.0 in stage 3.0 (TID 3, 117.16.44.45, executor driver, partition 0, PROCESS_LOCAL, 7829 bytes)\n",
      "20/09/12 15:02:30 INFO Executor: Running task 0.0 in stage 3.0 (TID 3)\n",
      "20/09/12 15:02:30 INFO FileScanRDD: Reading File path: file:///home/jsl/Code/git/bb/jsl/pyds/data/제주특별자치도%20서귀포시_고령화비율및노령화지수현황_20200623.csv, range: 0-532, partition values: [empty row]\n",
      "20/09/12 15:02:30 INFO CodeGenerator: Code generated in 12.795356 ms\n",
      "20/09/12 15:02:30 INFO Executor: Finished task 0.0 in stage 3.0 (TID 3). 1692 bytes result sent to driver\n",
      "20/09/12 15:02:30 INFO TaskSetManager: Finished task 0.0 in stage 3.0 (TID 3) in 30 ms on 117.16.44.45 (executor driver) (1/1)\n",
      "20/09/12 15:02:30 INFO TaskSchedulerImpl: Removed TaskSet 3.0, whose tasks have all completed, from pool \n",
      "20/09/12 15:02:30 INFO DAGScheduler: ResultStage 3 (showString at NativeMethodAccessorImpl.java:0) finished in 0.039 s\n",
      "20/09/12 15:02:30 INFO DAGScheduler: Job 3 is finished. Cancelling potential speculative or zombie tasks for this job\n",
      "20/09/12 15:02:30 INFO TaskSchedulerImpl: Killing all running tasks in stage 3: Stage finished\n",
      "20/09/12 15:02:30 INFO DAGScheduler: Job 3 finished: showString at NativeMethodAccessorImpl.java:0, took 0.043548 s\n",
      "20/09/12 15:02:30 INFO CodeGenerator: Code generated in 13.212438 ms\n",
      "+------+---------------+----------------+-------------+----------+----------+--------------+\n",
      "|연도별|서귀포시 인구수|65세이상 인구수 |0~14세 인구수|고령화비율|노령화지수|데이터기준일자|\n",
      "+------+---------------+----------------+-------------+----------+----------+--------------+\n",
      "|  2012|         154057|           25826|        22861|     16.76|    112.97|    2020-06-23|\n",
      "|  2013|         155641|           26936|        22393|     17.31|    120.29|    2020-06-23|\n",
      "|  2014|         158512|           27877|        22058|     17.59|    126.38|    2020-06-23|\n",
      "|  2015|         164519|           28979|        22362|     17.61|    129.59|    2020-06-23|\n",
      "|  2016|         170932|           30030|        23044|     17.57|    130.32|    2020-06-23|\n",
      "+------+---------------+----------------+-------------+----------+----------+--------------+\n",
      "only showing top 5 rows\n",
      "\n",
      "20/09/12 15:02:30 INFO SparkUI: Stopped Spark web UI at http://117.16.44.45:4041\n",
      "20/09/12 15:02:30 INFO MapOutputTrackerMasterEndpoint: MapOutputTrackerMasterEndpoint stopped!\n",
      "20/09/12 15:02:30 INFO MemoryStore: MemoryStore cleared\n",
      "20/09/12 15:02:30 INFO BlockManager: BlockManager stopped\n",
      "20/09/12 15:02:30 INFO BlockManagerMaster: BlockManagerMaster stopped\n",
      "20/09/12 15:02:30 INFO OutputCommitCoordinator$OutputCommitCoordinatorEndpoint: OutputCommitCoordinator stopped!\n",
      "20/09/12 15:02:30 INFO SparkContext: Successfully stopped SparkContext\n",
      "20/09/12 15:02:31 INFO ShutdownHookManager: Shutdown hook called\n",
      "20/09/12 15:02:31 INFO ShutdownHookManager: Deleting directory /tmp/spark-46f2fb86-3e92-4994-b40f-a838a35cfbf5\n",
      "20/09/12 15:02:31 INFO ShutdownHookManager: Deleting directory /tmp/spark-df34e5c7-15e9-4efa-9252-48e655921931\n",
      "20/09/12 15:02:31 INFO ShutdownHookManager: Deleting directory /tmp/spark-df34e5c7-15e9-4efa-9252-48e655921931/pyspark-449d529b-6cbc-42c3-8e26-1d606520d3d9\n"
     ]
    }
   ],
   "source": [
    "!spark-submit src/ds3_popCsvRead.py"
   ]
  },
  {
   "cell_type": "markdown",
   "metadata": {
    "collapsed": false,
    "scrolled": true
   },
   "source": [
    "## S.6 RDD API\n",
    "\n",
    "앞서 RDD를 생성하여 보았다.\n",
    "이제는 RDD라는 데이터구조에서 데이터를 읽고 변환하고 분석하여 보자.\n",
    "RDD는 **데이터 변환Transformations**, **연산Actions**으로 구분할 수 있다.\n",
    "다음에 배우게 될 **Dataframe**의 **Transformer**, **Estimator**와 비교될 수 있다.\n",
    "\n",
    "### 변환 **transformations**\n",
    "\n",
    "변환함수는 **lazy연산**을 한다. 실제 변환은 action이 수행되는 시점까지 늦추어져서 이루어진다.\n",
    "변환 결과는 RDD 또는 seq(RDD)로 만들어진다.\n",
    "\n",
    "함수 | 설명 | 예제\n",
    "-------|-------|-------\n",
    "```map(fn)``` | 요소별로 fn을 적용해서 결과 RDD 돌려줌 | ```.map(lambda x: x.split(' ')```\n",
    "```filter(fn)``` | 요소별로 선별하여 fn을 적용해서 결과 RDD 돌려줌 | ```.filter(lambda x: \"Spark\" in x)```\n",
    "```flatMap(fn)``` | 요소별로 fn을 적용하고, flat해서 결과 RDD 돌려줌 | ```.flatMap(lambda x: x.split(' '))```\n",
    "```groupByKey()``` | key를 그룹해서 iterator를 돌려줌. |"
   ]
  },
  {
   "cell_type": "markdown",
   "metadata": {
    "slideshow": {
     "slide_type": "subslide"
    }
   },
   "source": [
    "### **actions**\n",
    "\n",
    "RDD를 값으로 변환하는데, 보통 Python 리스트가 생성된다.\n",
    "\n",
    "함수 | 설명 | 예제\n",
    "-------|-------|-------\n",
    "```reduce(fn)``` | 요소별로 fn을 사용해서 줄여서 결과 list를 돌려줌 | ```reduce(lambda x,y:x+y)```\n",
    "```collect()``` | 모든 요소를 결과 list로 돌려줌 |\n",
    "```count()``` | 요소의 갯수를 결과 list로 돌려줌 |\n",
    "```take(n)``` | ```collect()```는 전체이지만, n개만 돌려줌 | ```take(1)```\n",
    "```countByKey()``` | key별 갯수를 세는 함수 | ```countByKey().items()```\n",
    "```foreach(fn)``` | 각 데이터 항목에 함수fn을 적용 |"
   ]
  },
  {
   "cell_type": "markdown",
   "metadata": {
    "slideshow": {
     "slide_type": "slide"
    }
   },
   "source": [
    "###  S.6.1 우선 Python 함수로 해보기\n",
    "\n",
    "#### map()함수를 사용하지 않고 해보기\n",
    "\n",
    "map()을 사용하지 않고 섭씨를 화씨로 변환하는 **c2f()**함수를 만들어 보자.\n",
    "* 데이터를 하나씩 읽어 **for문으로 처리하고, 리스트로 만들어 반환**한다.\n",
    "* 나중에 **map()함수를 사용하면 for문이 없어도** 가능하다."
   ]
  },
  {
   "cell_type": "code",
   "execution_count": 12,
   "metadata": {
    "collapsed": false
   },
   "outputs": [
    {
     "name": "stdout",
     "output_type": "stream",
     "text": [
      "[102.56, 97.7, 99.14, 100.03999999999999]\n"
     ]
    }
   ],
   "source": [
    "celsius = [39.2, 36.5, 37.3, 37.8]\n",
    "def c2f(c):\n",
    "    f=list()\n",
    "    for i in c:\n",
    "        _f=(float(9)/5)*i + 32\n",
    "        f.append(_f)\n",
    "    return f\n",
    "\n",
    "print (c2f(celsius))"
   ]
  },
  {
   "cell_type": "markdown",
   "metadata": {
    "slideshow": {
     "slide_type": "subslide"
    }
   },
   "source": [
    "#### map() 함수를 사용해 보기\n",
    "\n",
    "Python은 map(), reduce(), filter() 함수를 이미 가지고 있다.\n",
    "Python map()을 사용해 보자. **for문이 사라진다**는 점에 유의한다.\n",
    "반복문이 외관상으로는 보이지 않지만, map() 함수 내부적으로 실행된다는 점에 유의하자.\n",
    "**map() 함수의 인자는 2개** 이다.\n",
    "* (1) 첫째 인자는 **처리 함수**이고, **함수의 return은 반드시 있어야** 한다,\n",
    "* (2) 두 번째 인자는 **처리하려는 데이터**이다.\n",
    "\n",
    "함수 | 설명 | 예\n",
    "-------|-------|-------\n",
    "map() | 각 데이터 요소에 함수를 적용해서 list를 반환 | **map(fn,data)**\n",
    "filter() | 각 데이터 요소에 함수의 결과 True를 선택해서 반환 | **filter(fn, data)**\n",
    "reduce() | 각 데이터 요소에 함수를 적용해서 list를 반환 | **reduce(fn, data)**\n"
   ]
  },
  {
   "cell_type": "code",
   "execution_count": 14,
   "metadata": {
    "collapsed": false
   },
   "outputs": [
    {
     "name": "stdout",
     "output_type": "stream",
     "text": [
      "[102.56, 97.7, 99.14, 100.03999999999999]\n"
     ]
    }
   ],
   "source": [
    "celsius = [39.2, 36.5, 37.3, 37.8]\n",
    "def c2f(c):\n",
    "    return (float(9)/5)*c + 32\n",
    "\n",
    "f=map(c2f, celsius)\n",
    "print (list(f))"
   ]
  },
  {
   "cell_type": "markdown",
   "metadata": {
    "slideshow": {
     "slide_type": "subslide"
    }
   },
   "source": [
    "* lambda 함수의 설명\n",
    "lambda는 익명함수이다. 함수의 인자를 받아서, 한 줄의 표현식으로 처리한다.\n",
    "\n",
    "```python\n",
    "lambda 함수인자 : 표현식\n",
    "```\n",
    "\n",
    "**lambda함수**를 사용하면 줄 수가 많이 줄게 된다. lambda는 무명 함수이므로 함수 선언이 별도 필요 없다. 처리 결과는 **'return'을 사용하지 않아도 반환**된다.\n",
    "\n",
    "* lambda는 함수를 정의하는 명령어로서, 이름이 없다는 특징이 있다. 매우 직관적으로 사용할 수 있게 된다.\n",
    "* map-reduce 함수에서 자주 사용되므로 잘 이해해야 한다.\n",
    "* 단순히 인자에 2를 곱하는 lamdba함수 'y'를 정의하면 다음과 같다. 같은 기능을 lambda를 사용하지 않고, 기존 함수 방식으로 만들면 프로그램이 조금 더 늘어나게 된다"
   ]
  },
  {
   "cell_type": "code",
   "execution_count": 22,
   "metadata": {
    "collapsed": false,
    "slideshow": {
     "slide_type": "subslide"
    }
   },
   "outputs": [
    {
     "name": "stdout",
     "output_type": "stream",
     "text": [
      "2\n"
     ]
    }
   ],
   "source": [
    "y = lambda x : x * 2\n",
    "print (y(1))"
   ]
  },
  {
   "cell_type": "code",
   "execution_count": 23,
   "metadata": {
    "collapsed": false
   },
   "outputs": [
    {
     "name": "stdout",
     "output_type": "stream",
     "text": [
      "2\n"
     ]
    }
   ],
   "source": [
    "def f(x):\n",
    "    return x * 2\n",
    "y=f(1)\n",
    "print (y)"
   ]
  },
  {
   "cell_type": "markdown",
   "metadata": {},
   "source": [
    "또는 인자를 2개 가질 수도 있다.\n",
    "x, y인자를 받아 그 합산을 반환하는 lambda 함수이다."
   ]
  },
  {
   "cell_type": "code",
   "execution_count": 24,
   "metadata": {
    "collapsed": false
   },
   "outputs": [
    {
     "name": "stdout",
     "output_type": "stream",
     "text": [
      "3\n"
     ]
    }
   ],
   "source": [
    "x = lambda x, y : x + y\n",
    "print(x(1, 2))"
   ]
  },
  {
   "cell_type": "code",
   "execution_count": 17,
   "metadata": {
    "collapsed": false
   },
   "outputs": [
    {
     "name": "stdout",
     "output_type": "stream",
     "text": [
      "[102.56, 97.7, 99.14, 100.03999999999999]\n"
     ]
    }
   ],
   "source": [
    "f=map(lambda c:(float(9)/5)*c + 32, celsius)\n",
    "print(list(f))"
   ]
  },
  {
   "cell_type": "markdown",
   "metadata": {
    "slideshow": {
     "slide_type": "subslide"
    }
   },
   "source": [
    "문자열에 map()을 사용해 보자\n",
    "* 문자열 \"Hello World\"을 사용하면, 각 철자를 map()함수의 인자로 처리해서 split()한다.\n",
    "* list [\"Hello World\"]를 사용하면, 각 단어를 map()함수의 인자로 처리해서 split()한다."
   ]
  },
  {
   "cell_type": "code",
   "execution_count": 21,
   "metadata": {
    "collapsed": false
   },
   "outputs": [
    {
     "data": {
      "text/plain": [
       "[['H'], ['e'], ['l'], ['l'], ['o'], [], ['W'], ['o'], ['r'], ['l'], ['d']]"
      ]
     },
     "execution_count": 21,
     "metadata": {},
     "output_type": "execute_result"
    }
   ],
   "source": [
    "sentence = \"Hello World\"\n",
    "list(map(lambda x:x.split(), sentence))"
   ]
  },
  {
   "cell_type": "code",
   "execution_count": 23,
   "metadata": {
    "collapsed": false
   },
   "outputs": [
    {
     "data": {
      "text/plain": [
       "[['Hello', 'World'], ['Good', 'Morining']]"
      ]
     },
     "execution_count": 23,
     "metadata": {},
     "output_type": "execute_result"
    }
   ],
   "source": [
    "sentence = [\"Hello World\", \"Good Morining\"]\n",
    "map(lambda x:x.split(), sentence)"
   ]
  },
  {
   "cell_type": "markdown",
   "metadata": {
    "slideshow": {
     "slide_type": "subslide"
    }
   },
   "source": [
    "#### filter()\n",
    "\n",
    "filter()는 데이터를 선별한다."
   ]
  },
  {
   "cell_type": "code",
   "execution_count": 26,
   "metadata": {
    "collapsed": false
   },
   "outputs": [
    {
     "name": "stdout",
     "output_type": "stream",
     "text": [
      "[1, 1, 3, 5, 13, 21, 55]\n"
     ]
    }
   ],
   "source": [
    "fib = [0,1,1,2,3,5,8,13,21,34,55]\n",
    "result = filter(lambda x: x % 2, fib)\n",
    "print (list(result))"
   ]
  },
  {
   "cell_type": "markdown",
   "metadata": {
    "slideshow": {
     "slide_type": "subslide"
    }
   },
   "source": [
    "#### reduce()\n",
    "\n",
    "reduce() 역시 **함수와 데이터 2개의 인자**를 받는다.\n",
    "데이터에 대해 함수를 반복적으로 적용하여 결과 값을 만들게 된다, 즉 [ func(func(s1, s2),s3), ... , sn ]와 같이 수행한다. 아래 예는 1부터 101까지 **두 수 x,y 인자를 반복해서 더한다**는 것이다.\n",
    "x는 부분합계로 y를 계속 저장해 나가는 역할을 하며, 최종 합계에 이르게 된다.\n",
    "\n",
    "단계 | x<p>부분 합계 | y | 함수적용\n",
    "-----|-----|-----|-----\n",
    "1 | 0 | 1 | func(0,1)\n",
    "2 | 1 | 2 | func(1,2) <-- func(0 + 1, 2)\n",
    "3 | 3 | 3 | func(3,3) <-- func(0 + 1 + 2, 2)\n",
    "4 | 6 | 4 | func(6,4) <-- func(0 + 1 + 2 + 3, 2)\n",
    "...|...|...|...\n"
   ]
  },
  {
   "cell_type": "code",
   "execution_count": 28,
   "metadata": {
    "collapsed": false
   },
   "outputs": [
    {
     "data": {
      "text/plain": [
       "5050"
      ]
     },
     "execution_count": 28,
     "metadata": {},
     "output_type": "execute_result"
    }
   ],
   "source": [
    "from functools import reduce\n",
    "reduce(lambda x, y: x + y, range(1,101))"
   ]
  },
  {
   "cell_type": "markdown",
   "metadata": {
    "slideshow": {
     "slide_type": "slide"
    }
   },
   "source": [
    "## S.6.2 RDD 사용하기\n",
    "\n",
    "transformation, action 함수를 사용해 보자."
   ]
  },
  {
   "cell_type": "markdown",
   "metadata": {
    "slideshow": {
     "slide_type": "subslide"
    }
   },
   "source": [
    "### map\n",
    "\n",
    "* 요소별 제곱\n",
    "\n",
    "map()을 사용해서 각 요소를 **제곱**해 보자.\n",
    "리스트의 요소를 하나씩 가져와서 제곱을 하게 된다.\n",
    "map()은 transformation 함수라서, 실제 값은 action 함수가 적용될 때까지 연기되어 계산된다.\n",
    "map() 함수의 반환 값은 RDD이다."
   ]
  },
  {
   "cell_type": "code",
   "execution_count": 29,
   "metadata": {
    "collapsed": false
   },
   "outputs": [
    {
     "name": "stdout",
     "output_type": "stream",
     "text": [
      "PythonRDD[9] at RDD at PythonRDD.scala:53\n"
     ]
    }
   ],
   "source": [
    "nRdd = spark.sparkContext.parallelize([1, 2, 3, 4])\n",
    "squared = nRdd.map(lambda x: x * x)\n",
    "print (squared)"
   ]
  },
  {
   "cell_type": "markdown",
   "metadata": {},
   "source": [
    "변환의 실제 결과를 보려면 collect()를 사용해서 출력해야 한다."
   ]
  },
  {
   "cell_type": "code",
   "execution_count": 38,
   "metadata": {
    "collapsed": false
   },
   "outputs": [
    {
     "name": "stdout",
     "output_type": "stream",
     "text": [
      "[1, 4, 9, 16]\n"
     ]
    }
   ],
   "source": [
    "print (squared.collect())"
   ]
  },
  {
   "cell_type": "markdown",
   "metadata": {},
   "source": [
    "* csv를 배열로\n",
    "\n",
    "위에서 csv 파일을 읽어서 아래와 같이 구성된 요소를 정수 리스트로 만들어보자."
   ]
  },
  {
   "cell_type": "code",
   "execution_count": 33,
   "metadata": {
    "collapsed": false
   },
   "outputs": [
    {
     "data": {
      "text/plain": [
       "['35, 2', '40, 27', '12, 38', '15, 31', '21, 1']"
      ]
     },
     "execution_count": 33,
     "metadata": {},
     "output_type": "execute_result"
    }
   ],
   "source": [
    "myRdd4.take(5)"
   ]
  },
  {
   "cell_type": "markdown",
   "metadata": {},
   "source": [
    "2차원 리스트로 만드려면, map()함수를 사용한다.\n",
    "map() 함수에는 아래와 같은 로직이 숨어있다.\n",
    "\n",
    "```python\n",
    "모든 줄을 반복:\n",
    "    한 줄line을 읽는다.\n",
    "    줄line을 컴마(,)로 분리한다.\n",
    "    줄line을 리스트로 만든다.\n",
    "```\n",
    "\n",
    "map() 함수에 lambda를 넣어서 해보자.\n",
    "line을 받아서 split(,) 즉 컴마로 분리하고 있다."
   ]
  },
  {
   "cell_type": "code",
   "execution_count": 41,
   "metadata": {
    "collapsed": false
   },
   "outputs": [
    {
     "data": {
      "text/plain": [
       "[['35', ' 2'], ['40', ' 27'], ['12', ' 38'], ['15', ' 31'], ['21', ' 1']]"
      ]
     },
     "execution_count": 41,
     "metadata": {},
     "output_type": "execute_result"
    }
   ],
   "source": [
    "myRdd5 = myRdd4.map(lambda line: line.split(','))\n",
    "myRdd5.take(5)"
   ]
  },
  {
   "cell_type": "markdown",
   "metadata": {},
   "source": [
    "* 문자열을 정수로 변환\n",
    "\n",
    "결과에서 보듯이, 리스트 안의 숫자들이 따옴표로 되어 있다.\n",
    "이는 숫자가 아니라 문자라는 의미이다. 문자는 + 연산을 하면 아래와 같이 합성이 된다."
   ]
  },
  {
   "cell_type": "code",
   "execution_count": 34,
   "metadata": {
    "collapsed": false
   },
   "outputs": [
    {
     "data": {
      "text/plain": [
       "'352'"
      ]
     },
     "execution_count": 34,
     "metadata": {},
     "output_type": "execute_result"
    }
   ],
   "source": [
    "'35'+'2'"
   ]
  },
  {
   "cell_type": "markdown",
   "metadata": {},
   "source": [
    "뭔가 연산을 하려면, 숫자를 정수로 형변환을 해야 한다.\n",
    "우선 리스트의 첫 째 요소 ['35', '2']를 Python으로 형변환 해보자.\n",
    "이 경우 반복문으로 하나씩 읽어서 문자를 int()로 형변환을 해야 한다.\n"
   ]
  },
  {
   "cell_type": "markdown",
   "metadata": {},
   "source": [
    "먼저 반복문으로 해보면 다음과 같다."
   ]
  },
  {
   "cell_type": "code",
   "execution_count": 38,
   "metadata": {
    "collapsed": false
   },
   "outputs": [
    {
     "name": "stdout",
     "output_type": "stream",
     "text": [
      "[35, 2]\n"
     ]
    }
   ],
   "source": [
    "x=['35', '2']\n",
    "y=list()\n",
    "for i in x:\n",
    "    y.append(int(i))\n",
    "print(y)"
   ]
  },
  {
   "cell_type": "markdown",
   "metadata": {},
   "source": [
    "이를 줄여서 아래와 같이 처리하는데, 프로그램이 줄 수가 줄어들어 간략해 지면서 Python의 특징이 잘 드러나고 있다.\n",
    "이를 Pythonoic하다라고 한다."
   ]
  },
  {
   "cell_type": "code",
   "execution_count": 39,
   "metadata": {
    "collapsed": false
   },
   "outputs": [
    {
     "data": {
      "text/plain": [
       "[35, 2]"
      ]
     },
     "execution_count": 39,
     "metadata": {},
     "output_type": "execute_result"
    }
   ],
   "source": [
    "x=['35', '2']\n",
    "[int(i) for i in x]"
   ]
  },
  {
   "cell_type": "markdown",
   "metadata": {},
   "source": [
    "잘 되는 것을 확인했으니, map() 함수에 넣어서 정수로 만들자."
   ]
  },
  {
   "cell_type": "code",
   "execution_count": 42,
   "metadata": {
    "collapsed": false,
    "slideshow": {
     "slide_type": "subslide"
    }
   },
   "outputs": [
    {
     "data": {
      "text/plain": [
       "[[35, 2], [40, 27], [12, 38], [15, 31], [21, 1]]"
      ]
     },
     "execution_count": 42,
     "metadata": {},
     "output_type": "execute_result"
    }
   ],
   "source": [
    "myRdd6 = myRdd5.map(lambda x: [int(i) for i in x])\n",
    "myRdd6.take(5)"
   ]
  },
  {
   "cell_type": "markdown",
   "metadata": {},
   "source": [
    "* 단어 분리\n",
    "\n",
    "map 함수를 사용해서 문서를 문장으로 분리해 보자.\n",
    "문서파일이 10개 문장을 포함하고 있으므로, count()는 10개를 출력한다."
   ]
  },
  {
   "cell_type": "code",
   "execution_count": 43,
   "metadata": {
    "collapsed": true
   },
   "outputs": [],
   "source": [
    "myRdd2=spark.sparkContext\\\n",
    "    .textFile(os.path.join(\"data\",\"ds_spark_wiki.txt\"))"
   ]
  },
  {
   "cell_type": "markdown",
   "metadata": {},
   "source": [
    "```str.split()``` 함수에 인자가 없으면 whitespace로 분리한다. whitespace는 공백이나 탭 등의 기호를 말하는 것으로, 문장을 분리해서 단어로 분리할 경우에 사용한다.\n",
    "\n",
    "> whitespace\n",
    "\n",
    "> 스페이스바, 탭, RETURN, ENTER 키를 말한다."
   ]
  },
  {
   "cell_type": "code",
   "execution_count": 48,
   "metadata": {
    "collapsed": true
   },
   "outputs": [],
   "source": [
    "sentences=myRdd2.map(lambda x:x.split())"
   ]
  },
  {
   "cell_type": "markdown",
   "metadata": {},
   "source": [
    "문장 개수를 세어보자."
   ]
  },
  {
   "cell_type": "code",
   "execution_count": 49,
   "metadata": {
    "collapsed": false
   },
   "outputs": [
    {
     "data": {
      "text/plain": [
       "10"
      ]
     },
     "execution_count": 49,
     "metadata": {},
     "output_type": "execute_result"
    }
   ],
   "source": [
    "sentences.count()"
   ]
  },
  {
   "cell_type": "markdown",
   "metadata": {},
   "source": [
    "* 사용자 함수를 이용해서 단어 분리\n",
    "\n",
    "사용자 함수, 즉 사용자가 만든 mySplit() 함수를 사용해 map()을 수행하고 있다.\n",
    "이와 같이 lambda를 사용하지 않고, 사용자함수로 map()을 사용할 수 있다.\n",
    "lambda는 한 줄의 명령문만 가지게 되므로, 여러 명령문으로 함수를 만드는 경우 사용자함수를 만들어 유용하게 사용할 수 있다."
   ]
  },
  {
   "cell_type": "code",
   "execution_count": 50,
   "metadata": {
    "collapsed": false
   },
   "outputs": [
    {
     "data": {
      "text/plain": [
       "10"
      ]
     },
     "execution_count": 50,
     "metadata": {},
     "output_type": "execute_result"
    }
   ],
   "source": [
    "def mySplit(x):\n",
    "    return x.split()\n",
    "sentences2=myRdd2.map(mySplit)\n",
    "sentences2.count()"
   ]
  },
  {
   "cell_type": "markdown",
   "metadata": {},
   "source": [
    "take() 함수를 사용해 수집해 보자. 인자 3을 넣어 갯수를 정하고 있다.\n",
    "리스트에 담겨져 있으므로, 이를 풀어서 출력하기 위해서는 for문을 사용해야 한다.\n",
    "리스트에 담겨져 있는 데이터를 살펴보면, 단어로 분리되어 있는 것을 알 수 있다."
   ]
  },
  {
   "cell_type": "code",
   "execution_count": 51,
   "metadata": {
    "collapsed": false
   },
   "outputs": [
    {
     "data": {
      "text/plain": [
       "[['Wikipedia'],\n",
       " ['Apache',\n",
       "  'Spark',\n",
       "  'is',\n",
       "  'an',\n",
       "  'open',\n",
       "  'source',\n",
       "  'cluster',\n",
       "  'computing',\n",
       "  'framework.'],\n",
       " ['아파치', '스파크는', '오픈', '소스', '클러스터', '컴퓨팅', '프레임워크이다.']]"
      ]
     },
     "execution_count": 51,
     "metadata": {},
     "output_type": "execute_result"
    }
   ],
   "source": [
    "sentences.take(3)"
   ]
  },
  {
   "cell_type": "markdown",
   "metadata": {},
   "source": [
    "* 중첩 for 문으로 2차원 배열의 출력\n",
    "\n",
    "앞서 본 경우와 같이 리스트에는 **문장**이 분리된 **단어**가 요소로 담겨져 있으므로, **for문을 중첩**해서 사용해야 단어를 출력할 수 있다.\n",
    "Python3에서는 print()가 함수로 취급된다. 단어를 출력할 경우, 그 사이에 공백을 넣고 싶으면 end= ' ' 라고 적어주어야 한다.\n",
    "따옴표는 한 개 '' 또는 \"\" 어느 것으로 해도 기능의 차이는 없다."
   ]
  },
  {
   "cell_type": "code",
   "execution_count": 52,
   "metadata": {
    "collapsed": false
   },
   "outputs": [
    {
     "name": "stdout",
     "output_type": "stream",
     "text": [
      "Wikipedia \n",
      "-----\n",
      "Apache Spark is an open source cluster computing framework. \n",
      "-----\n",
      "아파치 스파크는 오픈 소스 클러스터 컴퓨팅 프레임워크이다. \n",
      "-----\n",
      "Apache Spark Apache Spark Apache Spark Apache Spark \n",
      "-----\n",
      "아파치 스파크 아파치 스파크 아파치 스파크 아파치 스파크 \n",
      "-----\n",
      "Originally developed at the University of California, Berkeley's AMPLab, \n",
      "-----\n",
      "the Spark codebase was later donated to the Apache Software Foundation, \n",
      "-----\n",
      "which has maintained it since. \n",
      "-----\n",
      "Spark provides an interface for programming entire clusters with \n",
      "-----\n",
      "implicit data parallelism and fault-tolerance. \n",
      "-----\n"
     ]
    }
   ],
   "source": [
    "for line in sentences.collect():\n",
    "    for word in line:\n",
    "        print (word, end=\" \")\n",
    "    print (\"\\n-----\")"
   ]
  },
  {
   "cell_type": "markdown",
   "metadata": {},
   "source": [
    "* 문자 개수\n",
    "\n",
    "각 문장의 철자 갯수를 세어 보자.\n",
    "철자는 len()함수를 사용하면 된다.\n",
    "첫 문장 'Wikipedia'는 **9**, 다음 문장 'Apache Spark is an open source cluster computing framework.'는 마침표를 포함하여 **59**자를 출력하고 있다.\n",
    "아래는 58을 출력하는데, 자세히 살펴보면 마침표가 빠져있어서 그렇다."
   ]
  },
  {
   "cell_type": "code",
   "execution_count": 53,
   "metadata": {
    "collapsed": false
   },
   "outputs": [
    {
     "data": {
      "text/plain": [
       "58"
      ]
     },
     "execution_count": 53,
     "metadata": {},
     "output_type": "execute_result"
    }
   ],
   "source": [
    "len(\"Apache Spark is an open source cluster computing framework\")"
   ]
  },
  {
   "cell_type": "markdown",
   "metadata": {},
   "source": [
    "문자 개수를 센 후, 배열로 만들어보자."
   ]
  },
  {
   "cell_type": "code",
   "execution_count": 54,
   "metadata": {
    "collapsed": false
   },
   "outputs": [
    {
     "data": {
      "text/plain": [
       "[9, 59, 32, 51, 31, 72, 71, 30, 64, 46]"
      ]
     },
     "execution_count": 54,
     "metadata": {},
     "output_type": "execute_result"
    }
   ],
   "source": [
    "myRdd2.map(lambda s:len(s)).collect()"
   ]
  },
  {
   "cell_type": "markdown",
   "metadata": {},
   "source": [
    "* 교체\n",
    "\n",
    "이번에는 리스트에서 RDD를 만들어 간단한 문자처리 기능으로 **대소문자 변환**이나 **교체**를 해보자."
   ]
  },
  {
   "cell_type": "code",
   "execution_count": 49,
   "metadata": {
    "collapsed": true
   },
   "outputs": [],
   "source": [
    "myList=[\"this is\",\"a line\"]\n",
    "_rdd=spark.sparkContext.parallelize(myList)"
   ]
  },
  {
   "cell_type": "code",
   "execution_count": 50,
   "metadata": {
    "collapsed": false
   },
   "outputs": [
    {
     "name": "stdout",
     "output_type": "stream",
     "text": [
      "[['this', 'is'], ['a', 'line']]\n"
     ]
    }
   ],
   "source": [
    "wordsRdd=_rdd.map(lambda x:x.split())\n",
    "print (wordsRdd.collect())"
   ]
  },
  {
   "cell_type": "code",
   "execution_count": 60,
   "metadata": {
    "collapsed": false
   },
   "outputs": [
    {
     "data": {
      "text/plain": [
       "['this is', 'AA line']"
      ]
     },
     "execution_count": 60,
     "metadata": {},
     "output_type": "execute_result"
    }
   ],
   "source": [
    "repRdd=_rdd.map(lambda x:x.replace(\"a\",\"AA\"))\n",
    "repRdd.take(10)"
   ]
  },
  {
   "cell_type": "markdown",
   "metadata": {},
   "source": [
    "* 대소문자 변환\n",
    "\n",
    "첫 글자를 대문자로 만들어서 출력해 보자.\n",
    "다음 's'.upper()는 철자 's'를 대문자로 출력하는 함수이다."
   ]
  },
  {
   "cell_type": "code",
   "execution_count": 61,
   "metadata": {
    "collapsed": false
   },
   "outputs": [
    {
     "data": {
      "text/plain": [
       "'S'"
      ]
     },
     "execution_count": 61,
     "metadata": {},
     "output_type": "execute_result"
    }
   ],
   "source": [
    "'s'.upper()"
   ]
  },
  {
   "cell_type": "markdown",
   "metadata": {},
   "source": [
    "첫째 요소 **x[0]**는 리스트 각 요소의 첫째 단어 'this', 'a'를 대문자로 변환하고 있다."
   ]
  },
  {
   "cell_type": "code",
   "execution_count": 63,
   "metadata": {
    "collapsed": false
   },
   "outputs": [
    {
     "name": "stdout",
     "output_type": "stream",
     "text": [
      "['THIS', 'A']\n"
     ]
    }
   ],
   "source": [
    "upperRDD =wordsRdd.map(lambda x: x[0].upper())\n",
    "print (upperRDD.collect())"
   ]
  },
  {
   "cell_type": "markdown",
   "metadata": {},
   "source": [
    "리스트의 모든 단어를 대문자로 바꾸려면 for문을 사용한다."
   ]
  },
  {
   "cell_type": "code",
   "execution_count": 64,
   "metadata": {
    "collapsed": false,
    "scrolled": true,
    "slideshow": {
     "slide_type": "subslide"
    }
   },
   "outputs": [
    {
     "name": "stdout",
     "output_type": "stream",
     "text": [
      "[['THIS', 'IS'], ['A', 'LINE']]\n"
     ]
    }
   ],
   "source": [
    "upper2RDD =wordsRdd.map(lambda x: [i.upper() for i in x])\n",
    "print (upper2RDD.collect())"
   ]
  },
  {
   "cell_type": "markdown",
   "metadata": {
    "slideshow": {
     "slide_type": "subslide"
    }
   },
   "source": [
    "### reduce\n",
    "\n",
    "앞서 RDD를 사용하지 않고, Python reduce()한 예와 비교해 보자.\n",
    "reduce()는 lamdba함수를 사용해서 **입력 데이터를 하나씩 서로 더해서 x+y** 결과 값을 만들어 낸다.\n",
    "\n",
    "```python\n",
    "subtotal = 0으로 초기화,\n",
    "subtotal = subtotal + 1 (y는 1이므로)\n",
    "subtotal = subtotal + 2 (y는 하나 증가해서 2이므로)\n",
    "...\n",
    "subtotal = subtotal + 100 (y는 하나씩 증가해서 최종 값 100)\n",
    "```"
   ]
  },
  {
   "cell_type": "code",
   "execution_count": 65,
   "metadata": {
    "collapsed": false
   },
   "outputs": [
    {
     "data": {
      "text/plain": [
       "5050"
      ]
     },
     "execution_count": 65,
     "metadata": {},
     "output_type": "execute_result"
    }
   ],
   "source": [
    "myRdd100 = spark.sparkContext.parallelize(range(1,101))\n",
    "myRdd100.reduce(lambda subtotal, x: subtotal + x)"
   ]
  },
  {
   "cell_type": "markdown",
   "metadata": {
    "slideshow": {
     "slide_type": "subslide"
    }
   },
   "source": [
    "### 단순 통계 기능\n",
    "\n",
    "텍스트데이터와 달리 정량데이터로부터 sum, min, max, 표준편차 등 서술통계를 계산해 낼 수 있다."
   ]
  },
  {
   "cell_type": "code",
   "execution_count": 66,
   "metadata": {
    "collapsed": false,
    "scrolled": false
   },
   "outputs": [
    {
     "name": "stdout",
     "output_type": "stream",
     "text": [
      "sum:  5050\n",
      "min:  1\n",
      "max:  100\n",
      "standard deviation: 28.86607004772212\n",
      "variance:  833.25\n"
     ]
    }
   ],
   "source": [
    "print (\"sum: \", myRdd100.sum())\n",
    "print (\"min: \", myRdd100.min())\n",
    "print (\"max: \", myRdd100.max())\n",
    "print (\"standard deviation:\", myRdd100.stdev())\n",
    "print (\"variance: \", myRdd100.variance())"
   ]
  },
  {
   "cell_type": "markdown",
   "metadata": {
    "slideshow": {
     "slide_type": "subslide"
    }
   },
   "source": [
    "### filter()\n",
    "\n",
    "filter() 함수로 조건에 맞는 문장만 분리해 보자.\n",
    "\"Spark\" 단어가 포함된 문장이 조건이된다.\n",
    "count() 함수로 그 갯수를 확인해 보자."
   ]
  },
  {
   "cell_type": "code",
   "execution_count": 44,
   "metadata": {
    "collapsed": false
   },
   "outputs": [
    {
     "name": "stdout",
     "output_type": "stream",
     "text": [
      "How many lines having 'Spark':  4\n"
     ]
    }
   ],
   "source": [
    "myRdd_spark=myRdd2.filter(lambda line: \"Spark\" in line)\n",
    "print (\"How many lines having 'Spark': \",myRdd_spark.count())"
   ]
  },
  {
   "cell_type": "markdown",
   "metadata": {
    "slideshow": {
     "slide_type": "subslide"
    }
   },
   "source": [
    "한글을 filter하려면 앞에 u를 붙여준다. u는 유니코드를 의미한다."
   ]
  },
  {
   "cell_type": "code",
   "execution_count": 45,
   "metadata": {
    "collapsed": false
   },
   "outputs": [
    {
     "name": "stdout",
     "output_type": "stream",
     "text": [
      "아파치 스파크는 오픈 소스 클러스터 컴퓨팅 프레임워크이다.\n"
     ]
    }
   ],
   "source": [
    "myRdd_unicode = myRdd2.filter(lambda line: u\"스파크\" in line)\n",
    "print (myRdd_unicode.first())"
   ]
  },
  {
   "cell_type": "markdown",
   "metadata": {
    "slideshow": {
     "slide_type": "subslide"
    }
   },
   "source": [
    "* filter()를 사용해서 **stopwords** 제거하기\n",
    "\n",
    "문장 안에 stopwords를 포함한 경우는 제거되지 않는다.\n",
    "따라서 flatMap()을 하고 단어에 대해 불용어를 제거해야 한다.\n",
    "불용어는 단어빈도를 계산하면서 제거하고 싶은 단어를 말한다.\n",
    "불용어는 빈도를 세어도 의미가 없는 대명사 (이, 그, 저...) 또는 한 글자 단어 (등...)이 될 수 있다.\n",
    "한글은 유니코드로 처리해야 한다.\n",
    "영어는 대소문자를 모두 처리하기 위해 여기서는 소문자로 만들어 처리한다."
   ]
  },
  {
   "cell_type": "code",
   "execution_count": 42,
   "metadata": {
    "collapsed": true
   },
   "outputs": [],
   "source": [
    "stopwords = ['is','am','are','the','for','a', 'an', 'at']\n",
    "myRdd_stop = myRdd2.flatMap(lambda x:x.split())\\\n",
    "                    .filter(lambda x: x not in stopwords)"
   ]
  },
  {
   "cell_type": "markdown",
   "metadata": {
    "slideshow": {
     "slide_type": "subslide"
    }
   },
   "source": [
    "stopwords를 제거한 문장을 출력해 보자.\n",
    "collect() 함수는 문장을 수집하여, list로 만들어 준다.\n",
    "list를 하나씩 반복문 for를 사용하여 출력한다.\n"
   ]
  },
  {
   "cell_type": "code",
   "execution_count": 45,
   "metadata": {
    "collapsed": false,
    "slideshow": {
     "slide_type": "-"
    }
   },
   "outputs": [
    {
     "name": "stdout",
     "output_type": "stream",
     "text": [
      "Wikipedia Apache Spark open source cluster computing framework. 아파치 스파크는 오픈 소스 클러스터 컴퓨팅 프레임워크이다. Apache Spark Apache Spark Apache Spark Apache Spark 아파치 스파크 아파치 스파크 아파치 스파크 아파치 스파크 Originally developed University of California, Berkeley's AMPLab, Spark codebase was later donated to Apache Software Foundation, which has maintained it since. Spark provides interface programming entire clusters with implicit data parallelism and fault-tolerance. "
     ]
    }
   ],
   "source": [
    "for words in myRdd_stop.collect():\n",
    "    print (words, end=' ')"
   ]
  },
  {
   "cell_type": "markdown",
   "metadata": {
    "slideshow": {
     "slide_type": "subslide"
    }
   },
   "source": [
    "### foreach()\n",
    "\n",
    "```foreach()```는 action이지만, 다른 action 함수들과 달리 **반환 값이 없다**.\n",
    "각 요소에 대해 적용한다는 역할에 대해 유사한 기능을 하는 ```map()``` 함수가 있다.\n",
    "```map()``` 함수는 각 요소에 대해 계산을 하고, 그 값을 반환한다."
   ]
  },
  {
   "cell_type": "code",
   "execution_count": 46,
   "metadata": {
    "collapsed": false
   },
   "outputs": [],
   "source": [
    "spark.sparkContext.parallelize([1, 2, 3, 4, 5]).foreach(lambda x: x + 1)"
   ]
  },
  {
   "cell_type": "code",
   "execution_count": 47,
   "metadata": {
    "collapsed": false
   },
   "outputs": [
    {
     "data": {
      "text/plain": [
       "[2, 3, 4, 5, 6]"
      ]
     },
     "execution_count": 47,
     "metadata": {},
     "output_type": "execute_result"
    }
   ],
   "source": [
    "spark.sparkContext.parallelize([1, 2, 3, 4, 5]).map(lambda x: x + 1).collect()"
   ]
  },
  {
   "cell_type": "markdown",
   "metadata": {
    "slideshow": {
     "slide_type": "subslide"
    }
   },
   "source": [
    "다음은 foreach()는 f() 함수를 호출하여 실행하고 있다. 그 결과 각 요소를 print() 출력하고 있다."
   ]
  },
  {
   "cell_type": "code",
   "execution_count": 48,
   "metadata": {
    "collapsed": true,
    "slideshow": {
     "slide_type": "-"
    }
   },
   "outputs": [],
   "source": [
    "def f(x): print(x)\n",
    "spark.sparkContext.parallelize([1, 2, 3, 4, 5]).foreach(f)"
   ]
  },
  {
   "cell_type": "markdown",
   "metadata": {},
   "source": [
    "![alt text](figures/11_foreachPrint.png \"foreach print\")"
   ]
  },
  {
   "cell_type": "markdown",
   "metadata": {
    "slideshow": {
     "slide_type": "subslide"
    }
   },
   "source": [
    "### pipeline\n",
    "\n",
    "파이프라인은 **transformation**(예: map()), **action**(예: collect()) 함수를 **연이어 적용**하는 방식을 말한다.\n",
    "파이프라인이 아니라면 함수를 하나씩 끝나고, 결과를 받은 후 다음 함수를 단계별로 적용하게 된다.\n",
    "보다 효율적인 처리를 위해 함수들을 파이프라인같이 붙여서 중간결과를 별도로 산출하지 않고 연이어 처리한다. "
   ]
  },
  {
   "cell_type": "code",
   "execution_count": 51,
   "metadata": {
    "collapsed": false
   },
   "outputs": [
    {
     "name": "stdout",
     "output_type": "stream",
     "text": [
      "<class 'list'>\n"
     ]
    }
   ],
   "source": [
    "upper2list=wordsRdd.map(lambda x: [i.upper() for i in x]).collect()\n",
    "print (type(upper2list))"
   ]
  },
  {
   "cell_type": "markdown",
   "metadata": {},
   "source": [
    "map(), collect()를 파이프라인으로 처리하여, 단어의 수를 len()함수로 세고 있다."
   ]
  },
  {
   "cell_type": "code",
   "execution_count": 52,
   "metadata": {
    "collapsed": false
   },
   "outputs": [
    {
     "name": "stdout",
     "output_type": "stream",
     "text": [
      "[2, 2]\n"
     ]
    }
   ],
   "source": [
    "wordsLength = wordsRdd\\\n",
    "    .map(len)\\\n",
    "    .collect()\n",
    "print (wordsLength)"
   ]
  },
  {
   "cell_type": "markdown",
   "metadata": {
    "slideshow": {
     "slide_type": "subslide"
    }
   },
   "source": [
    "### 파일에 쓰기\n",
    "\n",
    "* RDD 저장\n",
    "Spark에서 list는 RDD로 만들어 로컬 파일에 쓰게 된다."
   ]
  },
  {
   "cell_type": "code",
   "execution_count": null,
   "metadata": {
    "collapsed": true
   },
   "outputs": [],
   "source": [
    "spark.sparkContext.parallelize(upper2list).saveAsTextFile(\"data/ds_spark_wiki_out\")"
   ]
  },
  {
   "cell_type": "markdown",
   "metadata": {},
   "source": [
    "RDD는 **디렉토리**가 만들어지고 그 안에 내용이 쓰이게 된다.\n",
    "파일이 생성되었는지 확인해보자. 윈도우에서는 ```ls``` 대신 ```dir```이라고 하면 된다."
   ]
  },
  {
   "cell_type": "markdown",
   "metadata": {},
   "source": [
    "!dir data/"
   ]
  },
  {
   "cell_type": "code",
   "execution_count": 286,
   "metadata": {
    "collapsed": false
   },
   "outputs": [
    {
     "name": "stdout",
     "output_type": "stream",
     "text": [
      "total 8\r\n",
      "-rw-r--r-- 1 jsl jsl  0  4월 29  2018 part-00000\r\n",
      "-rw-r--r-- 1 jsl jsl 15  4월 29  2018 part-00001\r\n",
      "-rw-r--r-- 1 jsl jsl  0  4월 29  2018 part-00002\r\n",
      "-rw-r--r-- 1 jsl jsl 14  4월 29  2018 part-00003\r\n",
      "-rw-r--r-- 1 jsl jsl  0  4월 29  2018 _SUCCESS\r\n"
     ]
    }
   ],
   "source": [
    "!ls -l data/ds_spark_wiki_out"
   ]
  },
  {
   "cell_type": "markdown",
   "metadata": {},
   "source": [
    "방금 작성된 파일을 읽어서 내용을 읽어보는 것도 물론 가능하다."
   ]
  },
  {
   "cell_type": "code",
   "execution_count": 17,
   "metadata": {
    "collapsed": false
   },
   "outputs": [
    {
     "data": {
      "text/plain": [
       "[u\"['A', 'LINE']\", u\"['THIS', 'IS']\"]"
      ]
     },
     "execution_count": 17,
     "metadata": {},
     "output_type": "execute_result"
    }
   ],
   "source": [
    "_rdd=spark.sparkContext.textFile(\"data/ds_spark_wiki_out\")\n",
    "_rdd.collect()"
   ]
  },
  {
   "cell_type": "markdown",
   "metadata": {},
   "source": [
    "파일로 쓰려면 ```coalesce()``` 함수를 사용해야 한다. 인자는 partition의 수를 적어 준다.\n",
    "```python\n",
    "_rdd.coalesce(1).saveAsTextFile(\"data/ds_spark_wiki_txt\")\n",
    "```"
   ]
  },
  {
   "cell_type": "code",
   "execution_count": 298,
   "metadata": {
    "collapsed": false
   },
   "outputs": [],
   "source": [
    "_rdd.map(lambda x: \"\".join(x)).coalesce(1).saveAsTextFile(\"data/ds_spark_wiki_txt\")"
   ]
  },
  {
   "cell_type": "markdown",
   "metadata": {},
   "source": [
    "cat은 Linux 명령어이고, 윈도우에서는 type이라고 해주면 된다."
   ]
  },
  {
   "cell_type": "markdown",
   "metadata": {},
   "source": [
    "!type data/ds_spark_wiki.txt"
   ]
  },
  {
   "cell_type": "code",
   "execution_count": 304,
   "metadata": {
    "collapsed": false,
    "scrolled": true
   },
   "outputs": [
    {
     "name": "stdout",
     "output_type": "stream",
     "text": [
      "this is\r\n",
      "a line\r\n"
     ]
    }
   ],
   "source": [
    "!cat data/ds_spark_wiki_txt/part-00000"
   ]
  },
  {
   "cell_type": "markdown",
   "metadata": {
    "slideshow": {
     "slide_type": "subslide"
    }
   },
   "source": [
    "### groupBy\n",
    "\n",
    "transformation 함수이다. Paired, unpaired RDD에 모두 사용할 수 있지만, 주로 **unpaired RDD**에 많이 쓰인다.\n",
    "키를 선택하여 사용할 수 있는 점이 장점이다.\n",
    "\n",
    "Paired 데이터는 예를 들면 아래와 같이 key, value 쌍으로 구성된 데이터를 말한다.\n",
    "\n",
    "```python\n",
    "(key=202011111, ('lim', 'computer'))\n",
    "(key=202011112, ('cho', 'computer'))\n",
    "(key=202011113, ('lim', 'business'))\n",
    "```\n",
    "반면에 Unpaired는 key, value 쌍으로 구성이 되지 않은 데이터를 말한다. 아래는 이름, 전공으로 구성된 데이터로 키가 없다.\n",
    "또한 텍스트로 구성된 데이터도 키가 없으므로 unpaired 데이터이다.\n",
    "\n",
    "```python\n",
    "'lim', 'computer'\n",
    "'cho', 'computer'\n",
    "'lim', 'business'\n",
    "```\n",
    "\n",
    "유사한 기능을 수행하는 **groupByKey()와 비교해서 상대적으로 빠르지 않다.**"
   ]
  },
  {
   "cell_type": "markdown",
   "metadata": {
    "slideshow": {
     "slide_type": "subslide"
    }
   },
   "source": [
    "아래와 같은 텍스트는 unpaired인데, 이를 groupBy 해보자."
   ]
  },
  {
   "cell_type": "code",
   "execution_count": 56,
   "metadata": {
    "collapsed": false
   },
   "outputs": [
    {
     "data": {
      "text/plain": [
       "['Wikipedia',\n",
       " 'Apache Spark is an open source cluster computing framework.',\n",
       " '아파치 스파크는 오픈 소스 클러스터 컴퓨팅 프레임워크이다.',\n",
       " 'Apache Spark Apache Spark Apache Spark Apache Spark',\n",
       " '아파치 스파크 아파치 스파크 아파치 스파크 아파치 스파크',\n",
       " \"Originally developed at the University of California, Berkeley's AMPLab,\",\n",
       " 'the Spark codebase was later donated to the Apache Software Foundation,',\n",
       " 'which has maintained it since.',\n",
       " 'Spark provides an interface for programming entire clusters with',\n",
       " 'implicit data parallelism and fault-tolerance.']"
      ]
     },
     "execution_count": 56,
     "metadata": {},
     "output_type": "execute_result"
    }
   ],
   "source": [
    "myRdd2.take(10)"
   ]
  },
  {
   "cell_type": "markdown",
   "metadata": {
    "slideshow": {
     "slide_type": "subslide"
    }
   },
   "source": [
    "* 앞 2글자로 groupBy\n",
    "\n",
    "앞 2글자를 key로 사용해서, groupBy()를 사용할 수 있다.\n",
    "결과는 key-value 쌍으로 만들어졌는데, key는 예상한대로 되었으나 value는 iterator로 생성되었다."
   ]
  },
  {
   "cell_type": "code",
   "execution_count": 60,
   "metadata": {
    "collapsed": false,
    "scrolled": false,
    "slideshow": {
     "slide_type": "-"
    }
   },
   "outputs": [
    {
     "name": "stdout",
     "output_type": "stream",
     "text": [
      "Wi: <pyspark.resultiterable.ResultIterable object at 0x7fd1c99003c8>\n",
      "Ap: <pyspark.resultiterable.ResultIterable object at 0x7fd1c9a07b38>\n",
      "아파: <pyspark.resultiterable.ResultIterable object at 0x7fd1c9cedb38>\n",
      "Or: <pyspark.resultiterable.ResultIterable object at 0x7fd1c9fad390>\n",
      "th: <pyspark.resultiterable.ResultIterable object at 0x7fd1c9e05358>\n",
      "wh: <pyspark.resultiterable.ResultIterable object at 0x7fd1c9a9df98>\n",
      "Sp: <pyspark.resultiterable.ResultIterable object at 0x7fd1c9a9d0b8>\n",
      "im: <pyspark.resultiterable.ResultIterable object at 0x7fd1c9a07da0>\n"
     ]
    }
   ],
   "source": [
    "#myRdd_group=myRdd2.flatMap(lambda x:x.split()).groupBy(lambda x:w[0:2])\n",
    "myRdd_group=myRdd2.groupBy(lambda x:x[0:2])\n",
    "\n",
    "for (k,v) in myRdd_group.collect():\n",
    "    print (\"{}: {}\".format(k, v))"
   ]
  },
  {
   "cell_type": "markdown",
   "metadata": {},
   "source": [
    "ResultIterable은 반복문으로 해체하여 결과를 출력하면 된다."
   ]
  },
  {
   "cell_type": "code",
   "execution_count": 61,
   "metadata": {
    "collapsed": false,
    "scrolled": false,
    "slideshow": {
     "slide_type": "-"
    }
   },
   "outputs": [
    {
     "name": "stdout",
     "output_type": "stream",
     "text": [
      "Wi: Wikipedia\n",
      "-----\n",
      "Ap: Apache Spark is an open source cluster computing framework.\n",
      "Ap: Apache Spark Apache Spark Apache Spark Apache Spark\n",
      "-----\n",
      "아파: 아파치 스파크는 오픈 소스 클러스터 컴퓨팅 프레임워크이다.\n",
      "아파: 아파치 스파크 아파치 스파크 아파치 스파크 아파치 스파크\n",
      "-----\n",
      "Or: Originally developed at the University of California, Berkeley's AMPLab,\n",
      "-----\n",
      "th: the Spark codebase was later donated to the Apache Software Foundation,\n",
      "-----\n",
      "wh: which has maintained it since.\n",
      "-----\n",
      "Sp: Spark provides an interface for programming entire clusters with\n",
      "-----\n",
      "im: implicit data parallelism and fault-tolerance.\n",
      "-----\n"
     ]
    }
   ],
   "source": [
    "#myRdd_group=myRdd2.flatMap(lambda x:x.split()).groupBy(lambda x:w[0:2])\n",
    "myRdd_group=myRdd2.groupBy(lambda x:x[0:2])\n",
    "\n",
    "for (k,v) in myRdd_group.collect():\n",
    "    for eachValue in v:\n",
    "        print (\"{}: {}\".format(k, eachValue))\n",
    "    print (\"-----\")"
   ]
  },
  {
   "cell_type": "markdown",
   "metadata": {
    "slideshow": {
     "slide_type": "subslide"
    }
   },
   "source": [
    "* (key, value)로 구성된 Paired 데이터의 groupBy\n",
    "\n",
    "다음 데이터에 groupBy()를 적용해 보자."
   ]
  },
  {
   "cell_type": "code",
   "execution_count": 62,
   "metadata": {
    "collapsed": true
   },
   "outputs": [],
   "source": [
    "_testList=[(\"Seoul\",1),(\"Seoul\",1),(\"Seoul\",1),(\"Busan\",1),(\"Busan\",1),\n",
    "           (\"Seoul\",1),(\"Busan\",1),\n",
    "           (\"Seoul\",1),(\"Seoul\",1),(\"Busan\",1),(\"Busan\",1)]"
   ]
  },
  {
   "cell_type": "markdown",
   "metadata": {},
   "source": [
    "우선 SparkContext parallelize() 함수를 사용하여 리스트에서 RDD를 생성한다."
   ]
  },
  {
   "cell_type": "code",
   "execution_count": 63,
   "metadata": {
    "collapsed": true
   },
   "outputs": [],
   "source": [
    "_testRdd=spark.sparkContext.parallelize(_testList)"
   ]
  },
  {
   "cell_type": "markdown",
   "metadata": {
    "slideshow": {
     "slide_type": "subslide"
    }
   },
   "source": [
    "* ResultIterable\n",
    "\n",
    "첫 요소 x[0]는 key이고, 두 개의 key1, key2가 있다. key를 groupBy()로 구분하여 묶어 보자.\n",
    "groupByKey()의 결과는 **```ResultIterable```**이고, 이 객체는 그대로 볼 수 없다."
   ]
  },
  {
   "cell_type": "code",
   "execution_count": 64,
   "metadata": {
    "collapsed": false
   },
   "outputs": [
    {
     "data": {
      "text/plain": [
       "[('Seoul', <pyspark.resultiterable.ResultIterable at 0x7fd1c9fa1940>),\n",
       " ('Busan', <pyspark.resultiterable.ResultIterable at 0x7fd1c9fa1748>)]"
      ]
     },
     "execution_count": 64,
     "metadata": {},
     "output_type": "execute_result"
    }
   ],
   "source": [
    "_testRdd.groupBy(lambda x:x[0]).collect()"
   ]
  },
  {
   "cell_type": "markdown",
   "metadata": {
    "slideshow": {
     "slide_type": "subslide"
    }
   },
   "source": [
    "* mapValues\n",
    "\n",
    "ResultIterable을 리스트로 변환하여 값을 보기로 한다.\n",
    "이 경우 **```mapValues()```** 함수를 사용한다.\n",
    "이 함수를 사용하여, 각 키 (key1, key2)에 대해 **values 값**들의 리스트를 수집하고 있다."
   ]
  },
  {
   "cell_type": "code",
   "execution_count": 315,
   "metadata": {
    "collapsed": false
   },
   "outputs": [
    {
     "data": {
      "text/plain": [
       "[('Seoul',\n",
       "  [('Seoul', 1),\n",
       "   ('Seoul', 1),\n",
       "   ('Seoul', 1),\n",
       "   ('Seoul', 1),\n",
       "   ('Seoul', 1),\n",
       "   ('Seoul', 1)]),\n",
       " ('Busan',\n",
       "  [('Busan', 1), ('Busan', 1), ('Busan', 1), ('Busan', 1), ('Busan', 1)])]"
      ]
     },
     "execution_count": 315,
     "metadata": {},
     "output_type": "execute_result"
    }
   ],
   "source": [
    "_testRdd.groupBy(lambda x:x[0]).mapValues(lambda x: list(x)).collect()"
   ]
  },
  {
   "cell_type": "markdown",
   "metadata": {
    "slideshow": {
     "slide_type": "subslide"
    }
   },
   "source": [
    "또는 보다 간단하게 다음과 같이 ```list```만을 해주어도 된다."
   ]
  },
  {
   "cell_type": "code",
   "execution_count": 316,
   "metadata": {
    "collapsed": false
   },
   "outputs": [
    {
     "data": {
      "text/plain": [
       "[('Seoul',\n",
       "  [('Seoul', 1),\n",
       "   ('Seoul', 1),\n",
       "   ('Seoul', 1),\n",
       "   ('Seoul', 1),\n",
       "   ('Seoul', 1),\n",
       "   ('Seoul', 1)]),\n",
       " ('Busan',\n",
       "  [('Busan', 1), ('Busan', 1), ('Busan', 1), ('Busan', 1), ('Busan', 1)])]"
      ]
     },
     "execution_count": 316,
     "metadata": {},
     "output_type": "execute_result"
    }
   ],
   "source": [
    "_testRdd.groupBy(lambda x:x[0]).mapValues(list).collect()"
   ]
  },
  {
   "cell_type": "markdown",
   "metadata": {
    "slideshow": {
     "slide_type": "subslide"
    }
   },
   "source": [
    "### 5.6.3 Pair RDD\n",
    "\n",
    "Pair RDD는 **key,value 쌍**으로 구성된 RDD를 말한다.\n",
    "이러한 RDD는 키에 대해 연산을 하는 **byKey()** 또는 값에 대해 **byValue()** 함수를 사용할 수 있다.\n",
    "\n",
    "구분 | 설명\n",
    "-----|-----\n",
    "byKey 연산 | 동일한 키에 대해 연산<br>- 단계 1: key-value를 계산한다. 각 key의 빈도를 계산하여  '(key,1)' 형식으로 만든다.<br>- 단계 2: byKey를 적용한다. 동일한 key의 value를 더해준다.\n",
    "byValue 연산 | 그룹으로 구분하고 나면, 값이 복수 개가 된다. 복수의 값에 대해 개수를 셀지, 합계를 계산할지 mapValues() 함수에서 하게 된다.\n"
   ]
  },
  {
   "cell_type": "markdown",
   "metadata": {
    "slideshow": {
     "slide_type": "subslide"
    }
   },
   "source": [
    "다음과 같이 groupByKey(), reduceBykey(), combineByKey(), aggregateByKey(), mapValues() 함수를 사용할 수 있다.\n",
    "\n",
    "구분 | 설명\n",
    "-----|-----\n",
    "groupByKey() | 같은 key를 grouping, partition에서 **먼저 reduce하지 않고, 전체로 계산**한다.\n",
    "reduceByKey() | 같은 key의 value를 합계, partition에서 **먼저 reduce하고, 전체로 계산**한다. grouping + aggregation.<p>즉 **reduceByKey = groupByKey().reduce()**\n",
    "combineByKey() | 키별로 합계, 개수 (key, (sum, count))를 계산. createCombiner, mergeValue, mergeCombiners.\n",
    "aggregateByKey() | reduceByKey()와 유사한 기능을 수행한다. 키별로 합계, 개수, 평균을 계산.\n",
    "mapValues() | Paired RDD는 key,value가 있기 마련이고, **value에 적용하는 함수**이다."
   ]
  },
  {
   "cell_type": "markdown",
   "metadata": {
    "slideshow": {
     "slide_type": "subslide"
    }
   },
   "source": [
    "#### Paired RDD 데이터 예제\n",
    "\n",
    "Partition1, 2, 3으로 데이터가 분할되어 있다고 가정하자.\n",
    "\n",
    "P1 | P2 | P3\n",
    "-----|-----|-----\n",
    "(key1,1)<br> | (key1,1)<br> | (key1,1)<br>\n",
    "(key1,1)<br> | (key2,1)<br> | (key1,1)<br>\n",
    "(key1,1)<br> |              | (key2,1)<br>\n",
    "(key2,1)<br> |              | (key2,1)<br>\n",
    "(key2,1)<br> |              |"
   ]
  },
  {
   "cell_type": "markdown",
   "metadata": {
    "slideshow": {
     "slide_type": "subslide"
    }
   },
   "source": [
    "#### Paired RDD 생성\n",
    "\n",
    "테스트 데이터를 구성하고, parallelize()함수를 사용하여 RDD를 만든다."
   ]
  },
  {
   "cell_type": "code",
   "execution_count": 3,
   "metadata": {
    "collapsed": true
   },
   "outputs": [],
   "source": [
    "_testList=[(\"key1\",1),(\"key1\",1),(\"key1\",1),(\"key2\",1),(\"key2\",1),\n",
    "           (\"key1\",1),(\"key2\",1),\n",
    "           (\"key1\",1),(\"key1\",1),(\"key2\",1),(\"key2\",1)]\n",
    "_testRdd=spark.sparkContext.parallelize(_testList)"
   ]
  },
  {
   "cell_type": "markdown",
   "metadata": {},
   "source": [
    "* partition\n",
    "\n",
    "데이터를 분할해서 클러스터의 노드에 배분된 논리적인 데이터 조각을 말한다.\n",
    "현재 partition은 1개이다."
   ]
  },
  {
   "cell_type": "code",
   "execution_count": 4,
   "metadata": {
    "collapsed": false
   },
   "outputs": [
    {
     "data": {
      "text/plain": [
       "2"
      ]
     },
     "execution_count": 4,
     "metadata": {},
     "output_type": "execute_result"
    }
   ],
   "source": [
    "_testRdd.getNumPartitions()"
   ]
  },
  {
   "cell_type": "code",
   "execution_count": null,
   "metadata": {
    "collapsed": true
   },
   "outputs": [],
   "source": [
    "아래와 같이 RDD를 생성할 때, partition을 늘려서 RDD를 생성할 수 있다."
   ]
  },
  {
   "cell_type": "code",
   "execution_count": 3,
   "metadata": {
    "collapsed": true
   },
   "outputs": [],
   "source": [
    "_testRdd=spark.sparkContext.parallelize(_testList, 2)"
   ]
  },
  {
   "cell_type": "code",
   "execution_count": 5,
   "metadata": {
    "collapsed": false
   },
   "outputs": [
    {
     "data": {
      "text/plain": [
       "2"
      ]
     },
     "execution_count": 5,
     "metadata": {},
     "output_type": "execute_result"
    }
   ],
   "source": [
    "_testRdd.getNumPartitions()"
   ]
  },
  {
   "cell_type": "markdown",
   "metadata": {},
   "source": [
    "'f'를 사용하면 변수를 그대로 출력할 수 있다."
   ]
  },
  {
   "cell_type": "code",
   "execution_count": 6,
   "metadata": {
    "collapsed": false
   },
   "outputs": [
    {
     "data": {
      "text/plain": [
       "'Hello, jsl 2020.'"
      ]
     },
     "execution_count": 6,
     "metadata": {},
     "output_type": "execute_result"
    }
   ],
   "source": [
    "year = 2020\n",
    "name = 'jsl'\n",
    "f\"Hello, {name} {year}.\""
   ]
  },
  {
   "cell_type": "markdown",
   "metadata": {},
   "source": [
    "partition을 2개로 늘려 놓았으므로 아래와 같이 각 partition에 분배된 데이터를 확인해 볼 수 있다."
   ]
  },
  {
   "cell_type": "code",
   "execution_count": 7,
   "metadata": {
    "collapsed": false
   },
   "outputs": [
    {
     "name": "stdout",
     "output_type": "stream",
     "text": [
      "Partitions 0 -> [('key1', 1), ('key1', 1), ('key1', 1), ('key2', 1), ('key2', 1)]\n",
      "Partitions 1 -> [('key1', 1), ('key2', 1), ('key1', 1), ('key1', 1), ('key2', 1), ('key2', 1)]\n"
     ]
    }
   ],
   "source": [
    "partitions = _testRdd.glom().collect()\n",
    "for num, partition in enumerate(partitions):\n",
    "    print(f'Partitions {num} -> {partition}')"
   ]
  },
  {
   "cell_type": "markdown",
   "metadata": {
    "slideshow": {
     "slide_type": "subslide"
    }
   },
   "source": [
    "* key 출력\n",
    "\n",
    "Pair RDD는 key-value로 구성된다. key만 출력해 본다."
   ]
  },
  {
   "cell_type": "code",
   "execution_count": 8,
   "metadata": {
    "collapsed": false
   },
   "outputs": [
    {
     "data": {
      "text/plain": [
       "['key1',\n",
       " 'key1',\n",
       " 'key1',\n",
       " 'key2',\n",
       " 'key2',\n",
       " 'key1',\n",
       " 'key2',\n",
       " 'key1',\n",
       " 'key1',\n",
       " 'key2',\n",
       " 'key2']"
      ]
     },
     "execution_count": 8,
     "metadata": {},
     "output_type": "execute_result"
    }
   ],
   "source": [
    "_testRdd.keys().collect()"
   ]
  },
  {
   "cell_type": "markdown",
   "metadata": {
    "slideshow": {
     "slide_type": "subslide"
    }
   },
   "source": [
    "#### groupByKey, reduceByKey, mapValues\n",
    "\n",
    "* reduceByKey: 동일한 key에 대해 value를 합계한다. 그 결과는 (key1,6) (key2,5)\n",
    "reduceByKey는 partition별로 작업을 먼저 수행한다. 아래에서 보는 것처럼 P1, P2, P3 파티션 별로 먼저 실행하고 난 후 합산된다.\n",
    "\n",
    "\n",
    "P1 | P2 | P3\n",
    "-----|-----|-----\n",
    "(key1,3)<br>(key2,2) | (key1,1)<br>(key2,1) | (key1,2)<br>(key2,2)\n",
    "\n",
    "* groupByKey: (key1,[1,1,1,1,1,1]) (key2,[1,1,1,1,1])\n",
    "반면에 groupByKey는 partition별로 수행되지 않고, **메모리에 값을 모두 저장**해 놓는다.\n",
    "\n",
    "key1 | key2\n",
    "-----|-----\n",
    "(key1,1)<br>(key1,1)<br>(key1,1)<br>(key1,1)<br>(key1,1)<br>(key1,1) | (key2,1)<br>(key2,1)<br>(key2,1)<br>(key2,1)<br>(key2,1)\n",
    "\n",
    "* 어느 것을 써야 할까?\n",
    "**groupByKey보다는 reduceByKey 또는 combineByKey를 사용하는 것을 추천**하고 있다.\n",
    "groupByKey는 메모리를 많이 사용하고, reduceByKey는 Partition별로 작업이 동시에 병렬적으로 수행될 수 있으므로 보다 빠르기 때문이다."
   ]
  },
  {
   "cell_type": "code",
   "execution_count": 322,
   "metadata": {
    "collapsed": false,
    "slideshow": {
     "slide_type": "subslide"
    }
   },
   "outputs": [
    {
     "data": {
      "text/plain": [
       "[('key1', 6), ('key2', 5)]"
      ]
     },
     "execution_count": 322,
     "metadata": {},
     "output_type": "execute_result"
    }
   ],
   "source": [
    "_testRdd.reduceByKey(lambda x,y:x+y).collect()"
   ]
  },
  {
   "cell_type": "markdown",
   "metadata": {
    "slideshow": {
     "slide_type": "subslide"
    }
   },
   "source": [
    "groupByKey()함수의 결과는 **```ResultIterable```**이다. 결과를 바로 볼 수 없다는 의미이다. **```mapValues()```**함수에 **list() 함수**를 적어주고 collect()하면 그 결과를 볼 수 있다."
   ]
  },
  {
   "cell_type": "code",
   "execution_count": 323,
   "metadata": {
    "collapsed": false
   },
   "outputs": [
    {
     "data": {
      "text/plain": [
       "[('key1', <pyspark.resultiterable.ResultIterable at 0x7f7251e9aa90>),\n",
       " ('key2', <pyspark.resultiterable.ResultIterable at 0x7f7251e9a6a0>)]"
      ]
     },
     "execution_count": 323,
     "metadata": {},
     "output_type": "execute_result"
    }
   ],
   "source": [
    "_testRdd.groupByKey().collect()"
   ]
  },
  {
   "cell_type": "code",
   "execution_count": 70,
   "metadata": {
    "collapsed": false
   },
   "outputs": [
    {
     "data": {
      "text/plain": [
       "[('key1', [1, 1, 1, 1, 1, 1]), ('key2', [1, 1, 1, 1, 1])]"
      ]
     },
     "execution_count": 70,
     "metadata": {},
     "output_type": "execute_result"
    }
   ],
   "source": [
    "_testRdd.groupByKey().mapValues(list).collect() # list is a function, that is, list()"
   ]
  },
  {
   "cell_type": "markdown",
   "metadata": {
    "slideshow": {
     "slide_type": "subslide"
    }
   },
   "source": [
    "이해를 돕기 위해 **```mapValues()```**에 lambda함수를 사용해 1씩 더해본다.\n",
    "키는 변동이 없고, 값만 1씩 증가하고 있다."
   ]
  },
  {
   "cell_type": "code",
   "execution_count": 72,
   "metadata": {
    "collapsed": false,
    "slideshow": {
     "slide_type": "-"
    }
   },
   "outputs": [
    {
     "data": {
      "text/plain": [
       "[('key1', 2),\n",
       " ('key1', 2),\n",
       " ('key1', 2),\n",
       " ('key2', 2),\n",
       " ('key2', 2),\n",
       " ('key1', 2),\n",
       " ('key2', 2),\n",
       " ('key1', 2),\n",
       " ('key1', 2),\n",
       " ('key2', 2),\n",
       " ('key2', 2)]"
      ]
     },
     "execution_count": 72,
     "metadata": {},
     "output_type": "execute_result"
    }
   ],
   "source": [
    "_testRdd.mapValues(lambda x:x+1).collect()"
   ]
  },
  {
   "cell_type": "markdown",
   "metadata": {
    "slideshow": {
     "slide_type": "subslide"
    }
   },
   "source": [
    "#### 단어빈도 예제\n",
    "\n",
    "앞서 위키데이터를 사용해서, 단어를 세어보자.\n",
    "\n",
    "줄 | 설명\n",
    "-----|-----\n",
    "1 | flatMap()은 RDD를 전체로 flatten해서 공백으로 분리하고, 단어빈도를 계산한다. map()은 요소별로 적용된다.\n",
    "2 | 요소에 대해 단어빈도 (x,1)를 만듦\n",
    "3 | groupByKey()는 key를 묶어준다. 따라서 **```ResultIterable```** iterator를 반환한다."
   ]
  },
  {
   "cell_type": "code",
   "execution_count": 326,
   "metadata": {
    "collapsed": false,
    "scrolled": true
   },
   "outputs": [
    {
     "data": {
      "text/plain": [
       "[('Wikipedia', <pyspark.resultiterable.ResultIterable at 0x7f72521830f0>),\n",
       " ('Apache', <pyspark.resultiterable.ResultIterable at 0x7f7252183a20>),\n",
       " ('Spark', <pyspark.resultiterable.ResultIterable at 0x7f7252183da0>)]"
      ]
     },
     "execution_count": 326,
     "metadata": {},
     "output_type": "execute_result"
    }
   ],
   "source": [
    "myRdd2\\\n",
    "    .flatMap(lambda x:x.split())\\\n",
    "    .map(lambda x:(x,1))\\\n",
    "    .groupByKey()\\\n",
    "    .take(3)"
   ]
  },
  {
   "cell_type": "markdown",
   "metadata": {
    "slideshow": {
     "slide_type": "subslide"
    }
   },
   "source": [
    "* groupBy()를 하고 나면 결과는 ```ResultIterable```이다. 따라서 ```mapValues(sum)```을 하면 key별 합계를 구할 수 있다.\n",
    "* mapValues()는 value에 적용되는 함수이다.\n",
    "    * 내장함수 sum()은 value의 합계를 내는 sum(value)을 의미\n",
    "    * 또는 스스로 사용자 함수를 정의해서 사용할 수 있다."
   ]
  },
  {
   "cell_type": "code",
   "execution_count": 327,
   "metadata": {
    "collapsed": false,
    "scrolled": true
   },
   "outputs": [
    {
     "data": {
      "text/plain": [
       "[('Wikipedia', 1),\n",
       " ('Apache', 6),\n",
       " ('Spark', 7),\n",
       " ('is', 1),\n",
       " ('an', 2),\n",
       " ('open', 1),\n",
       " ('source', 1),\n",
       " ('cluster', 1),\n",
       " ('computing', 1),\n",
       " ('framework.', 1),\n",
       " ('아파치', 5),\n",
       " ('스파크는', 1),\n",
       " ('오픈', 1),\n",
       " ('소스', 1),\n",
       " ('클러스터', 1),\n",
       " ('컴퓨팅', 1),\n",
       " ('프레임워크이다.', 1),\n",
       " ('스파크', 4),\n",
       " ('Originally', 1),\n",
       " ('developed', 1)]"
      ]
     },
     "execution_count": 327,
     "metadata": {},
     "output_type": "execute_result"
    }
   ],
   "source": [
    "myRdd2\\\n",
    "    .flatMap(lambda x:x.split())\\\n",
    "    .map(lambda x:(x,1))\\\n",
    "    .groupByKey()\\\n",
    "    .mapValues(sum)\\\n",
    "    .take(20)"
   ]
  },
  {
   "cell_type": "markdown",
   "metadata": {},
   "source": [
    "sum() 함수 대신 len() 함수를 사용해도 결과는 동일하다.\n",
    "키별로 1개씩 값을 가지게 되므로, 길이를 구해도 sum과 동일한 결과를 출력하게 된다."
   ]
  },
  {
   "cell_type": "code",
   "execution_count": 328,
   "metadata": {
    "collapsed": false,
    "scrolled": true,
    "slideshow": {
     "slide_type": "subslide"
    }
   },
   "outputs": [
    {
     "data": {
      "text/plain": [
       "[('AMPLab,', 1),\n",
       " ('Apache', 6),\n",
       " (\"Berkeley's\", 1),\n",
       " ('California,', 1),\n",
       " ('Foundation,', 1),\n",
       " ('Originally', 1),\n",
       " ('Software', 1),\n",
       " ('Spark', 7),\n",
       " ('University', 1),\n",
       " ('Wikipedia', 1)]"
      ]
     },
     "execution_count": 328,
     "metadata": {},
     "output_type": "execute_result"
    }
   ],
   "source": [
    "def f(x): return len(x)\n",
    "myRdd2\\\n",
    "    .flatMap(lambda x:x.split())\\\n",
    "    .map(lambda x:(x,1))\\\n",
    "    .groupByKey()\\\n",
    "    .mapValues(f)\\\n",
    "    .sortByKey(True)\\\n",
    "    .take(10)"
   ]
  },
  {
   "cell_type": "markdown",
   "metadata": {
    "slideshow": {
     "slide_type": "subslide"
    }
   },
   "source": [
    "groupByKey() 결과를 collect() 또는 take()하면 그 결과는 리스트가 된다.\n",
    "좀 더 읽기 좋게 출력하려면, Python 반복문으로 리스트를 출력할 수 있다."
   ]
  },
  {
   "cell_type": "code",
   "execution_count": 329,
   "metadata": {
    "collapsed": true,
    "scrolled": true
   },
   "outputs": [],
   "source": [
    "wc=myRdd2\\\n",
    "    .flatMap(lambda x:x.split())\\\n",
    "    .map(lambda x:(x,1))\\\n",
    "    .groupByKey()\\\n",
    "    .mapValues(sum)\\\n",
    "    .sortByKey(True)\\\n",
    "    .take(10)"
   ]
  },
  {
   "cell_type": "code",
   "execution_count": 344,
   "metadata": {
    "collapsed": false,
    "scrolled": true
   },
   "outputs": [
    {
     "name": "stdout",
     "output_type": "stream",
     "text": [
      "단어:AMPLab,\t\t빈도:1\n",
      "단어:Apache\t\t빈도:6\n",
      "단어:Berkeley's\t\t빈도:1\n",
      "단어:California,\t\t빈도:1\n",
      "단어:Foundation,\t\t빈도:1\n",
      "단어:Originally\t\t빈도:1\n",
      "단어:Software\t\t빈도:1\n",
      "단어:Spark\t\t빈도:7\n",
      "단어:University\t\t빈도:1\n",
      "단어:Wikipedia\t\t빈도:1\n"
     ]
    }
   ],
   "source": [
    "for e in wc:\n",
    "    k = e[0]\n",
    "    v = e[1]\n",
    "    print (f\"단어:{k}\\t\\t빈도:{v}\")"
   ]
  },
  {
   "cell_type": "markdown",
   "metadata": {
    "collapsed": true,
    "slideshow": {
     "slide_type": "subslide"
    }
   },
   "source": [
    "```reduceByKey()```는 ```groupByKey()```와 달리 키별로 빈도를 합산하기 때문에 ```mapValues()```가 필요없다.\n",
    "```reduce()```는 **함수**를 사용해서 **인자를 2개 받아서 1개로 병합**하는 기능을 수행한다.\n",
    "```reduceByKey()```은 (K, V) 쌍으로 병합해서 (K, V)를 반환한다는 점에 유의한다."
   ]
  },
  {
   "cell_type": "code",
   "execution_count": 345,
   "metadata": {
    "collapsed": false,
    "scrolled": true
   },
   "outputs": [
    {
     "data": {
      "text/plain": [
       "[('Wikipedia', 1),\n",
       " ('Apache', 6),\n",
       " ('Spark', 7),\n",
       " ('is', 1),\n",
       " ('an', 2),\n",
       " ('open', 1),\n",
       " ('source', 1),\n",
       " ('cluster', 1),\n",
       " ('computing', 1),\n",
       " ('framework.', 1)]"
      ]
     },
     "execution_count": 345,
     "metadata": {},
     "output_type": "execute_result"
    }
   ],
   "source": [
    "myRdd2\\\n",
    "    .flatMap(lambda x:x.split())\\\n",
    "    .map(lambda x:(x,1))\\\n",
    "    .reduceByKey(lambda x,y:x+y)\\\n",
    "    .take(10)"
   ]
  },
  {
   "cell_type": "markdown",
   "metadata": {
    "slideshow": {
     "slide_type": "subslide"
    }
   },
   "source": [
    "#### countByKey\n",
    "\n",
    "**```countByKey()```**는 Key별로 계산을 하는 action 함수이고, 그 결과는 **dictionary**로 출력된다.\n",
    "**```coutByKey().items()```**하면 리스트로 변환될 수 있다.\n",
    "\n",
    "```countByKey()```는 dictionary로 병합하는 반면, reduceByKey()는 (K,V)로 계산한다."
   ]
  },
  {
   "cell_type": "code",
   "execution_count": 346,
   "metadata": {
    "collapsed": false
   },
   "outputs": [
    {
     "data": {
      "text/plain": [
       "defaultdict(int,\n",
       "            {'Wikipedia': 1,\n",
       "             'Apache': 6,\n",
       "             'Spark': 7,\n",
       "             'is': 1,\n",
       "             'an': 2,\n",
       "             'open': 1,\n",
       "             'source': 1,\n",
       "             'cluster': 1,\n",
       "             'computing': 1,\n",
       "             'framework.': 1,\n",
       "             '아파치': 5,\n",
       "             '스파크는': 1,\n",
       "             '오픈': 1,\n",
       "             '소스': 1,\n",
       "             '클러스터': 1,\n",
       "             '컴퓨팅': 1,\n",
       "             '프레임워크이다.': 1,\n",
       "             '스파크': 4,\n",
       "             'Originally': 1,\n",
       "             'developed': 1,\n",
       "             'at': 1,\n",
       "             'the': 3,\n",
       "             'University': 1,\n",
       "             'of': 1,\n",
       "             'California,': 1,\n",
       "             \"Berkeley's\": 1,\n",
       "             'AMPLab,': 1,\n",
       "             'codebase': 1,\n",
       "             'was': 1,\n",
       "             'later': 1,\n",
       "             'donated': 1,\n",
       "             'to': 1,\n",
       "             'Software': 1,\n",
       "             'Foundation,': 1,\n",
       "             'which': 1,\n",
       "             'has': 1,\n",
       "             'maintained': 1,\n",
       "             'it': 1,\n",
       "             'since.': 1,\n",
       "             'provides': 1,\n",
       "             'interface': 1,\n",
       "             'for': 1,\n",
       "             'programming': 1,\n",
       "             'entire': 1,\n",
       "             'clusters': 1,\n",
       "             'with': 1,\n",
       "             'implicit': 1,\n",
       "             'data': 1,\n",
       "             'parallelism': 1,\n",
       "             'and': 1,\n",
       "             'fault-tolerance.': 1})"
      ]
     },
     "execution_count": 346,
     "metadata": {},
     "output_type": "execute_result"
    }
   ],
   "source": [
    "myRdd2\\\n",
    "    .flatMap(lambda x:x.split())\\\n",
    "    .map(lambda x:(x,1))\\\n",
    "    .countByKey() # .items() to be added to get a list"
   ]
  },
  {
   "cell_type": "markdown",
   "metadata": {
    "slideshow": {
     "slide_type": "slide"
    }
   },
   "source": [
    "## 문제 S-2: RDD를 사용하여 단어빈도를 계산하고, 그래프 그리기.\n",
    "\n",
    "텍스트 파일을 읽어서, 단어빈도를 계산하는 프로그램을 작성하세요.\n",
    "불용어는 Python NLTK, Gensim, sklearn 등 라이브러리에서 목록을 제공하고 있다.\n",
    "한글 불용어는 아직 제공되고 있지 못하여, 임의로 만들어 쓰도록 하자.\n",
    "단어빈도를 내림차순으로 출력해서 상위 15개를 출력하세요.\n",
    "단어빈도는 꼭 Spark로 해야만 되는 것은 아니다.\n",
    "(1) Python으로도 해보고, (2) pyspark으로 RDD를 생성하여, 단어빈도를 계산해보자."
   ]
  },
  {
   "cell_type": "code",
   "execution_count": 53,
   "metadata": {
    "collapsed": false,
    "slideshow": {
     "slide_type": "subslide"
    }
   },
   "outputs": [
    {
     "name": "stdout",
     "output_type": "stream",
     "text": [
      "Overwriting data/ds_bigdata_wiki.txt\n"
     ]
    }
   ],
   "source": [
    "%%writefile data/ds_bigdata_wiki.txt\n",
    "Big data\n",
    "활용사례 및 의의[편집]\n",
    "정치 및 사회[편집]\n",
    "2008년 미국 대통령 선거[편집]\n",
    "2008년 미국 대통령 선거에서 버락 오바마 미국 대통령 후보는 다양한 형태의 유권자 데이터베이스를 확보하여 이를 분석, 활용한 '유권자 맞춤형 선거 전략'을 전개했다. 당시 오바마 캠프는 인종, 종교, 나이, 가구형태, 소비수준과 같은 기본 인적 사항으로 유권자를 분류하는 것을 넘어서서 과거 투표 여부, 구독하는 잡지, 마시는 음료 등 유권자 성향까지 전화나 개별 방문을 또는 소셜 미디어를 통해 유권자 정보를 수집하였다. 수집된 데이터는 오바마 캠프 본부로 전송되어 유권자 데이터베이스를 온라인으로 통합관리하는 ‘보트빌더(VoteBuilder.com)’시스템의 도움으로 유권자 성향 분석, 미결정 유권자 선별 , 유권자에 대한 예측을 해나갔다. 이를 바탕으로‘유권자 지도’를 작성한 뒤 ‘유권자 맞춤형 선거 전략’을 전개하는 등 오바마 캠프는 비용 대비 효과적인 선거를 치를 수 있었다.\n",
    "\n",
    "대한민국 제19대 총선[편집]\n",
    "중앙선거관리위원회는 대한민국 제19대 총선부터 소셜 네트워크 등 인터넷 상의 선거 운동을 상시 허용하였다.[15] 이에 소셜 미디어 상에서 선거 관련 데이터는 증폭되었으며, 2010년 대한민국 제5회 지방 선거 및 2011년 대한민국 재보궐선거에서 소셜 네트워크 서비스의 중요성을 확인한 정당들 또한 SNS 역량 지수를 공천 심사에 반영하는 등[16] 소셜 네트워크 활용에 주목했다. 이 가운데 여론 조사 기관들은 기존 여론조사 방식으로 예측한 2010년 제5회 지방 선거 및 2011년 재보궐선거의 여론조사 결과와 실제 투표 결과와의 큰 차이를 보완하고자 빅 데이터 기술을 활용한 SNS 여론 분석을 시행했다. 그러나 SNS 이용자의 대다수가 수도권 20~30대에 쏠려 있기에[17], 빅 데이터를 이용한 대한민국 제19대 총선에 대한 SNS 분석은 수도권으로 한정되어 일치하는 한계를 드러내기도 하였다.\n",
    "\n",
    "경제 및 경영[편집]\n",
    "아마존닷컴의 추천 상품 표시 / 구글 및 페이스북의 맞춤형 광고[편집]\n",
    "아마존닷컴은 모든 고객들의 구매 내역을 데이터베이스에 기록하고, 이 기록을 분석해 소비자의 소비 취향과 관심사를 파악한다.[18] 이런 빅 데이터의 활용을 통해 아마존은 고객별로 '추천 상품(레코멘데이션)'을 표시한다. 고객 한사람 한사람의 취미나 독서 경향을 찾아 그와 일치한다고 생각되는 상품을 메일, 홈 페이지상에서 중점적으로 고객 한사람 한사람에게 자동적으로 제시하는 것이다.[19] 아마존닷컴의 추천 상품 표시와 같은 방식으로 구글 및 페이스북도 이용자의 검색 조건, 나아가 사진과 동영상 같은 비정형 데이터 사용을 즉각 처리하여 이용자에게 맞춤형 광고를 제공하는 등 빅데이터의 활용을 증대시키고 있다.\n",
    "\n",
    "문화[편집]\n",
    "MLB (메이저 리그 베이스볼)의 머니볼 이론 및 데이터 야구[편집]\n",
    "머니볼 이론이란 경기 데이터를 철저하게 분석해 오직 데이터를 기반으로 적재적소에 선수들을 배치해 승률을 높인다는 게임 이론이다.[20] 이는 미국 메이저 리그 베이스볼 오클랜드 어슬레틱스의 구단장 빌리 빈이 리그 전체 25위에 해당하는 낮은 구단 지원금 속에서도 최소비용으로 최대효과를 거둔 상황에서 유래되었다. 빌리 빈은 하치해 최하위에 그치던 팀을 4년 연속 포스트시즌에 진출시키고 메이저 리그 최초로 20연승이라는 신기록을 세우도록 탈바꿈 시켰다. 미국 월스트리트 저널은 미국 경제에 큰 영향을 끼치는 파워 엘리트 30인에 워렌 버핏, 앨런 그린스펀과 함께 빌리 빈을 선정[21] 하는 등 머니볼 이론은 경영, 금융 분야에서도 주목받았다. 최근 들어서 과학기술 및 카메라 기술의 발달로 더욱 정교한 데이터의 수집이 가능해졌으며 투구의 궤적 및 투수의 그립, 타구 방향, 야수의 움직임까지 잡아낼 수 있게 되었다. 이처럼 기존의 정형 데이터뿐만 아닌 비정형 데이터의 수집과 분석, 활용을 통해 최근 야구경기에서 빅 데이터의 중요성은 더욱 커지고 있다.\n",
    "\n",
    "선수의 인기만을 쫓는 것이 아니라 팀별 승률이나 선수의 성적을 나타내는 수치와 야구를 관전한다면 그 재미는 배가된다. '출루율'은 타율로 인정되지 않는 볼넷을 포함하여 타자가 성공적으로 베이스를 밟은 횟수의 비율, '장타율'은 타수마다 밟은 총 베이스를 계산해서 타격력이 얼마나 강한지를 나타내는 비율이다.\n",
    "\n",
    "출루율과 장타율 못지 않게 '타수'는 한두 경기에서 낸 성적이 아닌, 수천 번의 타석에 들어 좋은 성적을 만들어낸 선수를 선별하기 위한 기초 통계자료이다. 이처럼 한 선수의 타율에서 팀의 역대 시리즈 전적까지 모든 것을 숫자로 표현할 수 있다고 해서 야구를 '통계의 스포츠'라고 부르기도 한다. 야구뿐만 아니라 생활 곳곳에서 활용되는 통계는 복잡한 상황과 설명을 간단한 숫자로 바꿔주는 매우 강력한 도구이다.[22]\n",
    "\n",
    "'프로파일링'과 '빅데이터' 기법을 활용한 프로그램 MBC <프로파일링>[편집]\n",
    "방송에는 19세 소년의 살인 심리를 파헤친 '용인살인사건의 재구성', 강남 3구 초등학교 85곳의 학업성취도평가 성적과 주변 아파트 매매가의 상관관계를 빅데이터(디지털 환경에서 발생한 방대한 규모의 데이터)를 통해 분석한 '강남, 부자일수록 공부를 잘할까'[23]\n",
    "\n",
    "2014년 FIFA 월드컵 독일 우승과 '빅데이터'[편집]\n",
    "브라질에서 개최된 2014년 FIFA 월드컵에서 독일은 준결승에서 개최국인 브라질을 7:1로 꺾고, 결승에서 아르헨티나와 연장전까지 가는 접전 끝에 1:0으로 승리를 거두었다. 무패행진으로 우승을 차지한 독일 국가대표팀의 우승의 배경에는 '빅데이터'가 있었다.\n",
    "\n",
    "독일 국가대표팀은 SAP와 협업하여 훈련과 실전 경기에 'SAP 매치 인사이트'를 도입했다. SAP 매치 인사이트란 선수들에게 부착된 센서를 통해 운동량, 순간속도, 심박수, 슈팅동작 등 방대한 비정형 데이터를 수집, 분석한 결과를 감독과 코치의 태블릿PC로 전송하여 그들이 데이터를 기반으로 전술을 짜도록 도와주는 솔루션이다. 기존에 감독의 경험이나 주관적 판단으로 결정되는 전략과는 달리, SAP 매치 인사이트를 통해 이루어지는 분석은 선수들에 대한 분석 뿐만 아니라 상대팀 전력, 강점, 약점 등 종합적인 분석을 통해 좀 더 과학적인 전략을 수립할 수 있다. 정보 수집에 쓰이는 센서 1개가 1분에 만들어내는 데이터는 총 12000여개로 독일 국가대표팀은 선수당 4개(골키퍼는 양 손목을 포함해 6개)의 센서를 부착했고, 90분 경기동안 한 선수당 약 432만개, 팀 전체로 약 4968만개의 데이터를 수집했다고 한다.월드컵8강 獨 전차군단 비밀병기는 '빅데이터'\n",
    "\n",
    "과학기술 및 활용[편집]\n",
    "통계학[편집]\n",
    "데이터 마이닝이란 기존 데이터베이스 관리도구의 데이터 수집, 저장, 관리, 분석의 역량을 넘어서는 대량의 정형 또는 비정형 데이터 집합 및 이러한 데이터로부터 가치를 추출하고 결과를 분석하는 기술로, 수집되는 ‘빅 데이터’를 보완하고 마케팅, 시청률조사, 경영 등으로부터 체계화돼 분류, 예측, 연관분석 등의 데이터 마이닝을 거쳐 통계학적으로 결과를 도출해 내고 있다.[24][25]\n",
    "\n",
    "대한민국에서는 2000년부터 정보통신부의 산하단체로 사단법인 한국BI데이터마이닝학회가 설립되어 데이터 마이닝에 관한 학술과 기술을 발전, 보급, 응용하고 있다. ‎또한 국내ㆍ외 통계분야에서 서서히 빅 데이터 활용에 대한 관심과 필요성이 커지고 있는 가운데 국가통계 업무를 계획하고 방대한 통계자료를 처리하는 국가기관인 통계청이 빅 데이터를 연구하고 활용방안을 모색하기 위한 '빅 데이터 연구회'를 발족하였다.[26] 하지만 업계에 따르면, 미국과 영국, 일본 등 선진국들은 이미 빅 데이터를 다각적으로 분석해 조직의 전략방향을 제시하는 데이터과학자 양성에 사활을 걸고 있다. 그러나 한국은 정부와 일부 기업이 데이터과학자 양성을 위한 프로그램을 진행 중에 있어 아직 걸음마 단계인 것으로 알려져 있다.[27]\n",
    "\n",
    "생물정보학[편집]\n",
    "최근 생물학에서 DNA, RNA, 단백질 서열 및 유전자들의 발현과 조절에 대한 데이터의 양이 급격히 증가했고 이에 따라 이 빅 데이터를 활용한 생명의 이해에 관한 논의가 진행되고 있다.\n",
    "\n",
    "보건의료[편집]\n",
    "국민건강보험공단은 가입자의 자격·보험료, 진료·투약내용, 건강검진 결과 및 생활습관 정보 등 2조1천억건, 92테라바이트의 빅데이터를 보유하고 있고, 한편, 건강보험심사평가원은 진료내역, 투약내용(의약품 안심서비스), 의약품 유통 등의 2조2천억건, 89테라바이트의 빅데이터를 보유하고 있으며, 경제협력개발기구(OECD)는 한국의 건강보험 빅데이터 순위가 2위라고 발표했었다. 건보공단과 심평원은 빅데이터를 민간에 널리 알리고 더 많이 개방하고 있다. (연합뉴스 2016.6.14 인터넷뉴스 참조)\n",
    "\n",
    "빅 데이터를 활용하면 미국 의료부문은 연간 3,300 억 달러(미 정부 의료 예산의 약 8%에 해당하는 규모)의 직간접적인 비용 절감 효과를 보일 것으로 전망된다.[28] 특히 임상분야에서는 의료기관 별 진료방법, 효능, 비용 데이터를 분석하여 보다 효과적인 진료방법을 파악하고 환자 데이터를 온라인 플랫폼화하여 의료협회 간 데이터 공유로 치료 효과를 제고하며 공중보건 영역에선 전국의 의료 데이터를 연계하여 전염병 발생과 같은 긴박한 순간에 빠른 의사결정을 가능케 할 전망이다.[29]\n",
    "\n",
    "한편, 의료 분야에서 빅 데이터가 효과를 발휘하기 위해서는 대량의 의료정보 수집이 필수적이기 때문에, 개인정보의 보호와 빅 데이터 활용이라는 두 가지 가치가 상충하게 되된다. 따라서, 의료 분야에서 빅 데이터의 활용과 보급을 위해서는 이러한 문제에 대한 가이드라인 마련이 필요한 상태이다.[30]\n",
    "\n",
    "기업 경영[편집]\n",
    "대규모의 다양한 데이터를 활용한 '빅데이터 경영'이 주목받으면서 데이터 품질을 높이고 방대한 데이터의 처리를 돕는 데이터 통합(Data Integration)의 중요성이 부각되고 있다.\n",
    "\n",
    "데이터 통합(DI)은 데이터의 추출, 변환, 적재를 위한 ETL 솔루션이 핵심인데 ETL 솔루션을 활용하면 일일이 수많은 데이터를 기업 데이터 포맷으로 코딩하지 않아도 되고 데이터 품질을 제고할 수 있기 때문에 DI는 빅데이터 환경에 꼭 필요한 데이터 솔루션으로 평가받고 있는 단계까지 진입되었다.\n",
    "\n",
    "한편 비즈니스 인텔리전스(Business Intelligence, BI)보다 진일보한 빅데이터 분석 방법이 비즈니스 애널리틱스(Business analytics, BA)인데 고급분석 범주에 있는 BA는 기본적으로 BI를 포함하면서도 미래 예측 기능과 통계분석, 확률 분석 등을 포함해 최적의 데이터 기반 의사결정을 가능케 하는 것으로 평가받고 있기도 하다.[31]\n",
    "\n",
    "마케팅[편집]\n",
    "인터넷으로 시작해서 인터넷으로 마감하는 생활, 스마트폰을 이용해 정보를 검색하고 쇼핑도하고 SNS를 이용해서 실시간으로 글을 남기는 등의 다양하게 인터넷을 이용하는 동안 남는 흔적같은 모인 데이터들을 분석하면 개인의 생활 패턴, 소비성향 등을 예측할 수 있고 기업들은 이런 데이터를 통해서 소비자가 원하는 것들을 미리 예측할 수 있다. 빅 데이터가 마케팅 자료로 활용되는 사례이다.[31]\n",
    "\n",
    "기상정보[편집]\n",
    "한반도 전역의 기상관측정보를 활용해 일기예보와 각종 기상특보 등 국가 기상서비스를 제공하고 있는 기상청은 정밀한 기상예측을 위한 분석 과정에서 발생하는 데이터 폭증에 대응하고자 빅데이터 저장시스템의 도입을 추진하였다.\n",
    "\n",
    "대다수 스토리지 기업들의 솔루션을 검토한 끝에 한국 IBM의 고성능 대용량 파일공유시스템(General Parallel File System, 이하 GPFS)을 적용한 스토리지 시스템을 선택하였다고 밝혔다.\n",
    "\n",
    "한국IBM이 기상청에 제공한 GPFS 기반의 빅데이터 저장시스템은 IBM 시스템 스토리지 제품군, 시스템 x서버 제품군과 고속 네트워킹 랙스위치(RackSwitch) 등이 통합돼 있는 시스템이다.[31]\n",
    "\n",
    "보안관리[편집]\n",
    "보안관리는 빅데이터 환경을 이용해 성장과 기술 발전을 동시에 이루는 분야로 분리한다. 클라우드 및 모바일 환경으로 접어들면서 물리/가상화 IT 시스템의 복잡성이 더욱 높아지고 있어 유무선 네트워크, 프라이빗/퍼블릭 클라우드, 모바일 애플리케이션과 기기관리 등 IT 시스템 전반에서 대대적인 변화가 예상되고 있어 막대한 양의 보안관리가 중요한 요소로 현실화되고 있다.[32]\n",
    "\n",
    "구글 번역[편집]\n",
    "구글에서 제공하는 자동 번역 서비스인 구글 번역은 빅 데이터를 활용한다. 지난 40년 간 컴퓨터 회사 IBM의 자동 번역 프로그램 개발은 컴퓨터가 명사, 형용사, 동사 등 단어와 어문의 문법적 구조를 인식하여 번역하는 방식으로 이뤄졌다. 이와 달리 2006년 구글은 수억 건의 문장과 번역문을 데이터베이스화하여 번역시 유사한 문장과 어구를 기존에 축적된 데이터를 바탕으로 추론해 나가는 통계적 기법을 개발하였다. 캐나다 의회의 수백만 건의 문서를 활용하여 영어-불어 자동번역 시스템개발을 시도한 IBM의 자동 번역 프로그램은 실패한 반면 구글은 수억 건의 자료를 활용하여 전 세계 58개 언어 간의 자동번역 프로그램 개발에 성공하였다. 이러한 사례로 미루어 볼 때, 데이터 양의 측면에서의 엄청난 차이가 두 기업의 자동 번역 프로그램의 번역의 질과 정확도를 결정했으며, 나아가 프로젝트의 성패를 좌우했다고 볼 수 있다.[31]\n",
    "\n"
   ]
  },
  {
   "cell_type": "markdown",
   "metadata": {
    "slideshow": {
     "slide_type": "subslide"
    }
   },
   "source": [
    "### 1. Python으로 단어 빈도를 세어 보기\n",
    "\n",
    "우선 map-reduce를 사용하지 않고 단어의 갯수를 세어본다.\n",
    "문서의 단어를 세는 알고리즘은 다음과 같다.\n",
    "단어별 갯수를 저장하기 위해서는 **dictionary**를 사용한다.\n",
    "\n",
    "```python\n",
    "키-갯수 dictionary d 초기화\n",
    "모든 단어를 반복:\n",
    "    단어w를 하나 읽음\n",
    "    단어w가 처음이면 d에 키를 생성하고 1개로\n",
    "    d에 있는 단어w이면 있는 키의 갯수를 하나 증가시킴\n",
    "```"
   ]
  },
  {
   "cell_type": "markdown",
   "metadata": {},
   "source": [
    "#### 불용어 라이브러리\n",
    "\n",
    "* 라이브러리에서 제공하는 불용어\n",
    "\n",
    "Python nltk 라이브러리에서 제공하는 불용어를 사용하거나\n",
    "```python\n",
    "from nltk.corpus import stopwords\n",
    "englishStops = set(stopwords.words('english'))\n",
    "```\n",
    "\n",
    "또는 skleran 라이브러리를 활용해도 된다.\n",
    "```python\n",
    "from sklearn.feature_extraction.text import ENGLISH_STOP_WORDS\n",
    "'the' in ENGLISH_STOP_WORDS # true\n",
    "```"
   ]
  },
  {
   "cell_type": "markdown",
   "metadata": {},
   "source": [
    "* 한글 불용어\n",
    "\n",
    "한글 불용어는 불행히도 아직 제공되고 있지 못하여, 우리 스스로 임의로 만들어 쓰도록 하자.\n",
    "본문을 읽어서 단어빈도를 세어도 별 의미가 없을만한 단어를 불용어에 넣어두자."
   ]
  },
  {
   "cell_type": "code",
   "execution_count": 1,
   "metadata": {
    "collapsed": true
   },
   "outputs": [],
   "source": [
    "stopwords = set(['및','이를','등','이','이런','그와','또는','두', '이와', '전', '간'])"
   ]
  },
  {
   "cell_type": "code",
   "execution_count": 2,
   "metadata": {
    "collapsed": false
   },
   "outputs": [
    {
     "name": "stdout",
     "output_type": "stream",
     "text": [
      "{'이런', '및', '그와', '이와', '두', '전', '간', '또는', '이', '등', '이를'}\n"
     ]
    }
   ],
   "source": [
    "print(stopwords)"
   ]
  },
  {
   "cell_type": "code",
   "execution_count": 45,
   "metadata": {
    "collapsed": false
   },
   "outputs": [
    {
     "data": {
      "text/plain": [
       "True"
      ]
     },
     "execution_count": 45,
     "metadata": {},
     "output_type": "execute_result"
    }
   ],
   "source": [
    "'및' in stopwords"
   ]
  },
  {
   "cell_type": "code",
   "execution_count": 46,
   "metadata": {
    "collapsed": false
   },
   "outputs": [
    {
     "data": {
      "text/plain": [
       "False"
      ]
     },
     "execution_count": 46,
     "metadata": {},
     "output_type": "execute_result"
    }
   ],
   "source": [
    "'한' in stopwords"
   ]
  },
  {
   "cell_type": "markdown",
   "metadata": {},
   "source": [
    "불용어를 제거하고 출력해보자.\n",
    "텍스트에는 아직 제거해야할 단어들이 다수 포함되어 있다.\n",
    "컴마와 같은 기호, 숫자 등도 제거할 필요가 있다.\n",
    "\n",
    "\n",
    "> **UnicodeDecodeError**: 'cp949' 인코딩 오류\n",
    "\n",
    "> 파일을 텍스트로 읽고 (rt), encoding은 'utf8'로 해준다.\n",
    "> f=open(os.path.join(\"data\", \"ds_bigdata_wiki.txt\"), 'rt', encoding='UTF8')\n"
   ]
  },
  {
   "cell_type": "code",
   "execution_count": 2,
   "metadata": {
    "collapsed": false
   },
   "outputs": [
    {
     "name": "stdout",
     "output_type": "stream",
     "text": [
      "Big/data/활용사례/의의[편집]/정치/사회[편집]/2008년/미국/대통령/선거[편집]/2008년/미국/대통령/선거에서/버락/오바마/미국/대통령/후보는/다양한/형태의/유권자/데이터베이스를/확보하여/분석,/활용한/'유권자/맞춤형/선거/전략'을/전개했다./당시/오바마/캠프는/인종,/종교,/나이,/가구형태,/소비수준과/같은/기본/인적/사항으로/유권자를/분류하는/것을/넘어서서/과거/투표/여부,/구독하는/잡지,/마시는/음료/유권자/성향까지/전화나/개별/방문을/소셜/미디어를/통해/유권자/정보를/수집하였다./수집된/데이터는/오바마/캠프/본부로/전송되어/유권자/데이터베이스를/온라인으로/통합관리하는/‘보트빌더(VoteBuilder.com)’시스템의/도움으로/유권자/성향/분석,/미결정/유권자/선별/,/유권자에/대한/예측을/해나갔다./바탕으로‘유권자/지도’를/작성한/뒤/‘유권자/맞춤형/선거/전략’을/전개하는/오바마/캠프는/비용/대비/효과적인/선거를/치를/수/있었다./대한민국/제19대/총선[편집]/중앙선거관리위원회는/대한민국/제19대/총선부터/소셜/네트워크/인터넷/상의/선거/운동을/상시/허용하였다.[15]/이에/소셜/미디어/상에서/선거/관련/데이터는/증폭되었으며,/2010년/대한민국/제5회/지방/선거/2011년/대한민국/재보궐선거에서/소셜/네트워크/서비스의/중요성을/확인한/정당들/또한/SNS/역량/지수를/공천/심사에/반영하는/등[16]/소셜/네트워크/활용에/주목했다./가운데/여론/조사/기관들은/기존/여론조사/방식으로/예측한/2010년/제5회/지방/선거/2011년/재보궐선거의/여론조사/결과와/실제/투표/결과와의/큰/차이를/보완하고자/빅/데이터/기술을/활용한/SNS/여론/분석을/시행했다./그러나/SNS/이용자의/대다수가/수도권/20~30대에/쏠려/있기에[17],/빅/데이터를/이용한/대한민국/제19대/총선에/대한/SNS/분석은/수도권으로/한정되어/일치하는/한계를/드러내기도/하였다./경제/경영[편집]/아마존닷컴의/추천/상품/표시///구글/페이스북의/맞춤형/광고[편집]/아마존닷컴은/모든/고객들의/구매/내역을/데이터베이스에/기록하고,/기록을/분석해/소비자의/소비/취향과/관심사를/파악한다.[18]/빅/데이터의/활용을/통해/아마존은/고객별로/'추천/상품(레코멘데이션)'을/표시한다./고객/한사람/한사람의/취미나/독서/경향을/찾아/일치한다고/생각되는/상품을/메일,/홈/페이지상에서/중점적으로/고객/한사람/한사람에게/자동적으로/제시하는/것이다.[19]/아마존닷컴의/추천/상품/표시와/같은/방식으로/구글/페이스북도/이용자의/검색/조건,/나아가/사진과/동영상/같은/비정형/데이터/사용을/즉각/처리하여/이용자에게/맞춤형/광고를/제공하는/빅데이터의/활용을/증대시키고/있다./문화[편집]/MLB/(메이저/리그/베이스볼)의/머니볼/이론/데이터/야구[편집]/머니볼/이론이란/경기/데이터를/철저하게/분석해/오직/데이터를/기반으로/적재적소에/선수들을/배치해/승률을/높인다는/게임/이론이다.[20]/이는/미국/메이저/리그/베이스볼/오클랜드/어슬레틱스의/구단장/빌리/빈이/리그/전체/25위에/해당하는/낮은/구단/지원금/속에서도/최소비용으로/최대효과를/거둔/상황에서/유래되었다./빌리/빈은/하치해/최하위에/그치던/팀을/4년/연속/포스트시즌에/진출시키고/메이저/리그/최초로/20연승이라는/신기록을/세우도록/탈바꿈/시켰다./미국/월스트리트/저널은/미국/경제에/큰/영향을/끼치는/파워/엘리트/30인에/워렌/버핏,/앨런/그린스펀과/함께/빌리/빈을/선정[21]/하는/머니볼/이론은/경영,/금융/분야에서도/주목받았다./최근/들어서/과학기술/카메라/기술의/발달로/더욱/정교한/데이터의/수집이/가능해졌으며/투구의/궤적/투수의/그립,/타구/방향,/야수의/움직임까지/잡아낼/수/있게/되었다./이처럼/기존의/정형/데이터뿐만/아닌/비정형/데이터의/수집과/분석,/활용을/통해/최근/야구경기에서/빅/데이터의/중요성은/더욱/커지고/있다./선수의/인기만을/쫓는/것이/아니라/팀별/승률이나/선수의/성적을/나타내는/수치와/야구를/관전한다면/그/재미는/배가된다./'출루율'은/타율로/인정되지/않는/볼넷을/포함하여/타자가/성공적으로/베이스를/밟은/횟수의/비율,/'장타율'은/타수마다/밟은/총/베이스를/계산해서/타격력이/얼마나/강한지를/나타내는/비율이다./출루율과/장타율/못지/않게/'타수'는/한두/경기에서/낸/성적이/아닌,/수천/번의/타석에/들어/좋은/성적을/만들어낸/선수를/선별하기/위한/기초/통계자료이다./이처럼/한/선수의/타율에서/팀의/역대/시리즈/전적까지/모든/것을/숫자로/표현할/수/있다고/해서/야구를/'통계의/스포츠'라고/부르기도/한다./야구뿐만/아니라/생활/곳곳에서/활용되는/통계는/복잡한/상황과/설명을/간단한/숫자로/바꿔주는/매우/강력한/도구이다.[22]/'프로파일링'과/'빅데이터'/기법을/활용한/프로그램/MBC/<프로파일링>[편집]/방송에는/19세/소년의/살인/심리를/파헤친/'용인살인사건의/재구성',/강남/3구/초등학교/85곳의/학업성취도평가/성적과/주변/아파트/매매가의/상관관계를/빅데이터(디지털/환경에서/발생한/방대한/규모의/데이터)를/통해/분석한/'강남,/부자일수록/공부를/잘할까'[23]/2014년/FIFA/월드컵/독일/우승과/'빅데이터'[편집]/브라질에서/개최된/2014년/FIFA/월드컵에서/독일은/준결승에서/개최국인/브라질을/7:1로/꺾고,/결승에서/아르헨티나와/연장전까지/가는/접전/끝에/1:0으로/승리를/거두었다./무패행진으로/우승을/차지한/독일/국가대표팀의/우승의/배경에는/'빅데이터'가/있었다./독일/국가대표팀은/SAP와/협업하여/훈련과/실전/경기에/'SAP/매치/인사이트'를/도입했다./SAP/매치/인사이트란/선수들에게/부착된/센서를/통해/운동량,/순간속도,/심박수,/슈팅동작/방대한/비정형/데이터를/수집,/분석한/결과를/감독과/코치의/태블릿PC로/전송하여/그들이/데이터를/기반으로/전술을/짜도록/도와주는/솔루션이다./기존에/감독의/경험이나/주관적/판단으로/결정되는/전략과는/달리,/SAP/매치/인사이트를/통해/이루어지는/분석은/선수들에/대한/분석/뿐만/아니라/상대팀/전력,/강점,/약점/종합적인/분석을/통해/좀/더/과학적인/전략을/수립할/수/있다./정보/수집에/쓰이는/센서/1개가/1분에/만들어내는/데이터는/총/12000여개로/독일/국가대표팀은/선수당/4개(골키퍼는/양/손목을/포함해/6개)의/센서를/부착했고,/90분/경기동안/한/선수당/약/432만개,/팀/전체로/약/4968만개의/데이터를/수집했다고/한다.월드컵8강/獨/전차군단/비밀병기는/'빅데이터'/과학기술/활용[편집]/통계학[편집]/데이터/마이닝이란/기존/데이터베이스/관리도구의/데이터/수집,/저장,/관리,/분석의/역량을/넘어서는/대량의/정형/비정형/데이터/집합/이러한/데이터로부터/가치를/추출하고/결과를/분석하는/기술로,/수집되는/‘빅/데이터’를/보완하고/마케팅,/시청률조사,/경영/등으로부터/체계화돼/분류,/예측,/연관분석/등의/데이터/마이닝을/거쳐/통계학적으로/결과를/도출해/내고/있다.[24][25]/대한민국에서는/2000년부터/정보통신부의/산하단체로/사단법인/한국BI데이터마이닝학회가/설립되어/데이터/마이닝에/관한/학술과/기술을/발전,/보급,/응용하고/있다./‎또한/국내ㆍ외/통계분야에서/서서히/빅/데이터/활용에/대한/관심과/필요성이/커지고/있는/가운데/국가통계/업무를/계획하고/방대한/통계자료를/처리하는/국가기관인/통계청이/빅/데이터를/연구하고/활용방안을/모색하기/위한/'빅/데이터/연구회'를/발족하였다.[26]/하지만/업계에/따르면,/미국과/영국,/일본/선진국들은/이미/빅/데이터를/다각적으로/분석해/조직의/전략방향을/제시하는/데이터과학자/양성에/사활을/걸고/있다./그러나/한국은/정부와/일부/기업이/데이터과학자/양성을/위한/프로그램을/진행/중에/있어/아직/걸음마/단계인/것으로/알려져/있다.[27]/생물정보학[편집]/최근/생물학에서/DNA,/RNA,/단백질/서열/유전자들의/발현과/조절에/대한/데이터의/양이/급격히/증가했고/이에/따라/빅/데이터를/활용한/생명의/이해에/관한/논의가/진행되고/있다./보건의료[편집]/국민건강보험공단은/가입자의/자격·보험료,/진료·투약내용,/건강검진/결과/생활습관/정보/2조1천억건,/92테라바이트의/빅데이터를/보유하고/있고,/한편,/건강보험심사평가원은/진료내역,/투약내용(의약품/안심서비스),/의약품/유통/등의/2조2천억건,/89테라바이트의/빅데이터를/보유하고/있으며,/경제협력개발기구(OECD)는/한국의/건강보험/빅데이터/순위가/2위라고/발표했었다./건보공단과/심평원은/빅데이터를/민간에/널리/알리고/더/많이/개방하고/있다./(연합뉴스/2016.6.14/인터넷뉴스/참조)/빅/데이터를/활용하면/미국/의료부문은/연간/3,300/억/달러(미/정부/의료/예산의/약/8%에/해당하는/규모)의/직간접적인/비용/절감/효과를/보일/것으로/전망된다.[28]/특히/임상분야에서는/의료기관/별/진료방법,/효능,/비용/데이터를/분석하여/보다/효과적인/진료방법을/파악하고/환자/데이터를/온라인/플랫폼화하여/의료협회/데이터/공유로/치료/효과를/제고하며/공중보건/영역에선/전국의/의료/데이터를/연계하여/전염병/발생과/같은/긴박한/순간에/빠른/의사결정을/가능케/할/전망이다.[29]/한편,/의료/분야에서/빅/데이터가/효과를/발휘하기/위해서는/대량의/의료정보/수집이/필수적이기/때문에,/개인정보의/보호와/빅/데이터/활용이라는/가지/가치가/상충하게/되된다./따라서,/의료/분야에서/빅/데이터의/활용과/보급을/위해서는/이러한/문제에/대한/가이드라인/마련이/필요한/상태이다.[30]/기업/경영[편집]/대규모의/다양한/데이터를/활용한/'빅데이터/경영'이/주목받으면서/데이터/품질을/높이고/방대한/데이터의/처리를/돕는/데이터/통합(Data/Integration)의/중요성이/부각되고/있다./데이터/통합(DI)은/데이터의/추출,/변환,/적재를/위한/ETL/솔루션이/핵심인데/ETL/솔루션을/활용하면/일일이/수많은/데이터를/기업/데이터/포맷으로/코딩하지/않아도/되고/데이터/품질을/제고할/수/있기/때문에/DI는/빅데이터/환경에/꼭/필요한/데이터/솔루션으로/평가받고/있는/단계까지/진입되었다./한편/비즈니스/인텔리전스(Business/Intelligence,/BI)보다/진일보한/빅데이터/분석/방법이/비즈니스/애널리틱스(Business/analytics,/BA)인데/고급분석/범주에/있는/BA는/기본적으로/BI를/포함하면서도/미래/예측/기능과/통계분석,/확률/분석/등을/포함해/최적의/데이터/기반/의사결정을/가능케/하는/것으로/평가받고/있기도/하다.[31]/마케팅[편집]/인터넷으로/시작해서/인터넷으로/마감하는/생활,/스마트폰을/이용해/정보를/검색하고/쇼핑도하고/SNS를/이용해서/실시간으로/글을/남기는/등의/다양하게/인터넷을/이용하는/동안/남는/흔적같은/모인/데이터들을/분석하면/개인의/생활/패턴,/소비성향/등을/예측할/수/있고/기업들은/데이터를/통해서/소비자가/원하는/것들을/미리/예측할/수/있다./빅/데이터가/마케팅/자료로/활용되는/사례이다.[31]/기상정보[편집]/한반도/전역의/기상관측정보를/활용해/일기예보와/각종/기상특보/국가/기상서비스를/제공하고/있는/기상청은/정밀한/기상예측을/위한/분석/과정에서/발생하는/데이터/폭증에/대응하고자/빅데이터/저장시스템의/도입을/추진하였다./대다수/스토리지/기업들의/솔루션을/검토한/끝에/한국/IBM의/고성능/대용량/파일공유시스템(General/Parallel/File/System,/이하/GPFS)을/적용한/스토리지/시스템을/선택하였다고/밝혔다./한국IBM이/기상청에/제공한/GPFS/기반의/빅데이터/저장시스템은/IBM/시스템/스토리지/제품군,/시스템/x서버/제품군과/고속/네트워킹/랙스위치(RackSwitch)/등이/통합돼/있는/시스템이다.[31]/보안관리[편집]/보안관리는/빅데이터/환경을/이용해/성장과/기술/발전을/동시에/이루는/분야로/분리한다./클라우드/모바일/환경으로/접어들면서/물리/가상화/IT/시스템의/복잡성이/더욱/높아지고/있어/유무선/네트워크,/프라이빗/퍼블릭/클라우드,/모바일/애플리케이션과/기기관리/IT/시스템/전반에서/대대적인/변화가/예상되고/있어/막대한/양의/보안관리가/중요한/요소로/현실화되고/있다.[32]/구글/번역[편집]/구글에서/제공하는/자동/번역/서비스인/구글/번역은/빅/데이터를/활용한다./지난/40년/컴퓨터/회사/IBM의/자동/번역/프로그램/개발은/컴퓨터가/명사,/형용사,/동사/단어와/어문의/문법적/구조를/인식하여/번역하는/방식으로/이뤄졌다./달리/2006년/구글은/수억/건의/문장과/번역문을/데이터베이스화하여/번역시/유사한/문장과/어구를/기존에/축적된/데이터를/바탕으로/추론해/나가는/통계적/기법을/개발하였다./캐나다/의회의/수백만/건의/문서를/활용하여/영어-불어/자동번역/시스템개발을/시도한/IBM의/자동/번역/프로그램은/실패한/반면/구글은/수억/건의/자료를/활용하여/세계/58개/언어/간의/자동번역/프로그램/개발에/성공하였다./이러한/사례로/미루어/볼/때,/데이터/양의/측면에서의/엄청난/차이가/기업의/자동/번역/프로그램의/번역의/질과/정확도를/결정했으며,/나아가/프로젝트의/성패를/좌우했다고/볼/수/있다.[31]/"
     ]
    }
   ],
   "source": [
    "import os\n",
    "\n",
    "#f=open(os.path.join(\"data\", \"ds_bigdata_wiki.txt\"))\n",
    "f=open(os.path.join(\"data\", \"ds_bigdata_wiki.txt\"), 'rt', encoding='utf8')\n",
    "\n",
    "stopwords = set(['및','이를','등','이','이런','그와','또는','두', '이와', '전', '간'])\n",
    "d = dict()\n",
    "for sent in f.readlines():\n",
    "    _words = sent.split()  # split into words\n",
    "    for word in _words:\n",
    "        if word not in stopwords: # remove stopwords\n",
    "            print(word, end='/')\n"
   ]
  },
  {
   "cell_type": "markdown",
   "metadata": {},
   "source": [
    "* 단어빈도\n",
    "\n",
    "불용어를 제거하는 기능을 확인했으니, 이제 print문 자리에 단어빈도를 계산하는 로직을 넣어주자."
   ]
  },
  {
   "cell_type": "code",
   "execution_count": 4,
   "metadata": {
    "collapsed": false
   },
   "outputs": [],
   "source": [
    "import os\n",
    "\n",
    "f=open(os.path.join(\"data\", \"ds_bigdata_wiki.txt\"))\n",
    "\n",
    "stopwords = set(['및','이를','등','이','이런','그와','또는','두', '이와', '전', '간'])\n",
    "d = dict()\n",
    "for sent in f.readlines():\n",
    "    _words = sent.split()  # split into words\n",
    "    for word in _words:\n",
    "        if word not in stopwords: # remove stopwords\n",
    "            if word not in d:\n",
    "                d[word]=1\n",
    "            else:\n",
    "                d[word]=d[word]+1"
   ]
  },
  {
   "cell_type": "markdown",
   "metadata": {},
   "source": [
    "* 정렬\n",
    "\n",
    "단어빈도는 Python dictionary로 저장되어 있다.\n",
    "이를 정렬하여 다시 dictionary로 저장하자.\n",
    "\n",
    "dictionary는 key-value 쌍으로 구성되어 있다.\n",
    "저장된 데이터는 반복문을 사용하여:\n",
    "* **d.items()**으로 하나씩 key, value를 읽고\n",
    "* key=lambda x:x[1]은 값을 키로해서,\n",
    "* ```reverse=True```는 내림차순으로 읽는다. "
   ]
  },
  {
   "cell_type": "code",
   "execution_count": 5,
   "metadata": {
    "collapsed": false
   },
   "outputs": [],
   "source": [
    "dSorted = {k: v for k, v in sorted(d.items(), key=lambda x: x[1], reverse=True)}"
   ]
  },
  {
   "cell_type": "markdown",
   "metadata": {
    "slideshow": {
     "slide_type": "subslide"
    }
   },
   "source": [
    "지금은 **전처리**를 하지 않고 처리하고 있다.\n",
    "교착어인 한국어의 특성을 감안해서 품사처리를 해야할 필요가 있다.\n",
    "이음동의도 어떻게 분류할 것인지 감안해야 한다.\n",
    "전처리를 하지 않은 문제점을 몇 가지 나열하자면:\n",
    "* '빅데이터'와 '빅', '데이터' 다른 단어로 인식한다. 물론 첫 줄에 영어로 씌인 'Big data'를 인식하지 못하는 것은 물론이다.\n",
    "* '대한'의 의미가 모호하다. '대한민국'인지, '~에 대한'의 의미인지 불분명하다.\n",
    "* 다 수의 한 글자 단어가 계산되었지만 의미가 모호하다.\n",
    "    * '등'이 사람 신체의 부분을 말하는 것인지 '~하는 등'인지 불분명하다.\n",
    "    * '수'란 단어 역시 '개수'를 의미하는 것인지 '~할 수'에 쓰이는 단어인지 불분명하다."
   ]
  },
  {
   "cell_type": "markdown",
   "metadata": {},
   "source": [
    "* 일정 빈도 이상을 선택하여 출력\n",
    "\n",
    "Python2의 d.iteritems()는 Python3에서는 items()로 변경되었다."
   ]
  },
  {
   "cell_type": "code",
   "execution_count": 6,
   "metadata": {
    "collapsed": false,
    "slideshow": {
     "slide_type": "-"
    }
   },
   "outputs": [
    {
     "name": "stdout",
     "output_type": "stream",
     "text": [
      "데이터\t21\n",
      "데이터를\t18\n",
      "빅\t14\n",
      "있다.\t9\n",
      "수\t8\n",
      "데이터의\t8\n",
      "미국\t7\n",
      "통해\t7\n",
      "유권자\t6\n",
      "선거\t6\n",
      "대한\t6\n",
      "빅데이터\t6\n"
     ]
    }
   ],
   "source": [
    "d1 = dict()\n",
    "for key, value in dSorted.items():\n",
    "    if value>5:\n",
    "        d1[key]=value\n",
    "        print (f\"{key}\\t{value}\")"
   ]
  },
  {
   "cell_type": "markdown",
   "metadata": {
    "slideshow": {
     "slide_type": "subslide"
    }
   },
   "source": [
    "### 2. Pyspark로 단어빈도를 세어보기\n",
    "\n",
    "* RDD 생성\n",
    "\n",
    "파일로부터 testFile()함수를 이용해 RDD를 생성한다."
   ]
  },
  {
   "cell_type": "code",
   "execution_count": 9,
   "metadata": {
    "collapsed": true
   },
   "outputs": [],
   "source": [
    "myRdd3=spark.sparkContext\\\n",
    "    .textFile(os.path.join(\"data\",\"ds_bigdata_wiki.txt\"))"
   ]
  },
  {
   "cell_type": "code",
   "execution_count": 10,
   "metadata": {
    "collapsed": false
   },
   "outputs": [
    {
     "name": "stdout",
     "output_type": "stream",
     "text": [
      "Big data\n",
      "활용사례 및 의의[편집]\n"
     ]
    }
   ],
   "source": [
    "for i in myRdd3.take(2):\n",
    "    print (i)"
   ]
  },
  {
   "cell_type": "markdown",
   "metadata": {
    "slideshow": {
     "slide_type": "subslide"
    }
   },
   "source": [
    "### flatMap vs map\n",
    "\n",
    "flatMap()은 리스트안에 또 리스트가 있는 경우 이를 **하나의 리스트**로 만든다.\n",
    "반면에 map()은 **리스트 안에 또 리스트가 있는 구조를 보존**하고 처리한다.\n",
    "다음에서 보듯이 flatMap()은 모든 단어를 하나의 리스트로 만들고 있다.\n",
    "그러나 map() 파일의 줄마다 리스트를 만든다.\n",
    "\n",
    "줄 | 원본 | flatMap() 하고 나면 | map() 하고 나면\n",
    "-----| -----|-----|-----\n",
    "1 | Big data | 좌동 | [ 'Big', 'data' ]\n",
    "2 | 활용사례 및 의의[편집] | 좌동 | [ '활용사례', '및', '의의[편집]' ]"
   ]
  },
  {
   "cell_type": "code",
   "execution_count": 15,
   "metadata": {
    "collapsed": true
   },
   "outputs": [],
   "source": [
    "wc3=myRdd3\\\n",
    "    .flatMap(lambda x:x.split())\\\n",
    "    .take(10)"
   ]
  },
  {
   "cell_type": "code",
   "execution_count": 16,
   "metadata": {
    "collapsed": false
   },
   "outputs": [
    {
     "name": "stdout",
     "output_type": "stream",
     "text": [
      "Big/data/활용사례/및/의의[편집]/정치/및/사회[편집]/2008년/미국/"
     ]
    }
   ],
   "source": [
    "for i in wc3:\n",
    "    print (i, end='/')"
   ]
  },
  {
   "cell_type": "markdown",
   "metadata": {
    "slideshow": {
     "slide_type": "subslide"
    }
   },
   "source": [
    "리스트를 출력해보자.\n",
    "반복문으로 리스트를 출력해도 2차원이라서 리스트를 완전하게 해체하지 못했다.\n",
    "데이터를 출력하려면 리스트 당 1개의 반복문이 필요하다."
   ]
  },
  {
   "cell_type": "code",
   "execution_count": 13,
   "metadata": {
    "collapsed": true
   },
   "outputs": [],
   "source": [
    "wc3=myRdd3\\\n",
    "    .map(lambda x:x.split())\\\n",
    "    .take(3)"
   ]
  },
  {
   "cell_type": "code",
   "execution_count": 14,
   "metadata": {
    "collapsed": false
   },
   "outputs": [
    {
     "name": "stdout",
     "output_type": "stream",
     "text": [
      "['Big', 'data']/['활용사례', '및', '의의[편집]']/['정치', '및', '사회[편집]']/"
     ]
    }
   ],
   "source": [
    "for i in wc3:\n",
    "    print (i, end='/')"
   ]
  },
  {
   "cell_type": "markdown",
   "metadata": {},
   "source": [
    "**리스트 안에 또 리스트**가 있는 구조이므로, \n",
    "for문을 중첩하여 출력하자. print() 문은 한글을 그대로 유니코드로 출력한다."
   ]
  },
  {
   "cell_type": "code",
   "execution_count": 79,
   "metadata": {
    "collapsed": false
   },
   "outputs": [
    {
     "name": "stdout",
     "output_type": "stream",
     "text": [
      "Big/data/활용사례/및/의의[편집]/정치/및/사회[편집]/"
     ]
    }
   ],
   "source": [
    "for i in wc3:\n",
    "    for j in i:\n",
    "        print (j, end='/')"
   ]
  },
  {
   "cell_type": "markdown",
   "metadata": {
    "slideshow": {
     "slide_type": "subslide"
    }
   },
   "source": [
    "### stopwords 제거\n",
    "\n",
    "불용어를 처리해 보자. 한글은 유니코드로 영어는 소문자로 변환한 후 불용어는 제거한다."
   ]
  },
  {
   "cell_type": "code",
   "execution_count": 80,
   "metadata": {
    "collapsed": true
   },
   "outputs": [],
   "source": [
    "stopwords = set(['및','이를','등','이','이런','그와','또는','두', '이와', '전', '간'])\n",
    "wc3_stop1 = myRdd3\\\n",
    "    .flatMap(lambda x: x.split())\\\n",
    "    .filter(lambda x: x.lower() not in stopwords)\\\n",
    "    .take(10)"
   ]
  },
  {
   "cell_type": "code",
   "execution_count": 81,
   "metadata": {
    "collapsed": false
   },
   "outputs": [
    {
     "name": "stdout",
     "output_type": "stream",
     "text": [
      "Big/data/활용사례/의의[편집]/정치/사회[편집]/2008년/미국/대통령/선거[편집]/"
     ]
    }
   ],
   "source": [
    "for i in wc3_stop1:\n",
    "    print (i, end='/')"
   ]
  },
  {
   "cell_type": "markdown",
   "metadata": {
    "slideshow": {
     "slide_type": "subslide"
    }
   },
   "source": [
    "### 단어 빈도\n",
    "\n",
    "당연하겠지만, 우선 각 단어마다 빈도1의 값을 주게 된다.\n",
    "다음에서 보듯이, **(단어,1)**로 만들게 된다.\n",
    "flatMap()을 하지 않고, **단순하게 map()**을 하여 갯수를 세면 **문장**으로 세어진다.\n",
    "\n",
    "줄 | map()을 한 경우 | flatMap()을 한 경우\n",
    "-----|-----|-----\n",
    "1 | (u'Big data', 1) | (u'Big', 1) (u'data', 1)\n",
    "2 | (u'\\ud65c\\uc6a9\\uc0ac\\ub840 \\ubc0f \\uc758\\uc758[\\ud3b8\\uc9d1]', 1) | (u'\\ud65c\\uc6a9\\uc0ac\\ub840', 1) (u'\\ubc0f', 1) (u'\\uc758\\uc758[\\ud3b8\\uc9d1]', 1)"
   ]
  },
  {
   "cell_type": "code",
   "execution_count": 82,
   "metadata": {
    "collapsed": false
   },
   "outputs": [
    {
     "name": "stdout",
     "output_type": "stream",
     "text": [
      "('Big data', 1)/('활용사례 및 의의[편집]', 1)/('정치 및 사회[편집]', 1)/"
     ]
    }
   ],
   "source": [
    "wc3=myRdd3\\\n",
    "    .map(lambda x:(x,1))\\\n",
    "    .take(3)\n",
    "for i in wc3:\n",
    "    print (i, end='/')"
   ]
  },
  {
   "cell_type": "code",
   "execution_count": 83,
   "metadata": {
    "collapsed": false
   },
   "outputs": [
    {
     "name": "stdout",
     "output_type": "stream",
     "text": [
      "('Big', 1)/('data', 1)/('활용사례', 1)/('및', 1)/('의의[편집]', 1)/('정치', 1)/('및', 1)/('사회[편집]', 1)/('2008년', 1)/('미국', 1)/"
     ]
    }
   ],
   "source": [
    "wc3=myRdd3\\\n",
    "    .flatMap(lambda x:x.split())\\\n",
    "    .map(lambda x:(x,1))\\\n",
    "    .take(10)\n",
    "for i in wc3:\n",
    "    print (i, end='/')"
   ]
  },
  {
   "cell_type": "markdown",
   "metadata": {
    "slideshow": {
     "slide_type": "subslide"
    }
   },
   "source": [
    "### 묶어서\n",
    "\n",
    "줄 | 설명\n",
    "-----|-----\n",
    "flatMap | 파일 전체를 (flat해서) map. flat하지 않으면 줄바꿈으로 구분함.\n",
    "fliter | 불용어 목록에 있으면 제거함.\n",
    "map | 단어별로 **(x,1)**로 구성함\n",
    "reduceByKey | 동일한 단어(키)의 value, 즉 갯수를 서로 합하게 됨.\n",
    "map() | 앞 함수의 출력 (x,1)의 순서를 바꿈. 즉, 갯수x[1]를 앞으로 단어x[1]을 뒤로 자리 바꿈.\n",
    "sortByKey(false) | **내림차순** 정렬 (오름차순이 default)\n",
    "take(10) | 10개를 선택함."
   ]
  },
  {
   "cell_type": "code",
   "execution_count": 17,
   "metadata": {
    "collapsed": true
   },
   "outputs": [],
   "source": [
    "stopwords = set(['및','이를','등','이','이런','그와','또는','두', '이와', '전', '간'])\n",
    "\n",
    "wc3=myRdd3\\\n",
    "    .flatMap(lambda x:x.split())\\\n",
    "    .filter(lambda x: x.lower() not in stopwords)\\\n",
    "    .map(lambda x:(x,1))\\\n",
    "    .reduceByKey(lambda x,y:x+y)\\\n",
    "    .map(lambda x:(x[1],x[0]))\\\n",
    "    .sortByKey(False)\\\n",
    "    .take(15)"
   ]
  },
  {
   "cell_type": "code",
   "execution_count": 85,
   "metadata": {
    "collapsed": false,
    "slideshow": {
     "slide_type": "subslide"
    }
   },
   "outputs": [
    {
     "name": "stdout",
     "output_type": "stream",
     "text": [
      "<class 'list'>\n",
      "21 데이터\n",
      "18 데이터를\n",
      "14 빅\n",
      "9 있다.\n",
      "8 수\n",
      "8 데이터의\n",
      "7 미국\n",
      "7 통해\n",
      "6 유권자\n",
      "6 선거\n",
      "6 대한\n",
      "6 빅데이터\n",
      "5 활용한\n",
      "5 소셜\n",
      "5 대한민국\n"
     ]
    }
   ],
   "source": [
    "print (type(wc3))\n",
    "for i in wc3:\n",
    "    print (i[0],i[1])"
   ]
  },
  {
   "cell_type": "markdown",
   "metadata": {
    "slideshow": {
     "slide_type": "subslide"
    }
   },
   "source": [
    "### 단어빈도로 가로막대그래프 그리기\n",
    "\n",
    "데이터는 다음과 같이 [빈도, 단어]로 구성되어 있다. \n",
    "```\n",
    "[ 21, '데이터' ]\n",
    "...\n",
    "```\n",
    "\n",
    "x축은 ```barh()```로 개수를 나타내고\n",
    "y축은 단어를 나타낸다."
   ]
  },
  {
   "cell_type": "code",
   "execution_count": 18,
   "metadata": {
    "collapsed": false,
    "slideshow": {
     "slide_type": "subslide"
    }
   },
   "outputs": [],
   "source": [
    "k=list()\n",
    "v=list()\n",
    "for i in wc3:\n",
    "    v.append(i[0])\n",
    "    k.append(i[1])"
   ]
  },
  {
   "cell_type": "markdown",
   "metadata": {},
   "source": [
    "가로막대그래프 y축 위치는 range(len(v)) 즉 0~14까지, x는 v값으로 잡는다."
   ]
  },
  {
   "cell_type": "code",
   "execution_count": 87,
   "metadata": {
    "collapsed": false,
    "scrolled": true,
    "slideshow": {
     "slide_type": "-"
    }
   },
   "outputs": [
    {
     "data": {
      "image/png": "[encoded data removed]",
      "text/plain": [
       "<Figure size 432x288 with 1 Axes>"
      ]
     },
     "metadata": {
      "needs_background": "light"
     },
     "output_type": "display_data"
    }
   ],
   "source": [
    "import matplotlib.pyplot as plt\n",
    "plt.rc('font', family='NanumMyeongjo')\n",
    "plt.barh(range(len(v)), v, color = 'black')\n",
    "plt.yticks(range(len(v)), k)\n",
    "plt.show()"
   ]
  },
  {
   "cell_type": "markdown",
   "metadata": {},
   "source": [
    "'Nanum' 또는 'Myeongjo' 한글 폰트가 설치되었는지 확인하고, 그 중의 적당한 폰트를 사용하자."
   ]
  },
  {
   "cell_type": "code",
   "execution_count": 420,
   "metadata": {
    "collapsed": false
   },
   "outputs": [
    {
     "name": "stdout",
     "output_type": "stream",
     "text": [
      "NanumMyeongjo /usr/share/fonts/truetype/nanum/NanumMyeongjoBold.ttf\n",
      "NanumMyeongjo /usr/share/fonts/truetype/nanum/NanumMyeongjo.ttf\n"
     ]
    }
   ],
   "source": [
    "from matplotlib import font_manager\n",
    "for font in font_manager.fontManager.ttflist:\n",
    "    if 'Myeongjo' in font.name:\n",
    "        print(font.name, font.fname)"
   ]
  },
  {
   "cell_type": "markdown",
   "metadata": {},
   "source": [
    "#### combineByKey\n",
    "\n",
    "앞서 사용했던 데이터로 combineByKey()를 사용해 보자. 키별로 합계 및 갯수 ```(key, (sum, count))```를 계산한다.\n",
    "\n",
    "구분 | combiner | merge values | merge combiner\n",
    "-----|-----|-----|-----\n",
    "설명 | 각 키에 대해 **```(value,1)```** 튜플 만든다 | 값을 더해나감 (sum,count)<br>즉, **```sum+value```**,**```count+1```** | partition별로 combiner를 더함"
   ]
  },
  {
   "cell_type": "markdown",
   "metadata": {},
   "source": [
    "* **데이터 생성**"
   ]
  },
  {
   "cell_type": "markdown",
   "metadata": {},
   "source": [
    "앞서 ```_testRdd```를 사용해서 combineByKey()를 해보자."
   ]
  },
  {
   "cell_type": "code",
   "execution_count": 21,
   "metadata": {
    "collapsed": true
   },
   "outputs": [],
   "source": [
    "_testList=[(\"key1\",1),(\"key1\",3),(\"key2\",2),(\"key1\",2),(\"key2\",4),\n",
    "           (\"key1\",5),(\"key2\",6),\n",
    "           (\"key1\",7),(\"key1\",8),(\"key2\",9),(\"key2\",3)]"
   ]
  },
  {
   "cell_type": "markdown",
   "metadata": {},
   "source": [
    "* **partition이 1개이면 combiner, mergeValues만 작동**\n",
    "\n",
    "partition이 1개인 경우를 먼저 해보자. Rdd를 생성하자."
   ]
  },
  {
   "cell_type": "code",
   "execution_count": 22,
   "metadata": {
    "collapsed": true
   },
   "outputs": [],
   "source": [
    "_testRdd=spark.sparkContext.parallelize(_testList)"
   ]
  },
  {
   "cell_type": "markdown",
   "metadata": {},
   "source": [
    "현재 partition은 1개이다."
   ]
  },
  {
   "cell_type": "code",
   "execution_count": 23,
   "metadata": {
    "collapsed": false
   },
   "outputs": [
    {
     "data": {
      "text/plain": [
       "1"
      ]
     },
     "execution_count": 23,
     "metadata": {},
     "output_type": "execute_result"
    }
   ],
   "source": [
    "_testRdd.getNumPartitions()"
   ]
  },
  {
   "cell_type": "markdown",
   "metadata": {},
   "source": [
    "partition이 1개이면 키별로 값을 더해간다. 키가 존재하지 않으면 combiner()를, 존재하면 mergeValues()가 실행된다.\n",
    "* (key1, 1) key1은 처음 등장하는 키이므로 accumulator[key1] = createCombiner(1)\n",
    "* (key1, 3) key1은 존재하는 키이므로 accumulator[key1] = mergeValue(accumulator[key1], 3)\n",
    "* (key2, 2) key2는 처음 등장하는 키이므로 accumulator[key2] = createCombiner(2)\n",
    "* (key1, 2) key1은 존재하는 키이므로 accumulator[key1] = mergeValue(accumulator[key1], 2)\n",
    "* ..."
   ]
  },
  {
   "cell_type": "markdown",
   "metadata": {},
   "source": [
    "아래 출력결과를 해석해보자.\n",
    "key1의 값은 1,3,2,4,7,8이고 key2의 값은 2,4,6,9,3이다.\n",
    "앞서 설명대로:\n",
    "* key1의 첫째 값은 1이다. 이경우 combiner (```*```표기), 다음은 merge values (```#``` 표기)로 계산이 된다. 따라서 ```1*#3#2#5#7#8```가 출력된다.\n",
    "* key2는 ```2*#4#6#9#3```가 출력된다."
   ]
  },
  {
   "cell_type": "code",
   "execution_count": 10,
   "metadata": {
    "collapsed": false
   },
   "outputs": [
    {
     "data": {
      "text/plain": [
       "[('key1', '1*#3#2#5#7#8'), ('key2', '2*#4#6#9#3')]"
      ]
     },
     "execution_count": 10,
     "metadata": {},
     "output_type": "execute_result"
    }
   ],
   "source": [
    "_testRdd.combineByKey(lambda v : str(v)+\"*\", lambda c, v : c+\"#\"+str(v), lambda c1, c2 : c1+'&'+c2).collect()"
   ]
  },
  {
   "cell_type": "markdown",
   "metadata": {},
   "source": [
    "* **partition이 복수이면 mergeCombiner가 작동**\n",
    "\n",
    "partition이 복수인 경우에는 mergeCombiner가 작동한다. 먼저 partition을 2개로 해서 Rdd를 생성하자."
   ]
  },
  {
   "cell_type": "code",
   "execution_count": 11,
   "metadata": {
    "collapsed": true
   },
   "outputs": [],
   "source": [
    "_testRdd=spark.sparkContext.parallelize(_testList, 2)"
   ]
  },
  {
   "cell_type": "code",
   "execution_count": 12,
   "metadata": {
    "collapsed": false,
    "scrolled": true
   },
   "outputs": [
    {
     "name": "stdout",
     "output_type": "stream",
     "text": [
      "Partitions 0 -> [('key1', 1), ('key1', 3), ('key2', 2), ('key1', 2), ('key2', 4)]\n",
      "Partitions 1 -> [('key1', 5), ('key2', 6), ('key1', 7), ('key1', 8), ('key2', 9), ('key2', 3)]\n"
     ]
    }
   ],
   "source": [
    "partitions = _testRdd.glom().collect()\n",
    "for num, partition in enumerate(partitions):\n",
    "    print(f'Partitions {num} -> {partition}')"
   ]
  },
  {
   "cell_type": "markdown",
   "metadata": {},
   "source": [
    "partition이 분할 되었으므로, partition별로 합산된다.\n",
    "* key1은 partition 0에서 1,3,2 그리고 partition 1에서 5,7,8이 연산된다. 그 결과 ```1*#3#2&5*#7#8```\n",
    "* key2는 2,4,6과 6,9,3이 각 각 다른 partition에서 연산되어 ```2*#4&6*#9#3```이 출력된다."
   ]
  },
  {
   "cell_type": "code",
   "execution_count": 13,
   "metadata": {
    "collapsed": false
   },
   "outputs": [
    {
     "data": {
      "text/plain": [
       "[('key1', '1*#3#2&5*#7#8'), ('key2', '2*#4&6*#9#3')]"
      ]
     },
     "execution_count": 13,
     "metadata": {},
     "output_type": "execute_result"
    }
   ],
   "source": [
    "_testRdd.combineByKey(lambda v : str(v)+\"*\", lambda c, v : c+\"#\"+str(v), lambda c1, c2 : c1+'&'+c2).collect()"
   ]
  },
  {
   "cell_type": "markdown",
   "metadata": {},
   "source": [
    "* **실제 해보기**\n",
    "\n",
    "앞서 사용했던 기호를 연산자로 변경해서, 실제 해보자.\n",
    "그 결과는 합계, 개수를 구할 수 있게 된다."
   ]
  },
  {
   "cell_type": "code",
   "execution_count": 24,
   "metadata": {
    "collapsed": false,
    "slideshow": {
     "slide_type": "subslide"
    }
   },
   "outputs": [
    {
     "data": {
      "text/plain": [
       "[('key1', (26, 6)), ('key2', (24, 5))]"
      ]
     },
     "execution_count": 24,
     "metadata": {},
     "output_type": "execute_result"
    }
   ],
   "source": [
    "_testRdd.combineByKey(lambda value: (value,1),\n",
    "                     lambda x,value: (x[0]+value, x[1]+1),\n",
    "                     lambda x,y: (x[0]+y[0], x[1]+y[1])) \\\n",
    "        .collect()"
   ]
  },
  {
   "cell_type": "markdown",
   "metadata": {
    "slideshow": {
     "slide_type": "subslide"
    }
   },
   "source": [
    "* **평균 계산**\n",
    "\n",
    "combineByKey()함수로 **sum**, **count**를 구하게 된다. 그리고 map()함수로 **sum/count**를 계산하게 된다."
   ]
  },
  {
   "cell_type": "code",
   "execution_count": 25,
   "metadata": {
    "collapsed": true
   },
   "outputs": [],
   "source": [
    "_testCbkRdd=_testRdd.combineByKey(lambda value: (value,1),\n",
    "                     lambda x,value: (x[0]+value, x[1]+1),                      \n",
    "                     lambda x,y: (x[0]+y[0], x[1]+y[1]))"
   ]
  },
  {
   "cell_type": "markdown",
   "metadata": {
    "collapsed": false,
    "slideshow": {
     "slide_type": "subslide"
    }
   },
   "source": [
    "과거에는 아래와 같이 lambda 함수의 인자를 별도로 3개 받았으나, 지금은 하나를 받도록 프로그램하자.\n",
    "\n",
    "```python\n",
    "averageByKey = _testCbkRdd.map(lambda (key,(sum,count)):(key,float(sum)/count))\n",
    "averageByKey.collectAsMap()\n",
    "```"
   ]
  },
  {
   "cell_type": "code",
   "execution_count": 26,
   "metadata": {
    "collapsed": false
   },
   "outputs": [
    {
     "data": {
      "text/plain": [
       "{'key1': 4.333333333333333, 'key2': 4.8}"
      ]
     },
     "execution_count": 26,
     "metadata": {},
     "output_type": "execute_result"
    }
   ],
   "source": [
    "averageByKey = _testCbkRdd.map(lambda x:(x[0],x[1][0]/x[1][1]))\n",
    "averageByKey.collectAsMap()"
   ]
  },
  {
   "cell_type": "markdown",
   "metadata": {
    "collapsed": true,
    "slideshow": {
     "slide_type": "subslide"
    }
   },
   "source": [
    "#### combineByKey 예제\n",
    "\n",
    "* combineByKey(x, y, z) - groupByKey()는 값 합계를 미리 계산하지 때문에 비효율적이다.\n",
    "* partition별로 무작위 배분되어 실행되나, 아래는 하나의 partition을 가정하고 예제를 설명한다.\n",
    "    * partition A: ('kim',86),('lim',87),('kim',91),('lim',79)\n",
    "    * partition B: ('kim',75),('lim',78),('lim',92),('lee',99)\n",
    "\n",
    "구분 | 함수명 | 설명\n",
    "-----|-----|-----\n",
    "x | Combiner 함수 | 값을 combine (V) -> C 예: (value,1)\n",
    "y | Merge value 함수 | 값을 merge (C, V) -> C 예: (sum,count)\n",
    "z | Merge combiners 함수 | combiner를 merge (C, C) -> C) 예: (K, C)\n",
    "\n",
    "데이터 | 적용 함수 | 결과\n",
    "-----|-----|-----\n",
    "('kim',86) | combiner | accum[kim],(86,1)\n",
    "('lim',87) | combiner | accum[lim],(87,1)\n",
    "('kim',75) | merge value | (accum[kim],75) -> accum[kim],(86+75,1+1) = (161,2)\n",
    "('kim',91) | merge value | (accum[kim],91) -> (161+91,2+1) = (252,3)\n",
    "('lim',78) | merge value | (accum[lim],78) -> (87+78,1+1) = (165,2)\n",
    "('lim',92) | merge value | (accum[lim],92) -> (165+92,2+1) = (257,3)\n",
    "('lim',79) | merge value | (accum[lim],79) -> (257+79,3+1) = (336,4)\n",
    "('lee',99) | combiner | accum[lee],(99,1)\n",
    "partition별 합산 | merge combiners | [('lim', (336, 4)), ('lee', (99, 1)), ('kim', (252, 3))\n"
   ]
  },
  {
   "cell_type": "code",
   "execution_count": 15,
   "metadata": {
    "collapsed": true
   },
   "outputs": [],
   "source": [
    "marks = spark.sparkContext.parallelize([('kim',86),('lim',87),('kim',75),\n",
    "                                      ('kim',91),('lim',78),('lim',92),\n",
    "                                      ('lim',79),('lee',99)])"
   ]
  },
  {
   "cell_type": "code",
   "execution_count": 16,
   "metadata": {
    "collapsed": true
   },
   "outputs": [],
   "source": [
    "marksByKey = marks.combineByKey(lambda value: (value,1),\n",
    "                             lambda x,value: (x[0]+value, x[1]+1),\n",
    "                             lambda x,y: (x[0]+y[0], x[1]+y[1]))"
   ]
  },
  {
   "cell_type": "code",
   "execution_count": 17,
   "metadata": {
    "collapsed": false,
    "slideshow": {
     "slide_type": "subslide"
    }
   },
   "outputs": [
    {
     "data": {
      "text/plain": [
       "[('kim', (252, 3)), ('lim', (336, 4)), ('lee', (99, 1))]"
      ]
     },
     "execution_count": 17,
     "metadata": {},
     "output_type": "execute_result"
    }
   ],
   "source": [
    "marksByKey.collect()"
   ]
  },
  {
   "cell_type": "code",
   "execution_count": 22,
   "metadata": {
    "collapsed": true
   },
   "outputs": [],
   "source": [
    "heights = spark.sparkContext.parallelize([\n",
    "        ('M',182.),('F',164.),('M',180.),('M',185.),('M',171.),('F',162.)\n",
    "    ])"
   ]
  },
  {
   "cell_type": "code",
   "execution_count": 23,
   "metadata": {
    "collapsed": false
   },
   "outputs": [],
   "source": [
    "heightsByKey = heights.combineByKey(lambda value: (value,1),\n",
    "                             lambda x,value: (x[0]+value, x[1]+1),\n",
    "                             lambda x,y: (x[0]+y[0], x[1]+y[1]))"
   ]
  },
  {
   "cell_type": "code",
   "execution_count": 24,
   "metadata": {
    "collapsed": false,
    "slideshow": {
     "slide_type": "subslide"
    }
   },
   "outputs": [
    {
     "data": {
      "text/plain": [
       "[('M', (718.0, 4)), ('F', (326.0, 2))]"
      ]
     },
     "execution_count": 24,
     "metadata": {},
     "output_type": "execute_result"
    }
   ],
   "source": [
    "heightsByKey.collect()"
   ]
  },
  {
   "cell_type": "code",
   "execution_count": 25,
   "metadata": {
    "collapsed": false,
    "slideshow": {
     "slide_type": "subslide"
    }
   },
   "outputs": [
    {
     "name": "stdout",
     "output_type": "stream",
     "text": [
      "{'M': 179.5, 'F': 163.0}\n"
     ]
    }
   ],
   "source": [
    "avgByKey = heightsByKey.map(lambda x: (x[0],x[1][0]/x[1][1]))\n",
    "\n",
    "print (avgByKey.collectAsMap())"
   ]
  },
  {
   "cell_type": "markdown",
   "metadata": {
    "slideshow": {
     "slide_type": "slide"
    }
   },
   "source": [
    "## 문제 S-3: 성적 합계 및 평균.\n",
    "\n",
    "아래 데이터를 RDD로 만들고, 성적의 합계 및 평균을 계산하세요.\n",
    "하위 문제별로 RDD를 생성하지 말고, 원본데이터에서 하나의 RDD만을 생성하고, 이를 변형해서 문제를 푸세요.\n",
    "\n",
    "이름 | 과목 | 점수\n",
    "-----|-----|-----\n",
    "김하나 | English | 100\n",
    "김하나 | Math | 80\n",
    "임하나 | English | 70\n",
    "임하나 | Math | 100\n",
    "김갑돌 | English | 82.3\n",
    "김갑돌 | Math | 98.5\n",
    "\n",
    "* 문제 3-1: 이름으로 합계를 구해보자. 올바른 출력은 다음과 같다.\n",
    "**이름과 점수로 데이터를 추출**하고, **이름별로 (이름을 키로)** 합계를 계산한다.\n",
    "\n",
    "```python\n",
    "'임하나' 170.0\n",
    "'김하나' 180.0\n",
    "'김갑돌' 180.8\n",
    "```\n",
    "* 문제 3-2: 과목으로 합계를 계산해 보자. 출력은 다음과 같이 나와야 한다.\n",
    "**과목과 점수로 데이터를 추출**하여, **과목별로 (과목을 키로)** 합계를 계산한다.\n",
    "\n",
    "```python\n",
    "'English' 252.3\n",
    "'Math' 278.5\n",
    "```\n",
    "\n",
    "* 문제 3-3: 이름으로 합계과 개수를 구해보자. 출력은 다음과 같이 계산된다.\n",
    "**이름과 점수로 데이터를 추출**하여, **이름별로 (이름을 키로)** 합계와 개수를 계산한다.\n",
    "\n",
    "```python\n",
    "'임하나' (170.0, 2)\n",
    "'김하나' (180.0, 2)\n",
    "'김갑돌' (180.8, 2)\n",
    "```\n",
    "\n",
    "* 문제 3-4: 이름으로 평균을 계산해 보자. 앞서 3-3에서 사용했던 결과를 활용하고, 올바른 출력은 다음과 같다.\n",
    "\n",
    "```python\n",
    "'임하나' 85.0\n",
    "'김하나' 90.0\n",
    "'김갑돌' 90.4\n",
    "```\n"
   ]
  },
  {
   "cell_type": "markdown",
   "metadata": {
    "slideshow": {
     "slide_type": "subslide"
    }
   },
   "source": [
    "### RDD 생성\n",
    "\n",
    "우선 데이터를 만들어 보자. 이름, 과목, 성적을 개인별로 넣어 2차원 리스트로 만들어졌다."
   ]
  },
  {
   "cell_type": "code",
   "execution_count": 4,
   "metadata": {
    "collapsed": false,
    "slideshow": {
     "slide_type": "-"
    }
   },
   "outputs": [],
   "source": [
    "marks=[\n",
    "    \"'김하나','English', 100\",\n",
    "    \"'김하나','Math', 80\",\n",
    "    \"'임하나','English', 70\",\n",
    "    \"'임하나','Math', 100\",\n",
    "    \"'김갑돌','English', 82.3\",\n",
    "    \"'김갑돌','Math', 98.5\"\n",
    "]\n",
    "_marksRdd=spark.sparkContext.parallelize(marks)"
   ]
  },
  {
   "cell_type": "markdown",
   "metadata": {
    "slideshow": {
     "slide_type": "subslide"
    }
   },
   "source": [
    "### 문제 3-1\n",
    "\n",
    "개인별 데이터를 컴마로 분리하고, 이름 x[0]과 성적 x[2]만 꺼내어 reduceBykey()를 구하면 합계를 구할 수 있다.\n",
    "여기서 중요한 것은 기존 데이터에서 필요한 이름, 성적만을 꺼내어 처리한다는 점이다."
   ]
  },
  {
   "cell_type": "code",
   "execution_count": 5,
   "metadata": {
    "collapsed": true
   },
   "outputs": [],
   "source": [
    "# marks by name\n",
    "_marksbyname=_marksRdd\\\n",
    "    .map(lambda x:x.split(','))\\\n",
    "    .map(lambda x: (x[0],float(x[2])))\\\n",
    "    .reduceByKey(lambda x,y:x+y)\\\n",
    "    .collect()"
   ]
  },
  {
   "cell_type": "code",
   "execution_count": 6,
   "metadata": {
    "collapsed": false,
    "slideshow": {
     "slide_type": "-"
    }
   },
   "outputs": [
    {
     "name": "stdout",
     "output_type": "stream",
     "text": [
      "'김하나' 180.0\n",
      "'임하나' 170.0\n",
      "'김갑돌' 180.8\n"
     ]
    }
   ],
   "source": [
    "for i in _marksbyname:\n",
    "  print (i[0],i[1])"
   ]
  },
  {
   "cell_type": "markdown",
   "metadata": {
    "slideshow": {
     "slide_type": "subslide"
    }
   },
   "source": [
    "### 문제 3-2\n",
    "\n",
    "개인별 데이터를 컴마로 분리하고, 과목 x[1]과 성적 x[2]만 꺼내어 reduceBykey()를 구하면 합계를 구할 수 있다."
   ]
  },
  {
   "cell_type": "code",
   "execution_count": 7,
   "metadata": {
    "collapsed": false,
    "slideshow": {
     "slide_type": "-"
    }
   },
   "outputs": [
    {
     "name": "stdout",
     "output_type": "stream",
     "text": [
      "'English' 252.3\n",
      "'Math' 278.5\n"
     ]
    }
   ],
   "source": [
    "# marks by subject\n",
    "_marksbysubject=_marksRdd\\\n",
    "    .map(lambda x:x.split(','))\\\n",
    "    .map(lambda x: (x[1],float(x[2])))\\\n",
    "    .reduceByKey(lambda x,y:x+y)\\\n",
    "    .collect()\n",
    "for i in _marksbysubject:\n",
    "  print (i[0],i[1])"
   ]
  },
  {
   "cell_type": "markdown",
   "metadata": {
    "slideshow": {
     "slide_type": "subslide"
    }
   },
   "source": [
    "### 문제 3-3\n",
    "\n",
    "합계, 개수를 계산해 보자. combineByKey()를 이용해서 계산해야 한다.\n",
    "먼저 데이터를 **이름, 과목, 데이터** -> **이름, 점수**로 변경한다."
   ]
  },
  {
   "cell_type": "code",
   "execution_count": 9,
   "metadata": {
    "collapsed": true,
    "slideshow": {
     "slide_type": "-"
    }
   },
   "outputs": [],
   "source": [
    "# marks by name\n",
    "_marksbyname2=_marksRdd\\\n",
    "    .map(lambda x:x.split(','))\\\n",
    "    .map(lambda x: (x[0],float(x[2])))"
   ]
  },
  {
   "cell_type": "code",
   "execution_count": 10,
   "metadata": {
    "collapsed": false,
    "slideshow": {
     "slide_type": "-"
    }
   },
   "outputs": [],
   "source": [
    "# sum, counts by name\n",
    "sum_counts = _marksbyname2.combineByKey(\n",
    "    (lambda x: (x, 1)), # the initial value, with value x and count 1\n",
    "    (lambda acc, value: (acc[0]+value, acc[1]+1)), # how to combine a pair value with the accumulator: sum value, and increment count\n",
    "    (lambda acc1, acc2: (acc1[0]+acc2[0], acc1[1]+acc2[1])) # combine accumulators\n",
    ")"
   ]
  },
  {
   "cell_type": "code",
   "execution_count": 11,
   "metadata": {
    "collapsed": false,
    "slideshow": {
     "slide_type": "subslide"
    }
   },
   "outputs": [
    {
     "name": "stdout",
     "output_type": "stream",
     "text": [
      "'김하나' (180.0, 2) \n",
      "'임하나' (170.0, 2) \n",
      "'김갑돌' (180.8, 2) \n"
     ]
    }
   ],
   "source": [
    "for i in sum_counts.collect():\n",
    "    for each in i:\n",
    "        print (each, end=' ')\n",
    "    print()"
   ]
  },
  {
   "cell_type": "markdown",
   "metadata": {
    "slideshow": {
     "slide_type": "subslide"
    }
   },
   "source": [
    "### 문제 3-4\n",
    "\n",
    "개인별 평균은 3-3에서 구했던 합계, 개수를 사용하여 계산한다.\n",
    "평균을 계산하기 위해 float() 형변환을 해주었다."
   ]
  },
  {
   "cell_type": "code",
   "execution_count": 12,
   "metadata": {
    "collapsed": false,
    "slideshow": {
     "slide_type": "-"
    }
   },
   "outputs": [
    {
     "name": "stdout",
     "output_type": "stream",
     "text": [
      "'김하나' 90.0 \n",
      "'임하나' 85.0 \n",
      "'김갑돌' 90.4 \n"
     ]
    }
   ],
   "source": [
    "# average\n",
    "averageByKey = sum_counts\\\n",
    "    .map(lambda x: (x[0],x[1][0]/x[1][1]))\\\n",
    "    .collect()\n",
    "for i in averageByKey:\n",
    "    for j in i:\n",
    "        print (j, end=' ')\n",
    "    print()"
   ]
  },
  {
   "cell_type": "markdown",
   "metadata": {
    "slideshow": {
     "slide_type": "slide"
    }
   },
   "source": [
    "## 문제 S-4: 서울시 지하철호선별 승차인원 평균 구하기.\n",
    "\n",
    "### 문제\n",
    "\n",
    "정량데이터는 보통 집단화하여 빈도, 평균, 합계 등 서술통계를 계산한다.\n",
    "서울시 지하철호선별 역별 승하차 인원 정보를 가져와 평균을 구해보자.\n",
    "* 파일 명 CARD_SUBWAY_MONTH_201501.csv를 다운로드 받아서 일부만 테스트용 데이터로 사용한다.\n",
    "* 오픈API 샘플URL http://openapi.seoul.go.kr:8088/(인증키)/xml/CardSubwayStatsNew/1/5/20151101\n",
    "\n",
    "### 해결\n",
    "\n",
    "PairRDD를 사용한다.\n",
    "답\n",
    "[('2호선', 10529.0),\n",
    " ('3호선', 9236.0),\n",
    " ('4호선', 5704.0),\n",
    " ('경부선', 19989.6),\n",
    " ('경원선', 1194.75)]"
   ]
  },
  {
   "cell_type": "markdown",
   "metadata": {
    "slideshow": {
     "slide_type": "subslide"
    }
   },
   "source": [
    "### RDD 생성\n",
    "\n",
    "* 2015년 1월 csv파일의 일부를 가져와서 리스트를 생성한다.\n",
    "* 데이터 헤더: \"사용일자\",\"노선명\",\"역ID\",\"역명\",승차총승객수,하차총승객수"
   ]
  },
  {
   "cell_type": "code",
   "execution_count": 263,
   "metadata": {
    "collapsed": true,
    "slideshow": {
     "slide_type": "-"
    }
   },
   "outputs": [],
   "source": [
    "_sub=[\"20150101,2호선,0236,영등포구청,6199,6219\",\n",
    "\"20150101,2호선,0237,당산,7982,8946\",\n",
    "\"20150101,2호선,0238,합정,17406,15241\",\n",
    "\"20150101,3호선,0309,지축,515,538\",\n",
    "\"20150101,3호선,0310,구파발,6879,6260\",\n",
    "\"20150101,3호선,0311,연신내,20031,19470\",\n",
    "\"20150101,3호선,0312,불광,9519,11029\",\n",
    "\"20150101,4호선,0425,회현,7465,7574\",\n",
    "\"20150101,4호선,0426,서울역,3943,10823\",\n",
    "\"20150101,경부선,1002,남영,4340,4535\",\n",
    "\"20150101,경부선,1003,용산,28980,27684\",\n",
    "\"20150101,경부선,1004,노량진,23021,23862\",\n",
    "\"20150101,경부선,1005,대방,6360,6476\",\n",
    "\"20150101,경부선,1006,영등포,37247,36102\",\n",
    "\"20150101,경원선,1008,이촌,1940,1507\",\n",
    "\"20150101,경원선,1009,서빙고,911,1000\",\n",
    "\"20150101,경원선,1010,한남,1885,1863\",\n",
    "\"20150101,경원선,1011,옥수,43,37\"]\n"
   ]
  },
  {
   "cell_type": "code",
   "execution_count": 264,
   "metadata": {
    "collapsed": true
   },
   "outputs": [],
   "source": [
    "_subRdd = spark.sparkContext.parallelize(_sub)"
   ]
  },
  {
   "cell_type": "code",
   "execution_count": 265,
   "metadata": {
    "collapsed": false
   },
   "outputs": [
    {
     "name": "stdout",
     "output_type": "stream",
     "text": [
      "20150101,2호선,0236,영등포구청,6199,6219\n"
     ]
    }
   ],
   "source": [
    "for i in _subRdd.take(1):\n",
    "    print (i)"
   ]
  },
  {
   "cell_type": "markdown",
   "metadata": {
    "slideshow": {
     "slide_type": "subslide"
    }
   },
   "source": [
    "### 데이터 정리\n",
    "\n",
    "* map()을 사용해서 컴마를 제외할 수 있다."
   ]
  },
  {
   "cell_type": "code",
   "execution_count": 266,
   "metadata": {
    "collapsed": false
   },
   "outputs": [
    {
     "name": "stdout",
     "output_type": "stream",
     "text": [
      "20150101 2호선 0236 영등포구청 6199 6219 \n",
      "20150101 2호선 0237 당산 7982 8946 \n",
      "20150101 2호선 0238 합정 17406 15241 \n",
      "20150101 3호선 0309 지축 515 538 \n",
      "20150101 3호선 0310 구파발 6879 6260 \n",
      "20150101 3호선 0311 연신내 20031 19470 \n",
      "20150101 3호선 0312 불광 9519 11029 \n",
      "20150101 4호선 0425 회현 7465 7574 \n",
      "20150101 4호선 0426 서울역 3943 10823 \n",
      "20150101 경부선 1002 남영 4340 4535 \n",
      "20150101 경부선 1003 용산 28980 27684 \n",
      "20150101 경부선 1004 노량진 23021 23862 \n",
      "20150101 경부선 1005 대방 6360 6476 \n",
      "20150101 경부선 1006 영등포 37247 36102 \n",
      "20150101 경원선 1008 이촌 1940 1507 \n",
      "20150101 경원선 1009 서빙고 911 1000 \n",
      "20150101 경원선 1010 한남 1885 1863 \n",
      "20150101 경원선 1011 옥수 43 37 \n"
     ]
    }
   ],
   "source": [
    "for i in _subRdd.map(lambda x:x.split(',')).collect():\n",
    "    for j in i:\n",
    "        print (j, end=\" \")\n",
    "    print()"
   ]
  },
  {
   "cell_type": "markdown",
   "metadata": {
    "slideshow": {
     "slide_type": "subslide"
    }
   },
   "source": [
    "* 호선별 데이터 개수를 출력해 본다.\n",
    "* map()의 **3번째 인덱스는 앞에서부터 4번째 철자**를 출력한다.\n",
    "* 컴마로 분리해서 인덱스를 사용해야 제대로 데이터를 출력한다."
   ]
  },
  {
   "cell_type": "code",
   "execution_count": 267,
   "metadata": {
    "collapsed": false
   },
   "outputs": [
    {
     "data": {
      "text/plain": [
       "[5, 5, 5, 5, 5, 5, 5, 5, 5, 5, 5, 5, 5, 5, 5, 5, 5, 5]"
      ]
     },
     "execution_count": 267,
     "metadata": {},
     "output_type": "execute_result"
    }
   ],
   "source": [
    "_subRdd.map(lambda x:int(x[3])).collect()"
   ]
  },
  {
   "cell_type": "code",
   "execution_count": 268,
   "metadata": {
    "collapsed": false
   },
   "outputs": [
    {
     "data": {
      "text/plain": [
       "[6199,\n",
       " 7982,\n",
       " 17406,\n",
       " 515,\n",
       " 6879,\n",
       " 20031,\n",
       " 9519,\n",
       " 7465,\n",
       " 3943,\n",
       " 4340,\n",
       " 28980,\n",
       " 23021,\n",
       " 6360,\n",
       " 37247,\n",
       " 1940,\n",
       " 911,\n",
       " 1885,\n",
       " 43]"
      ]
     },
     "execution_count": 268,
     "metadata": {},
     "output_type": "execute_result"
    }
   ],
   "source": [
    "_subRdd.map(lambda x:x.split(',')).map(lambda x:int(x[4])).collect()"
   ]
  },
  {
   "cell_type": "markdown",
   "metadata": {
    "slideshow": {
     "slide_type": "subslide"
    }
   },
   "source": [
    "### 총 승차인원의 합계를 reduce()로 합산한다.\n",
    "\n",
    "* reduce()함수는 인자를 2개 받아서 합계를 구한다."
   ]
  },
  {
   "cell_type": "code",
   "execution_count": 269,
   "metadata": {
    "collapsed": false
   },
   "outputs": [
    {
     "data": {
      "text/plain": [
       "184666"
      ]
     },
     "execution_count": 269,
     "metadata": {},
     "output_type": "execute_result"
    }
   ],
   "source": [
    "_subRdd.map(lambda x:x.split(',')).map(lambda x:(int(x[4]))).reduce(lambda x,y:x+y)"
   ]
  },
  {
   "cell_type": "markdown",
   "metadata": {
    "slideshow": {
     "slide_type": "subslide"
    }
   },
   "source": [
    "### 호선별 승차인원 평균을 계산한다.\n",
    "\n",
    "* Pair RDD를 사용하므로, 사전에 데이터를 (호선, 승차인원) 형식으로 구성한다."
   ]
  },
  {
   "cell_type": "code",
   "execution_count": 270,
   "metadata": {
    "collapsed": true
   },
   "outputs": [],
   "source": [
    "_subLineByPassengers=_subRdd.map(lambda x:x.split(',')).map(lambda x: (x[1],int(x[4])))\n",
    "sum_counts = _subLineByPassengers.combineByKey(\n",
    "    (lambda x: (x, 1)), # the initial value, with value x and count 1\n",
    "    (lambda acc, value: (acc[0]+value, acc[1]+1)), # how to combine a pair value with the accumulator: sum value, and increment count\n",
    "    (lambda acc1, acc2: (acc1[0]+acc2[0], acc1[1]+acc2[1])) # combine accumulators\n",
    ")"
   ]
  },
  {
   "cell_type": "code",
   "execution_count": 271,
   "metadata": {
    "collapsed": false
   },
   "outputs": [
    {
     "name": "stdout",
     "output_type": "stream",
     "text": [
      "2호선 (31587, 3) \n",
      "3호선 (36944, 4) \n",
      "4호선 (11408, 2) \n",
      "경부선 (99948, 5) \n",
      "경원선 (4779, 4) \n"
     ]
    }
   ],
   "source": [
    "for i in sum_counts.collect():\n",
    "    for each in i:\n",
    "        print (each, end=\" \")\n",
    "    print()"
   ]
  },
  {
   "cell_type": "code",
   "execution_count": 272,
   "metadata": {
    "collapsed": false
   },
   "outputs": [
    {
     "name": "stdout",
     "output_type": "stream",
     "text": [
      "2호선 31587 3\n",
      "3호선 36944 4\n",
      "4호선 11408 2\n",
      "경부선 99948 5\n",
      "경원선 4779 4\n"
     ]
    }
   ],
   "source": [
    "for i in sum_counts.collect():\n",
    "    print (i[0],i[1][0],i[1][1])"
   ]
  },
  {
   "cell_type": "markdown",
   "metadata": {
    "slideshow": {
     "slide_type": "subslide"
    }
   },
   "source": [
    "* 위와 달리 map()을 사용하여 평균을 계산한다."
   ]
  },
  {
   "cell_type": "code",
   "execution_count": 273,
   "metadata": {
    "collapsed": false,
    "slideshow": {
     "slide_type": "-"
    }
   },
   "outputs": [],
   "source": [
    "averageByKey = sum_counts.map(lambda x: (x[0],x[1][0]/x[1][1]))"
   ]
  },
  {
   "cell_type": "code",
   "execution_count": 274,
   "metadata": {
    "collapsed": false
   },
   "outputs": [
    {
     "data": {
      "text/plain": [
       "[('2호선', 10529.0),\n",
       " ('3호선', 9236.0),\n",
       " ('4호선', 5704.0),\n",
       " ('경부선', 19989.6),\n",
       " ('경원선', 1194.75)]"
      ]
     },
     "execution_count": 274,
     "metadata": {},
     "output_type": "execute_result"
    }
   ],
   "source": [
    "averageByKey.collect()"
   ]
  },
  {
   "cell_type": "markdown",
   "metadata": {
    "slideshow": {
     "slide_type": "slide"
    }
   },
   "source": [
    "## S.7 spark-submit\n",
    "\n",
    "Spark를 설치하면, 일괄실행할 수 있는 ```spark-submit``` 명령어가 따라온다.\n",
    "따라서 별도의 sys.path 설정은 하지 않아도 된다.\n",
    "\n",
    "### log 설정\n",
    "spark-submit을 실행하면 로그가 출력되는데, 그 양이 상당하다.\n",
    "spark-submit을 실행하기 전, 'conf/log4j.properties'를 수정 log level을 ERROR로 설정하자.\n",
    "\n",
    "spark가 설치된 디렉토리에서 ```conf/```로 이동하자.\n",
    "그 디렉토리에서 log4j.properties.templates를 찾아서, 아래 줄을 찾아 수정하자.\n",
    "\n",
    "```python\n",
    "log4j.rootCategory=ERROR, console\n",
    "```\n",
    "\n",
    "### python 버전 설정\n",
    "You can set the PYSPARK_PYTHON variable in conf/spark-env.sh (in Spark's installation directory) to the absolute path of the desired Python executable.\n",
    "\n",
    "Spark distribution contains spark-env.sh.template (spark-env.cmd.template on Windows) by default. It must be renamed to spark-env.sh (spark-env.cmd) first.\n",
    "\n",
    "For example, if Python executable is installed under /opt/anaconda3/bin/python3:\n",
    "\n",
    "* Python 파일의 encoding 선언\n",
    "    * 기본 설정은 7-bit ASCII\n",
    "```python\n",
    "#!/usr/bin/env python\n",
    "# -*- coding: UTF-8 -*-\n",
    "```"
   ]
  },
  {
   "cell_type": "code",
   "execution_count": 4,
   "metadata": {
    "collapsed": false,
    "slideshow": {
     "slide_type": "subslide"
    }
   },
   "outputs": [
    {
     "name": "stdout",
     "output_type": "stream",
     "text": [
      "Overwriting src/ds_spark_rdd_hello.py\n"
     ]
    }
   ],
   "source": [
    "%%writefile src/ds_spark_rdd_hello.py\n",
    "#!/usr/bin/env python3\n",
    "# -*- coding: UTF-8 -*-\n",
    "import pyspark\n",
    "def doIt():\n",
    "    print (\"---------RESULT-----------\")\n",
    "    print (spark.version)\n",
    "    spark.conf.set(\"spark.logConf\",\"false\")\n",
    "    rdd=spark.sparkContext.parallelize(range(1000), 10)\n",
    "    print (\"mean=\",rdd.mean())\n",
    "    nums = spark.sparkContext.parallelize([1, 2, 3, 4])\n",
    "    squared = nums.map(lambda x: x * x).collect()\n",
    "    for num in squared:\n",
    "        print (\"{} \".format(num))\n",
    "\n",
    "if __name__ == \"__main__\":\n",
    "    myConf=pyspark.SparkConf()\n",
    "    spark = pyspark.sql.SparkSession.builder\\\n",
    "        .master(\"local\")\\\n",
    "        .appName(\"myApp\")\\\n",
    "        .config(conf=myConf)\\\n",
    "        .getOrCreate()\n",
    "    doIt()\n",
    "    spark.stop()\n"
   ]
  },
  {
   "cell_type": "code",
   "execution_count": 5,
   "metadata": {
    "collapsed": false
   },
   "outputs": [
    {
     "name": "stdout",
     "output_type": "stream",
     "text": [
      "Using Spark's default log4j profile: org/apache/spark/log4j-defaults.properties\n",
      "20/09/16 06:34:47 WARN Utils: Your hostname, jsl-smu resolves to a loopback address: 127.0.1.1; using 117.16.44.45 instead (on interface eth0)\n",
      "20/09/16 06:34:47 WARN Utils: Set SPARK_LOCAL_IP if you need to bind to another address\n",
      "---------RESULT-----------\n",
      "Traceback (most recent call last):\n",
      "  File \"/home/jsl/Code/git/bb/jsl/pyds/src/ds_spark_rdd_hello.py\", line 22, in <module>\n",
      "    doIt()\n",
      "  File \"/home/jsl/Code/git/bb/jsl/pyds/src/ds_spark_rdd_hello.py\", line 6, in doIt\n",
      "    print (spark.version)\n",
      "NameError: global name 'spark' is not defined\n"
     ]
    }
   ],
   "source": [
    "!spark-submit src/ds_spark_rdd_hello.py"
   ]
  },
  {
   "cell_type": "code",
   "execution_count": 24,
   "metadata": {
    "collapsed": false,
    "scrolled": true,
    "slideshow": {
     "slide_type": "subslide"
    }
   },
   "outputs": [
    {
     "name": "stdout",
     "output_type": "stream",
     "text": [
      "Ivy Default Cache set to: /home/jsl/.ivy2/cache\n",
      "The jars for the packages stored in: /home/jsl/.ivy2/jars\n",
      ":: loading settings :: url = jar:file:/home/jsl/Downloads/spark-2.0.0-bin-hadoop2.7/jars/ivy-2.4.0.jar!/org/apache/ivy/core/settings/ivysettings.xml\n",
      "graphframes#graphframes added as a dependency\n",
      "org.mongodb.spark#mongo-spark-connector_2.10 added as a dependency\n",
      "com.databricks#spark-csv_2.11 added as a dependency\n",
      ":: resolving dependencies :: org.apache.spark#spark-submit-parent;1.0\n",
      "\tconfs: [default]\n",
      "\tfound graphframes#graphframes;0.4.0-spark2.0-s_2.11 in spark-packages\n",
      "\tfound com.typesafe.scala-logging#scala-logging-api_2.11;2.1.2 in central\n",
      "\tfound com.typesafe.scala-logging#scala-logging-slf4j_2.11;2.1.2 in central\n",
      "\tfound org.scala-lang#scala-reflect;2.11.0 in central\n",
      "\tfound org.slf4j#slf4j-api;1.7.7 in central\n",
      "\tfound org.mongodb.spark#mongo-spark-connector_2.10;2.0.0 in central\n",
      "\tfound org.mongodb#mongo-java-driver;3.2.2 in central\n",
      "\tfound com.databricks#spark-csv_2.11;1.5.0 in central\n",
      "\tfound org.apache.commons#commons-csv;1.1 in central\n",
      "\tfound com.univocity#univocity-parsers;1.5.1 in central\n",
      ":: resolution report :: resolve 244ms :: artifacts dl 6ms\n",
      "\t:: modules in use:\n",
      "\tcom.databricks#spark-csv_2.11;1.5.0 from central in [default]\n",
      "\tcom.typesafe.scala-logging#scala-logging-api_2.11;2.1.2 from central in [default]\n",
      "\tcom.typesafe.scala-logging#scala-logging-slf4j_2.11;2.1.2 from central in [default]\n",
      "\tcom.univocity#univocity-parsers;1.5.1 from central in [default]\n",
      "\tgraphframes#graphframes;0.4.0-spark2.0-s_2.11 from spark-packages in [default]\n",
      "\torg.apache.commons#commons-csv;1.1 from central in [default]\n",
      "\torg.mongodb#mongo-java-driver;3.2.2 from central in [default]\n",
      "\torg.mongodb.spark#mongo-spark-connector_2.10;2.0.0 from central in [default]\n",
      "\torg.scala-lang#scala-reflect;2.11.0 from central in [default]\n",
      "\torg.slf4j#slf4j-api;1.7.7 from central in [default]\n",
      "\t---------------------------------------------------------------------\n",
      "\t|                  |            modules            ||   artifacts   |\n",
      "\t|       conf       | number| search|dwnlded|evicted|| number|dwnlded|\n",
      "\t---------------------------------------------------------------------\n",
      "\t|      default     |   10  |   0   |   0   |   0   ||   10  |   0   |\n",
      "\t---------------------------------------------------------------------\n",
      ":: retrieving :: org.apache.spark#spark-submit-parent\n",
      "\tconfs: [default]\n",
      "\t0 artifacts copied, 10 already retrieved (0kB/6ms)\n",
      "---------BEGIN-----------\n",
      "---------RESULT-----------\n",
      "2.0.0\n",
      "mean= 499.5\n",
      "1 \n",
      "4 \n",
      "9 \n",
      "16 \n"
     ]
    }
   ],
   "source": [
    "!/home/jsl/Downloads/spark-2.0.0-bin-hadoop2.7/bin/spark-submit src/ds_spark_rdd_hello.py"
   ]
  },
  {
   "cell_type": "code",
   "execution_count": 22,
   "metadata": {
    "collapsed": false,
    "slideshow": {
     "slide_type": "subslide"
    }
   },
   "outputs": [
    {
     "name": "stdout",
     "output_type": "stream",
     "text": [
      "Overwriting src/ds_spark_rdd_reduceBykey.py\n"
     ]
    }
   ],
   "source": [
    "%%writefile src/ds_spark_rdd_reduceBykey.py\n",
    "#!/usr/bin/env python\n",
    "# -*- coding: UTF-8 -*-\n",
    "import pyspark\n",
    "import os\n",
    "def doIt():\n",
    "    print \"---------RESULT-----------\"\n",
    "    myRdd=spark.sparkContext\\\n",
    "        .textFile(os.path.join(\"data\",\"ds_spark_wiki.txt\"))\n",
    "    res=myRdd\\\n",
    "        .flatMap(lambda x:x.split())\\\n",
    "        .map(lambda x:(x,1))\\\n",
    "        .reduceByKey(lambda x,y:x+y)\\\n",
    "        .map(lambda x:(x[1],x[0]))\\\n",
    "        .sortByKey(False)\\\n",
    "        .take(10)\n",
    "    for i in res:\n",
    "        print i\n",
    "\n",
    "if __name__ == \"__main__\":\n",
    "    myConf=pyspark.SparkConf()\n",
    "    spark = pyspark.sql.SparkSession.builder\\\n",
    "        .master(\"local\")\\\n",
    "        .appName(\"myApp\")\\\n",
    "        .config(conf=myConf)\\\n",
    "        .getOrCreate()\n",
    "    doIt()\n",
    "    spark.stop()\n"
   ]
  },
  {
   "cell_type": "code",
   "execution_count": 23,
   "metadata": {
    "collapsed": false,
    "scrolled": true,
    "slideshow": {
     "slide_type": "subslide"
    }
   },
   "outputs": [
    {
     "name": "stdout",
     "output_type": "stream",
     "text": [
      "Ivy Default Cache set to: /home/jsl/.ivy2/cache\n",
      "The jars for the packages stored in: /home/jsl/.ivy2/jars\n",
      ":: loading settings :: url = jar:file:/home/jsl/Downloads/spark-2.0.0-bin-hadoop2.7/jars/ivy-2.4.0.jar!/org/apache/ivy/core/settings/ivysettings.xml\n",
      "graphframes#graphframes added as a dependency\n",
      "org.mongodb.spark#mongo-spark-connector_2.10 added as a dependency\n",
      "com.databricks#spark-csv_2.11 added as a dependency\n",
      ":: resolving dependencies :: org.apache.spark#spark-submit-parent;1.0\n",
      "\tconfs: [default]\n",
      "\tfound graphframes#graphframes;0.4.0-spark2.0-s_2.11 in spark-packages\n",
      "\tfound com.typesafe.scala-logging#scala-logging-api_2.11;2.1.2 in central\n",
      "\tfound com.typesafe.scala-logging#scala-logging-slf4j_2.11;2.1.2 in central\n",
      "\tfound org.scala-lang#scala-reflect;2.11.0 in central\n",
      "\tfound org.slf4j#slf4j-api;1.7.7 in central\n",
      "\tfound org.mongodb.spark#mongo-spark-connector_2.10;2.0.0 in central\n",
      "\tfound org.mongodb#mongo-java-driver;3.2.2 in central\n",
      "\tfound com.databricks#spark-csv_2.11;1.5.0 in central\n",
      "\tfound org.apache.commons#commons-csv;1.1 in central\n",
      "\tfound com.univocity#univocity-parsers;1.5.1 in central\n",
      ":: resolution report :: resolve 246ms :: artifacts dl 6ms\n",
      "\t:: modules in use:\n",
      "\tcom.databricks#spark-csv_2.11;1.5.0 from central in [default]\n",
      "\tcom.typesafe.scala-logging#scala-logging-api_2.11;2.1.2 from central in [default]\n",
      "\tcom.typesafe.scala-logging#scala-logging-slf4j_2.11;2.1.2 from central in [default]\n",
      "\tcom.univocity#univocity-parsers;1.5.1 from central in [default]\n",
      "\tgraphframes#graphframes;0.4.0-spark2.0-s_2.11 from spark-packages in [default]\n",
      "\torg.apache.commons#commons-csv;1.1 from central in [default]\n",
      "\torg.mongodb#mongo-java-driver;3.2.2 from central in [default]\n",
      "\torg.mongodb.spark#mongo-spark-connector_2.10;2.0.0 from central in [default]\n",
      "\torg.scala-lang#scala-reflect;2.11.0 from central in [default]\n",
      "\torg.slf4j#slf4j-api;1.7.7 from central in [default]\n",
      "\t---------------------------------------------------------------------\n",
      "\t|                  |            modules            ||   artifacts   |\n",
      "\t|       conf       | number| search|dwnlded|evicted|| number|dwnlded|\n",
      "\t---------------------------------------------------------------------\n",
      "\t|      default     |   10  |   0   |   0   |   0   ||   10  |   0   |\n",
      "\t---------------------------------------------------------------------\n",
      ":: retrieving :: org.apache.spark#spark-submit-parent\n",
      "\tconfs: [default]\n",
      "\t0 artifacts copied, 10 already retrieved (0kB/6ms)\n",
      "---------RESULT-----------\n",
      "(7, u'Spark')\n",
      "(6, u'Apache')\n",
      "(3, u'the')\n",
      "(2, u'an')\n",
      "(1, u'and')\n",
      "(1, u'\\uc18c\\uc2a4')\n",
      "(1, u'is')\n",
      "(1, u'Wikipedia')\n",
      "(1, u'AMPLab,')\n",
      "(1, u'maintained')\n"
     ]
    }
   ],
   "source": [
    "!/home/jsl/Downloads/spark-2.0.0-bin-hadoop2.7/bin/spark-submit src/ds_spark_rdd_reduceBykey.py"
   ]
  },
  {
   "cell_type": "markdown",
   "metadata": {
    "slideshow": {
     "slide_type": "slide"
    }
   },
   "source": [
    "## 문제 S-4: RDD를 사용하여 word vector를 생성하기.\n",
    "\n",
    "### 문제\n",
    "사람은 연설이나 에세이 등을 읽고 나면 그 내용이 무엇이고 무엇을 말하려고 하는지 알 수 있다. 주제가 무엇이고 심지어는 숨겨진 행간도 이해할 수 있다.\n",
    "그러나 컴퓨터는 문서를 읽고 의미를 파악해 내는 것이 쉽지 않다.\n",
    "그 대신 문서에 어떤 단어가 쓰였고, 많이 쓰인 단어가 무엇인지 알아내어 어떤 내용인지 알아내게 된다.\n",
    "이 경우 쓰인 단어의 빈도를 **word vector**라고 하며, 문서로 부터 이를 만들어 내는 작업이 필요하다.\n",
    "\n",
    "> **Bag of words** 모델\n",
    "> \n",
    "> 문서 또는 문장을 단어의 집합 \"bag of words\"으로 표현한다. 단어가 쓰인 순서나 문법은 무시한다.\n",
    "> 다음 문장은 단어와 그 횟수로 표현할 수 있다.\n",
    "\n",
    "> 문장 | 단어 | bag of words 표현\n",
    "> -----|-----|-----\n",
    "> I like to play football. | I, like, to, play, football | {\"I\":1, \"like\":1, \"to\":1, \"play\":1, \"football\":1}\n",
    "> He also likes to play football. | He, also, likes, to, play, football | {\"He\":1, \"also\":1, \"likes\":1, \"to\":1, \"play\":1, \"football\":1}"
   ]
  },
  {
   "cell_type": "markdown",
   "metadata": {
    "slideshow": {
     "slide_type": "subslide"
    }
   },
   "source": [
    "### 해결\n",
    "\n",
    "분석하려는 문서를 RDD로 만들고, map-reduce 알고리듬으로 단어의 빈도를 계산할 수 있다.\n",
    "```Spark mllib``` 라이브러리에서는 자연어처리 기법을 제공하고 있다.\n",
    "TF-IDF, Word2Vec 등을 사용하면 단어의 빈도 및 관련어 등을 분석해 낼 수 있다.\n",
    "다음 장에서 배우겠지만 데이터프레임을 생성하고 ml 라이브러를 사용할 수도 있다.\n",
    "ml은 DataFrame을 위한 라이브러리로서 Tokenizer, Stopwords, NGram 등을 분석할 수도 있다."
   ]
  },
  {
   "cell_type": "markdown",
   "metadata": {
    "slideshow": {
     "slide_type": "subslide"
    }
   },
   "source": [
    "### RDD 생성\n",
    "\n",
    "파일 전체를 읽어서, 단어의 수를 세어 본다.\n",
    "\n",
    "줄 | 설명\n",
    "-----|-----\n",
    "1 | sparkContext.textFile()로 파일을 읽어 RDD로 만든다.\n",
    "2 | flatMap()을 으로 공백으로 분리하여 RDD를 생성한다. 이러한 변환은 실제 연산까지 일어나지 않는다, 즉 lazy변환이다."
   ]
  },
  {
   "cell_type": "markdown",
   "metadata": {
    "slideshow": {
     "slide_type": "subslide"
    }
   },
   "source": [
    "파일은 이미 만들어 놓은 wiki를 사용한다. 아래와 같이 파일이 있는지 확인해 본다."
   ]
  },
  {
   "cell_type": "code",
   "execution_count": 16,
   "metadata": {
    "collapsed": false,
    "slideshow": {
     "slide_type": "-"
    }
   },
   "outputs": [
    {
     "name": "stdout",
     "output_type": "stream",
     "text": [
      "data/ds_spark_wiki.txt\r\n"
     ]
    }
   ],
   "source": [
    "!ls data/ds_spark_wiki.txt"
   ]
  },
  {
   "cell_type": "markdown",
   "metadata": {
    "slideshow": {
     "slide_type": "subslide"
    }
   },
   "source": [
    "RDD를 생성해보자. 문서파일은 문장으로 이루어져 있고, 이를 기준으로 word vector를 구성할 수 있다.\n",
    "그러나 문서 **전체**를 word vector로 표현하려면 **flatMap()** 함수를 사용해야 한다."
   ]
  },
  {
   "cell_type": "code",
   "execution_count": 75,
   "metadata": {
    "collapsed": false
   },
   "outputs": [],
   "source": [
    "import os\n",
    "wikiRdd=spark.sparkContext.textFile(os.path.join(\"data\",\"ds_spark_wiki.txt\"))"
   ]
  },
  {
   "cell_type": "markdown",
   "metadata": {
    "slideshow": {
     "slide_type": "subslide"
    }
   },
   "source": [
    "### 단어집합\n",
    "\n",
    "문장을 split()으로 분리하여 단어의 집합으로 만든다. 리스트를 모두 1차원으로 만드는 flatMap() 함수를 사용한다."
   ]
  },
  {
   "cell_type": "code",
   "execution_count": null,
   "metadata": {
    "collapsed": true
   },
   "outputs": [],
   "source": [
    "words=wikiRdd\\\n",
    "    .flatMap(lambda x: x.split())"
   ]
  },
  {
   "cell_type": "markdown",
   "metadata": {},
   "source": [
    "아직 중간과정이므로 PipelineRDD가 만들어졌다."
   ]
  },
  {
   "cell_type": "code",
   "execution_count": 76,
   "metadata": {
    "collapsed": false,
    "slideshow": {
     "slide_type": "-"
    }
   },
   "outputs": [
    {
     "name": "stdout",
     "output_type": "stream",
     "text": [
      "<class 'pyspark.rdd.PipelinedRDD'>\n"
     ]
    }
   ],
   "source": [
    "print (type(words))"
   ]
  },
  {
   "cell_type": "markdown",
   "metadata": {},
   "source": [
    "단어의 개수는 count() 함수로 알 수 있다."
   ]
  },
  {
   "cell_type": "code",
   "execution_count": 107,
   "metadata": {
    "collapsed": false
   },
   "outputs": [
    {
     "name": "stdout",
     "output_type": "stream",
     "text": [
      "단어 갯수:  72\n"
     ]
    }
   ],
   "source": [
    "print (\"단어 갯수: \", words.count())"
   ]
  },
  {
   "cell_type": "markdown",
   "metadata": {
    "slideshow": {
     "slide_type": "subslide"
    }
   },
   "source": [
    "앞서 분리된 단어를 collect()함수로 취합한다.\n",
    "**collect() 결과는 list**로 만들어 진다.\n",
    "모든 항목을 출력하려면 list의 인덱스 [:]를 사용한다.\n",
    "유니코드를 지원하므로, 한글이 잘 출력되고 있다."
   ]
  },
  {
   "cell_type": "code",
   "execution_count": 109,
   "metadata": {
    "collapsed": false,
    "scrolled": true
   },
   "outputs": [
    {
     "name": "stdout",
     "output_type": "stream",
     "text": [
      "전체 단어:  ['Wikipedia', 'Apache', 'Spark', 'is', 'an', 'open', 'source', 'cluster', 'computing', 'framework.', '아파치', '스파크는', '오픈', '소스', '클러스터', '컴퓨팅', '프레임워크이다.', 'Apache', 'Spark', 'Apache', 'Spark', 'Apache', 'Spark', 'Apache', 'Spark', '아파치', '스파크', '아파치', '스파크', '아파치', '스파크', '아파치', '스파크', 'Originally', 'developed', 'at', 'the', 'University', 'of', 'California,', \"Berkeley's\", 'AMPLab,', 'the', 'Spark', 'codebase', 'was', 'later', 'donated', 'to', 'the', 'Apache', 'Software', 'Foundation,', 'which', 'has', 'maintained', 'it', 'since.', 'Spark', 'provides', 'an', 'interface', 'for', 'programming', 'entire', 'clusters', 'with', 'implicit', 'data', 'parallelism', 'and', 'fault-tolerance.']\n"
     ]
    }
   ],
   "source": [
    "print (\"전체 단어: \", words.collect()[0:72])"
   ]
  },
  {
   "cell_type": "markdown",
   "metadata": {
    "collapsed": true,
    "slideshow": {
     "slide_type": "subslide"
    }
   },
   "source": [
    "### 단어빈도\n",
    "\n",
    "이제 map-reduce를 같이 사용하여 단어를 세어 tuple로 만들어 보자.\n",
    "flatMap()은 앞서 설명한 바와 같이 파일 텍스트를 공백으로 분리한다.\n",
    "map()함수는 모든 단어에 대해 소문자로 만들고, **불필요한 구문 (new lines, commas, periods)을 제거**한 후 tuple로 만든다.\n",
    "\n",
    "문자열  양끝에 붙어있을 수 있는 문자를 ```rstrip()```으로 제거한다. 매개변수가 없으면 whitespace를 제거한다.\n",
    "\n",
    "함수 | 설명\n",
    "-----|-----\n",
    "rstrip() | 꼬리에 붙는 문자를 제거\n",
    "lstrip() | 머리에 붙는 문자를 제거\n",
    "\n",
    "즉 **(단어, 1) 구조**로 만들어 **같은 단어는 나중에 서로 더할 수** 있게 만들어 놓는다."
   ]
  },
  {
   "cell_type": "code",
   "execution_count": 78,
   "metadata": {
    "collapsed": true
   },
   "outputs": [],
   "source": [
    "#from operator import add\n",
    "wc = spark.sparkContext.textFile(os.path.join(\"data\",\"ds_spark_wiki.txt\"))\\\n",
    "    .flatMap(lambda x: x.split())\\\n",
    "    .map(lambda x: (x.lower().rstrip().lstrip().rstrip(',').rstrip('.'), 1))"
   ]
  },
  {
   "cell_type": "markdown",
   "metadata": {
    "slideshow": {
     "slide_type": "subslide"
    }
   },
   "source": [
    "아직 단어별로 갯수를 계산하지 않았기 때문에, 모두 1인 값을 가진다.\n",
    "sortByKey()는 **올림차순**을 기본으로 정렬한다."
   ]
  },
  {
   "cell_type": "code",
   "execution_count": 79,
   "metadata": {
    "collapsed": false
   },
   "outputs": [
    {
     "data": {
      "text/plain": [
       "[('amplab', 1), ('an', 1), ('an', 1), ('and', 1), ('apache', 1)]"
      ]
     },
     "execution_count": 79,
     "metadata": {},
     "output_type": "execute_result"
    }
   ],
   "source": [
    "wc.sortByKey().take(5)"
   ]
  },
  {
   "cell_type": "markdown",
   "metadata": {
    "collapsed": true,
    "slideshow": {
     "slide_type": "subslide"
    }
   },
   "source": [
    "### 빈도 집계\n",
    "\n",
    "이제 단어의 갯수를 합계내어 보자. 아래 방법 모두 **동일한 결과를 산출**한다.\n",
    "\n",
    "구분 | 설명\n",
    "-----|-----\n",
    "```reduceByKey(add)``` | ```add``` operator를 사용하면, 단어튜플의 수를 키별로 더할 수 있다.\n",
    "```groupByKey().mapValues(sum)``` | ```mapValues()```를 사용하여 value의 'sum'을 계산할 수 있다.\n",
    "```groupByKey().map(lambda (x,iter): (x,len(iter)))``` | (key,value)의 구조를 사용하여 합계를 계산할 수 있다."
   ]
  },
  {
   "cell_type": "markdown",
   "metadata": {
    "slideshow": {
     "slide_type": "subslide"
    }
   },
   "source": [
    "### 하나. reduceByKey()\n",
    "\n",
    "Python의 연산자 add() 함수를 사용해서 할 수 있다.\n",
    "**operator.add()**는 reduce()함수의 숫자 인자 x,y를 받아서 x+y 연산을 한다."
   ]
  },
  {
   "cell_type": "code",
   "execution_count": 85,
   "metadata": {
    "collapsed": true
   },
   "outputs": [],
   "source": [
    "from operator import add\n",
    "wcReduceByKey = wc.reduceByKey(add)"
   ]
  },
  {
   "cell_type": "code",
   "execution_count": 86,
   "metadata": {
    "collapsed": false
   },
   "outputs": [
    {
     "data": {
      "text/plain": [
       "[('amplab', 1),\n",
       " ('an', 2),\n",
       " ('and', 1),\n",
       " ('apache', 6),\n",
       " ('at', 1),\n",
       " (\"berkeley's\", 1),\n",
       " ('california', 1),\n",
       " ('cluster', 1),\n",
       " ('clusters', 1),\n",
       " ('codebase', 1)]"
      ]
     },
     "execution_count": 86,
     "metadata": {},
     "output_type": "execute_result"
    }
   ],
   "source": [
    "wcReduceByKey.sortByKey().take(10)"
   ]
  },
  {
   "cell_type": "markdown",
   "metadata": {
    "slideshow": {
     "slide_type": "subslide"
    }
   },
   "source": [
    "또는 add대신에 reduceByKey()에 lambda함수를 사용해도 된다."
   ]
  },
  {
   "cell_type": "code",
   "execution_count": 83,
   "metadata": {
    "collapsed": true
   },
   "outputs": [],
   "source": [
    "wcReduceByKey = wc.reduceByKey(lambda x,y:x+y)"
   ]
  },
  {
   "cell_type": "code",
   "execution_count": 84,
   "metadata": {
    "collapsed": false
   },
   "outputs": [
    {
     "data": {
      "text/plain": [
       "[('amplab', 1),\n",
       " ('an', 2),\n",
       " ('and', 1),\n",
       " ('apache', 6),\n",
       " ('at', 1),\n",
       " (\"berkeley's\", 1),\n",
       " ('california', 1),\n",
       " ('cluster', 1),\n",
       " ('clusters', 1),\n",
       " ('codebase', 1)]"
      ]
     },
     "execution_count": 84,
     "metadata": {},
     "output_type": "execute_result"
    }
   ],
   "source": [
    "wcReduceByKey.sortByKey().take(10)"
   ]
  },
  {
   "cell_type": "code",
   "execution_count": 75,
   "metadata": {
    "collapsed": false
   },
   "outputs": [],
   "source": [
    "import os\n",
    "wikiRdd=spark.sparkContext.textFile(os.path.join(\"data\",\"ds_spark_wiki.txt\"))\n",
    "\n",
    "wc=wikiRdd\\\n",
    "    .flatMap(lambda x: x.split())\\\n",
    "    .map(lambda x: (x.lower().rstrip().lstrip().rstrip(',').rstrip('.'), 1))\\\n",
    "    .reduceByKey(lambda x,y:x+y)"
   ]
  },
  {
   "cell_type": "code",
   "execution_count": 84,
   "metadata": {
    "collapsed": false
   },
   "outputs": [
    {
     "data": {
      "text/plain": [
       "[('amplab', 1),\n",
       " ('an', 2),\n",
       " ('and', 1),\n",
       " ('apache', 6),\n",
       " ('at', 1),\n",
       " (\"berkeley's\", 1),\n",
       " ('california', 1),\n",
       " ('cluster', 1),\n",
       " ('clusters', 1),\n",
       " ('codebase', 1)]"
      ]
     },
     "execution_count": 84,
     "metadata": {},
     "output_type": "execute_result"
    }
   ],
   "source": [
    "wcReduceByKey.sortByKey().take(10)"
   ]
  },
  {
   "cell_type": "markdown",
   "metadata": {
    "slideshow": {
     "slide_type": "subslide"
    }
   },
   "source": [
    "### 둘. groupByKey(), mapValues()\n",
    "\n",
    "groupByKey()는 단어키로 동일한 단어는 집단화한다.\n",
    "집단화 하면 **PairRDD가 되고, 즉 key-value 쌍**으로 구성된다.\n",
    "**mapValues()는 각 쌍의 value에 대해서 sum 연산**을 한다."
   ]
  },
  {
   "cell_type": "code",
   "execution_count": 87,
   "metadata": {
    "collapsed": true
   },
   "outputs": [],
   "source": [
    "wcGroupByKey = wc.groupByKey().mapValues(sum)"
   ]
  },
  {
   "cell_type": "code",
   "execution_count": 88,
   "metadata": {
    "collapsed": false
   },
   "outputs": [
    {
     "data": {
      "text/plain": [
       "[('amplab', 1),\n",
       " ('an', 2),\n",
       " ('and', 1),\n",
       " ('apache', 6),\n",
       " ('at', 1),\n",
       " (\"berkeley's\", 1),\n",
       " ('california', 1),\n",
       " ('cluster', 1),\n",
       " ('clusters', 1),\n",
       " ('codebase', 1)]"
      ]
     },
     "execution_count": 88,
     "metadata": {},
     "output_type": "execute_result"
    }
   ],
   "source": [
    "wcGroupByKey.sortByKey().take(10)"
   ]
  },
  {
   "cell_type": "markdown",
   "metadata": {
    "slideshow": {
     "slide_type": "subslide"
    }
   },
   "source": [
    "### 셋. groupByKey(), map, len\n",
    "\n",
    "mapValues()를 사용하지 않고 map()으로 **len()**갯수를 세어도 동일한 결과를 얻을 수 있다.\n",
    "**단어별로 1개씩 만들어 놓았으므로 len()으로 세면 단어갯수의 합계**가 된다.\n",
    "\n",
    "전에는 ```wc.groupByKey().map(lambda (x,v): (x,len(v)))```"
   ]
  },
  {
   "cell_type": "code",
   "execution_count": 101,
   "metadata": {
    "collapsed": true
   },
   "outputs": [],
   "source": [
    "wcGroupByKey2 = wc.groupByKey().map(lambda x: (x[0],len(x[1])))"
   ]
  },
  {
   "cell_type": "code",
   "execution_count": 102,
   "metadata": {
    "collapsed": false
   },
   "outputs": [
    {
     "data": {
      "text/plain": [
       "[('amplab', 1),\n",
       " ('an', 2),\n",
       " ('and', 1),\n",
       " ('apache', 6),\n",
       " ('at', 1),\n",
       " (\"berkeley's\", 1),\n",
       " ('california', 1),\n",
       " ('cluster', 1),\n",
       " ('clusters', 1),\n",
       " ('codebase', 1)]"
      ]
     },
     "execution_count": 102,
     "metadata": {},
     "output_type": "execute_result"
    }
   ],
   "source": [
    "wcGroupByKey2.sortByKey().take(10)"
   ]
  },
  {
   "cell_type": "markdown",
   "metadata": {
    "slideshow": {
     "slide_type": "subslide"
    }
   },
   "source": [
    "### 넷. 줄로 구분하여 단어 빈도\n",
    "\n",
    "```flatMap()```을 사용하지 않으면 **줄로 구분하여 단어 빈도**를 셀 수 있다.\n",
    "줄로 구분하여 리스트를 만들게 되므로, 결과는 2차원 리스트가 된다.\n",
    "\n",
    "줄 | 설명\n",
    "-----|-----\n",
    "1 | ```sparkContext.textFile()``` 파일을 읽어 RDD 생성\n",
    "2 | 불필요한 컴마, 점, 하이픈을 제거하고 소문자로\n",
    "3 | 공백으로 분리\n",
    "4 | 반복문으로 단어별 튜플구조화"
   ]
  },
  {
   "cell_type": "code",
   "execution_count": 122,
   "metadata": {
    "collapsed": true
   },
   "outputs": [],
   "source": [
    "wc = spark.sparkContext.textFile(\"data/ds_spark_wiki.txt\")\\\n",
    "    .map(lambda x: x.replace(',',' ').replace('.',' ').replace('-',' ').lower())\\\n",
    "    .map(lambda x:x.split())\\\n",
    "    .map(lambda x:[(i,1) for i in x])"
   ]
  },
  {
   "cell_type": "code",
   "execution_count": 104,
   "metadata": {
    "collapsed": false,
    "scrolled": true
   },
   "outputs": [
    {
     "name": "stdout",
     "output_type": "stream",
     "text": [
      "[('wikipedia', 1)]\n",
      "[('apache', 1), ('spark', 1), ('is', 1), ('an', 1), ('open', 1), ('source', 1), ('cluster', 1), ('computing', 1), ('framework', 1)]\n",
      "[('아파치', 1), ('스파크는', 1), ('오픈', 1), ('소스', 1), ('클러스터', 1), ('컴퓨팅', 1), ('프레임워크이다', 1)]\n",
      "[('apache', 1), ('spark', 1), ('apache', 1), ('spark', 1), ('apache', 1), ('spark', 1), ('apache', 1), ('spark', 1)]\n",
      "[('아파치', 1), ('스파크', 1), ('아파치', 1), ('스파크', 1), ('아파치', 1), ('스파크', 1), ('아파치', 1), ('스파크', 1)]\n",
      "[('originally', 1), ('developed', 1), ('at', 1), ('the', 1), ('university', 1), ('of', 1), ('california', 1), (\"berkeley's\", 1), ('amplab', 1)]\n",
      "[('the', 1), ('spark', 1), ('codebase', 1), ('was', 1), ('later', 1), ('donated', 1), ('to', 1), ('the', 1), ('apache', 1), ('software', 1), ('foundation', 1)]\n",
      "[('which', 1), ('has', 1), ('maintained', 1), ('it', 1), ('since', 1)]\n",
      "[('spark', 1), ('provides', 1), ('an', 1), ('interface', 1), ('for', 1), ('programming', 1), ('entire', 1), ('clusters', 1), ('with', 1)]\n",
      "[('implicit', 1), ('data', 1), ('parallelism', 1), ('and', 1), ('fault', 1), ('tolerance', 1)]\n"
     ]
    }
   ],
   "source": [
    "for e in wc.collect():\n",
    "    print (e)"
   ]
  },
  {
   "cell_type": "markdown",
   "metadata": {},
   "source": [
    "### 묶어서\n",
    "\n",
    "지금까지의 작업을 프로그램으로 묶어보면 다음과 같다."
   ]
  },
  {
   "cell_type": "code",
   "execution_count": 120,
   "metadata": {
    "collapsed": false
   },
   "outputs": [
    {
     "name": "stdout",
     "output_type": "stream",
     "text": [
      "Overwriting src/ds_rdd_wordCount.py\n"
     ]
    }
   ],
   "source": [
    "%%writefile src/ds_rdd_wordCount.py\n",
    "#!/usr/bin/env python\n",
    "# -*- coding: UTF-8 -*-\n",
    "\n",
    "import pyspark\n",
    "import os\n",
    "\n",
    "def doIt():\n",
    "    wikiRdd=spark.sparkContext.textFile(os.path.join(\"data\",\"ds_spark_wiki.txt\"))\n",
    "    wc=wikiRdd\\\n",
    "        .flatMap(lambda x: x.split())\\\n",
    "        .map(lambda x: (x.lower().rstrip().lstrip().rstrip(',').rstrip('.'), 1))\\\n",
    "        .reduceByKey(lambda x,y:x+y)\\\n",
    "        .sortByKey()\\\n",
    "        .collect()\n",
    "    for w in wc:\n",
    "        print (w)\n",
    "\n",
    "if __name__ == \"__main__\":\n",
    "    os.environ[\"PYSPARK_PYTHON\"]=\"/usr/bin/python3\"\n",
    "    os.environ[\"PYSPARK_DRIVER_PYTHON\"]=\"/usr/bin/python3\"\n",
    "    myConf=pyspark.SparkConf()\n",
    "    spark = pyspark.sql.SparkSession.builder\\\n",
    "        .master(\"local\")\\\n",
    "        .appName(\"myApp\")\\\n",
    "        .config(conf=myConf)\\\n",
    "        .getOrCreate()\n",
    "    doIt()\n",
    "    spark.stop()\n"
   ]
  },
  {
   "cell_type": "code",
   "execution_count": 121,
   "metadata": {
    "collapsed": false
   },
   "outputs": [
    {
     "name": "stdout",
     "output_type": "stream",
     "text": [
      "20/09/12 20:28:13 WARN Utils: Your hostname, jsl-smu resolves to a loopback address: 127.0.1.1; using 117.16.44.45 instead (on interface eth0)\n",
      "20/09/12 20:28:13 WARN Utils: Set SPARK_LOCAL_IP if you need to bind to another address\n",
      "WARNING: An illegal reflective access operation has occurred\n",
      "WARNING: Illegal reflective access by org.apache.spark.unsafe.Platform (file:/home/jsl/.local/lib/python3.6/site-packages/pyspark/jars/spark-unsafe_2.12-3.0.0.jar) to constructor java.nio.DirectByteBuffer(long,int)\n",
      "WARNING: Please consider reporting this to the maintainers of org.apache.spark.unsafe.Platform\n",
      "WARNING: Use --illegal-access=warn to enable warnings of further illegal reflective access operations\n",
      "WARNING: All illegal access operations will be denied in a future release\n",
      "20/09/12 20:28:13 WARN NativeCodeLoader: Unable to load native-hadoop library for your platform... using builtin-java classes where applicable\n",
      "Using Spark's default log4j profile: org/apache/spark/log4j-defaults.properties\n",
      "20/09/12 20:28:14 INFO SparkContext: Running Spark version 3.0.0\n",
      "20/09/12 20:28:14 INFO ResourceUtils: ==============================================================\n",
      "20/09/12 20:28:14 INFO ResourceUtils: Resources for spark.driver:\n",
      "\n",
      "20/09/12 20:28:14 INFO ResourceUtils: ==============================================================\n",
      "20/09/12 20:28:14 INFO SparkContext: Submitted application: myApp\n",
      "20/09/12 20:28:14 INFO SecurityManager: Changing view acls to: jsl\n",
      "20/09/12 20:28:14 INFO SecurityManager: Changing modify acls to: jsl\n",
      "20/09/12 20:28:14 INFO SecurityManager: Changing view acls groups to: \n",
      "20/09/12 20:28:14 INFO SecurityManager: Changing modify acls groups to: \n",
      "20/09/12 20:28:14 INFO SecurityManager: SecurityManager: authentication disabled; ui acls disabled; users  with view permissions: Set(jsl); groups with view permissions: Set(); users  with modify permissions: Set(jsl); groups with modify permissions: Set()\n",
      "20/09/12 20:28:14 INFO Utils: Successfully started service 'sparkDriver' on port 39383.\n",
      "20/09/12 20:28:14 INFO SparkEnv: Registering MapOutputTracker\n",
      "20/09/12 20:28:14 INFO SparkEnv: Registering BlockManagerMaster\n",
      "20/09/12 20:28:14 INFO BlockManagerMasterEndpoint: Using org.apache.spark.storage.DefaultTopologyMapper for getting topology information\n",
      "20/09/12 20:28:14 INFO BlockManagerMasterEndpoint: BlockManagerMasterEndpoint up\n",
      "20/09/12 20:28:14 INFO SparkEnv: Registering BlockManagerMasterHeartbeat\n",
      "20/09/12 20:28:14 INFO DiskBlockManager: Created local directory at /tmp/blockmgr-cd9e2585-38d4-478e-bb42-e4919493af3c\n",
      "20/09/12 20:28:14 INFO MemoryStore: MemoryStore started with capacity 434.4 MiB\n",
      "20/09/12 20:28:14 INFO SparkEnv: Registering OutputCommitCoordinator\n",
      "20/09/12 20:28:15 WARN Utils: Service 'SparkUI' could not bind on port 4040. Attempting port 4041.\n",
      "20/09/12 20:28:15 INFO Utils: Successfully started service 'SparkUI' on port 4041.\n",
      "20/09/12 20:28:15 INFO SparkUI: Bound SparkUI to 0.0.0.0, and started at http://117.16.44.45:4041\n",
      "20/09/12 20:28:15 INFO Executor: Starting executor ID driver on host 117.16.44.45\n",
      "20/09/12 20:28:15 INFO Utils: Successfully started service 'org.apache.spark.network.netty.NettyBlockTransferService' on port 39703.\n",
      "20/09/12 20:28:15 INFO NettyBlockTransferService: Server created on 117.16.44.45:39703\n",
      "20/09/12 20:28:15 INFO BlockManager: Using org.apache.spark.storage.RandomBlockReplicationPolicy for block replication policy\n",
      "20/09/12 20:28:15 INFO BlockManagerMaster: Registering BlockManager BlockManagerId(driver, 117.16.44.45, 39703, None)\n",
      "20/09/12 20:28:15 INFO BlockManagerMasterEndpoint: Registering block manager 117.16.44.45:39703 with 434.4 MiB RAM, BlockManagerId(driver, 117.16.44.45, 39703, None)\n",
      "20/09/12 20:28:15 INFO BlockManagerMaster: Registered BlockManager BlockManagerId(driver, 117.16.44.45, 39703, None)\n",
      "20/09/12 20:28:15 INFO BlockManager: Initialized BlockManager: BlockManagerId(driver, 117.16.44.45, 39703, None)\n",
      "20/09/12 20:28:15 INFO SharedState: Setting hive.metastore.warehouse.dir ('null') to the value of spark.sql.warehouse.dir ('file:/home/jsl/Code/git/bb/jsl/pyds/spark-warehouse/').\n",
      "20/09/12 20:28:15 INFO SharedState: Warehouse path is 'file:/home/jsl/Code/git/bb/jsl/pyds/spark-warehouse/'.\n",
      "20/09/12 20:28:16 INFO MemoryStore: Block broadcast_0 stored as values in memory (estimated size 127.4 KiB, free 434.3 MiB)\n",
      "20/09/12 20:28:16 INFO MemoryStore: Block broadcast_0_piece0 stored as bytes in memory (estimated size 23.6 KiB, free 434.3 MiB)\n",
      "20/09/12 20:28:16 INFO BlockManagerInfo: Added broadcast_0_piece0 in memory on 117.16.44.45:39703 (size: 23.6 KiB, free: 434.4 MiB)\n",
      "20/09/12 20:28:16 INFO SparkContext: Created broadcast 0 from textFile at NativeMethodAccessorImpl.java:0\n",
      "20/09/12 20:28:16 INFO FileInputFormat: Total input paths to process : 1\n",
      "20/09/12 20:28:16 INFO SparkContext: Starting job: collect at /home/jsl/Code/git/bb/jsl/pyds/src/ds_rdd_wordCount.py:12\n",
      "20/09/12 20:28:16 INFO DAGScheduler: Registering RDD 3 (reduceByKey at /home/jsl/Code/git/bb/jsl/pyds/src/ds_rdd_wordCount.py:12) as input to shuffle 0\n",
      "20/09/12 20:28:16 INFO DAGScheduler: Got job 0 (collect at /home/jsl/Code/git/bb/jsl/pyds/src/ds_rdd_wordCount.py:12) with 1 output partitions\n",
      "20/09/12 20:28:16 INFO DAGScheduler: Final stage: ResultStage 1 (collect at /home/jsl/Code/git/bb/jsl/pyds/src/ds_rdd_wordCount.py:12)\n",
      "20/09/12 20:28:16 INFO DAGScheduler: Parents of final stage: List(ShuffleMapStage 0)\n",
      "20/09/12 20:28:16 INFO DAGScheduler: Missing parents: List(ShuffleMapStage 0)\n",
      "20/09/12 20:28:16 INFO DAGScheduler: Submitting ShuffleMapStage 0 (PairwiseRDD[3] at reduceByKey at /home/jsl/Code/git/bb/jsl/pyds/src/ds_rdd_wordCount.py:12), which has no missing parents\n",
      "20/09/12 20:28:16 INFO MemoryStore: Block broadcast_1 stored as values in memory (estimated size 11.6 KiB, free 434.2 MiB)\n",
      "20/09/12 20:28:16 INFO MemoryStore: Block broadcast_1_piece0 stored as bytes in memory (estimated size 7.1 KiB, free 434.2 MiB)\n",
      "20/09/12 20:28:16 INFO BlockManagerInfo: Added broadcast_1_piece0 in memory on 117.16.44.45:39703 (size: 7.1 KiB, free: 434.4 MiB)\n",
      "20/09/12 20:28:16 INFO SparkContext: Created broadcast 1 from broadcast at DAGScheduler.scala:1200\n",
      "20/09/12 20:28:16 INFO DAGScheduler: Submitting 1 missing tasks from ShuffleMapStage 0 (PairwiseRDD[3] at reduceByKey at /home/jsl/Code/git/bb/jsl/pyds/src/ds_rdd_wordCount.py:12) (first 15 tasks are for partitions Vector(0))\n",
      "20/09/12 20:28:16 INFO TaskSchedulerImpl: Adding task set 0.0 with 1 tasks\n",
      "20/09/12 20:28:16 INFO TaskSetManager: Starting task 0.0 in stage 0.0 (TID 0, 117.16.44.45, executor driver, partition 0, PROCESS_LOCAL, 7388 bytes)\n",
      "20/09/12 20:28:16 INFO Executor: Running task 0.0 in stage 0.0 (TID 0)\n",
      "20/09/12 20:28:17 INFO HadoopRDD: Input split: file:/home/jsl/Code/git/bb/jsl/pyds/data/ds_spark_wiki.txt:0+572\n",
      "20/09/12 20:28:17 INFO PythonRunner: Times: total = 375, boot = 315, init = 57, finish = 3\n",
      "20/09/12 20:28:17 INFO Executor: Finished task 0.0 in stage 0.0 (TID 0). 1806 bytes result sent to driver\n",
      "20/09/12 20:28:17 INFO TaskSetManager: Finished task 0.0 in stage 0.0 (TID 0) in 869 ms on 117.16.44.45 (executor driver) (1/1)\n",
      "20/09/12 20:28:17 INFO TaskSchedulerImpl: Removed TaskSet 0.0, whose tasks have all completed, from pool \n",
      "20/09/12 20:28:17 INFO PythonAccumulatorV2: Connected to AccumulatorServer at host: 127.0.0.1 port: 55625\n",
      "20/09/12 20:28:17 INFO DAGScheduler: ShuffleMapStage 0 (reduceByKey at /home/jsl/Code/git/bb/jsl/pyds/src/ds_rdd_wordCount.py:12) finished in 1.034 s\n",
      "20/09/12 20:28:17 INFO DAGScheduler: looking for newly runnable stages\n",
      "20/09/12 20:28:17 INFO DAGScheduler: running: Set()\n",
      "20/09/12 20:28:17 INFO DAGScheduler: waiting: Set(ResultStage 1)\n",
      "20/09/12 20:28:17 INFO DAGScheduler: failed: Set()\n",
      "20/09/12 20:28:17 INFO DAGScheduler: Submitting ResultStage 1 (PythonRDD[6] at collect at /home/jsl/Code/git/bb/jsl/pyds/src/ds_rdd_wordCount.py:12), which has no missing parents\n",
      "20/09/12 20:28:17 INFO MemoryStore: Block broadcast_2 stored as values in memory (estimated size 9.1 KiB, free 434.2 MiB)\n",
      "20/09/12 20:28:17 INFO MemoryStore: Block broadcast_2_piece0 stored as bytes in memory (estimated size 5.4 KiB, free 434.2 MiB)\n",
      "20/09/12 20:28:17 INFO BlockManagerInfo: Added broadcast_2_piece0 in memory on 117.16.44.45:39703 (size: 5.4 KiB, free: 434.4 MiB)\n",
      "20/09/12 20:28:17 INFO SparkContext: Created broadcast 2 from broadcast at DAGScheduler.scala:1200\n",
      "20/09/12 20:28:17 INFO DAGScheduler: Submitting 1 missing tasks from ResultStage 1 (PythonRDD[6] at collect at /home/jsl/Code/git/bb/jsl/pyds/src/ds_rdd_wordCount.py:12) (first 15 tasks are for partitions Vector(0))\n",
      "20/09/12 20:28:17 INFO TaskSchedulerImpl: Adding task set 1.0 with 1 tasks\n",
      "20/09/12 20:28:17 INFO TaskSetManager: Starting task 0.0 in stage 1.0 (TID 1, 117.16.44.45, executor driver, partition 0, NODE_LOCAL, 7143 bytes)\n",
      "20/09/12 20:28:17 INFO Executor: Running task 0.0 in stage 1.0 (TID 1)\n",
      "20/09/12 20:28:17 INFO ShuffleBlockFetcherIterator: Getting 1 (652.0 B) non-empty blocks including 1 (652.0 B) local and 0 (0.0 B) host-local and 0 (0.0 B) remote blocks\n",
      "20/09/12 20:28:17 INFO ShuffleBlockFetcherIterator: Started 0 remote fetches in 9 ms\n",
      "20/09/12 20:28:17 INFO PythonRunner: Times: total = 45, boot = -323, init = 368, finish = 0\n",
      "20/09/12 20:28:17 INFO Executor: Finished task 0.0 in stage 1.0 (TID 1). 2658 bytes result sent to driver\n",
      "20/09/12 20:28:17 INFO TaskSetManager: Finished task 0.0 in stage 1.0 (TID 1) in 104 ms on 117.16.44.45 (executor driver) (1/1)\n",
      "20/09/12 20:28:17 INFO TaskSchedulerImpl: Removed TaskSet 1.0, whose tasks have all completed, from pool \n",
      "20/09/12 20:28:17 INFO DAGScheduler: ResultStage 1 (collect at /home/jsl/Code/git/bb/jsl/pyds/src/ds_rdd_wordCount.py:12) finished in 0.119 s\n",
      "20/09/12 20:28:17 INFO DAGScheduler: Job 0 is finished. Cancelling potential speculative or zombie tasks for this job\n",
      "20/09/12 20:28:17 INFO TaskSchedulerImpl: Killing all running tasks in stage 1: Stage finished\n",
      "20/09/12 20:28:17 INFO DAGScheduler: Job 0 finished: collect at /home/jsl/Code/git/bb/jsl/pyds/src/ds_rdd_wordCount.py:12, took 1.241607 s\n",
      "('amplab', 1)\n",
      "('an', 2)\n",
      "('and', 1)\n",
      "('apache', 6)\n",
      "('at', 1)\n",
      "(\"berkeley's\", 1)\n",
      "('california', 1)\n",
      "('cluster', 1)\n",
      "('clusters', 1)\n",
      "('codebase', 1)\n",
      "('computing', 1)\n",
      "('data', 1)\n",
      "('developed', 1)\n",
      "('donated', 1)\n",
      "('entire', 1)\n",
      "('fault-tolerance', 1)\n",
      "('for', 1)\n",
      "('foundation', 1)\n",
      "('framework', 1)\n",
      "('has', 1)\n",
      "('implicit', 1)\n",
      "('interface', 1)\n",
      "('is', 1)\n",
      "('it', 1)\n",
      "('later', 1)\n",
      "('maintained', 1)\n",
      "('of', 1)\n",
      "('open', 1)\n",
      "('originally', 1)\n",
      "('parallelism', 1)\n",
      "('programming', 1)\n",
      "('provides', 1)\n",
      "('since', 1)\n",
      "('software', 1)\n",
      "('source', 1)\n",
      "('spark', 7)\n",
      "('the', 3)\n",
      "('to', 1)\n",
      "('university', 1)\n",
      "('was', 1)\n",
      "('which', 1)\n",
      "('wikipedia', 1)\n",
      "('with', 1)\n",
      "('소스', 1)\n",
      "('스파크', 4)\n",
      "('스파크는', 1)\n",
      "('아파치', 5)\n",
      "('오픈', 1)\n",
      "('컴퓨팅', 1)\n",
      "('클러스터', 1)\n",
      "('프레임워크이다', 1)\n",
      "20/09/12 20:28:17 INFO SparkUI: Stopped Spark web UI at http://117.16.44.45:4041\n",
      "20/09/12 20:28:17 INFO MapOutputTrackerMasterEndpoint: MapOutputTrackerMasterEndpoint stopped!\n",
      "20/09/12 20:28:17 INFO MemoryStore: MemoryStore cleared\n",
      "20/09/12 20:28:17 INFO BlockManager: BlockManager stopped\n",
      "20/09/12 20:28:17 INFO BlockManagerMaster: BlockManagerMaster stopped\n",
      "20/09/12 20:28:17 INFO OutputCommitCoordinator$OutputCommitCoordinatorEndpoint: OutputCommitCoordinator stopped!\n",
      "20/09/12 20:28:18 INFO SparkContext: Successfully stopped SparkContext\n",
      "20/09/12 20:28:18 INFO ShutdownHookManager: Shutdown hook called\n",
      "20/09/12 20:28:18 INFO ShutdownHookManager: Deleting directory /tmp/spark-eff31d11-10f1-4114-90fd-1cc378dff1c1/pyspark-a0edd5fb-83a7-42e3-8348-d4f1fe54e884\n",
      "20/09/12 20:28:18 INFO ShutdownHookManager: Deleting directory /tmp/spark-53c92fef-29c1-4bab-a155-b3c58e632d57\n",
      "20/09/12 20:28:18 INFO ShutdownHookManager: Deleting directory /tmp/spark-eff31d11-10f1-4114-90fd-1cc378dff1c1\n"
     ]
    }
   ],
   "source": [
    "!spark-submit src/ds_rdd_wordCount.py"
   ]
  },
  {
   "cell_type": "markdown",
   "metadata": {
    "collapsed": true,
    "slideshow": {
     "slide_type": "subslide"
    }
   },
   "source": []
  }
 ],
 "metadata": {
  "kernelspec": {
   "display_name": "Python 3",
   "language": "python",
   "name": "python3"
  },
  "language_info": {
   "codemirror_mode": {
    "name": "ipython",
    "version": 3
   },
   "file_extension": ".py",
   "mimetype": "text/x-python",
   "name": "python",
   "nbconvert_exporter": "python",
   "pygments_lexer": "ipython3",
   "version": "3.6.9"
  }
 },
 "nbformat": 4,
 "nbformat_minor": 1
}
