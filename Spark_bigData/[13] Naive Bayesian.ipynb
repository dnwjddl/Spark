{
 "cells": [
  {
   "cell_type": "markdown",
   "metadata": {},
   "source": [
    "**독립적, 즉 naive한 관계**를 가정하고 적용\n",
    "> 확률에 대한 관점은 빈도주의자와 베이지안으로 구분하여 볼 수 있다.\n",
    "- 빈도 주의자: 확률이란 오랫동안 반복하며 기대하는 빈도\n",
    "    - 무작위로 충분히 샘플링 을 하여 발생한 과거의 데이터로 계산한다\n",
    "    - 빈도 주의자는 가설을 설정하고, 실험을 하고, 결과를 통해 가설이 맞는지 통계적 추정을 할 경우, 그 값이 정해져 있다고 본다\n",
    "    - 모집단이 정규분포를 따른다고 하면, 평균은 어떤 확률로 신뢰구간 내에 반드시 그 값이 존재한다.\n",
    "- 베이지안: 확률이란 불확실한 사건에 대한 주관이나 자신이 믿고 있는 정도에 따라 확률이 정해진다.\n",
    "    - 사전확률 prior을 정하고\n",
    "    - 주어지는 증거에 따라 갱신 likelihood\n",
    "    - 사후 확률 posterior 추정\n",
    "        - 평균값을 추정할 경우, 그값은 불확실하며 분포에 따라 신뢰구간 내에 존재할 수도 있고 없을 수도 있다"
   ]
  },
  {
   "cell_type": "markdown",
   "metadata": {},
   "source": [
    "베이지안에서는 어떤 가설을 평가하기 위해, 먼저 (1) 사전확률 $P(\\theta)$을 예상하고, 여기에 관측된 데이터로부터 계산된 (2) 가능성 likelihood $P(D|\\theta)$을 곱하고, (3) P(D)로 나누어, 사후확률을 계산하여 추론하게 된다.\n",
    "\n",
    "$P(\\theta|D) = \\frac{P(D|\\theta) P(\\theta)}{P(D)}$\n",
    "\n",
    "P(D)는 사후확률을 확률분포로 만들게 하는 정규화 상수이다. 즉 P(D)로 나누어주면 사후확률분포의 합이 1이 되게 한다. 추론을 할 때는 최대값을 구하기만 하면 되므로, 위 식에서 분모 P(D)를 생략하면 아래와 같다. 좌측 사후확률이 우측 계산식과 동일하지 않기 때문에, 비례관계에 있다고 (propotional to) 한다.\n",
    "\n",
    "$P(\\theta|D) \\propto P(D|\\theta) \\cdot P(\\theta)$\n",
    "\n",
    "즉 사후확률은 ∝ 가능도 × 사전확률로 계산할 수 있다.\n",
    "\n",
    "또는, 로그를 취해서, $log P(D | \\theta) + log P(\\theta)$을 사용해서 추론할 수 있다."
   ]
  },
  {
   "cell_type": "code",
   "execution_count": 1,
   "metadata": {},
   "outputs": [],
   "source": [
    "import numpy as np\n",
    "_x = np.array([\n",
    "        ('m', 'b', 1),\n",
    "        ('m', 's', 1),\n",
    "        ('g', 'q', 1),\n",
    "        ('h', 's', 1),\n",
    "        ('g', 'q', 1),\n",
    "        ('g', 'q', 0),\n",
    "        ('g', 's', 0),\n",
    "        ('h', 'b', 0),\n",
    "        ('h', 'q', 0),\n",
    "        ('m', 'b', 0)],\n",
    "        dtype=[('A', 'U1'), ('B', 'U1'), ('C', 'i1')\n",
    "])\n",
    "#속성은 A,B,C\n",
    "#'U'유니코드 문자열, 'i'는 정수의미 뒤 숫자는 8비트 정수 의미\n",
    "#뒤 숫자는 자릿수의미"
   ]
  },
  {
   "cell_type": "code",
   "execution_count": 5,
   "metadata": {},
   "outputs": [
    {
     "data": {
      "text/plain": [
       "array(['m', 'm', 'g', 'h', 'g', 'g', 'g', 'h', 'h', 'm'], dtype='<U1')"
      ]
     },
     "execution_count": 5,
     "metadata": {},
     "output_type": "execute_result"
    }
   ],
   "source": [
    "_x['A']"
   ]
  },
  {
   "cell_type": "code",
   "execution_count": 10,
   "metadata": {},
   "outputs": [
    {
     "data": {
      "text/plain": [
       "array(['b', 's', 'q', 's', 'q', 'q', 's', 'b', 'q', 'b'], dtype='<U1')"
      ]
     },
     "execution_count": 10,
     "metadata": {},
     "output_type": "execute_result"
    }
   ],
   "source": [
    "#'B' 열 읽기\n",
    "_x['B'][1:5]"
   ]
  },
  {
   "cell_type": "code",
   "execution_count": 9,
   "metadata": {},
   "outputs": [
    {
     "data": {
      "text/plain": [
       "array([('m', 'b', 1), ('m', 's', 1), ('m', 'b', 0)],\n",
       "      dtype=[('A', '<U1'), ('B', '<U1'), ('C', 'i1')])"
      ]
     },
     "execution_count": 9,
     "metadata": {},
     "output_type": "execute_result"
    }
   ],
   "source": [
    "#조건에 맞는 행 읽기\n",
    "_x[_x['A']=='m']"
   ]
  },
  {
   "cell_type": "code",
   "execution_count": 11,
   "metadata": {},
   "outputs": [
    {
     "data": {
      "text/plain": [
       "array(['m', 'm', 'g', 'h', 'g'], dtype='<U1')"
      ]
     },
     "execution_count": 11,
     "metadata": {},
     "output_type": "execute_result"
    }
   ],
   "source": [
    "#특정 컬럼에 대해 조건에 맞는 경우만 읽기\n",
    "_x['A'][_x['C']==1]"
   ]
  },
  {
   "cell_type": "code",
   "execution_count": 12,
   "metadata": {},
   "outputs": [
    {
     "data": {
      "text/plain": [
       "2"
      ]
     },
     "execution_count": 12,
     "metadata": {},
     "output_type": "execute_result"
    }
   ],
   "source": [
    "#np.count_nonzero() 함수: 조건에 맞는 개수를 계산\n",
    "#C가 1일 경우 A가 'm'일 때\n",
    "np.count_nonzero(_x['A'][_x['C']==1] == 'm')"
   ]
  },
  {
   "cell_type": "markdown",
   "metadata": {},
   "source": [
    "### 1) 사후확률 post_c1 (c=1)\n",
    "A=m이고 B=q일 경우, Pr(C=1)를 구하기\n",
    "##### 1-1) 사전확률 Pr(c = 1)\n",
    "##### 1-2) 가능도 Pr(A = m | c = 1) => 2/5\n",
    "##### 1-3) 가능도 Pr(B = q | c = 1) => 2/5\n",
    "##### 1-4) 사후확률 post_c1(c = 1) => 0.08  (2/25=5/10 2/5)"
   ]
  },
  {
   "cell_type": "code",
   "execution_count": 13,
   "metadata": {},
   "outputs": [],
   "source": [
    "#키를 세어서 defaultdict(int)로 사전확률 저장\n",
    "#비어있는 dict에 int 형으로 저장 defaultdict(int)\n",
    "import collections\n",
    "\n",
    "prior_kc=collections.defaultdict(int) #초기화\n",
    "for item in _x['C']:\n",
    "    prior_kc[item]+=1 # ok to add (key, value) to defaultdict. NOT ok if not defaultdict"
   ]
  },
  {
   "cell_type": "code",
   "execution_count": 15,
   "metadata": {},
   "outputs": [
    {
     "name": "stdout",
     "output_type": "stream",
     "text": [
      "prior key counts computed: defaultdict(<class 'int'>, {1: 5, 0: 5})\n"
     ]
    }
   ],
   "source": [
    "print ('prior key counts computed: {}'.format(prior_kc))"
   ]
  },
  {
   "cell_type": "code",
   "execution_count": 16,
   "metadata": {},
   "outputs": [
    {
     "data": {
      "text/plain": [
       "dict_values([5, 5])"
      ]
     },
     "execution_count": 16,
     "metadata": {},
     "output_type": "execute_result"
    }
   ],
   "source": [
    "prior_kc.values()"
   ]
  },
  {
   "cell_type": "code",
   "execution_count": 17,
   "metadata": {},
   "outputs": [
    {
     "name": "stdout",
     "output_type": "stream",
     "text": [
      "prior_c: {1: 0.5, 0: 0.5}\n"
     ]
    }
   ],
   "source": [
    "#확률 계산\n",
    "allFreq=sum(prior_kc.values())\n",
    "prior_c=dict()\n",
    "for k,v in prior_kc.items():\n",
    "    prior_c[k]=float(v)/allFreq\n",
    "\n",
    "print (\"prior_c: {}\".format(prior_c))"
   ]
  },
  {
   "cell_type": "code",
   "execution_count": 20,
   "metadata": {},
   "outputs": [
    {
     "data": {
      "text/plain": [
       "array(['m', 'm', 'g', 'h', 'g'], dtype='<U1')"
      ]
     },
     "execution_count": 20,
     "metadata": {},
     "output_type": "execute_result"
    }
   ],
   "source": [
    "# 1-2\n",
    "## c=1인 경우, A=m 인 likelihood 계산\n",
    "aLikelihood_c1=_x['A'][_x['C']==1] #C=1일때 A\n",
    "aLikelihood_c1"
   ]
  },
  {
   "cell_type": "code",
   "execution_count": 19,
   "metadata": {},
   "outputs": [
    {
     "data": {
      "text/plain": [
       "array(['m', 'm', 'g', 'h', 'g'], dtype='<U1')"
      ]
     },
     "execution_count": 19,
     "metadata": {},
     "output_type": "execute_result"
    }
   ],
   "source": [
    "kc_a_c1=collections.defaultdict(int) ##초기화\n",
    "\n",
    "for item in aLikelihood_c1:\n",
    "    kc_a_c1[item]+=1\n",
    "print ('kc_a_c1 key counts computed: {}',format(kc_a_c1))"
   ]
  },
  {
   "cell_type": "code",
   "execution_count": 21,
   "metadata": {},
   "outputs": [
    {
     "name": "stdout",
     "output_type": "stream",
     "text": [
      "prob_a_c1: {'m': 0.4, 'g': 0.4, 'h': 0.2}\n"
     ]
    }
   ],
   "source": [
    "#확률적으로 계산\n",
    "allFreq=len(aLikelihood_c1)\n",
    "prob_a_c1=dict()\n",
    "for k,v in kc_a_c1.items():\n",
    "    prob_a_c1[k]=float(v)/allFreq\n",
    "print (\"prob_a_c1: {}\".format(prob_a_c1))"
   ]
  },
  {
   "cell_type": "code",
   "execution_count": 24,
   "metadata": {},
   "outputs": [
    {
     "data": {
      "text/plain": [
       "array(['b', 's', 'q', 's', 'q'], dtype='<U1')"
      ]
     },
     "execution_count": 24,
     "metadata": {},
     "output_type": "execute_result"
    }
   ],
   "source": [
    "# 1-3\n",
    "bLikelihood_c1=_x['B'][_x['C']==1] #C=1일때 B계산\n",
    "bLikelihood_c1"
   ]
  },
  {
   "cell_type": "code",
   "execution_count": 25,
   "metadata": {},
   "outputs": [
    {
     "name": "stdout",
     "output_type": "stream",
     "text": [
      "kc_b_c1 key counts computed: {} defaultdict(<class 'int'>, {'b': 1, 's': 2, 'q': 2})\n"
     ]
    }
   ],
   "source": [
    "kc_b_c1=collections.defaultdict(int)\n",
    "for item in bLikelihood_c1:\n",
    "    kc_b_c1[item]+=1\n",
    "print ('kc_b_c1 key counts computed: {}',format(kc_b_c1))"
   ]
  },
  {
   "cell_type": "code",
   "execution_count": 26,
   "metadata": {},
   "outputs": [
    {
     "name": "stdout",
     "output_type": "stream",
     "text": [
      "prob_b_c1: {'b': 0.2, 's': 0.4, 'q': 0.4}\n"
     ]
    }
   ],
   "source": [
    "#확률적으로 계산\n",
    "allFreq=len(bLikelihood_c1)\n",
    "prob_b_c1=dict()\n",
    "for k,v in kc_b_c1.items():\n",
    "    prob_b_c1[k]=float(v)/allFreq\n",
    "print (\"prob_b_c1: {}\".format(prob_b_c1))"
   ]
  },
  {
   "cell_type": "code",
   "execution_count": 27,
   "metadata": {},
   "outputs": [],
   "source": [
    "# 1-4) 사후 확률은 앞서 계산한 사전확률 및 우도를 곱해서 계산한다\n",
    "# - 사전확률: prior_c : {1:0.5, 0:0.5}\n",
    "# - A의 우도  prior_a_c1: {'m': 0.4, 'g': 0.4, 'h':0.2}\n",
    "# - B의 우도  prior_b_c1: {'b': 0.2, 's': 0.4, 'q': 0.4}"
   ]
  },
  {
   "cell_type": "code",
   "execution_count": 29,
   "metadata": {},
   "outputs": [
    {
     "name": "stdout",
     "output_type": "stream",
     "text": [
      "prior_c: {1: 0.5, 0: 0.5}\n",
      "prob_a_c1: {'m': 0.4, 'g': 0.4, 'h': 0.2}\n",
      "prob_b_c1: {'b': 0.2, 's': 0.4, 'q': 0.4}\n"
     ]
    }
   ],
   "source": [
    "print (\"prior_c: {}\".format(prior_c))\n",
    "print (\"prob_a_c1: {}\".format(prob_a_c1))\n",
    "print (\"prob_b_c1: {}\".format(prob_b_c1))"
   ]
  },
  {
   "cell_type": "code",
   "execution_count": 30,
   "metadata": {},
   "outputs": [
    {
     "name": "stdout",
     "output_type": "stream",
     "text": [
      "posterior computed if c==1: 0.080\n"
     ]
    }
   ],
   "source": [
    "##사전확률 1 * A의 우도 m * B의 우도 q\n",
    "post_c1= prior_c[1] * prob_a_c1['m'] * prob_b_c1['q']\n",
    "print (\"posterior computed if c==1: {:.3f}\".format(post_c1))"
   ]
  },
  {
   "cell_type": "markdown",
   "metadata": {},
   "source": [
    "### 1) 사후확률 post_c0 (c=0)\n",
    "A=m이고 B=q일 경우, Pr(C=0)를 구하기\n",
    "##### 1-1) 사전확률 Pr(c = 0)\n",
    "##### 1-2) 가능도 Pr(A = m | c = 0) => 2/5\n",
    "##### 1-3) 가능도 Pr(B = q | c = 0) => 2/5\n",
    "##### 1-4) 사후확률 post_c1(c = 0) => 0.08  (2/25=5/10 2/5)"
   ]
  },
  {
   "cell_type": "code",
   "execution_count": 31,
   "metadata": {},
   "outputs": [
    {
     "data": {
      "text/plain": [
       "5"
      ]
     },
     "execution_count": 31,
     "metadata": {},
     "output_type": "execute_result"
    }
   ],
   "source": [
    "#사전확률 Pr(c=0)\n",
    "## np.count_nonzero() 함수의 조건에 맞는 요소의 개수를 계산\n",
    "np.count_nonzero(_x['C']==0)"
   ]
  },
  {
   "cell_type": "code",
   "execution_count": 32,
   "metadata": {},
   "outputs": [
    {
     "data": {
      "text/plain": [
       "array([1, 1, 1, 1, 1, 0, 0, 0, 0, 0], dtype=int8)"
      ]
     },
     "execution_count": 32,
     "metadata": {},
     "output_type": "execute_result"
    }
   ],
   "source": [
    "_x['C']"
   ]
  },
  {
   "cell_type": "code",
   "execution_count": 34,
   "metadata": {},
   "outputs": [
    {
     "data": {
      "text/plain": [
       "0.5"
      ]
     },
     "execution_count": 34,
     "metadata": {},
     "output_type": "execute_result"
    }
   ],
   "source": [
    "prior_c0 = np.count_nonzero(_x['C']==0)/_x.shape[0]\n",
    "prior_c0"
   ]
  },
  {
   "cell_type": "code",
   "execution_count": 35,
   "metadata": {},
   "outputs": [],
   "source": [
    "prob_am_c0=np.count_nonzero(_x['A'][_x['C']==0] == 'm')/np.count_nonzero(_x['C']==0)"
   ]
  },
  {
   "cell_type": "code",
   "execution_count": 36,
   "metadata": {},
   "outputs": [],
   "source": [
    "prob_bq_c0=np.count_nonzero(_x['B'][_x['C']==0] == 'q')/np.count_nonzero(_x['C']==0)"
   ]
  },
  {
   "cell_type": "code",
   "execution_count": 37,
   "metadata": {},
   "outputs": [
    {
     "data": {
      "text/plain": [
       "'post_cf:0.040'"
      ]
     },
     "execution_count": 37,
     "metadata": {},
     "output_type": "execute_result"
    }
   ],
   "source": [
    "post_c0 = prior_c0 * prob_am_c0 * prob_bq_c0\n",
    "f\"post_cf:{post_c0:.3f}\""
   ]
  },
  {
   "cell_type": "markdown",
   "metadata": {},
   "source": [
    "#### lambda 함수 이용\n",
    "- set 함수 이용 : 중복 없이 저장한다는 특성을 이용하여 키를 구한다."
   ]
  },
  {
   "cell_type": "code",
   "execution_count": 38,
   "metadata": {},
   "outputs": [
    {
     "name": "stdout",
     "output_type": "stream",
     "text": [
      "prior_0: 0.5\n",
      "prior_1: 0.5\n"
     ]
    }
   ],
   "source": [
    "c=_x['C'].tolist()\n",
    "for i in set(c):\n",
    "    print(\"prior_{}: {}\".format(i, c.count(i)/float(len(c))))"
   ]
  },
  {
   "cell_type": "code",
   "execution_count": 39,
   "metadata": {},
   "outputs": [
    {
     "name": "stdout",
     "output_type": "stream",
     "text": [
      "prior: {0: 0.5, 1: 0.5}\n"
     ]
    }
   ],
   "source": [
    "# ref: DecisionTree.getProb()\n",
    "getProb=lambda x: dict((i,x.count(i)/float(len(x))) for i in set(x))\n",
    "print (\"prior: {}\".format(getProb(c)))"
   ]
  },
  {
   "cell_type": "code",
   "execution_count": 40,
   "metadata": {},
   "outputs": [
    {
     "name": "stdout",
     "output_type": "stream",
     "text": [
      "prob_b_c0: {'g': 0.4, 'h': 0.4, 'm': 0.2}\n"
     ]
    }
   ],
   "source": [
    "# Pr(A=m | c=0) -> 1/5\n",
    "a=_x[_x['C']==0]['A'].tolist()\n",
    "prob_a_c0=getProb(a)\n",
    "print (\"prob_b_c0: {}\".format(prob_a_c0))"
   ]
  },
  {
   "cell_type": "code",
   "execution_count": 41,
   "metadata": {},
   "outputs": [
    {
     "name": "stdout",
     "output_type": "stream",
     "text": [
      "prob_b_c0: {'q': 0.4, 'b': 0.4, 's': 0.2}\n"
     ]
    }
   ],
   "source": [
    "# Pr(B=q | c=0) -> 2/5\n",
    "b=_x[_x['C']==0]['B'].tolist()\n",
    "prob_b_c0=getProb(b)\n",
    "print (\"prob_b_c0: {}\".format(prob_b_c0))"
   ]
  },
  {
   "cell_type": "markdown",
   "metadata": {},
   "source": [
    "#### 의사결정"
   ]
  },
  {
   "cell_type": "code",
   "execution_count": 43,
   "metadata": {},
   "outputs": [
    {
     "data": {
      "text/plain": [
       "0"
      ]
     },
     "execution_count": 43,
     "metadata": {},
     "output_type": "execute_result"
    }
   ],
   "source": [
    "#argmax()는 큰 값의 인덱스를 출력\n",
    "#post_ct = 0.08, post_cf=0.04이므로 첫번째 인덱스인 0이 출력\n",
    "np.array([post_c1,post_c0]).argmax()"
   ]
  },
  {
   "cell_type": "markdown",
   "metadata": {},
   "source": [
    "## 이항 베이지안\n",
    "베이지안 확률에 따르면: $p(\\theta|D) = \\frac{p(D|\\theta) p(\\theta)}{p(D)}$\n",
    "\n",
    "$\\theta$는 가설로서, 어떤 확률이 된다. D는 증거 또는 데이터를 말한다.\n",
    "\n",
    "- 사전확률 $p(\\theta)$이란 증거 D를 감안하지 않고 사전에 $\\theta$에 대한 믿음의 강도을 말한다.\n",
    "- 사후확률 $p(\\theta|D)$ 증거 D를 고려하고 가지게 되는 믿음의 강도. 예를 들어, 동전을 10번 던져서 5회 나왔다는 것을 보고 나서, 확률이 $\\theta$라고 믿게 되는 확률을 말한다.\n",
    "- 가능도 $p(D|\\theta)$란 동전이 $\\theta$의 확률일 경우, 예를 들어, 10회 던져서 몇 번이나 앞, 뒤면이 나오는지를 말한다.<br>\n",
    "\n",
    "정규분포와 이항분포의 분포를 displot() 그래프로 그려보자. binomial()은 n시도에서, p=성공확률로 무작위 수를 생성한다. normal()은 loc 평균, scale 분산으로 무작위 수를 생성한다."
   ]
  },
  {
   "cell_type": "code",
   "execution_count": 68,
   "metadata": {},
   "outputs": [
    {
     "name": "stderr",
     "output_type": "stream",
     "text": [
      "C:\\Users\\woojung\\anaconda3\\lib\\site-packages\\matplotlib\\cbook\\__init__.py:1377: FutureWarning: Support for multi-dimensional indexing (e.g. `obj[:, None]`) is deprecated and will be removed in a future version.  Convert to a numpy array before indexing instead.\n",
      "  x[:, None]\n",
      "C:\\Users\\woojung\\anaconda3\\lib\\site-packages\\matplotlib\\axes\\_base.py:237: FutureWarning: Support for multi-dimensional indexing (e.g. `obj[:, None]`) is deprecated and will be removed in a future version.  Convert to a numpy array before indexing instead.\n",
      "  x = x[:, np.newaxis]\n",
      "C:\\Users\\woojung\\anaconda3\\lib\\site-packages\\matplotlib\\axes\\_base.py:239: FutureWarning: Support for multi-dimensional indexing (e.g. `obj[:, None]`) is deprecated and will be removed in a future version.  Convert to a numpy array before indexing instead.\n",
      "  y = y[:, np.newaxis]\n",
      "C:\\Users\\woojung\\anaconda3\\lib\\site-packages\\matplotlib\\cbook\\__init__.py:1377: FutureWarning: Support for multi-dimensional indexing (e.g. `obj[:, None]`) is deprecated and will be removed in a future version.  Convert to a numpy array before indexing instead.\n",
      "  x[:, None]\n",
      "C:\\Users\\woojung\\anaconda3\\lib\\site-packages\\matplotlib\\axes\\_base.py:237: FutureWarning: Support for multi-dimensional indexing (e.g. `obj[:, None]`) is deprecated and will be removed in a future version.  Convert to a numpy array before indexing instead.\n",
      "  x = x[:, np.newaxis]\n",
      "C:\\Users\\woojung\\anaconda3\\lib\\site-packages\\matplotlib\\axes\\_base.py:239: FutureWarning: Support for multi-dimensional indexing (e.g. `obj[:, None]`) is deprecated and will be removed in a future version.  Convert to a numpy array before indexing instead.\n",
      "  y = y[:, np.newaxis]\n"
     ]
    },
    {
     "data": {
      "image/png": "[encoded data removed]",
      "text/plain": [
       "<Figure size 432x288 with 1 Axes>"
      ]
     },
     "metadata": {
      "needs_background": "light"
     },
     "output_type": "display_data"
    }
   ],
   "source": [
    "##정규분포랑 이항 분포를 그래프로 그려서 차이 확인\n",
    "from numpy import random\n",
    "import matplotlib.pyplot as plt\n",
    "import seaborn as sns\n",
    "\n",
    "#loc= 평균, scale = 표준편차\n",
    "sns.kdeplot(random.normal(loc=50, scale=5, size=1000), label='normal')\n",
    "sns.kdeplot(random.binomial(100, p=0.5, size=1000), label='binomial')\n",
    "plt.show()"
   ]
  },
  {
   "cell_type": "code",
   "execution_count": 70,
   "metadata": {},
   "outputs": [
    {
     "data": {
      "text/plain": [
       "0.47732058414831097"
      ]
     },
     "execution_count": 70,
     "metadata": {},
     "output_type": "execute_result"
    }
   ],
   "source": [
    "#사전확률\n",
    "\n",
    "## p(세타) -> 이항분포일때는 beta 분포를 따름\n",
    "\n",
    "import numpy as np\n",
    "#알파 1 베타 1, 100회 무작위 샘플\n",
    "np.random.beta(1,1,100).mean() # -> 0.5"
   ]
  },
  {
   "cell_type": "code",
   "execution_count": 71,
   "metadata": {},
   "outputs": [
    {
     "name": "stderr",
     "output_type": "stream",
     "text": [
      "C:\\Users\\woojung\\anaconda3\\lib\\site-packages\\matplotlib\\cbook\\__init__.py:1377: FutureWarning: Support for multi-dimensional indexing (e.g. `obj[:, None]`) is deprecated and will be removed in a future version.  Convert to a numpy array before indexing instead.\n",
      "  x[:, None]\n",
      "C:\\Users\\woojung\\anaconda3\\lib\\site-packages\\matplotlib\\axes\\_base.py:237: FutureWarning: Support for multi-dimensional indexing (e.g. `obj[:, None]`) is deprecated and will be removed in a future version.  Convert to a numpy array before indexing instead.\n",
      "  x = x[:, np.newaxis]\n",
      "C:\\Users\\woojung\\anaconda3\\lib\\site-packages\\matplotlib\\axes\\_base.py:239: FutureWarning: Support for multi-dimensional indexing (e.g. `obj[:, None]`) is deprecated and will be removed in a future version.  Convert to a numpy array before indexing instead.\n",
      "  y = y[:, np.newaxis]\n"
     ]
    },
    {
     "data": {
      "image/png": "[encoded data removed]",
      "text/plain": [
       "<Figure size 432x288 with 1 Axes>"
      ]
     },
     "metadata": {
      "needs_background": "light"
     },
     "output_type": "display_data"
    }
   ],
   "source": [
    "sns.kdeplot(random.beta(a=1, b=1, size=1000), label='binomial')\n",
    "plt.show()\n",
    "\n",
    "#균등분포와 비슷한 모양을 하고 있음"
   ]
  },
  {
   "cell_type": "code",
   "execution_count": 48,
   "metadata": {},
   "outputs": [
    {
     "name": "stdout",
     "output_type": "stream",
     "text": [
      "0.015625\n"
     ]
    }
   ],
   "source": [
    "## 가능도\n",
    "\n",
    "# 6회에서 앞 면이 0,1,2,3,4,5,6 나올 확률. \n",
    "# 단 동전이 biased되어서 앞면 확률은 0.3.-> 0.5\n",
    "# 확률을 구해보면:\n",
    "from scipy import special\n",
    "n=6\n",
    "k=0\n",
    "p=0.5\n",
    "# comb(6,0)는 exact연산.\n",
    "print (special.comb(6, k, exact=True)*(p**k)*( (1-p)**(n-k) ) )"
   ]
  },
  {
   "cell_type": "code",
   "execution_count": 49,
   "metadata": {},
   "outputs": [
    {
     "name": "stdout",
     "output_type": "stream",
     "text": [
      "Pr(X = 0 heads)= 0.01562\n",
      "Pr(X = 1 heads)= 0.09375\n",
      "Pr(X = 2 heads)= 0.23438\n",
      "Pr(X = 3 heads)= 0.31250\n",
      "Pr(X = 4 heads)= 0.23438\n",
      "Pr(X = 5 heads)= 0.09375\n",
      "Pr(X = 6 heads)= 0.01562\n"
     ]
    }
   ],
   "source": [
    "for i in range(7):\n",
    "    print (\"Pr(X = {} heads)= {:.5f}\".format(i, special.comb(6, i, exact=True)*(p**i)*( (1-p)**(n-i) ) ) )"
   ]
  },
  {
   "cell_type": "code",
   "execution_count": 50,
   "metadata": {},
   "outputs": [
    {
     "name": "stdout",
     "output_type": "stream",
     "text": [
      "0.01563\n",
      "0.09375\n",
      "0.23438\n",
      "0.31250\n",
      "0.23438\n",
      "0.09375\n",
      "0.01563\n"
     ]
    }
   ],
   "source": [
    "import scipy.stats as stats\n",
    "for i in range(7):\n",
    "    print (\"{:.5f}\".format(stats.binom.pmf(i,6,0.5)))"
   ]
  },
  {
   "cell_type": "code",
   "execution_count": 51,
   "metadata": {},
   "outputs": [
    {
     "name": "stderr",
     "output_type": "stream",
     "text": [
      "C:\\Users\\woojung\\anaconda3\\lib\\site-packages\\matplotlib\\cbook\\__init__.py:1377: FutureWarning: Support for multi-dimensional indexing (e.g. `obj[:, None]`) is deprecated and will be removed in a future version.  Convert to a numpy array before indexing instead.\n",
      "  x[:, None]\n",
      "C:\\Users\\woojung\\anaconda3\\lib\\site-packages\\matplotlib\\axes\\_base.py:237: FutureWarning: Support for multi-dimensional indexing (e.g. `obj[:, None]`) is deprecated and will be removed in a future version.  Convert to a numpy array before indexing instead.\n",
      "  x = x[:, np.newaxis]\n",
      "C:\\Users\\woojung\\anaconda3\\lib\\site-packages\\matplotlib\\axes\\_base.py:239: FutureWarning: Support for multi-dimensional indexing (e.g. `obj[:, None]`) is deprecated and will be removed in a future version.  Convert to a numpy array before indexing instead.\n",
      "  y = y[:, np.newaxis]\n",
      "C:\\Users\\woojung\\anaconda3\\lib\\site-packages\\matplotlib\\cbook\\__init__.py:1377: FutureWarning: Support for multi-dimensional indexing (e.g. `obj[:, None]`) is deprecated and will be removed in a future version.  Convert to a numpy array before indexing instead.\n",
      "  x[:, None]\n",
      "C:\\Users\\woojung\\anaconda3\\lib\\site-packages\\matplotlib\\axes\\_base.py:237: FutureWarning: Support for multi-dimensional indexing (e.g. `obj[:, None]`) is deprecated and will be removed in a future version.  Convert to a numpy array before indexing instead.\n",
      "  x = x[:, np.newaxis]\n",
      "C:\\Users\\woojung\\anaconda3\\lib\\site-packages\\matplotlib\\axes\\_base.py:239: FutureWarning: Support for multi-dimensional indexing (e.g. `obj[:, None]`) is deprecated and will be removed in a future version.  Convert to a numpy array before indexing instead.\n",
      "  y = y[:, np.newaxis]\n",
      "C:\\Users\\woojung\\anaconda3\\lib\\site-packages\\matplotlib\\cbook\\__init__.py:1377: FutureWarning: Support for multi-dimensional indexing (e.g. `obj[:, None]`) is deprecated and will be removed in a future version.  Convert to a numpy array before indexing instead.\n",
      "  x[:, None]\n",
      "C:\\Users\\woojung\\anaconda3\\lib\\site-packages\\matplotlib\\axes\\_base.py:237: FutureWarning: Support for multi-dimensional indexing (e.g. `obj[:, None]`) is deprecated and will be removed in a future version.  Convert to a numpy array before indexing instead.\n",
      "  x = x[:, np.newaxis]\n",
      "C:\\Users\\woojung\\anaconda3\\lib\\site-packages\\matplotlib\\axes\\_base.py:239: FutureWarning: Support for multi-dimensional indexing (e.g. `obj[:, None]`) is deprecated and will be removed in a future version.  Convert to a numpy array before indexing instead.\n",
      "  y = y[:, np.newaxis]\n"
     ]
    },
    {
     "data": {
      "image/png": "[encoded data removed]",
      "text/plain": [
       "<Figure size 432x288 with 1 Axes>"
      ]
     },
     "metadata": {
      "needs_background": "light"
     },
     "output_type": "display_data"
    }
   ],
   "source": [
    "sns.kdeplot(random.beta(a=1, b=1, size=1000), label='beta') #prior a=1, b=1\n",
    "sns.kdeplot(random.beta(a=70, b=30, size=1000), label='beta') #likelihood a=70, b=100-70 (n=100, k=30)\n",
    "sns.kdeplot(random.beta(a=71, b=31, size=1000), label='beta') #posterior a=70+1, b=100-70+1\n",
    "plt.show()"
   ]
  },
  {
   "cell_type": "code",
   "execution_count": 52,
   "metadata": {},
   "outputs": [
    {
     "data": {
      "text/plain": [
       "'mean: 0.696 std:0.045'"
      ]
     },
     "execution_count": 52,
     "metadata": {},
     "output_type": "execute_result"
    }
   ],
   "source": [
    "import math\n",
    "\n",
    "a=71 #posterior a=70+1, b=100-70+1 (n=100, k=30)\n",
    "b=31\n",
    "mu=a/(a+b)\n",
    "std=math.sqrt(a*b/(math.pow(a+b,2)*(a+b+1)))\n",
    "f\"mean: {mu:.3f} std:{std:.3f}\""
   ]
  },
  {
   "cell_type": "markdown",
   "metadata": {},
   "source": [
    "## Sklearn"
   ]
  },
  {
   "cell_type": "code",
   "execution_count": 53,
   "metadata": {},
   "outputs": [],
   "source": [
    "import numpy as np\n",
    "\n",
    "city_list = [\"Seoul\", \"Jongro\", \"Sydney\", \"Gangnam\", \"NY\"]\n",
    "feature1 = [1, 0, 0, 0, 0]\n",
    "feature2 = [0, 1, 0, 1, 0]\n",
    "feature3 = [0, 0, 1, 0, 0]\n",
    "feature4 = [0, 0, 0, 1, 0]\n",
    "feature5 = [0, 0, 1, 0, 1]\n",
    "feature6 = [1, 1, 0, 0, 0]\n",
    "labels = [1, 1, 0, 1, 0, 1]"
   ]
  },
  {
   "cell_type": "code",
   "execution_count": 54,
   "metadata": {},
   "outputs": [],
   "source": [
    "trainData = np.array([feature1, feature2, feature3, feature4, feature5, feature6])"
   ]
  },
  {
   "cell_type": "code",
   "execution_count": 55,
   "metadata": {},
   "outputs": [
    {
     "data": {
      "text/plain": [
       "(6, 5)"
      ]
     },
     "execution_count": 55,
     "metadata": {},
     "output_type": "execute_result"
    }
   ],
   "source": [
    "trainData.shape"
   ]
  },
  {
   "cell_type": "code",
   "execution_count": 72,
   "metadata": {},
   "outputs": [
    {
     "data": {
      "text/plain": [
       "array([[1, 0, 0, 0, 0],\n",
       "       [0, 1, 0, 1, 0],\n",
       "       [0, 0, 1, 0, 0],\n",
       "       [0, 0, 0, 1, 0],\n",
       "       [0, 0, 1, 0, 1],\n",
       "       [1, 1, 0, 0, 0]])"
      ]
     },
     "execution_count": 72,
     "metadata": {},
     "output_type": "execute_result"
    }
   ],
   "source": [
    "trainData"
   ]
  },
  {
   "cell_type": "code",
   "execution_count": 73,
   "metadata": {},
   "outputs": [],
   "source": [
    "from sklearn.naive_bayes import BernoulliNB\n",
    "\n",
    "clf = BernoulliNB() #이항분포 모델"
   ]
  },
  {
   "cell_type": "code",
   "execution_count": 74,
   "metadata": {},
   "outputs": [
    {
     "data": {
      "text/plain": [
       "BernoulliNB()"
      ]
     },
     "execution_count": 74,
     "metadata": {},
     "output_type": "execute_result"
    }
   ],
   "source": [
    "clf.fit(trainData, labels) #train시킴"
   ]
  },
  {
   "cell_type": "code",
   "execution_count": 75,
   "metadata": {},
   "outputs": [
    {
     "data": {
      "text/plain": [
       "array([1, 1, 0, 1, 0, 1])"
      ]
     },
     "execution_count": 75,
     "metadata": {},
     "output_type": "execute_result"
    }
   ],
   "source": [
    "clf.predict(trainData) #trainData의 predict"
   ]
  },
  {
   "cell_type": "code",
   "execution_count": 59,
   "metadata": {},
   "outputs": [],
   "source": [
    "testData=np.array([[0, 0, 1, 1, 1], [1, 0, 0, 1, 0], [1, 1, 1, 1, 0]])"
   ]
  },
  {
   "cell_type": "code",
   "execution_count": 60,
   "metadata": {},
   "outputs": [
    {
     "data": {
      "text/plain": [
       "array([0, 1, 1])"
      ]
     },
     "execution_count": 60,
     "metadata": {},
     "output_type": "execute_result"
    }
   ],
   "source": [
    "clf.predict(testData)"
   ]
  },
  {
   "cell_type": "code",
   "execution_count": 61,
   "metadata": {},
   "outputs": [
    {
     "data": {
      "text/plain": [
       "1.0"
      ]
     },
     "execution_count": 61,
     "metadata": {},
     "output_type": "execute_result"
    }
   ],
   "source": [
    "#정확도 측정\n",
    "clf.score(trainData,labels)"
   ]
  },
  {
   "cell_type": "code",
   "execution_count": 62,
   "metadata": {},
   "outputs": [
    {
     "data": {
      "text/plain": [
       "1.0"
      ]
     },
     "execution_count": 62,
     "metadata": {},
     "output_type": "execute_result"
    }
   ],
   "source": [
    "clf.score(testData, [0, 1, 1])"
   ]
  },
  {
   "cell_type": "code",
   "execution_count": 76,
   "metadata": {},
   "outputs": [
    {
     "data": {
      "text/plain": [
       "array([[0.09194098, 0.90805902],\n",
       "       [0.03264813, 0.96735187],\n",
       "       [0.8200225 , 0.1799775 ],\n",
       "       [0.09194098, 0.90805902],\n",
       "       [0.95795007, 0.04204993],\n",
       "       [0.03264813, 0.96735187]])"
      ]
     },
     "execution_count": 76,
     "metadata": {},
     "output_type": "execute_result"
    }
   ],
   "source": [
    "#각 확률 0일 확률, 1일 확률\n",
    "clf.predict_proba(trainData)"
   ]
  },
  {
   "cell_type": "code",
   "execution_count": 77,
   "metadata": {},
   "outputs": [],
   "source": [
    "pr=clf.predict_proba(trainData)"
   ]
  },
  {
   "cell_type": "code",
   "execution_count": 78,
   "metadata": {},
   "outputs": [
    {
     "data": {
      "text/plain": [
       "((6, 2), (3, 5))"
      ]
     },
     "execution_count": 78,
     "metadata": {},
     "output_type": "execute_result"
    }
   ],
   "source": [
    "pr.shape, testData.shape"
   ]
  },
  {
   "cell_type": "code",
   "execution_count": 79,
   "metadata": {},
   "outputs": [
    {
     "data": {
      "text/plain": [
       "array([[0.09194098, 0.90805902],\n",
       "       [0.03264813, 0.96735187],\n",
       "       [0.8200225 , 0.1799775 ],\n",
       "       [0.09194098, 0.90805902],\n",
       "       [0.95795007, 0.04204993],\n",
       "       [0.03264813, 0.96735187]])"
      ]
     },
     "execution_count": 79,
     "metadata": {},
     "output_type": "execute_result"
    }
   ],
   "source": [
    "pr"
   ]
  },
  {
   "cell_type": "markdown",
   "metadata": {},
   "source": [
    "## 정규분포 베이지안"
   ]
  },
  {
   "cell_type": "code",
   "execution_count": null,
   "metadata": {},
   "outputs": [],
   "source": []
  }
 ],
 "metadata": {
  "kernelspec": {
   "display_name": "Python 3",
   "language": "python",
   "name": "python3"
  },
  "language_info": {
   "codemirror_mode": {
    "name": "ipython",
    "version": 3
   },
   "file_extension": ".py",
   "mimetype": "text/x-python",
   "name": "python",
   "nbconvert_exporter": "python",
   "pygments_lexer": "ipython3",
   "version": "3.7.6"
  }
 },
 "nbformat": 4,
 "nbformat_minor": 4
}
