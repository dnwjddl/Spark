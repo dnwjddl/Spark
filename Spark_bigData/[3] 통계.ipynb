{
 "cells": [
  {
   "cell_type": "markdown",
   "metadata": {},
   "source": [
    "# 통계\n",
    "- 샘플링, 분포, 중심극한 정리, 분산, zscore, outliers\n",
    "- 그룹 간에 차이가 있는지 통계 추론을 배움\n",
    "- 명목 변수에 대한 빈도 분석을 배움\n",
    "- 변수 간 상관관계를 배움"
   ]
  },
  {
   "cell_type": "markdown",
   "metadata": {},
   "source": [
    "### 변수의 성격\n",
    "변수의 성격에 따라 적용되는 분석의 방법이 다를 수 밖에 없다<br>\n",
    "**명목변수 Categorical or nominal variable**은 남녀 성별 과 같이 순서가 없이 이름이 있는 변수를 말함 색깔 또는 지역구<br>\n",
    "**순위변수 Ordinal variable**은 어떤 순서가 있는 범주에 속하고 그 범주의 이름을 말함. '초등학교', '중학교', '고등학교' 등등<br>\n",
    "**간격변수 Interval variable** 범주를 등간격으로, 자신의 느낌을 '좋다','보통','안좋다'로 범주화하는 경우<br>\n",
    "**연속변수 Continuous variable** 키, 몸무게와 같은"
   ]
  },
  {
   "cell_type": "code",
   "execution_count": 2,
   "metadata": {},
   "outputs": [],
   "source": [
    "import random\n",
    "#무작위 수는 몸무게와 같이 연속 continuous 또는 주사위에서와 같이 1 ~ 6 값을 가지게 되는 이산적 discrete일 수 있다."
   ]
  },
  {
   "cell_type": "code",
   "execution_count": 3,
   "metadata": {},
   "outputs": [
    {
     "name": "stdout",
     "output_type": "stream",
     "text": [
      "1st random number on the basis of the seed 0.1888176821819083\n",
      "2nd random number on the basis of the seed 0.6583010934949273\n"
     ]
    }
   ],
   "source": [
    "random.seed()\n",
    "#random.seed(3)\n",
    "print(\"1st random number on the basis of the seed {}\".format(random.random()))\n",
    "print(\"2nd random number on the basis of the seed {}\".format(random.random()))"
   ]
  },
  {
   "cell_type": "markdown",
   "metadata": {},
   "source": [
    "#### 분포에서 무작위 수\n",
    "numpy.random.rand -> 균등분포<br>\n",
    "numpy.random.randn -> 표준 정규분호(평균=0, 표준편차 = 1)에서 샘플을 추출"
   ]
  },
  {
   "cell_type": "code",
   "execution_count": 6,
   "metadata": {},
   "outputs": [
    {
     "data": {
      "text/plain": [
       "1.9398125583154149"
      ]
     },
     "execution_count": 6,
     "metadata": {},
     "output_type": "execute_result"
    }
   ],
   "source": [
    "import numpy as np\n",
    "np.random.randn()"
   ]
  },
  {
   "cell_type": "code",
   "execution_count": 7,
   "metadata": {},
   "outputs": [
    {
     "name": "stdout",
     "output_type": "stream",
     "text": [
      "[[0.54939596 0.94808148]\n",
      " [0.73216575 0.51650817]\n",
      " [0.00345207 0.82324367]]\n"
     ]
    }
   ],
   "source": [
    "#np.random.random_sample, random.sample 모두 균등분포에서 표본을 추출한다.\n",
    "print (np.random.random_sample((3,2)))#배열의 행과 열"
   ]
  },
  {
   "cell_type": "code",
   "execution_count": 8,
   "metadata": {},
   "outputs": [
    {
     "name": "stdout",
     "output_type": "stream",
     "text": [
      "[4, 1]\n",
      "[1, 4, 2]\n"
     ]
    }
   ],
   "source": [
    "#random.sample(population, k) 함수는 모집단에서 (정수)샘플 K 개 돌려준다 (바꿔치기 안함).\n",
    "import random\n",
    "print (random.sample([1,2,3,4,6], 2))\n",
    "print (random.sample([1,2,3,4,6], 3))"
   ]
  },
  {
   "cell_type": "markdown",
   "metadata": {},
   "source": [
    "###  균등분포: uniform distrbution\n",
    "주사위를 던져 나오는 수는 1~6이다. 여기서 얻어지는 주사위 수가 선택될 확률은 동일하므로, 균등분포가 됨"
   ]
  },
  {
   "cell_type": "code",
   "execution_count": 9,
   "metadata": {},
   "outputs": [],
   "source": [
    "# 샘플링: 100개를 랜덤으로 list 로"
   ]
  },
  {
   "cell_type": "code",
   "execution_count": 12,
   "metadata": {},
   "outputs": [
    {
     "name": "stdout",
     "output_type": "stream",
     "text": [
      "[6, 5, 2, 2, 4, 3, 4, 5, 6, 5, 3, 2, 4, 1, 5, 6, 4, 1, 3, 3, 1, 5, 4, 2, 1, 1, 4, 1, 5, 6, 2, 1, 5, 5, 4, 4, 1, 2, 2, 3, 6, 4, 3, 4, 5, 2, 4, 6, 2, 6, 5, 4, 2, 3, 5, 1, 1, 1, 1, 3, 3, 5, 6, 2, 1, 6, 3, 2, 5, 2, 2, 4, 5, 2, 5, 4, 4, 6, 5, 5, 3, 4, 6, 2, 2, 3, 2, 3, 5, 6, 3, 5, 6, 4, 2, 1, 3, 2, 6, 2]\n"
     ]
    }
   ],
   "source": [
    "# randmo sampling\n",
    "dice=[]\n",
    "for i in range(100): \n",
    "    dice.append(random.randrange(1,6+1))\n",
    "print (dice)"
   ]
  },
  {
   "cell_type": "code",
   "execution_count": 13,
   "metadata": {},
   "outputs": [],
   "source": [
    "#히스토그램"
   ]
  },
  {
   "cell_type": "code",
   "execution_count": 14,
   "metadata": {},
   "outputs": [
    {
     "name": "stdout",
     "output_type": "stream",
     "text": [
      "Dice 1: 14회\n",
      "Dice 2: 21회\n",
      "Dice 3: 15회\n",
      "Dice 4: 17회\n",
      "Dice 5: 19회\n",
      "Dice 6: 14회\n"
     ]
    }
   ],
   "source": [
    "# bin의 수가 10개라서 주사위 6개가 아님.\n",
    "for i in range(1,7):\n",
    "    print(\"Dice {}: {}회\".format(i, dice.count(i)))"
   ]
  },
  {
   "cell_type": "code",
   "execution_count": 15,
   "metadata": {},
   "outputs": [
    {
     "data": {
      "image/png": "[encoded data removed]",
      "text/plain": [
       "<Figure size 432x288 with 1 Axes>"
      ]
     },
     "metadata": {
      "needs_background": "light"
     },
     "output_type": "display_data"
    }
   ],
   "source": [
    "%matplotlib inline\n",
    "import matplotlib.pyplot as plt\n",
    "plt.hist(dice)\n",
    "plt.show()"
   ]
  },
  {
   "cell_type": "code",
   "execution_count": 16,
   "metadata": {},
   "outputs": [
    {
     "data": {
      "text/plain": [
       "array([0.5, 1.5, 2.5, 3.5, 4.5, 5.5, 6.5])"
      ]
     },
     "execution_count": 16,
     "metadata": {},
     "output_type": "execute_result"
    }
   ],
   "source": [
    "# 마지막이 붙어있음, 앞에서부터 2개의 값을 선택하여 막대가 그려지는데, 마지막 막대를 그리는 경우, 6이상을 넘어가지 못하게 되어서 그럼.\n",
    "# 이를 교정하기 위해 0.5 부터 시작해서 1씩 증가하도록 구간 bin 을 구성하자 0.5~1.5, 1.5~2.5, ...7개의 값이 필요\n",
    "import numpy as np\n",
    "np.arange(0.5, 7)"
   ]
  },
  {
   "cell_type": "code",
   "execution_count": 17,
   "metadata": {},
   "outputs": [
    {
     "data": {
      "image/png": "[encoded data removed]",
      "text/plain": [
       "<Figure size 432x288 with 1 Axes>"
      ]
     },
     "metadata": {
      "needs_background": "light"
     },
     "output_type": "display_data"
    }
   ],
   "source": [
    "plt.hist(dice, bins = np.arange(0.5, 7))\n",
    "plt.show()"
   ]
  },
  {
   "cell_type": "code",
   "execution_count": 18,
   "metadata": {},
   "outputs": [],
   "source": [
    "#Pandas로 그려보자.\n",
    "# 출력의 결과가 더 이쁨\n",
    "# Series 일련의 숫자로 나타냄 Series 로 하고 있단거에 초점."
   ]
  },
  {
   "cell_type": "code",
   "execution_count": 19,
   "metadata": {},
   "outputs": [
    {
     "data": {
      "text/plain": [
       "<AxesSubplot:>"
      ]
     },
     "execution_count": 19,
     "metadata": {},
     "output_type": "execute_result"
    },
    {
     "data": {
      "image/png": "[encoded data removed]",
      "text/plain": [
       "<Figure size 432x288 with 1 Axes>"
      ]
     },
     "metadata": {
      "needs_background": "light"
     },
     "output_type": "display_data"
    }
   ],
   "source": [
    "#numpy array를 pandas의 Series로 변환하고, hist() 함수를 사용하면 된다. \n",
    "#Pandas Series는 컬럼이라고 보면 된다. \n",
    "#컬럼을 1차원으로 저장한 값이다. 정수, 문자, 소수 등 어떤 값이든 상관없다.\n",
    "import pandas as pd\n",
    "pd.Series(dice).hist(bins = np.arange(0.5, 7))"
   ]
  },
  {
   "cell_type": "markdown",
   "metadata": {},
   "source": [
    "###  describe\n",
    "통계량을 구해보자. describe()는 기술통계량 평균, 최소값, 최대값, 표준편차, 건수를 출력한다. DataFrame 또는 컬럼을 Series로 변환한 후 describe()를 적용할 수 있다."
   ]
  },
  {
   "cell_type": "code",
   "execution_count": 20,
   "metadata": {},
   "outputs": [
    {
     "name": "stdout",
     "output_type": "stream",
     "text": [
      "count    100.000000\n",
      "mean       3.480000\n",
      "std        1.660473\n",
      "min        1.000000\n",
      "25%        2.000000\n",
      "50%        3.500000\n",
      "75%        5.000000\n",
      "max        6.000000\n",
      "dtype: float64\n"
     ]
    }
   ],
   "source": [
    "import pandas as pd\n",
    "\n",
    "s=pd.Series(dice)\n",
    "print (s.describe())"
   ]
  },
  {
   "cell_type": "markdown",
   "metadata": {},
   "source": [
    "### 정규분포\n",
    "종모양, 좌우 대칭의 종 모양으로 생긴 분포. 평균을 중심으로 데이터가 집중해 있음\n",
    "<br>\n",
    "무작위 변수 x가 있다고 하자. x는 정규분포를 따른다고 하며,\n",
    "평균 $\\mu$, 표준편차 $\\sigma$를 가지게 된다.\n",
    "즉, $ X \\sim N (\\mu, \\sigma)$\n",
    "무작위 수를 생성하는 함수는:\n",
    "* random.gauss(mu,sigma)\n",
    "* random.normalvariate(mu,sigma) - gauss보다 약간 빠름.\n",
    "\n",
    "참고로 다른 분포에서의 샘플링 함수는 다음과 같다.\n",
    "* random.uniform(a,b)\n",
    "* random.betavariate(alpha,beta)\n",
    "* random.expovariate(lamdb)\n",
    "* random.gammavariate(alpha,beta)"
   ]
  },
  {
   "cell_type": "code",
   "execution_count": 21,
   "metadata": {},
   "outputs": [],
   "source": [
    "import numpy as np\n",
    "comp1=np.random.normal(0, 1, size=200) #평균0, 표준편차1"
   ]
  },
  {
   "cell_type": "code",
   "execution_count": 22,
   "metadata": {},
   "outputs": [
    {
     "data": {
      "text/plain": [
       "array([-0.60086422,  1.2197475 ,  0.79764507, -0.11105899, -0.49021116])"
      ]
     },
     "execution_count": 22,
     "metadata": {},
     "output_type": "execute_result"
    }
   ],
   "source": [
    "comp1[:5]"
   ]
  },
  {
   "cell_type": "code",
   "execution_count": 23,
   "metadata": {},
   "outputs": [],
   "source": [
    "comp2=np.random.normal(10, 2, size=200)"
   ]
  },
  {
   "cell_type": "code",
   "execution_count": 24,
   "metadata": {},
   "outputs": [],
   "source": [
    "# 히스토그램 randn() 을 사용해서 histogram 그래프로 그려보자"
   ]
  },
  {
   "cell_type": "code",
   "execution_count": 25,
   "metadata": {},
   "outputs": [],
   "source": [
    "x=np.random.randn(100)"
   ]
  },
  {
   "cell_type": "code",
   "execution_count": 26,
   "metadata": {},
   "outputs": [],
   "source": [
    "#histogram은 bin(interval)과 bin에 속하는 값을 반환한다. \n",
    "#histogram(x)를 실행하면 2개의 행렬이 반환된다.\n",
    "count, binends = np.histogram(x)"
   ]
  },
  {
   "cell_type": "code",
   "execution_count": 27,
   "metadata": {},
   "outputs": [
    {
     "name": "stdout",
     "output_type": "stream",
     "text": [
      "[ 6  3 14 17 21 12 11  6  7  3]\n",
      "[-2.24520724 -1.80735259 -1.36949794 -0.93164328 -0.49378863 -0.05593398\n",
      "  0.38192067  0.81977532  1.25762998  1.69548463  2.13333928]\n",
      "[-0.83986274 -1.25092726 -0.85934386 -0.22935742 -0.61816469 -0.28308745\n",
      " -0.30608687 -0.38273167  1.55202928 -1.14459934  0.1170511  -2.22928023\n",
      " -0.66009369 -0.60638666  0.55150973  0.55708277  2.13333928  0.18846385\n",
      "  0.08648192  0.75787763 -0.55007629 -1.05584145  0.00308596  1.16493055\n",
      " -1.50838385 -0.24668253 -1.18809    -0.35427082 -0.56671871 -1.55228286\n",
      "  0.53532012 -1.46995789  1.03817094  1.2637649  -0.02537971 -1.0238546\n",
      "  0.80444089  0.28628024  1.76683093 -0.86077661 -0.46792436  0.33513452\n",
      " -0.78649517 -0.46386903  0.69884917 -0.99944557  0.22443636  0.39437013\n",
      " -0.45303632 -0.33943037 -0.03449657 -1.83573089  1.52352407  0.12866119\n",
      " -0.08994196 -0.33981522 -2.24520724 -2.20079849 -1.29546277  0.60490225\n",
      "  0.35188423 -2.09063417  1.13029722 -0.50109047 -0.42310953  0.90696823\n",
      " -0.27239847 -1.05568022  1.700777   -0.75971625 -0.13451693  0.5640238\n",
      " -0.37275608 -1.11280125 -1.31654721 -0.7468092   1.47054413 -0.78241287\n",
      "  1.33245903 -0.48168248 -0.19103365 -1.1193421   1.06804204  0.48818333\n",
      "  0.27207734 -1.94465381 -0.26182634 -0.55659113 -1.17461751 -0.40220005\n",
      "  1.12069456  0.67012263  1.3780052  -1.10091537  1.53575181 -1.04787781\n",
      " -0.75141629 -0.87575705 -0.91087341 -0.31640892]\n"
     ]
    }
   ],
   "source": [
    "print(count) #표준편차의 값\n",
    "print(binends)\n",
    "print(x)"
   ]
  },
  {
   "cell_type": "code",
   "execution_count": 28,
   "metadata": {},
   "outputs": [
    {
     "data": {
      "text/plain": [
       "(array([ 6.,  3., 14., 17., 21., 12., 11.,  6.,  7.,  3.]),\n",
       " array([-2.24520724, -1.80735259, -1.36949794, -0.93164328, -0.49378863,\n",
       "        -0.05593398,  0.38192067,  0.81977532,  1.25762998,  1.69548463,\n",
       "         2.13333928]),\n",
       " <BarContainer object of 10 artists>)"
      ]
     },
     "execution_count": 28,
     "metadata": {},
     "output_type": "execute_result"
    },
    {
     "data": {
      "image/png": "[encoded data removed]",
      "text/plain": [
       "<Figure size 432x288 with 1 Axes>"
      ]
     },
     "metadata": {
      "needs_background": "light"
     },
     "output_type": "display_data"
    }
   ],
   "source": [
    "#numpy의 histogram()은 그래프를 생성하지 않으므로, 그림을 그리려면 hist(x)를 실행한다.\n",
    "%matplotlib inline\n",
    "import matplotlib.pyplot as plt\n",
    "plt.hist(x)"
   ]
  },
  {
   "cell_type": "code",
   "execution_count": null,
   "metadata": {},
   "outputs": [],
   "source": [
    "pandas 로 hist. \n",
    "앞서 생성했던 comp1, comp2를 묶어서 하나의 Series로 만들어 hist()를 호출하고 있다."
   ]
  },
  {
   "cell_type": "code",
   "execution_count": 29,
   "metadata": {},
   "outputs": [
    {
     "data": {
      "text/plain": [
       "<AxesSubplot:>"
      ]
     },
     "execution_count": 29,
     "metadata": {},
     "output_type": "execute_result"
    },
    {
     "data": {
      "image/png": "[encoded data removed]",
      "text/plain": [
       "<Figure size 432x288 with 1 Axes>"
      ]
     },
     "metadata": {
      "needs_background": "light"
     },
     "output_type": "display_data"
    }
   ],
   "source": [
    "import pandas as pd\n",
    "\n",
    "values=pd.Series(np.concatenate( [comp1,comp2])) #두개 병합\n",
    "values.hist()"
   ]
  },
  {
   "cell_type": "code",
   "execution_count": 30,
   "metadata": {},
   "outputs": [
    {
     "data": {
      "image/png": "[encoded data removed]",
      "text/plain": [
       "<Figure size 432x288 with 1 Axes>"
      ]
     },
     "metadata": {
      "needs_background": "light"
     },
     "output_type": "display_data"
    }
   ],
   "source": [
    "values.plot()\n",
    "plt.show()"
   ]
  },
  {
   "cell_type": "markdown",
   "metadata": {},
   "source": [
    "## 중심극한 정리\n",
    "n>30 : n은 표본의 크기<bR>\n",
    "   \n",
    "표본평균의 분포는 정규분포로 수렴하게 된다 이러한 전제에 따라, 통계적 추정을 할 수 있고, z값을 이용해 확률을 계산할 수 있게 된다.표본을 30회 정도하면, 표본평균의 표본분포 (sampling distribution of sample means)는 그 형태가 정규분포에 수렴한다."
   ]
  },
  {
   "cell_type": "code",
   "execution_count": 31,
   "metadata": {},
   "outputs": [],
   "source": [
    "x=np.random.randn(100)"
   ]
  },
  {
   "cell_type": "code",
   "execution_count": 32,
   "metadata": {},
   "outputs": [
    {
     "name": "stdout",
     "output_type": "stream",
     "text": [
      "mean\t: -0.015476210612438828\n",
      "median\t: 0.11656534477462993\n"
     ]
    }
   ],
   "source": [
    "print (\"mean\\t: {}\".format(np.mean(x)))\n",
    "print (\"median\\t: {}\".format(np.median(x)))"
   ]
  },
  {
   "cell_type": "code",
   "execution_count": null,
   "metadata": {},
   "outputs": [],
   "source": [
    "### skewness\n",
    "분포의 대칭성을 설명하는 지표로 skewness를 계산한다.\n",
    "- =0 :정규분포\n",
    "- > 0 : 왼쪽 꼬리가 두퉁, 왼쪽으로 비스듬\n",
    "- > 0 : 오른쪽 꼬리가 두툼, 오른쪽으로 비스듬"
   ]
  },
  {
   "cell_type": "code",
   "execution_count": 33,
   "metadata": {},
   "outputs": [
    {
     "name": "stdout",
     "output_type": "stream",
     "text": [
      "skewness\t: -0.5587758360203415\n"
     ]
    }
   ],
   "source": [
    "from scipy.stats import skew\n",
    "\n",
    "print (\"skewness\\t: {}\".format(skew(x)))"
   ]
  },
  {
   "cell_type": "code",
   "execution_count": null,
   "metadata": {},
   "outputs": [],
   "source": [
    "### kurtosis\n",
    "kurtosis는 분포의 뾰족한 정도를 설명한다.\n",
    "\n",
    "* = 0 : 정규분포\n",
    "* > 0 : 뾰족하고, 꼬리가 두툼\n",
    "* < 0 : 편평하고, 꼬리가 얇음"
   ]
  },
  {
   "cell_type": "code",
   "execution_count": 34,
   "metadata": {},
   "outputs": [
    {
     "name": "stdout",
     "output_type": "stream",
     "text": [
      "kurtosis\t: 1.6388124651191474\n"
     ]
    }
   ],
   "source": [
    "from scipy.stats import kurtosis\n",
    "\n",
    "print (\"kurtosis\\t: {}\".format(kurtosis(x)))"
   ]
  },
  {
   "cell_type": "markdown",
   "metadata": {},
   "source": [
    "### spark로 skewness, kurtosis 계산하기"
   ]
  },
  {
   "cell_type": "code",
   "execution_count": 35,
   "metadata": {},
   "outputs": [],
   "source": [
    "import pyspark\n",
    "\n",
    "myConf=pyspark.SparkConf()\n",
    "spark = pyspark.sql.SparkSession.builder\\\n",
    "    .master(\"local\")\\\n",
    "    .appName(\"myApp\")\\\n",
    "    .config(conf=myConf)\\\n",
    "    .getOrCreate()"
   ]
  },
  {
   "cell_type": "code",
   "execution_count": 50,
   "metadata": {},
   "outputs": [
    {
     "data": {
      "text/html": [
       "<div>\n",
       "<style scoped>\n",
       "    .dataframe tbody tr th:only-of-type {\n",
       "        vertical-align: middle;\n",
       "    }\n",
       "\n",
       "    .dataframe tbody tr th {\n",
       "        vertical-align: top;\n",
       "    }\n",
       "\n",
       "    .dataframe thead th {\n",
       "        text-align: right;\n",
       "    }\n",
       "</style>\n",
       "<table border=\"1\" class=\"dataframe\">\n",
       "  <thead>\n",
       "    <tr style=\"text-align: right;\">\n",
       "      <th></th>\n",
       "      <th>x</th>\n",
       "    </tr>\n",
       "  </thead>\n",
       "  <tbody>\n",
       "    <tr>\n",
       "      <th>0</th>\n",
       "      <td>-1.375181</td>\n",
       "    </tr>\n",
       "    <tr>\n",
       "      <th>1</th>\n",
       "      <td>-0.232571</td>\n",
       "    </tr>\n",
       "    <tr>\n",
       "      <th>2</th>\n",
       "      <td>-0.934500</td>\n",
       "    </tr>\n",
       "    <tr>\n",
       "      <th>3</th>\n",
       "      <td>0.928780</td>\n",
       "    </tr>\n",
       "    <tr>\n",
       "      <th>4</th>\n",
       "      <td>0.310483</td>\n",
       "    </tr>\n",
       "    <tr>\n",
       "      <th>...</th>\n",
       "      <td>...</td>\n",
       "    </tr>\n",
       "    <tr>\n",
       "      <th>95</th>\n",
       "      <td>-0.727368</td>\n",
       "    </tr>\n",
       "    <tr>\n",
       "      <th>96</th>\n",
       "      <td>-0.691741</td>\n",
       "    </tr>\n",
       "    <tr>\n",
       "      <th>97</th>\n",
       "      <td>-0.325934</td>\n",
       "    </tr>\n",
       "    <tr>\n",
       "      <th>98</th>\n",
       "      <td>-0.163109</td>\n",
       "    </tr>\n",
       "    <tr>\n",
       "      <th>99</th>\n",
       "      <td>0.867144</td>\n",
       "    </tr>\n",
       "  </tbody>\n",
       "</table>\n",
       "<p>100 rows × 1 columns</p>\n",
       "</div>"
      ],
      "text/plain": [
       "           x\n",
       "0  -1.375181\n",
       "1  -0.232571\n",
       "2  -0.934500\n",
       "3   0.928780\n",
       "4   0.310483\n",
       "..       ...\n",
       "95 -0.727368\n",
       "96 -0.691741\n",
       "97 -0.325934\n",
       "98 -0.163109\n",
       "99  0.867144\n",
       "\n",
       "[100 rows x 1 columns]"
      ]
     },
     "execution_count": 50,
     "metadata": {},
     "output_type": "execute_result"
    }
   ],
   "source": [
    "import pandas as pd\n",
    "xPd=pd.DataFrame(x, columns=['x'], dtype=float)\n"
   ]
  },
  {
   "cell_type": "code",
   "execution_count": 37,
   "metadata": {},
   "outputs": [],
   "source": [
    "df=spark.createDataFrame(xPd)"
   ]
  },
  {
   "cell_type": "code",
   "execution_count": 40,
   "metadata": {},
   "outputs": [
    {
     "name": "stdout",
     "output_type": "stream",
     "text": [
      "+-------------------+------------------+\n",
      "|        skewness(x)|       kurtosis(x)|\n",
      "+-------------------+------------------+\n",
      "|-0.5587758360203428|1.6388124651191518|\n",
      "+-------------------+------------------+\n",
      "\n"
     ]
    }
   ],
   "source": [
    "from pyspark.sql import functions as f\n",
    "df.select(f.skewness(df['x']), f.kurtosis(df['x'])).show()\n",
    "X=x"
   ]
  },
  {
   "cell_type": "markdown",
   "metadata": {},
   "source": [
    "## 분산"
   ]
  },
  {
   "cell_type": "code",
   "execution_count": 51,
   "metadata": {},
   "outputs": [
    {
     "name": "stdout",
     "output_type": "stream",
     "text": [
      "simple mean of x = -0.015\n"
     ]
    }
   ],
   "source": [
    "print (\"simple mean of x = {:.3f}\".format(float(sum(X))/len(X)))"
   ]
  },
  {
   "cell_type": "code",
   "execution_count": 52,
   "metadata": {},
   "outputs": [],
   "source": [
    "import numpy as np\n",
    "\n",
    "xbar=np.mean(X)\n",
    "#ybar=np.mean(Y)"
   ]
  },
  {
   "cell_type": "code",
   "execution_count": 43,
   "metadata": {},
   "outputs": [
    {
     "name": "stdout",
     "output_type": "stream",
     "text": [
      "numpy mean of X = -0.015\n"
     ]
    }
   ],
   "source": [
    "print (\"numpy mean of X = {:.3f}\".format(xbar))"
   ]
  },
  {
   "cell_type": "code",
   "execution_count": 44,
   "metadata": {},
   "outputs": [
    {
     "name": "stdout",
     "output_type": "stream",
     "text": [
      "0.9758893520681928\n"
     ]
    }
   ],
   "source": [
    "print(np.sqrt(sum( [ (x-xbar)**2 for x in X ] )/len(X))) # ddof=0"
   ]
  },
  {
   "cell_type": "code",
   "execution_count": 45,
   "metadata": {},
   "outputs": [
    {
     "name": "stdout",
     "output_type": "stream",
     "text": [
      "0.9808057023373447\n"
     ]
    }
   ],
   "source": [
    "# 보정:  자유도가 1이 됨\n",
    "print(np.sqrt(sum( [ (x-xbar)**2 for x in X ] )/(len(X)-1))) # ddof=1"
   ]
  },
  {
   "cell_type": "code",
   "execution_count": 46,
   "metadata": {},
   "outputs": [],
   "source": [
    "sx=np.sqrt(np.var(X,ddof=1))\n",
    "#sy=np.sqrt(np.var(Y,ddof=1))\n",
    "#print(\"sx:\",sx, \"sy:\",sy)"
   ]
  },
  {
   "cell_type": "code",
   "execution_count": 47,
   "metadata": {},
   "outputs": [
    {
     "name": "stdout",
     "output_type": "stream",
     "text": [
      "0.9758893520681929\n",
      "0.9808057023373447\n"
     ]
    }
   ],
   "source": [
    "print(np.std(X)) # ddof=0\n",
    "print(np.std(X, ddof=1))"
   ]
  },
  {
   "cell_type": "code",
   "execution_count": 48,
   "metadata": {},
   "outputs": [
    {
     "name": "stdout",
     "output_type": "stream",
     "text": [
      "3.0\n"
     ]
    }
   ],
   "source": [
    "a = np.array([1,2,3,4,5])\n",
    "p = np.percentile(a, 50) # return 50th percentile, e.g median.\n",
    "print (p) # 3"
   ]
  },
  {
   "cell_type": "code",
   "execution_count": 49,
   "metadata": {},
   "outputs": [
    {
     "data": {
      "image/png": "[encoded data removed]",
      "text/plain": [
       "<Figure size 432x288 with 1 Axes>"
      ]
     },
     "metadata": {
      "needs_background": "light"
     },
     "output_type": "display_data"
    }
   ],
   "source": [
    "import matplotlib.pyplot as plt\n",
    "\n",
    "x1 = np.random.normal(0,1,50) # mu=0, sigma=1, n=50\n",
    "x2 = np.random.normal(1,1,50)\n",
    "x3 = np.random.normal(2,1,50)\n",
    "plt.boxplot([x1,x2,x3])\n",
    "plt.show()\n",
    "#주황색 선이 평균 검은색 되어있는게 끝 선 들 min, max"
   ]
  },
  {
   "cell_type": "code",
   "execution_count": null,
   "metadata": {},
   "outputs": [],
   "source": [
    "#zscore는 각 측정 값을 평균에서 빼고난 후 표준편차로 나누어 계산된다. \n",
    "\n",
    "#이 식을 이해하면, 평균에서 표준편차의 몇 배가 떨어져 있는지를 말한다. \n",
    "\n",
    "#표준편차의 배수로 떨어진 정도를 정규화(표준화)한다는 의미가 있다."
   ]
  }
 ],
 "metadata": {
  "kernelspec": {
   "display_name": "Python 3",
   "language": "python",
   "name": "python3"
  },
  "language_info": {
   "codemirror_mode": {
    "name": "ipython",
    "version": 3
   },
   "file_extension": ".py",
   "mimetype": "text/x-python",
   "name": "python",
   "nbconvert_exporter": "python",
   "pygments_lexer": "ipython3",
   "version": "3.7.6"
  }
 },
 "nbformat": 4,
 "nbformat_minor": 4
}
